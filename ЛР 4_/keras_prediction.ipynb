{
 "cells": [
  {
   "cell_type": "markdown",
   "metadata": {
    "id": "FI182HK-PVxb",
    "pycharm": {
     "name": "#%% md\n"
    }
   },
   "source": [
    "# Issue Priority Prediction\n",
    "PRIMO 2022 ML Homework 4 - Kaggle competition (https://www.kaggle.com/competitions/primo-2022-ml-homework-4)"
   ]
  },
  {
   "cell_type": "code",
   "execution_count": 55,
   "metadata": {
    "id": "7l5BPyt5PVxk",
    "pycharm": {
     "name": "#%%\n"
    }
   },
   "outputs": [],
   "source": [
    "import pandas as pd\n",
    "import seaborn as sns\n",
    "import matplotlib.pyplot as plt\n",
    "\n",
    "\n",
    "import numpy as np\n",
    "import pandas as pd\n",
    "import warnings\n",
    "\n",
    "from sklearn.feature_extraction import DictVectorizer\n",
    "import tensorflow as tf\n",
    "\n",
    "import json\n",
    "\n",
    "sns.set_theme(style=\"whitegrid\")\n",
    "warnings.filterwarnings(\"ignore\")\n",
    "np.set_printoptions(precision=3)\n",
    "#pd.set_option('precision', 3)"
   ]
  },
  {
   "cell_type": "code",
   "execution_count": 56,
   "metadata": {
    "pycharm": {
     "name": "#%%\n"
    }
   },
   "outputs": [
    {
     "name": "stdout",
     "output_type": "stream",
     "text": [
      "Num GPUs Available:  1\n"
     ]
    }
   ],
   "source": [
    "print(\"Num GPUs Available: \", len(tf.config.list_physical_devices('GPU')))"
   ]
  },
  {
   "cell_type": "code",
   "execution_count": 57,
   "metadata": {
    "colab": {
     "base_uri": "https://localhost:8080/",
     "height": 615
    },
    "id": "Wz04Ri9mPVxk",
    "outputId": "d13b322b-d65e-4932-efa9-54cbd06862fc",
    "pycharm": {
     "name": "#%%\n"
    }
   },
   "outputs": [
    {
     "name": "stdout",
     "output_type": "stream",
     "text": [
      "<class 'pandas.core.frame.DataFrame'>\n",
      "RangeIndex: 105365 entries, 0 to 105364\n",
      "Data columns (total 8 columns):\n",
      " #   Column            Non-Null Count   Dtype \n",
      "---  ------            --------------   ----- \n",
      " 0   id                105365 non-null  object\n",
      " 1   summary           105364 non-null  object\n",
      " 2   description       103548 non-null  object\n",
      " 3   reporter          105365 non-null  object\n",
      " 4   created           105365 non-null  int64 \n",
      " 5   customFields      105365 non-null  object\n",
      " 6   links             105365 non-null  object\n",
      " 7   is_high_priority  105365 non-null  bool  \n",
      "dtypes: bool(1), int64(1), object(6)\n",
      "memory usage: 5.7+ MB\n",
      "None\n"
     ]
    },
    {
     "data": {
      "text/plain": "         id                                            summary  \\\n0  25-60681     Don't sync font size within IDEA server plugin   \n1  25-60682                       Cancelling subversion update   \n2  25-60686  Suspended Breakpoint in JVM not Recognized in ...   \n3  25-60691  Good code red: IDEA incorrectly resolves neste...   \n4  25-60679  Module WIll Not Load Jar Dependencies on Intre...   \n\n                                         description  \\\n0  At home I have 1900x1200 resolution and at my ...   \n1  When cancelling an update from ie. subversion ...   \n2  In some breakpoint cases for a app launched fr...   \n3  The relevant snippet if part of the UIDebug cl...   \n4  I have IntelliJ 7.0.5 running on both WIndows ...   \n\n                                  reporter        created  \\\n0     {\"login\": \"machak\", \"$type\": \"User\"}  1231150644000   \n1     {\"login\": \"sprice\", \"$type\": \"User\"}  1231150705000   \n2    {\"login\": \"brigham\", \"$type\": \"User\"}  1231183948000   \n3      {\"login\": \"xduke\", \"$type\": \"User\"}  1231241109000   \n4  {\"login\": \"stonemack\", \"$type\": \"User\"}  1231133633000   \n\n                                        customFields  \\\n0  [{\"value\": {\"name\": \"Bug\", \"$type\": \"EnumBundl...   \n1  [{\"value\": {\"name\": \"Usability Problem\", \"$typ...   \n2  [{\"value\": {\"name\": \"Bug\", \"$type\": \"EnumBundl...   \n3  [{\"value\": {\"name\": \"Bug\", \"$type\": \"EnumBundl...   \n4  [{\"value\": {\"name\": \"Bug\", \"$type\": \"EnumBundl...   \n\n                                               links  is_high_priority  \n0  [{\"direction\": \"BOTH\", \"linkType\": {\"directed\"...             False  \n1  [{\"direction\": \"BOTH\", \"linkType\": {\"directed\"...             False  \n2  [{\"direction\": \"BOTH\", \"linkType\": {\"directed\"...             False  \n3  [{\"direction\": \"BOTH\", \"linkType\": {\"directed\"...             False  \n4  [{\"direction\": \"BOTH\", \"linkType\": {\"directed\"...             False  ",
      "text/html": "<div>\n<style scoped>\n    .dataframe tbody tr th:only-of-type {\n        vertical-align: middle;\n    }\n\n    .dataframe tbody tr th {\n        vertical-align: top;\n    }\n\n    .dataframe thead th {\n        text-align: right;\n    }\n</style>\n<table border=\"1\" class=\"dataframe\">\n  <thead>\n    <tr style=\"text-align: right;\">\n      <th></th>\n      <th>id</th>\n      <th>summary</th>\n      <th>description</th>\n      <th>reporter</th>\n      <th>created</th>\n      <th>customFields</th>\n      <th>links</th>\n      <th>is_high_priority</th>\n    </tr>\n  </thead>\n  <tbody>\n    <tr>\n      <th>0</th>\n      <td>25-60681</td>\n      <td>Don't sync font size within IDEA server plugin</td>\n      <td>At home I have 1900x1200 resolution and at my ...</td>\n      <td>{\"login\": \"machak\", \"$type\": \"User\"}</td>\n      <td>1231150644000</td>\n      <td>[{\"value\": {\"name\": \"Bug\", \"$type\": \"EnumBundl...</td>\n      <td>[{\"direction\": \"BOTH\", \"linkType\": {\"directed\"...</td>\n      <td>False</td>\n    </tr>\n    <tr>\n      <th>1</th>\n      <td>25-60682</td>\n      <td>Cancelling subversion update</td>\n      <td>When cancelling an update from ie. subversion ...</td>\n      <td>{\"login\": \"sprice\", \"$type\": \"User\"}</td>\n      <td>1231150705000</td>\n      <td>[{\"value\": {\"name\": \"Usability Problem\", \"$typ...</td>\n      <td>[{\"direction\": \"BOTH\", \"linkType\": {\"directed\"...</td>\n      <td>False</td>\n    </tr>\n    <tr>\n      <th>2</th>\n      <td>25-60686</td>\n      <td>Suspended Breakpoint in JVM not Recognized in ...</td>\n      <td>In some breakpoint cases for a app launched fr...</td>\n      <td>{\"login\": \"brigham\", \"$type\": \"User\"}</td>\n      <td>1231183948000</td>\n      <td>[{\"value\": {\"name\": \"Bug\", \"$type\": \"EnumBundl...</td>\n      <td>[{\"direction\": \"BOTH\", \"linkType\": {\"directed\"...</td>\n      <td>False</td>\n    </tr>\n    <tr>\n      <th>3</th>\n      <td>25-60691</td>\n      <td>Good code red: IDEA incorrectly resolves neste...</td>\n      <td>The relevant snippet if part of the UIDebug cl...</td>\n      <td>{\"login\": \"xduke\", \"$type\": \"User\"}</td>\n      <td>1231241109000</td>\n      <td>[{\"value\": {\"name\": \"Bug\", \"$type\": \"EnumBundl...</td>\n      <td>[{\"direction\": \"BOTH\", \"linkType\": {\"directed\"...</td>\n      <td>False</td>\n    </tr>\n    <tr>\n      <th>4</th>\n      <td>25-60679</td>\n      <td>Module WIll Not Load Jar Dependencies on Intre...</td>\n      <td>I have IntelliJ 7.0.5 running on both WIndows ...</td>\n      <td>{\"login\": \"stonemack\", \"$type\": \"User\"}</td>\n      <td>1231133633000</td>\n      <td>[{\"value\": {\"name\": \"Bug\", \"$type\": \"EnumBundl...</td>\n      <td>[{\"direction\": \"BOTH\", \"linkType\": {\"directed\"...</td>\n      <td>False</td>\n    </tr>\n  </tbody>\n</table>\n</div>"
     },
     "execution_count": 57,
     "metadata": {},
     "output_type": "execute_result"
    }
   ],
   "source": [
    "# Считываем исходные данные\n",
    "data = pd.read_csv('data/train.csv')\n",
    "\n",
    "pd.set_option('mode.chained_assignment', None)\n",
    "\n",
    "print(data.info())\n",
    "data.head()"
   ]
  },
  {
   "cell_type": "code",
   "execution_count": 58,
   "metadata": {
    "pycharm": {
     "name": "#%%\n"
    }
   },
   "outputs": [],
   "source": [
    "data.drop(columns=['reporter', 'created'], inplace=True)"
   ]
  },
  {
   "cell_type": "code",
   "execution_count": 59,
   "metadata": {
    "pycharm": {
     "name": "#%%\n"
    }
   },
   "outputs": [
    {
     "name": "stdout",
     "output_type": "stream",
     "text": [
      "<class 'pandas.core.frame.DataFrame'>\n",
      "RangeIndex: 105365 entries, 0 to 105364\n",
      "Data columns (total 6 columns):\n",
      " #   Column            Non-Null Count   Dtype \n",
      "---  ------            --------------   ----- \n",
      " 0   id                105365 non-null  object\n",
      " 1   summary           105364 non-null  object\n",
      " 2   description       103548 non-null  object\n",
      " 3   customFields      105365 non-null  object\n",
      " 4   links             105365 non-null  object\n",
      " 5   is_high_priority  105365 non-null  bool  \n",
      "dtypes: bool(1), object(5)\n",
      "memory usage: 4.1+ MB\n",
      "None\n"
     ]
    },
    {
     "data": {
      "text/plain": "         id                                            summary  \\\n0  25-60681     Don't sync font size within IDEA server plugin   \n1  25-60682                       Cancelling subversion update   \n2  25-60686  Suspended Breakpoint in JVM not Recognized in ...   \n3  25-60691  Good code red: IDEA incorrectly resolves neste...   \n4  25-60679  Module WIll Not Load Jar Dependencies on Intre...   \n\n                                         description  \\\n0  At home I have 1900x1200 resolution and at my ...   \n1  When cancelling an update from ie. subversion ...   \n2  In some breakpoint cases for a app launched fr...   \n3  The relevant snippet if part of the UIDebug cl...   \n4  I have IntelliJ 7.0.5 running on both WIndows ...   \n\n                                        customFields  \\\n0  [{\"value\": {\"name\": \"Bug\", \"$type\": \"EnumBundl...   \n1  [{\"value\": {\"name\": \"Usability Problem\", \"$typ...   \n2  [{\"value\": {\"name\": \"Bug\", \"$type\": \"EnumBundl...   \n3  [{\"value\": {\"name\": \"Bug\", \"$type\": \"EnumBundl...   \n4  [{\"value\": {\"name\": \"Bug\", \"$type\": \"EnumBundl...   \n\n                                               links  is_high_priority  \n0  [{\"direction\": \"BOTH\", \"linkType\": {\"directed\"...             False  \n1  [{\"direction\": \"BOTH\", \"linkType\": {\"directed\"...             False  \n2  [{\"direction\": \"BOTH\", \"linkType\": {\"directed\"...             False  \n3  [{\"direction\": \"BOTH\", \"linkType\": {\"directed\"...             False  \n4  [{\"direction\": \"BOTH\", \"linkType\": {\"directed\"...             False  ",
      "text/html": "<div>\n<style scoped>\n    .dataframe tbody tr th:only-of-type {\n        vertical-align: middle;\n    }\n\n    .dataframe tbody tr th {\n        vertical-align: top;\n    }\n\n    .dataframe thead th {\n        text-align: right;\n    }\n</style>\n<table border=\"1\" class=\"dataframe\">\n  <thead>\n    <tr style=\"text-align: right;\">\n      <th></th>\n      <th>id</th>\n      <th>summary</th>\n      <th>description</th>\n      <th>customFields</th>\n      <th>links</th>\n      <th>is_high_priority</th>\n    </tr>\n  </thead>\n  <tbody>\n    <tr>\n      <th>0</th>\n      <td>25-60681</td>\n      <td>Don't sync font size within IDEA server plugin</td>\n      <td>At home I have 1900x1200 resolution and at my ...</td>\n      <td>[{\"value\": {\"name\": \"Bug\", \"$type\": \"EnumBundl...</td>\n      <td>[{\"direction\": \"BOTH\", \"linkType\": {\"directed\"...</td>\n      <td>False</td>\n    </tr>\n    <tr>\n      <th>1</th>\n      <td>25-60682</td>\n      <td>Cancelling subversion update</td>\n      <td>When cancelling an update from ie. subversion ...</td>\n      <td>[{\"value\": {\"name\": \"Usability Problem\", \"$typ...</td>\n      <td>[{\"direction\": \"BOTH\", \"linkType\": {\"directed\"...</td>\n      <td>False</td>\n    </tr>\n    <tr>\n      <th>2</th>\n      <td>25-60686</td>\n      <td>Suspended Breakpoint in JVM not Recognized in ...</td>\n      <td>In some breakpoint cases for a app launched fr...</td>\n      <td>[{\"value\": {\"name\": \"Bug\", \"$type\": \"EnumBundl...</td>\n      <td>[{\"direction\": \"BOTH\", \"linkType\": {\"directed\"...</td>\n      <td>False</td>\n    </tr>\n    <tr>\n      <th>3</th>\n      <td>25-60691</td>\n      <td>Good code red: IDEA incorrectly resolves neste...</td>\n      <td>The relevant snippet if part of the UIDebug cl...</td>\n      <td>[{\"value\": {\"name\": \"Bug\", \"$type\": \"EnumBundl...</td>\n      <td>[{\"direction\": \"BOTH\", \"linkType\": {\"directed\"...</td>\n      <td>False</td>\n    </tr>\n    <tr>\n      <th>4</th>\n      <td>25-60679</td>\n      <td>Module WIll Not Load Jar Dependencies on Intre...</td>\n      <td>I have IntelliJ 7.0.5 running on both WIndows ...</td>\n      <td>[{\"value\": {\"name\": \"Bug\", \"$type\": \"EnumBundl...</td>\n      <td>[{\"direction\": \"BOTH\", \"linkType\": {\"directed\"...</td>\n      <td>False</td>\n    </tr>\n  </tbody>\n</table>\n</div>"
     },
     "execution_count": 59,
     "metadata": {},
     "output_type": "execute_result"
    }
   ],
   "source": [
    "print(data.info())\n",
    "data.head()"
   ]
  },
  {
   "cell_type": "markdown",
   "metadata": {
    "id": "Cm2hHSfpPVxk",
    "pycharm": {
     "name": "#%% md\n"
    }
   },
   "source": [
    "<b>Общий обзор данных</b>\n"
   ]
  },
  {
   "cell_type": "code",
   "execution_count": 60,
   "metadata": {
    "colab": {
     "base_uri": "https://localhost:8080/"
    },
    "id": "xdX3FsVzPVxk",
    "outputId": "a5640417-5dc9-4e0e-9be5-9f40637613a7",
    "pycharm": {
     "name": "#%%\n"
    }
   },
   "outputs": [
    {
     "name": "stdout",
     "output_type": "stream",
     "text": [
      "(105365, 6)\n"
     ]
    },
    {
     "data": {
      "text/plain": "0    [{\"direction\": \"BOTH\", \"linkType\": {\"directed\"...\nName: links, dtype: object"
     },
     "execution_count": 60,
     "metadata": {},
     "output_type": "execute_result"
    }
   ],
   "source": [
    "# размер\n",
    "print(data.shape)\n",
    "data[0:1]['links']"
   ]
  },
  {
   "cell_type": "code",
   "execution_count": 61,
   "metadata": {
    "colab": {
     "base_uri": "https://localhost:8080/"
    },
    "id": "biyXD6h5PVxk",
    "outputId": "35ffcf0d-dc96-4f19-af38-4e0c15c5db92",
    "pycharm": {
     "name": "#%%\n"
    }
   },
   "outputs": [
    {
     "name": "stdout",
     "output_type": "stream",
     "text": [
      "105365\n",
      "104674\n",
      "102645\n",
      "43395\n",
      "33536\n",
      "2\n"
     ]
    }
   ],
   "source": [
    "for i in data:\n",
    "  print(len(data[i].unique()))"
   ]
  },
  {
   "cell_type": "markdown",
   "metadata": {},
   "source": [
    "Convert custom fields"
   ]
  },
  {
   "cell_type": "code",
   "execution_count": 62,
   "metadata": {
    "pycharm": {
     "name": "#%%\n"
    }
   },
   "outputs": [],
   "source": [
    "def convert_custom_fields(custom_fields_field):\n",
    "    type_col = \"\"\n",
    "    subsystem_col = \"\"\n",
    "\n",
    "    for custom_field in (x for y in custom_fields_field for x in y):\n",
    "        if val := custom_field.get('value'):\n",
    "            if custom_field.get('name') == 'Type':\n",
    "                type_col = val.get('name') or \"\"\n",
    "            elif custom_field.get('name') == 'Subsystem':\n",
    "                subsystem_col = val.get('name') or \"\"\n",
    "\n",
    "    return {'issueType': type_col, 'subsystem': subsystem_col}"
   ]
  },
  {
   "cell_type": "code",
   "execution_count": 63,
   "metadata": {
    "pycharm": {
     "name": "#%%\n"
    }
   },
   "outputs": [],
   "source": [
    "cf_f = data['customFields'].apply(json.loads).to_frame(name='customFields')\n",
    "converted_cf_f = cf_f.apply(lambda cf: convert_custom_fields(cf), axis='columns', result_type='expand')"
   ]
  },
  {
   "cell_type": "code",
   "execution_count": 64,
   "metadata": {
    "pycharm": {
     "name": "#%%\n"
    }
   },
   "outputs": [],
   "source": [
    "data.drop('customFields', axis=1, inplace=True)\n",
    "data = pd.concat([data, converted_cf_f], axis=1)"
   ]
  },
  {
   "cell_type": "markdown",
   "metadata": {},
   "source": [
    "Convert links"
   ]
  },
  {
   "cell_type": "code",
   "execution_count": 65,
   "metadata": {
    "pycharm": {
     "name": "#%%\n"
    }
   },
   "outputs": [],
   "source": [
    "def convert_links_field(links_field):\n",
    "    col_dict = {}\n",
    "\n",
    "    for link_field in (x for y in links_field for x in y):\n",
    "        direction = link_field['direction']\n",
    "        how = link_field['linkType']['name']\n",
    "        col_name = direction + how.replace(\" \",\"\")\n",
    "        col_values = []\n",
    "\n",
    "        for issue in link_field['issues']:\n",
    "            issue_id = issue['id']\n",
    "            col_values.append(issue_id)\n",
    "\n",
    "        col_dict.update({col_name: \" \".join(col_values)})\n",
    "\n",
    "    return col_dict"
   ]
  },
  {
   "cell_type": "code",
   "execution_count": 66,
   "metadata": {
    "pycharm": {
     "name": "#%%\n"
    }
   },
   "outputs": [],
   "source": [
    "links_f = data['links'].apply(json.loads).to_frame(name='links')\n",
    "converted_links_f = links_f.apply(lambda l: convert_links_field(l), axis='columns', result_type='expand')"
   ]
  },
  {
   "cell_type": "code",
   "execution_count": 67,
   "metadata": {
    "pycharm": {
     "name": "#%%\n"
    }
   },
   "outputs": [],
   "source": [
    "data.drop('links', axis=1, inplace=True)\n",
    "data = pd.concat([data, converted_links_f], axis=1)"
   ]
  },
  {
   "cell_type": "code",
   "execution_count": 68,
   "metadata": {
    "pycharm": {
     "name": "#%%\n"
    }
   },
   "outputs": [],
   "source": [
    "data['description'].fillna(\"\", inplace=True)\n",
    "data['summary'].fillna(\"\", inplace=True)"
   ]
  },
  {
   "cell_type": "code",
   "execution_count": 69,
   "metadata": {
    "pycharm": {
     "name": "#%%\n"
    }
   },
   "outputs": [],
   "source": [
    "data = data[[\"id\",\n",
    "             \"BOTHRelates\",\n",
    "             \"OUTWARDDepend\",\n",
    "             \"INWARDDepend\",\n",
    "             \"OUTWARDDuplicate\",\n",
    "             \"INWARDDuplicate\",\n",
    "             \"OUTWARDSubtask\",\n",
    "             \"INWARDSubtask\",\n",
    "             \"OUTWARDFolllowed\",\n",
    "             \"INWARDFolllowed\",\n",
    "             \"BOTHSimilar\",\n",
    "             \"BOTHReuse\",\n",
    "             \"OUTWARDCause\",\n",
    "             \"INWARDCause\",\n",
    "             \"OUTWARDLeadsto\",\n",
    "             \"INWARDLeadsto\",\n",
    "             \"summary\",\n",
    "             \"description\",\n",
    "             \"issueType\",\n",
    "             \"subsystem\",\n",
    "             \"is_high_priority\"]]"
   ]
  },
  {
   "cell_type": "code",
   "execution_count": 70,
   "metadata": {
    "pycharm": {
     "name": "#%%\n"
    }
   },
   "outputs": [
    {
     "name": "stdout",
     "output_type": "stream",
     "text": [
      "<class 'pandas.core.frame.DataFrame'>\n",
      "RangeIndex: 105365 entries, 0 to 105364\n",
      "Data columns (total 21 columns):\n",
      " #   Column            Non-Null Count   Dtype \n",
      "---  ------            --------------   ----- \n",
      " 0   id                105365 non-null  object\n",
      " 1   BOTHRelates       105365 non-null  object\n",
      " 2   OUTWARDDepend     105365 non-null  object\n",
      " 3   INWARDDepend      105365 non-null  object\n",
      " 4   OUTWARDDuplicate  105365 non-null  object\n",
      " 5   INWARDDuplicate   105365 non-null  object\n",
      " 6   OUTWARDSubtask    105365 non-null  object\n",
      " 7   INWARDSubtask     105365 non-null  object\n",
      " 8   OUTWARDFolllowed  105365 non-null  object\n",
      " 9   INWARDFolllowed   105365 non-null  object\n",
      " 10  BOTHSimilar       105365 non-null  object\n",
      " 11  BOTHReuse         105365 non-null  object\n",
      " 12  OUTWARDCause      105365 non-null  object\n",
      " 13  INWARDCause       105365 non-null  object\n",
      " 14  OUTWARDLeadsto    105365 non-null  object\n",
      " 15  INWARDLeadsto     105365 non-null  object\n",
      " 16  summary           105365 non-null  object\n",
      " 17  description       105365 non-null  object\n",
      " 18  issueType         105365 non-null  object\n",
      " 19  subsystem         105365 non-null  object\n",
      " 20  is_high_priority  105365 non-null  bool  \n",
      "dtypes: bool(1), object(20)\n",
      "memory usage: 16.2+ MB\n"
     ]
    }
   ],
   "source": [
    "data.info()"
   ]
  },
  {
   "cell_type": "code",
   "execution_count": 71,
   "metadata": {
    "pycharm": {
     "name": "#%%\n"
    }
   },
   "outputs": [
    {
     "data": {
      "text/plain": "                id BOTHRelates OUTWARDDepend INWARDDepend OUTWARDDuplicate  \\\n0         25-60681                                                           \n1         25-60682                                                           \n2         25-60686   25-976077                                               \n3         25-60691                                                           \n4         25-60679                                                           \n...            ...         ...           ...          ...              ...   \n105360  25-2507313                                                           \n105361  25-2507159                                                           \n105362  25-2507096                                                           \n105363  25-2506900                                                           \n105364  25-2506947                                                           \n\n       INWARDDuplicate OUTWARDSubtask INWARDSubtask OUTWARDFolllowed  \\\n0                                                                      \n1                                                                      \n2                                                                      \n3                                                                      \n4                                                                      \n...                ...            ...           ...              ...   \n105360                                                                 \n105361      25-2497655                                                 \n105362       25-435240                                                 \n105363      25-1833184                                                 \n105364       25-834740                                                 \n\n       INWARDFolllowed  ... BOTHReuse OUTWARDCause INWARDCause OUTWARDLeadsto  \\\n0                       ...                                                     \n1                       ...                                                     \n2                       ...                                                     \n3                       ...                                                     \n4                       ...                                                     \n...                ...  ...       ...          ...         ...            ...   \n105360                  ...                                                     \n105361                  ...                                                     \n105362                  ...                                                     \n105363                  ...                                                     \n105364                  ...                                                     \n\n       INWARDLeadsto                                            summary  \\\n0                        Don't sync font size within IDEA server plugin   \n1                                          Cancelling subversion update   \n2                     Suspended Breakpoint in JVM not Recognized in ...   \n3                     Good code red: IDEA incorrectly resolves neste...   \n4                     Module WIll Not Load Jar Dependencies on Intre...   \n...              ...                                                ...   \n105360                Version Control Incoming tab missing search fi...   \n105361                Groovy compiler can't find files with names co...   \n105362                      auto close stepped in files on debug resume   \n105363                Keymaps don't resync after disabled settings s...   \n105364                OK , cancel button do not appear when i do imp...   \n\n                                              description          issueType  \\\n0       At home I have 1900x1200 resolution and at my ...                Bug   \n1       When cancelling an update from ie. subversion ...  Usability Problem   \n2       In some breakpoint cases for a app launched fr...                Bug   \n3       The relevant snippet if part of the UIDebug cl...                Bug   \n4       I have IntelliJ 7.0.5 running on both WIndows ...                Bug   \n...                                                   ...                ...   \n105360  The Version Control tab for \"Incoming\" doesn't...  Usability Problem   \n105361  1. Create a new Project with groovy support\\n2...                Bug   \n105362  Hi,\\n\\none coworker switched from eclipse to I...            Feature   \n105363  I had to disable setting sync so I could expor...                Bug   \n105364  Hello, \\nI've recently started using intelliJ,...                Bug   \n\n                          subsystem is_high_priority  \n0            Core. Project Settings            False  \n1       Version Control. Subversion            False  \n2                    Java. Debugger            False  \n3         Code Analysis. Inspection            False  \n4            Core. Project Settings            False  \n...                             ...              ...  \n105360  Version Control. Subversion            False  \n105361                                         False  \n105362               Java. Debugger            False  \n105363  Core. IDE Settings. Sharing            False  \n105364                                         False  \n\n[105365 rows x 21 columns]",
      "text/html": "<div>\n<style scoped>\n    .dataframe tbody tr th:only-of-type {\n        vertical-align: middle;\n    }\n\n    .dataframe tbody tr th {\n        vertical-align: top;\n    }\n\n    .dataframe thead th {\n        text-align: right;\n    }\n</style>\n<table border=\"1\" class=\"dataframe\">\n  <thead>\n    <tr style=\"text-align: right;\">\n      <th></th>\n      <th>id</th>\n      <th>BOTHRelates</th>\n      <th>OUTWARDDepend</th>\n      <th>INWARDDepend</th>\n      <th>OUTWARDDuplicate</th>\n      <th>INWARDDuplicate</th>\n      <th>OUTWARDSubtask</th>\n      <th>INWARDSubtask</th>\n      <th>OUTWARDFolllowed</th>\n      <th>INWARDFolllowed</th>\n      <th>...</th>\n      <th>BOTHReuse</th>\n      <th>OUTWARDCause</th>\n      <th>INWARDCause</th>\n      <th>OUTWARDLeadsto</th>\n      <th>INWARDLeadsto</th>\n      <th>summary</th>\n      <th>description</th>\n      <th>issueType</th>\n      <th>subsystem</th>\n      <th>is_high_priority</th>\n    </tr>\n  </thead>\n  <tbody>\n    <tr>\n      <th>0</th>\n      <td>25-60681</td>\n      <td></td>\n      <td></td>\n      <td></td>\n      <td></td>\n      <td></td>\n      <td></td>\n      <td></td>\n      <td></td>\n      <td></td>\n      <td>...</td>\n      <td></td>\n      <td></td>\n      <td></td>\n      <td></td>\n      <td></td>\n      <td>Don't sync font size within IDEA server plugin</td>\n      <td>At home I have 1900x1200 resolution and at my ...</td>\n      <td>Bug</td>\n      <td>Core. Project Settings</td>\n      <td>False</td>\n    </tr>\n    <tr>\n      <th>1</th>\n      <td>25-60682</td>\n      <td></td>\n      <td></td>\n      <td></td>\n      <td></td>\n      <td></td>\n      <td></td>\n      <td></td>\n      <td></td>\n      <td></td>\n      <td>...</td>\n      <td></td>\n      <td></td>\n      <td></td>\n      <td></td>\n      <td></td>\n      <td>Cancelling subversion update</td>\n      <td>When cancelling an update from ie. subversion ...</td>\n      <td>Usability Problem</td>\n      <td>Version Control. Subversion</td>\n      <td>False</td>\n    </tr>\n    <tr>\n      <th>2</th>\n      <td>25-60686</td>\n      <td>25-976077</td>\n      <td></td>\n      <td></td>\n      <td></td>\n      <td></td>\n      <td></td>\n      <td></td>\n      <td></td>\n      <td></td>\n      <td>...</td>\n      <td></td>\n      <td></td>\n      <td></td>\n      <td></td>\n      <td></td>\n      <td>Suspended Breakpoint in JVM not Recognized in ...</td>\n      <td>In some breakpoint cases for a app launched fr...</td>\n      <td>Bug</td>\n      <td>Java. Debugger</td>\n      <td>False</td>\n    </tr>\n    <tr>\n      <th>3</th>\n      <td>25-60691</td>\n      <td></td>\n      <td></td>\n      <td></td>\n      <td></td>\n      <td></td>\n      <td></td>\n      <td></td>\n      <td></td>\n      <td></td>\n      <td>...</td>\n      <td></td>\n      <td></td>\n      <td></td>\n      <td></td>\n      <td></td>\n      <td>Good code red: IDEA incorrectly resolves neste...</td>\n      <td>The relevant snippet if part of the UIDebug cl...</td>\n      <td>Bug</td>\n      <td>Code Analysis. Inspection</td>\n      <td>False</td>\n    </tr>\n    <tr>\n      <th>4</th>\n      <td>25-60679</td>\n      <td></td>\n      <td></td>\n      <td></td>\n      <td></td>\n      <td></td>\n      <td></td>\n      <td></td>\n      <td></td>\n      <td></td>\n      <td>...</td>\n      <td></td>\n      <td></td>\n      <td></td>\n      <td></td>\n      <td></td>\n      <td>Module WIll Not Load Jar Dependencies on Intre...</td>\n      <td>I have IntelliJ 7.0.5 running on both WIndows ...</td>\n      <td>Bug</td>\n      <td>Core. Project Settings</td>\n      <td>False</td>\n    </tr>\n    <tr>\n      <th>...</th>\n      <td>...</td>\n      <td>...</td>\n      <td>...</td>\n      <td>...</td>\n      <td>...</td>\n      <td>...</td>\n      <td>...</td>\n      <td>...</td>\n      <td>...</td>\n      <td>...</td>\n      <td>...</td>\n      <td>...</td>\n      <td>...</td>\n      <td>...</td>\n      <td>...</td>\n      <td>...</td>\n      <td>...</td>\n      <td>...</td>\n      <td>...</td>\n      <td>...</td>\n      <td>...</td>\n    </tr>\n    <tr>\n      <th>105360</th>\n      <td>25-2507313</td>\n      <td></td>\n      <td></td>\n      <td></td>\n      <td></td>\n      <td></td>\n      <td></td>\n      <td></td>\n      <td></td>\n      <td></td>\n      <td>...</td>\n      <td></td>\n      <td></td>\n      <td></td>\n      <td></td>\n      <td></td>\n      <td>Version Control Incoming tab missing search fi...</td>\n      <td>The Version Control tab for \"Incoming\" doesn't...</td>\n      <td>Usability Problem</td>\n      <td>Version Control. Subversion</td>\n      <td>False</td>\n    </tr>\n    <tr>\n      <th>105361</th>\n      <td>25-2507159</td>\n      <td></td>\n      <td></td>\n      <td></td>\n      <td></td>\n      <td>25-2497655</td>\n      <td></td>\n      <td></td>\n      <td></td>\n      <td></td>\n      <td>...</td>\n      <td></td>\n      <td></td>\n      <td></td>\n      <td></td>\n      <td></td>\n      <td>Groovy compiler can't find files with names co...</td>\n      <td>1. Create a new Project with groovy support\\n2...</td>\n      <td>Bug</td>\n      <td></td>\n      <td>False</td>\n    </tr>\n    <tr>\n      <th>105362</th>\n      <td>25-2507096</td>\n      <td></td>\n      <td></td>\n      <td></td>\n      <td></td>\n      <td>25-435240</td>\n      <td></td>\n      <td></td>\n      <td></td>\n      <td></td>\n      <td>...</td>\n      <td></td>\n      <td></td>\n      <td></td>\n      <td></td>\n      <td></td>\n      <td>auto close stepped in files on debug resume</td>\n      <td>Hi,\\n\\none coworker switched from eclipse to I...</td>\n      <td>Feature</td>\n      <td>Java. Debugger</td>\n      <td>False</td>\n    </tr>\n    <tr>\n      <th>105363</th>\n      <td>25-2506900</td>\n      <td></td>\n      <td></td>\n      <td></td>\n      <td></td>\n      <td>25-1833184</td>\n      <td></td>\n      <td></td>\n      <td></td>\n      <td></td>\n      <td>...</td>\n      <td></td>\n      <td></td>\n      <td></td>\n      <td></td>\n      <td></td>\n      <td>Keymaps don't resync after disabled settings s...</td>\n      <td>I had to disable setting sync so I could expor...</td>\n      <td>Bug</td>\n      <td>Core. IDE Settings. Sharing</td>\n      <td>False</td>\n    </tr>\n    <tr>\n      <th>105364</th>\n      <td>25-2506947</td>\n      <td></td>\n      <td></td>\n      <td></td>\n      <td></td>\n      <td>25-834740</td>\n      <td></td>\n      <td></td>\n      <td></td>\n      <td></td>\n      <td>...</td>\n      <td></td>\n      <td></td>\n      <td></td>\n      <td></td>\n      <td></td>\n      <td>OK , cancel button do not appear when i do imp...</td>\n      <td>Hello, \\nI've recently started using intelliJ,...</td>\n      <td>Bug</td>\n      <td></td>\n      <td>False</td>\n    </tr>\n  </tbody>\n</table>\n<p>105365 rows × 21 columns</p>\n</div>"
     },
     "execution_count": 71,
     "metadata": {},
     "output_type": "execute_result"
    }
   ],
   "source": [
    "data"
   ]
  },
  {
   "cell_type": "markdown",
   "metadata": {},
   "source": [
    "Some thing i dont know"
   ]
  },
  {
   "cell_type": "code",
   "execution_count": 72,
   "metadata": {
    "pycharm": {
     "name": "#%%\n"
    }
   },
   "outputs": [],
   "source": [
    "id_features = [\"id\",\n",
    "               \"BOTHRelates\",\n",
    "               \"OUTWARDDepend\",\n",
    "               \"INWARDDepend\",\n",
    "               \"OUTWARDDuplicate\",\n",
    "               \"INWARDDuplicate\",\n",
    "               \"OUTWARDSubtask\",\n",
    "               \"INWARDSubtask\",\n",
    "               \"OUTWARDFolllowed\",\n",
    "               \"INWARDFolllowed\",\n",
    "               \"BOTHSimilar\",\n",
    "               \"BOTHReuse\",\n",
    "               \"OUTWARDCause\",\n",
    "               \"INWARDCause\",\n",
    "               \"OUTWARDLeadsto\",\n",
    "               \"INWARDLeadsto\"\n",
    "               ]"
   ]
  },
  {
   "cell_type": "code",
   "execution_count": 73,
   "metadata": {
    "pycharm": {
     "name": "#%%\n"
    }
   },
   "outputs": [],
   "source": [
    "text_features = ['summary', 'description']"
   ]
  },
  {
   "cell_type": "code",
   "execution_count": 74,
   "metadata": {
    "pycharm": {
     "name": "#%%\n"
    }
   },
   "outputs": [],
   "source": [
    "categorical_features = ['issueType', 'subsystem']"
   ]
  },
  {
   "cell_type": "code",
   "execution_count": 75,
   "metadata": {
    "pycharm": {
     "name": "#%%\n"
    }
   },
   "outputs": [],
   "source": [
    "expected_features = ['is_high_priority']"
   ]
  },
  {
   "cell_type": "code",
   "execution_count": 76,
   "metadata": {
    "pycharm": {
     "name": "#%%\n"
    }
   },
   "outputs": [],
   "source": [
    "inputs_train = data.copy()\n",
    "inputs_expected = inputs_train.pop('is_high_priority')"
   ]
  },
  {
   "cell_type": "code",
   "execution_count": 77,
   "metadata": {
    "pycharm": {
     "name": "#%%\n"
    }
   },
   "outputs": [
    {
     "data": {
      "text/plain": "{'id': <KerasTensor: shape=(None,) dtype=string (created by layer 'id')>,\n 'BOTHRelates': <KerasTensor: shape=(None,) dtype=string (created by layer 'BOTHRelates')>,\n 'OUTWARDDepend': <KerasTensor: shape=(None,) dtype=string (created by layer 'OUTWARDDepend')>,\n 'INWARDDepend': <KerasTensor: shape=(None,) dtype=string (created by layer 'INWARDDepend')>,\n 'OUTWARDDuplicate': <KerasTensor: shape=(None,) dtype=string (created by layer 'OUTWARDDuplicate')>,\n 'INWARDDuplicate': <KerasTensor: shape=(None,) dtype=string (created by layer 'INWARDDuplicate')>,\n 'OUTWARDSubtask': <KerasTensor: shape=(None,) dtype=string (created by layer 'OUTWARDSubtask')>,\n 'INWARDSubtask': <KerasTensor: shape=(None,) dtype=string (created by layer 'INWARDSubtask')>,\n 'OUTWARDFolllowed': <KerasTensor: shape=(None,) dtype=string (created by layer 'OUTWARDFolllowed')>,\n 'INWARDFolllowed': <KerasTensor: shape=(None,) dtype=string (created by layer 'INWARDFolllowed')>,\n 'BOTHSimilar': <KerasTensor: shape=(None,) dtype=string (created by layer 'BOTHSimilar')>,\n 'BOTHReuse': <KerasTensor: shape=(None,) dtype=string (created by layer 'BOTHReuse')>,\n 'OUTWARDCause': <KerasTensor: shape=(None,) dtype=string (created by layer 'OUTWARDCause')>,\n 'INWARDCause': <KerasTensor: shape=(None,) dtype=string (created by layer 'INWARDCause')>,\n 'OUTWARDLeadsto': <KerasTensor: shape=(None,) dtype=string (created by layer 'OUTWARDLeadsto')>,\n 'INWARDLeadsto': <KerasTensor: shape=(None,) dtype=string (created by layer 'INWARDLeadsto')>,\n 'summary': <KerasTensor: shape=(None,) dtype=string (created by layer 'summary')>,\n 'description': <KerasTensor: shape=(None,) dtype=string (created by layer 'description')>,\n 'issueType': <KerasTensor: shape=(None,) dtype=string (created by layer 'issueType')>,\n 'subsystem': <KerasTensor: shape=(None,) dtype=string (created by layer 'subsystem')>}"
     },
     "execution_count": 77,
     "metadata": {},
     "output_type": "execute_result"
    }
   ],
   "source": [
    "inputs = {}\n",
    "for name, column in inputs_train.items():\n",
    "    if type(column[0]) == str:\n",
    "        dtype = tf.string\n",
    "    elif type(column[0]) == bool or type(column[0]) == np.bool_ :\n",
    "        dtype = tf.bool\n",
    "    else:\n",
    "        print(type(column[0]))\n",
    "        raise ValueError(\"Unhandled type\")\n",
    "\n",
    "    inputs[name] = tf.keras.Input(shape=(), name=name, dtype=dtype)\n",
    "inputs"
   ]
  },
  {
   "cell_type": "markdown",
   "metadata": {},
   "source": [
    "ID text vectorizer"
   ]
  },
  {
   "cell_type": "code",
   "execution_count": 78,
   "metadata": {
    "pycharm": {
     "name": "#%%\n"
    }
   },
   "outputs": [],
   "source": [
    "id_encoder = tf.keras.layers.TextVectorization(\n",
    "    split='whitespace',\n",
    ")"
   ]
  },
  {
   "cell_type": "code",
   "execution_count": 79,
   "metadata": {
    "pycharm": {
     "name": "#%%\n"
    }
   },
   "outputs": [
    {
     "name": "stdout",
     "output_type": "stream",
     "text": [
      "processing col: id\n",
      "processing col: BOTHRelates\n",
      "processing col: OUTWARDDepend\n",
      "processing col: INWARDDepend\n",
      "processing col: OUTWARDDuplicate\n",
      "processing col: INWARDDuplicate\n",
      "processing col: OUTWARDSubtask\n",
      "processing col: INWARDSubtask\n",
      "processing col: OUTWARDFolllowed\n",
      "processing col: INWARDFolllowed\n",
      "processing col: BOTHSimilar\n",
      "processing col: BOTHReuse\n",
      "processing col: OUTWARDCause\n",
      "processing col: INWARDCause\n",
      "processing col: OUTWARDLeadsto\n",
      "processing col: INWARDLeadsto\n"
     ]
    }
   ],
   "source": [
    "id_adapt_data = []\n",
    "for name in id_features:\n",
    "    print(\"processing col: \" + name)\n",
    "    col_vals = inputs_train[name].tolist()\n",
    "    id_adapt_data.extend(col_vals)\n",
    "\n",
    "#id_adapt_tds = tf.data.Dataset.from_tensor_slices(id_adapt_data)\n",
    "id_adapt_np = np.array(id_adapt_data)\n",
    "\n",
    "id_encoder.adapt(id_adapt_np)"
   ]
  },
  {
   "cell_type": "code",
   "execution_count": 80,
   "metadata": {
    "pycharm": {
     "name": "#%%\n"
    }
   },
   "outputs": [
    {
     "data": {
      "text/plain": "126604"
     },
     "execution_count": 80,
     "metadata": {},
     "output_type": "execute_result"
    }
   ],
   "source": [
    "id_encoder.vocabulary_size()"
   ]
  },
  {
   "cell_type": "code",
   "execution_count": 81,
   "outputs": [
    {
     "name": "stdout",
     "output_type": "stream",
     "text": [
      "Model: \"sequential\"\n",
      "_________________________________________________________________\n",
      "Layer (type)                 Output Shape              Param #   \n",
      "=================================================================\n",
      "text_vectorization (TextVect (None, None)              0         \n",
      "=================================================================\n",
      "Total params: 0\n",
      "Trainable params: 0\n",
      "Non-trainable params: 0\n",
      "_________________________________________________________________\n"
     ]
    }
   ],
   "source": [
    "id_model = tf.keras.models.Sequential()\n",
    "id_model.add(tf.keras.Input(shape=(1,), dtype=tf.string))\n",
    "id_model.add(id_encoder)\n",
    "id_model.build((1,))\n",
    "id_model.summary()"
   ],
   "metadata": {
    "collapsed": false,
    "pycharm": {
     "name": "#%%\n"
    }
   }
  },
  {
   "cell_type": "code",
   "execution_count": 82,
   "outputs": [
    {
     "name": "stdout",
     "output_type": "stream",
     "text": [
      "WARNING:tensorflow:Compiled the loaded model, but the compiled metrics have yet to be built. `model.compile_metrics` will be empty until you train or evaluate the model.\n",
      "INFO:tensorflow:Assets written to: model/id_model\\assets\n"
     ]
    }
   ],
   "source": [
    "id_model.save('model/id_model', save_format=\"tf\")"
   ],
   "metadata": {
    "collapsed": false,
    "pycharm": {
     "name": "#%%\n"
    }
   }
  },
  {
   "cell_type": "markdown",
   "metadata": {},
   "source": [
    "description/summary text vectorizer"
   ]
  },
  {
   "cell_type": "code",
   "execution_count": 83,
   "metadata": {
    "pycharm": {
     "name": "#%%\n"
    }
   },
   "outputs": [],
   "source": [
    "desc_summ_encoder = tf.keras.layers.TextVectorization()"
   ]
  },
  {
   "cell_type": "code",
   "execution_count": 84,
   "metadata": {
    "pycharm": {
     "name": "#%%\n"
    }
   },
   "outputs": [
    {
     "name": "stdout",
     "output_type": "stream",
     "text": [
      "processing col: summary\n",
      "processing col: description\n"
     ]
    }
   ],
   "source": [
    "desc_summ_data = []\n",
    "for name in text_features:\n",
    "    print(\"processing col: \" + name)\n",
    "    col_vals = inputs_train[name].tolist()\n",
    "    desc_summ_data.extend(col_vals)\n",
    "\n",
    "desc_summ_tds = tf.data.Dataset.from_tensor_slices(desc_summ_data)\n",
    "\n",
    "desc_summ_encoder.adapt(desc_summ_tds)"
   ]
  },
  {
   "cell_type": "code",
   "execution_count": 85,
   "metadata": {
    "pycharm": {
     "name": "#%%\n"
    }
   },
   "outputs": [
    {
     "data": {
      "text/plain": "545504"
     },
     "execution_count": 85,
     "metadata": {},
     "output_type": "execute_result"
    }
   ],
   "source": [
    "desc_summ_encoder.vocabulary_size()"
   ]
  },
  {
   "cell_type": "code",
   "execution_count": 86,
   "outputs": [
    {
     "name": "stdout",
     "output_type": "stream",
     "text": [
      "Model: \"sequential_1\"\n",
      "_________________________________________________________________\n",
      "Layer (type)                 Output Shape              Param #   \n",
      "=================================================================\n",
      "text_vectorization_1 (TextVe (None, None)              0         \n",
      "=================================================================\n",
      "Total params: 0\n",
      "Trainable params: 0\n",
      "Non-trainable params: 0\n",
      "_________________________________________________________________\n"
     ]
    }
   ],
   "source": [
    "desc_summ_model = tf.keras.models.Sequential([\n",
    "    tf.keras.Input(shape=(1,), dtype=tf.string),\n",
    "    desc_summ_encoder\n",
    "])\n",
    "desc_summ_model.build((1,))\n",
    "desc_summ_model.summary()"
   ],
   "metadata": {
    "collapsed": false,
    "pycharm": {
     "name": "#%%\n"
    }
   }
  },
  {
   "cell_type": "code",
   "execution_count": 87,
   "outputs": [
    {
     "name": "stdout",
     "output_type": "stream",
     "text": [
      "WARNING:tensorflow:Compiled the loaded model, but the compiled metrics have yet to be built. `model.compile_metrics` will be empty until you train or evaluate the model.\n",
      "INFO:tensorflow:Assets written to: model/desc_summ_model\\assets\n"
     ]
    }
   ],
   "source": [
    "desc_summ_model.save('model/desc_summ_model', save_format=\"tf\")"
   ],
   "metadata": {
    "collapsed": false,
    "pycharm": {
     "name": "#%%\n"
    }
   }
  },
  {
   "cell_type": "markdown",
   "metadata": {},
   "source": [
    "## Build model"
   ]
  },
  {
   "cell_type": "code",
   "execution_count": 237,
   "metadata": {
    "pycharm": {
     "name": "#%%\n"
    }
   },
   "outputs": [],
   "source": [
    "inp_cats = []\n",
    "x_cats = []\n",
    "for name in categorical_features:\n",
    "    inp_cat = tf.keras.Input(shape=(1,), dtype=tf.string, name=name)\n",
    "\n",
    "    vocab = sorted(set(data[name]))\n",
    "\n",
    "    x_cat = tf.keras.layers.StringLookup(vocabulary=vocab, output_mode='one_hot')(inp_cat)\n",
    "\n",
    "    inp_cats.append(inp_cat)\n",
    "    x_cats.append(x_cat)"
   ]
  },
  {
   "cell_type": "code",
   "execution_count": 238,
   "outputs": [
    {
     "data": {
      "text/plain": "[<KerasTensor: shape=(None, 14) dtype=float32 (created by layer 'string_lookup_4')>,\n <KerasTensor: shape=(None, 178) dtype=float32 (created by layer 'string_lookup_5')>]"
     },
     "execution_count": 238,
     "metadata": {},
     "output_type": "execute_result"
    }
   ],
   "source": [
    "x_cats"
   ],
   "metadata": {
    "collapsed": false,
    "pycharm": {
     "name": "#%%\n"
    }
   }
  },
  {
   "cell_type": "code",
   "execution_count": 239,
   "outputs": [],
   "source": [
    "inp_ids = []\n",
    "x_ids = []\n",
    "for id_feature in id_features:\n",
    "    inp_id = tf.keras.Input(shape=(1,), dtype=tf.string, name=id_feature)\n",
    "    x_id = id_encoder(inp_id)\n",
    "    x_id = tf.keras.layers.Embedding(\n",
    "             input_dim=id_encoder.vocabulary_size() + 1,\n",
    "             output_dim=4,\n",
    "             # Use masking to handle the variable sequence lengths\n",
    "             input_length=1,\n",
    "             mask_zero=True)(x_id)\n",
    "    inp_ids.append(inp_id)\n",
    "    x_ids.append(x_id)"
   ],
   "metadata": {
    "collapsed": false,
    "pycharm": {
     "name": "#%%\n"
    }
   }
  },
  {
   "cell_type": "code",
   "execution_count": 240,
   "outputs": [
    {
     "data": {
      "text/plain": "[<KerasTensor: shape=(None, None, 4) dtype=float32 (created by layer 'embedding_18')>,\n <KerasTensor: shape=(None, None, 4) dtype=float32 (created by layer 'embedding_19')>,\n <KerasTensor: shape=(None, None, 4) dtype=float32 (created by layer 'embedding_20')>,\n <KerasTensor: shape=(None, None, 4) dtype=float32 (created by layer 'embedding_21')>,\n <KerasTensor: shape=(None, None, 4) dtype=float32 (created by layer 'embedding_22')>,\n <KerasTensor: shape=(None, None, 4) dtype=float32 (created by layer 'embedding_23')>,\n <KerasTensor: shape=(None, None, 4) dtype=float32 (created by layer 'embedding_24')>,\n <KerasTensor: shape=(None, None, 4) dtype=float32 (created by layer 'embedding_25')>,\n <KerasTensor: shape=(None, None, 4) dtype=float32 (created by layer 'embedding_26')>,\n <KerasTensor: shape=(None, None, 4) dtype=float32 (created by layer 'embedding_27')>,\n <KerasTensor: shape=(None, None, 4) dtype=float32 (created by layer 'embedding_28')>,\n <KerasTensor: shape=(None, None, 4) dtype=float32 (created by layer 'embedding_29')>,\n <KerasTensor: shape=(None, None, 4) dtype=float32 (created by layer 'embedding_30')>,\n <KerasTensor: shape=(None, None, 4) dtype=float32 (created by layer 'embedding_31')>,\n <KerasTensor: shape=(None, None, 4) dtype=float32 (created by layer 'embedding_32')>,\n <KerasTensor: shape=(None, None, 4) dtype=float32 (created by layer 'embedding_33')>]"
     },
     "execution_count": 240,
     "metadata": {},
     "output_type": "execute_result"
    }
   ],
   "source": [
    "x_ids"
   ],
   "metadata": {
    "collapsed": false,
    "pycharm": {
     "name": "#%%\n"
    }
   }
  },
  {
   "cell_type": "code",
   "execution_count": 241,
   "outputs": [
    {
     "name": "stdout",
     "output_type": "stream",
     "text": [
      "KerasTensor(type_spec=TensorSpec(shape=(None, None, 4), dtype=tf.float32, name=None), name='tf.concat_3/concat:0', description=\"created by layer 'tf.concat_3'\")\n"
     ]
    },
    {
     "data": {
      "text/plain": "<KerasTensor: shape=(None, 64) dtype=float32 (created by layer 'bidirectional_2')>"
     },
     "execution_count": 241,
     "metadata": {},
     "output_type": "execute_result"
    }
   ],
   "source": [
    "x_ids_all = tf.concat(x_ids, axis=1)\n",
    "print(x_ids_all)\n",
    "x_ids_all = tf.keras.layers.Bidirectional(tf.keras.layers.LSTM(32))(x_ids_all)\n",
    "x_ids_all"
   ],
   "metadata": {
    "collapsed": false,
    "pycharm": {
     "name": "#%%\n"
    }
   }
  },
  {
   "cell_type": "code",
   "execution_count": 242,
   "outputs": [],
   "source": [
    "inp_texts = []\n",
    "x_texts = []\n",
    "for text_feature in text_features:\n",
    "    inp_text = tf.keras.Input(shape=(1,), dtype=tf.string, name=text_feature)\n",
    "    x_text = desc_summ_encoder(inp_text)\n",
    "    x_text = tf.keras.layers.Embedding(\n",
    "        input_dim=desc_summ_encoder.vocabulary_size() + 1,\n",
    "        output_dim=32,\n",
    "        # Use masking to handle the variable sequence lengths\n",
    "        input_length=200,\n",
    "        mask_zero=True)(x_text)\n",
    "    inp_texts.append(inp_text)\n",
    "    x_texts.append(x_text)"
   ],
   "metadata": {
    "collapsed": false,
    "pycharm": {
     "name": "#%%\n"
    }
   }
  },
  {
   "cell_type": "code",
   "execution_count": 243,
   "outputs": [
    {
     "data": {
      "text/plain": "[<KerasTensor: shape=(None, None, 32) dtype=float32 (created by layer 'embedding_34')>,\n <KerasTensor: shape=(None, None, 32) dtype=float32 (created by layer 'embedding_35')>]"
     },
     "execution_count": 243,
     "metadata": {},
     "output_type": "execute_result"
    }
   ],
   "source": [
    "x_texts"
   ],
   "metadata": {
    "collapsed": false,
    "pycharm": {
     "name": "#%%\n"
    }
   }
  },
  {
   "cell_type": "code",
   "execution_count": 250,
   "outputs": [
    {
     "name": "stdout",
     "output_type": "stream",
     "text": [
      "KerasTensor(type_spec=TensorSpec(shape=(None, None, 32), dtype=tf.float32, name=None), name='tf.concat_6/concat:0', description=\"created by layer 'tf.concat_6'\")\n"
     ]
    },
    {
     "data": {
      "text/plain": "<KerasTensor: shape=(None, 64) dtype=float32 (created by layer 'bidirectional_4')>"
     },
     "execution_count": 250,
     "metadata": {},
     "output_type": "execute_result"
    }
   ],
   "source": [
    "x_texts_all = tf.concat(x_texts, axis=1) # tf.keras.layers.Concatenate(axis=2)(x_texts) #\n",
    "print(x_texts_all)\n",
    "x_texts_all = tf.keras.layers.Bidirectional(tf.keras.layers.LSTM(32))(x_texts_all)\n",
    "x_texts_all"
   ],
   "metadata": {
    "collapsed": false,
    "pycharm": {
     "name": "#%%\n"
    }
   }
  },
  {
   "cell_type": "code",
   "execution_count": 251,
   "outputs": [
    {
     "data": {
      "text/plain": "TensorShape([None, 64])"
     },
     "execution_count": 251,
     "metadata": {},
     "output_type": "execute_result"
    }
   ],
   "source": [
    "x_texts_all.shape"
   ],
   "metadata": {
    "collapsed": false,
    "pycharm": {
     "name": "#%%\n"
    }
   }
  },
  {
   "cell_type": "code",
   "execution_count": 252,
   "outputs": [],
   "source": [
    "all_inputs = []\n",
    "all_inputs.extend(inp_ids)\n",
    "all_inputs.extend(inp_texts)\n",
    "all_inputs.extend(inp_cats)"
   ],
   "metadata": {
    "collapsed": false,
    "pycharm": {
     "name": "#%%\n"
    }
   }
  },
  {
   "cell_type": "code",
   "execution_count": 253,
   "outputs": [],
   "source": [
    "all_x = [x_ids_all, x_texts_all]\n",
    "all_x.extend(x_cats)"
   ],
   "metadata": {
    "collapsed": false,
    "pycharm": {
     "name": "#%%\n"
    }
   }
  },
  {
   "cell_type": "code",
   "execution_count": 254,
   "outputs": [
    {
     "data": {
      "text/plain": "<KerasTensor: shape=(None, 320) dtype=float32 (created by layer 'tf.concat_7')>"
     },
     "execution_count": 254,
     "metadata": {},
     "output_type": "execute_result"
    }
   ],
   "source": [
    "all_x_tf = tf.concat(all_x, axis=-1)\n",
    "all_x_tf"
   ],
   "metadata": {
    "collapsed": false,
    "pycharm": {
     "name": "#%%\n"
    }
   }
  },
  {
   "cell_type": "code",
   "execution_count": 255,
   "outputs": [
    {
     "data": {
      "text/plain": "<KerasTensor: shape=(None, 16) dtype=float32 (created by layer 'dropout_3')>"
     },
     "execution_count": 255,
     "metadata": {},
     "output_type": "execute_result"
    }
   ],
   "source": [
    "from keras import regularizers\n",
    "\n",
    "hidden = tf.keras.layers.Dense(32, activation=\"relu\", kernel_regularizer=regularizers.l2(0.001))(all_x_tf)\n",
    "hidden = tf.keras.layers.Dropout(0.4)(hidden)\n",
    "hidden = tf.keras.layers.Dense(16, activation=\"relu\", kernel_regularizer=regularizers.l2(0.001))(hidden)\n",
    "hidden = tf.keras.layers.Dropout(0.4)(hidden)\n",
    "hidden"
   ],
   "metadata": {
    "collapsed": false,
    "pycharm": {
     "name": "#%%\n"
    }
   }
  },
  {
   "cell_type": "code",
   "execution_count": 256,
   "outputs": [],
   "source": [
    "dense = tf.keras.layers.Dense(1,  activation='sigmoid')(hidden)"
   ],
   "metadata": {
    "collapsed": false,
    "pycharm": {
     "name": "#%%\n"
    }
   }
  },
  {
   "cell_type": "code",
   "execution_count": 257,
   "outputs": [],
   "source": [
    "model = tf.keras.Model(inputs= all_inputs, outputs= dense)"
   ],
   "metadata": {
    "collapsed": false,
    "pycharm": {
     "name": "#%%\n"
    }
   }
  },
  {
   "cell_type": "code",
   "execution_count": 258,
   "outputs": [],
   "source": [
    "#tf.keras.utils.plot_model(model, rankdir=\"LR\", show_shapes=True)"
   ],
   "metadata": {
    "collapsed": false,
    "pycharm": {
     "name": "#%%\n"
    }
   }
  },
  {
   "cell_type": "code",
   "execution_count": 259,
   "outputs": [],
   "source": [
    "model.compile(loss='binary_crossentropy', optimizer='adam', metrics=['accuracy'])"
   ],
   "metadata": {
    "collapsed": false,
    "pycharm": {
     "name": "#%%\n"
    }
   }
  },
  {
   "cell_type": "code",
   "execution_count": 260,
   "outputs": [
    {
     "name": "stdout",
     "output_type": "stream",
     "text": [
      "Model: \"model_1\"\n",
      "__________________________________________________________________________________________________\n",
      "Layer (type)                    Output Shape         Param #     Connected to                     \n",
      "==================================================================================================\n",
      "id (InputLayer)                 [(None, 1)]          0                                            \n",
      "__________________________________________________________________________________________________\n",
      "BOTHRelates (InputLayer)        [(None, 1)]          0                                            \n",
      "__________________________________________________________________________________________________\n",
      "OUTWARDDepend (InputLayer)      [(None, 1)]          0                                            \n",
      "__________________________________________________________________________________________________\n",
      "INWARDDepend (InputLayer)       [(None, 1)]          0                                            \n",
      "__________________________________________________________________________________________________\n",
      "OUTWARDDuplicate (InputLayer)   [(None, 1)]          0                                            \n",
      "__________________________________________________________________________________________________\n",
      "INWARDDuplicate (InputLayer)    [(None, 1)]          0                                            \n",
      "__________________________________________________________________________________________________\n",
      "OUTWARDSubtask (InputLayer)     [(None, 1)]          0                                            \n",
      "__________________________________________________________________________________________________\n",
      "INWARDSubtask (InputLayer)      [(None, 1)]          0                                            \n",
      "__________________________________________________________________________________________________\n",
      "OUTWARDFolllowed (InputLayer)   [(None, 1)]          0                                            \n",
      "__________________________________________________________________________________________________\n",
      "INWARDFolllowed (InputLayer)    [(None, 1)]          0                                            \n",
      "__________________________________________________________________________________________________\n",
      "BOTHSimilar (InputLayer)        [(None, 1)]          0                                            \n",
      "__________________________________________________________________________________________________\n",
      "BOTHReuse (InputLayer)          [(None, 1)]          0                                            \n",
      "__________________________________________________________________________________________________\n",
      "OUTWARDCause (InputLayer)       [(None, 1)]          0                                            \n",
      "__________________________________________________________________________________________________\n",
      "INWARDCause (InputLayer)        [(None, 1)]          0                                            \n",
      "__________________________________________________________________________________________________\n",
      "OUTWARDLeadsto (InputLayer)     [(None, 1)]          0                                            \n",
      "__________________________________________________________________________________________________\n",
      "INWARDLeadsto (InputLayer)      [(None, 1)]          0                                            \n",
      "__________________________________________________________________________________________________\n",
      "summary (InputLayer)            [(None, 1)]          0                                            \n",
      "__________________________________________________________________________________________________\n",
      "description (InputLayer)        [(None, 1)]          0                                            \n",
      "__________________________________________________________________________________________________\n",
      "text_vectorization (TextVectori (None, None)         0           id[0][0]                         \n",
      "                                                                 BOTHRelates[0][0]                \n",
      "                                                                 OUTWARDDepend[0][0]              \n",
      "                                                                 INWARDDepend[0][0]               \n",
      "                                                                 OUTWARDDuplicate[0][0]           \n",
      "                                                                 INWARDDuplicate[0][0]            \n",
      "                                                                 OUTWARDSubtask[0][0]             \n",
      "                                                                 INWARDSubtask[0][0]              \n",
      "                                                                 OUTWARDFolllowed[0][0]           \n",
      "                                                                 INWARDFolllowed[0][0]            \n",
      "                                                                 BOTHSimilar[0][0]                \n",
      "                                                                 BOTHReuse[0][0]                  \n",
      "                                                                 OUTWARDCause[0][0]               \n",
      "                                                                 INWARDCause[0][0]                \n",
      "                                                                 OUTWARDLeadsto[0][0]             \n",
      "                                                                 INWARDLeadsto[0][0]              \n",
      "__________________________________________________________________________________________________\n",
      "text_vectorization_1 (TextVecto (None, None)         0           summary[0][0]                    \n",
      "                                                                 description[0][0]                \n",
      "__________________________________________________________________________________________________\n",
      "embedding_18 (Embedding)        (None, None, 4)      506420      text_vectorization[17][0]        \n",
      "__________________________________________________________________________________________________\n",
      "embedding_19 (Embedding)        (None, None, 4)      506420      text_vectorization[18][0]        \n",
      "__________________________________________________________________________________________________\n",
      "embedding_20 (Embedding)        (None, None, 4)      506420      text_vectorization[19][0]        \n",
      "__________________________________________________________________________________________________\n",
      "embedding_21 (Embedding)        (None, None, 4)      506420      text_vectorization[20][0]        \n",
      "__________________________________________________________________________________________________\n",
      "embedding_22 (Embedding)        (None, None, 4)      506420      text_vectorization[21][0]        \n",
      "__________________________________________________________________________________________________\n",
      "embedding_23 (Embedding)        (None, None, 4)      506420      text_vectorization[22][0]        \n",
      "__________________________________________________________________________________________________\n",
      "embedding_24 (Embedding)        (None, None, 4)      506420      text_vectorization[23][0]        \n",
      "__________________________________________________________________________________________________\n",
      "embedding_25 (Embedding)        (None, None, 4)      506420      text_vectorization[24][0]        \n",
      "__________________________________________________________________________________________________\n",
      "embedding_26 (Embedding)        (None, None, 4)      506420      text_vectorization[25][0]        \n",
      "__________________________________________________________________________________________________\n",
      "embedding_27 (Embedding)        (None, None, 4)      506420      text_vectorization[26][0]        \n",
      "__________________________________________________________________________________________________\n",
      "embedding_28 (Embedding)        (None, None, 4)      506420      text_vectorization[27][0]        \n",
      "__________________________________________________________________________________________________\n",
      "embedding_29 (Embedding)        (None, None, 4)      506420      text_vectorization[28][0]        \n",
      "__________________________________________________________________________________________________\n",
      "embedding_30 (Embedding)        (None, None, 4)      506420      text_vectorization[29][0]        \n",
      "__________________________________________________________________________________________________\n",
      "embedding_31 (Embedding)        (None, None, 4)      506420      text_vectorization[30][0]        \n",
      "__________________________________________________________________________________________________\n",
      "embedding_32 (Embedding)        (None, None, 4)      506420      text_vectorization[31][0]        \n",
      "__________________________________________________________________________________________________\n",
      "embedding_33 (Embedding)        (None, None, 4)      506420      text_vectorization[32][0]        \n",
      "__________________________________________________________________________________________________\n",
      "embedding_34 (Embedding)        (None, None, 32)     17456160    text_vectorization_1[3][0]       \n",
      "__________________________________________________________________________________________________\n",
      "embedding_35 (Embedding)        (None, None, 32)     17456160    text_vectorization_1[4][0]       \n",
      "__________________________________________________________________________________________________\n",
      "tf.concat_3 (TFOpLambda)        (None, None, 4)      0           embedding_18[0][0]               \n",
      "                                                                 embedding_19[0][0]               \n",
      "                                                                 embedding_20[0][0]               \n",
      "                                                                 embedding_21[0][0]               \n",
      "                                                                 embedding_22[0][0]               \n",
      "                                                                 embedding_23[0][0]               \n",
      "                                                                 embedding_24[0][0]               \n",
      "                                                                 embedding_25[0][0]               \n",
      "                                                                 embedding_26[0][0]               \n",
      "                                                                 embedding_27[0][0]               \n",
      "                                                                 embedding_28[0][0]               \n",
      "                                                                 embedding_29[0][0]               \n",
      "                                                                 embedding_30[0][0]               \n",
      "                                                                 embedding_31[0][0]               \n",
      "                                                                 embedding_32[0][0]               \n",
      "                                                                 embedding_33[0][0]               \n",
      "__________________________________________________________________________________________________\n",
      "tf.concat_6 (TFOpLambda)        (None, None, 32)     0           embedding_34[0][0]               \n",
      "                                                                 embedding_35[0][0]               \n",
      "__________________________________________________________________________________________________\n",
      "issueType (InputLayer)          [(None, 1)]          0                                            \n",
      "__________________________________________________________________________________________________\n",
      "subsystem (InputLayer)          [(None, 1)]          0                                            \n",
      "__________________________________________________________________________________________________\n",
      "bidirectional_2 (Bidirectional) (None, 64)           9472        tf.concat_3[0][0]                \n",
      "__________________________________________________________________________________________________\n",
      "bidirectional_4 (Bidirectional) (None, 64)           16640       tf.concat_6[0][0]                \n",
      "__________________________________________________________________________________________________\n",
      "string_lookup_4 (StringLookup)  (None, 14)           0           issueType[0][0]                  \n",
      "__________________________________________________________________________________________________\n",
      "string_lookup_5 (StringLookup)  (None, 178)          0           subsystem[0][0]                  \n",
      "__________________________________________________________________________________________________\n",
      "tf.concat_7 (TFOpLambda)        (None, 320)          0           bidirectional_2[0][0]            \n",
      "                                                                 bidirectional_4[0][0]            \n",
      "                                                                 string_lookup_4[0][0]            \n",
      "                                                                 string_lookup_5[0][0]            \n",
      "__________________________________________________________________________________________________\n",
      "dense_5 (Dense)                 (None, 32)           10272       tf.concat_7[0][0]                \n",
      "__________________________________________________________________________________________________\n",
      "dropout_2 (Dropout)             (None, 32)           0           dense_5[0][0]                    \n",
      "__________________________________________________________________________________________________\n",
      "dense_6 (Dense)                 (None, 16)           528         dropout_2[0][0]                  \n",
      "__________________________________________________________________________________________________\n",
      "dropout_3 (Dropout)             (None, 16)           0           dense_6[0][0]                    \n",
      "__________________________________________________________________________________________________\n",
      "dense_7 (Dense)                 (None, 1)            17          dropout_3[0][0]                  \n",
      "==================================================================================================\n",
      "Total params: 43,051,969\n",
      "Trainable params: 43,051,969\n",
      "Non-trainable params: 0\n",
      "__________________________________________________________________________________________________\n"
     ]
    }
   ],
   "source": [
    "model.summary()"
   ],
   "metadata": {
    "collapsed": false,
    "pycharm": {
     "name": "#%%\n"
    }
   }
  },
  {
   "cell_type": "code",
   "execution_count": 261,
   "outputs": [],
   "source": [
    "#id_model.save('model/compiled_model', save_format=\"tf\")"
   ],
   "metadata": {
    "collapsed": false,
    "pycharm": {
     "name": "#%%\n"
    }
   }
  },
  {
   "cell_type": "code",
   "execution_count": 262,
   "outputs": [],
   "source": [
    "from sklearn.model_selection import train_test_split"
   ],
   "metadata": {
    "collapsed": false,
    "pycharm": {
     "name": "#%%\n"
    }
   }
  },
  {
   "cell_type": "code",
   "execution_count": 263,
   "outputs": [],
   "source": [
    "# Separate the test data\n",
    "x, x_test, y, y_test = train_test_split(inputs_train, inputs_expected, test_size=0.15, shuffle=True)"
   ],
   "metadata": {
    "collapsed": false,
    "pycharm": {
     "name": "#%%\n"
    }
   }
  },
  {
   "cell_type": "code",
   "execution_count": 264,
   "outputs": [],
   "source": [
    "# Split the remaining data to train and validation\n",
    "x_train, x_val, y_train, y_val = train_test_split(x, y, test_size=0.15, shuffle=True)"
   ],
   "metadata": {
    "collapsed": false,
    "pycharm": {
     "name": "#%%\n"
    }
   }
  },
  {
   "cell_type": "code",
   "execution_count": 267,
   "outputs": [],
   "source": [
    "callback = tf.keras.callbacks.EarlyStopping(monitor='val_loss', patience=1, verbose = 1)"
   ],
   "metadata": {
    "collapsed": false,
    "pycharm": {
     "name": "#%%\n"
    }
   }
  },
  {
   "cell_type": "code",
   "execution_count": 268,
   "outputs": [
    {
     "name": "stdout",
     "output_type": "stream",
     "text": [
      "Epoch 1/8\n",
      "4758/4758 - 392s - loss: 0.1944 - accuracy: 0.9555 - val_loss: 0.1683 - val_accuracy: 0.9539\n",
      "Epoch 2/8\n",
      "4758/4758 - 374s - loss: 0.1092 - accuracy: 0.9561 - val_loss: 0.3184 - val_accuracy: 0.9539\n",
      "Epoch 00002: early stopping\n"
     ]
    }
   ],
   "source": [
    "history = model.fit(x = dict(x_train), y = y_train, batch_size = 16,\n",
    "                    epochs=8,\n",
    "                    verbose=2,\n",
    "                    validation_data=(dict(x_val), y_val),\n",
    "                    callbacks = [callback])"
   ],
   "metadata": {
    "collapsed": false,
    "pycharm": {
     "name": "#%%\n"
    }
   }
  },
  {
   "cell_type": "markdown",
   "source": [],
   "metadata": {
    "collapsed": false
   }
  },
  {
   "cell_type": "code",
   "execution_count": 111,
   "outputs": [],
   "source": [
    "#mweights = model.get_weights()"
   ],
   "metadata": {
    "collapsed": false,
    "pycharm": {
     "name": "#%%\n"
    }
   }
  },
  {
   "cell_type": "code",
   "execution_count": 269,
   "outputs": [
    {
     "name": "stderr",
     "output_type": "stream",
     "text": [
      "WARNING:absl:Function `_wrapped_model` contains input name(s) BOTHRelates, OUTWARDDepend, INWARDDepend, OUTWARDDuplicate, INWARDDuplicate, OUTWARDSubtask, INWARDSubtask, OUTWARDFolllowed, INWARDFolllowed, BOTHSimilar, BOTHReuse, OUTWARDCause, INWARDCause, OUTWARDLeadsto, INWARDLeadsto, issueType with unsupported characters which will be renamed to bothrelates, outwarddepend, inwarddepend, outwardduplicate, inwardduplicate, outwardsubtask, inwardsubtask, outwardfolllowed, inwardfolllowed, bothsimilar, bothreuse, outwardcause, inwardcause, outwardleadsto, inwardleadsto, issuetype in the SavedModel.\n",
      "WARNING:absl:Found untraced functions such as lstm_cell_7_layer_call_and_return_conditional_losses, lstm_cell_7_layer_call_fn, lstm_cell_8_layer_call_and_return_conditional_losses, lstm_cell_8_layer_call_fn, lstm_cell_13_layer_call_and_return_conditional_losses while saving (showing 5 of 20). These functions will not be directly callable after loading.\n"
     ]
    },
    {
     "name": "stdout",
     "output_type": "stream",
     "text": [
      "INFO:tensorflow:Assets written to: model/final_model_better\\assets\n"
     ]
    },
    {
     "name": "stderr",
     "output_type": "stream",
     "text": [
      "INFO:tensorflow:Assets written to: model/final_model_better\\assets\n"
     ]
    }
   ],
   "source": [
    "model.save('model/final_model_better')"
   ],
   "metadata": {
    "collapsed": false,
    "pycharm": {
     "name": "#%%\n"
    }
   }
  },
  {
   "cell_type": "code",
   "execution_count": 270,
   "outputs": [
    {
     "name": "stdout",
     "output_type": "stream",
     "text": [
      "Model: \"model_1\"\n",
      "__________________________________________________________________________________________________\n",
      "Layer (type)                    Output Shape         Param #     Connected to                     \n",
      "==================================================================================================\n",
      "id (InputLayer)                 [(None, 1)]          0                                            \n",
      "__________________________________________________________________________________________________\n",
      "BOTHRelates (InputLayer)        [(None, 1)]          0                                            \n",
      "__________________________________________________________________________________________________\n",
      "OUTWARDDepend (InputLayer)      [(None, 1)]          0                                            \n",
      "__________________________________________________________________________________________________\n",
      "INWARDDepend (InputLayer)       [(None, 1)]          0                                            \n",
      "__________________________________________________________________________________________________\n",
      "OUTWARDDuplicate (InputLayer)   [(None, 1)]          0                                            \n",
      "__________________________________________________________________________________________________\n",
      "INWARDDuplicate (InputLayer)    [(None, 1)]          0                                            \n",
      "__________________________________________________________________________________________________\n",
      "OUTWARDSubtask (InputLayer)     [(None, 1)]          0                                            \n",
      "__________________________________________________________________________________________________\n",
      "INWARDSubtask (InputLayer)      [(None, 1)]          0                                            \n",
      "__________________________________________________________________________________________________\n",
      "OUTWARDFolllowed (InputLayer)   [(None, 1)]          0                                            \n",
      "__________________________________________________________________________________________________\n",
      "INWARDFolllowed (InputLayer)    [(None, 1)]          0                                            \n",
      "__________________________________________________________________________________________________\n",
      "BOTHSimilar (InputLayer)        [(None, 1)]          0                                            \n",
      "__________________________________________________________________________________________________\n",
      "BOTHReuse (InputLayer)          [(None, 1)]          0                                            \n",
      "__________________________________________________________________________________________________\n",
      "OUTWARDCause (InputLayer)       [(None, 1)]          0                                            \n",
      "__________________________________________________________________________________________________\n",
      "INWARDCause (InputLayer)        [(None, 1)]          0                                            \n",
      "__________________________________________________________________________________________________\n",
      "OUTWARDLeadsto (InputLayer)     [(None, 1)]          0                                            \n",
      "__________________________________________________________________________________________________\n",
      "INWARDLeadsto (InputLayer)      [(None, 1)]          0                                            \n",
      "__________________________________________________________________________________________________\n",
      "summary (InputLayer)            [(None, 1)]          0                                            \n",
      "__________________________________________________________________________________________________\n",
      "description (InputLayer)        [(None, 1)]          0                                            \n",
      "__________________________________________________________________________________________________\n",
      "text_vectorization (TextVectori (None, None)         0           id[0][0]                         \n",
      "                                                                 BOTHRelates[0][0]                \n",
      "                                                                 OUTWARDDepend[0][0]              \n",
      "                                                                 INWARDDepend[0][0]               \n",
      "                                                                 OUTWARDDuplicate[0][0]           \n",
      "                                                                 INWARDDuplicate[0][0]            \n",
      "                                                                 OUTWARDSubtask[0][0]             \n",
      "                                                                 INWARDSubtask[0][0]              \n",
      "                                                                 OUTWARDFolllowed[0][0]           \n",
      "                                                                 INWARDFolllowed[0][0]            \n",
      "                                                                 BOTHSimilar[0][0]                \n",
      "                                                                 BOTHReuse[0][0]                  \n",
      "                                                                 OUTWARDCause[0][0]               \n",
      "                                                                 INWARDCause[0][0]                \n",
      "                                                                 OUTWARDLeadsto[0][0]             \n",
      "                                                                 INWARDLeadsto[0][0]              \n",
      "__________________________________________________________________________________________________\n",
      "text_vectorization_1 (TextVecto (None, None)         0           summary[0][0]                    \n",
      "                                                                 description[0][0]                \n",
      "__________________________________________________________________________________________________\n",
      "embedding_18 (Embedding)        (None, None, 4)      506420      text_vectorization[17][0]        \n",
      "__________________________________________________________________________________________________\n",
      "embedding_19 (Embedding)        (None, None, 4)      506420      text_vectorization[18][0]        \n",
      "__________________________________________________________________________________________________\n",
      "embedding_20 (Embedding)        (None, None, 4)      506420      text_vectorization[19][0]        \n",
      "__________________________________________________________________________________________________\n",
      "embedding_21 (Embedding)        (None, None, 4)      506420      text_vectorization[20][0]        \n",
      "__________________________________________________________________________________________________\n",
      "embedding_22 (Embedding)        (None, None, 4)      506420      text_vectorization[21][0]        \n",
      "__________________________________________________________________________________________________\n",
      "embedding_23 (Embedding)        (None, None, 4)      506420      text_vectorization[22][0]        \n",
      "__________________________________________________________________________________________________\n",
      "embedding_24 (Embedding)        (None, None, 4)      506420      text_vectorization[23][0]        \n",
      "__________________________________________________________________________________________________\n",
      "embedding_25 (Embedding)        (None, None, 4)      506420      text_vectorization[24][0]        \n",
      "__________________________________________________________________________________________________\n",
      "embedding_26 (Embedding)        (None, None, 4)      506420      text_vectorization[25][0]        \n",
      "__________________________________________________________________________________________________\n",
      "embedding_27 (Embedding)        (None, None, 4)      506420      text_vectorization[26][0]        \n",
      "__________________________________________________________________________________________________\n",
      "embedding_28 (Embedding)        (None, None, 4)      506420      text_vectorization[27][0]        \n",
      "__________________________________________________________________________________________________\n",
      "embedding_29 (Embedding)        (None, None, 4)      506420      text_vectorization[28][0]        \n",
      "__________________________________________________________________________________________________\n",
      "embedding_30 (Embedding)        (None, None, 4)      506420      text_vectorization[29][0]        \n",
      "__________________________________________________________________________________________________\n",
      "embedding_31 (Embedding)        (None, None, 4)      506420      text_vectorization[30][0]        \n",
      "__________________________________________________________________________________________________\n",
      "embedding_32 (Embedding)        (None, None, 4)      506420      text_vectorization[31][0]        \n",
      "__________________________________________________________________________________________________\n",
      "embedding_33 (Embedding)        (None, None, 4)      506420      text_vectorization[32][0]        \n",
      "__________________________________________________________________________________________________\n",
      "embedding_34 (Embedding)        (None, None, 32)     17456160    text_vectorization_1[3][0]       \n",
      "__________________________________________________________________________________________________\n",
      "embedding_35 (Embedding)        (None, None, 32)     17456160    text_vectorization_1[4][0]       \n",
      "__________________________________________________________________________________________________\n",
      "tf.concat_3 (TFOpLambda)        (None, None, 4)      0           embedding_18[0][0]               \n",
      "                                                                 embedding_19[0][0]               \n",
      "                                                                 embedding_20[0][0]               \n",
      "                                                                 embedding_21[0][0]               \n",
      "                                                                 embedding_22[0][0]               \n",
      "                                                                 embedding_23[0][0]               \n",
      "                                                                 embedding_24[0][0]               \n",
      "                                                                 embedding_25[0][0]               \n",
      "                                                                 embedding_26[0][0]               \n",
      "                                                                 embedding_27[0][0]               \n",
      "                                                                 embedding_28[0][0]               \n",
      "                                                                 embedding_29[0][0]               \n",
      "                                                                 embedding_30[0][0]               \n",
      "                                                                 embedding_31[0][0]               \n",
      "                                                                 embedding_32[0][0]               \n",
      "                                                                 embedding_33[0][0]               \n",
      "__________________________________________________________________________________________________\n",
      "tf.concat_6 (TFOpLambda)        (None, None, 32)     0           embedding_34[0][0]               \n",
      "                                                                 embedding_35[0][0]               \n",
      "__________________________________________________________________________________________________\n",
      "issueType (InputLayer)          [(None, 1)]          0                                            \n",
      "__________________________________________________________________________________________________\n",
      "subsystem (InputLayer)          [(None, 1)]          0                                            \n",
      "__________________________________________________________________________________________________\n",
      "bidirectional_2 (Bidirectional) (None, 64)           9472        tf.concat_3[0][0]                \n",
      "__________________________________________________________________________________________________\n",
      "bidirectional_4 (Bidirectional) (None, 64)           16640       tf.concat_6[0][0]                \n",
      "__________________________________________________________________________________________________\n",
      "string_lookup_4 (StringLookup)  (None, 14)           0           issueType[0][0]                  \n",
      "__________________________________________________________________________________________________\n",
      "string_lookup_5 (StringLookup)  (None, 178)          0           subsystem[0][0]                  \n",
      "__________________________________________________________________________________________________\n",
      "tf.concat_7 (TFOpLambda)        (None, 320)          0           bidirectional_2[0][0]            \n",
      "                                                                 bidirectional_4[0][0]            \n",
      "                                                                 string_lookup_4[0][0]            \n",
      "                                                                 string_lookup_5[0][0]            \n",
      "__________________________________________________________________________________________________\n",
      "dense_5 (Dense)                 (None, 32)           10272       tf.concat_7[0][0]                \n",
      "__________________________________________________________________________________________________\n",
      "dropout_2 (Dropout)             (None, 32)           0           dense_5[0][0]                    \n",
      "__________________________________________________________________________________________________\n",
      "dense_6 (Dense)                 (None, 16)           528         dropout_2[0][0]                  \n",
      "__________________________________________________________________________________________________\n",
      "dropout_3 (Dropout)             (None, 16)           0           dense_6[0][0]                    \n",
      "__________________________________________________________________________________________________\n",
      "dense_7 (Dense)                 (None, 1)            17          dropout_3[0][0]                  \n",
      "==================================================================================================\n",
      "Total params: 43,051,969\n",
      "Trainable params: 43,051,969\n",
      "Non-trainable params: 0\n",
      "__________________________________________________________________________________________________\n"
     ]
    }
   ],
   "source": [
    "model.summary()"
   ],
   "metadata": {
    "collapsed": false,
    "pycharm": {
     "name": "#%%\n"
    }
   }
  },
  {
   "cell_type": "markdown",
   "metadata": {
    "id": "trNL9SnKPVxo",
    "pycharm": {
     "name": "#%% md\n"
    }
   },
   "source": [
    "## Использование на тестовой выборке"
   ]
  },
  {
   "cell_type": "code",
   "execution_count": 271,
   "metadata": {
    "colab": {
     "base_uri": "https://localhost:8080/",
     "height": 250
    },
    "id": "3V9rMFkUPVxo",
    "outputId": "02794362-630f-4bcf-e16e-fcb7f507462e",
    "pycharm": {
     "name": "#%%\n"
    }
   },
   "outputs": [
    {
     "data": {
      "text/plain": "           id                                            summary  \\\n0  25-2512303      WSL support for JVM development under Windows   \n1  25-2513780       Mozilla's Fluent (*.ftl) syntax highlighting   \n2  25-2515293  Quick definition (Ctrl+Shift+I) called on Lomb...   \n3  25-2514349  Checkboxes in search dialog not aligned to pix...   \n4  25-2514337  HTTP client: Response Handler is not called wh...   \n\n                                         description  \\\n0  As a Kotlin/Scala/Java developer on Windows I ...   \n1  What steps will reproduce the problem?\\n\\n1. O...   \n2  What steps will reproduce the issue?\\n1. Creat...   \n3  Ugly checkbox boundaries under windows 10 (per...   \n4  **Problem**\\n\\nI can't use [response handler s...   \n\n                                        reporter        created  \\\n0          {\"login\": \"joost.3\", \"$type\": \"User\"}  1569949612582   \n1  {\"login\": \"tobiaskybernium\", \"$type\": \"User\"}  1570088574970   \n2  {\"login\": \"Sergei_Tsypanov\", \"$type\": \"User\"}  1570190482389   \n3          {\"login\": \"gamalik\", \"$type\": \"User\"}  1570110634652   \n4         {\"login\": \"iwansoft\", \"$type\": \"User\"}  1570110085315   \n\n                                        customFields  \\\n0  [{\"value\": {\"name\": \"Feature\", \"$type\": \"EnumB...   \n1  [{\"value\": {\"name\": \"Feature\", \"$type\": \"EnumB...   \n2  [{\"value\": {\"name\": \"Bug\", \"$type\": \"EnumBundl...   \n3  [{\"value\": {\"name\": \"Cosmetics\", \"$type\": \"Enu...   \n4  [{\"value\": {\"name\": \"Usability Problem\", \"$typ...   \n\n                                               links  \n0  [{\"direction\": \"BOTH\", \"linkType\": {\"directed\"...  \n1  [{\"direction\": \"BOTH\", \"linkType\": {\"directed\"...  \n2  [{\"direction\": \"BOTH\", \"linkType\": {\"directed\"...  \n3  [{\"direction\": \"BOTH\", \"linkType\": {\"directed\"...  \n4  [{\"direction\": \"BOTH\", \"linkType\": {\"directed\"...  ",
      "text/html": "<div>\n<style scoped>\n    .dataframe tbody tr th:only-of-type {\n        vertical-align: middle;\n    }\n\n    .dataframe tbody tr th {\n        vertical-align: top;\n    }\n\n    .dataframe thead th {\n        text-align: right;\n    }\n</style>\n<table border=\"1\" class=\"dataframe\">\n  <thead>\n    <tr style=\"text-align: right;\">\n      <th></th>\n      <th>id</th>\n      <th>summary</th>\n      <th>description</th>\n      <th>reporter</th>\n      <th>created</th>\n      <th>customFields</th>\n      <th>links</th>\n    </tr>\n  </thead>\n  <tbody>\n    <tr>\n      <th>0</th>\n      <td>25-2512303</td>\n      <td>WSL support for JVM development under Windows</td>\n      <td>As a Kotlin/Scala/Java developer on Windows I ...</td>\n      <td>{\"login\": \"joost.3\", \"$type\": \"User\"}</td>\n      <td>1569949612582</td>\n      <td>[{\"value\": {\"name\": \"Feature\", \"$type\": \"EnumB...</td>\n      <td>[{\"direction\": \"BOTH\", \"linkType\": {\"directed\"...</td>\n    </tr>\n    <tr>\n      <th>1</th>\n      <td>25-2513780</td>\n      <td>Mozilla's Fluent (*.ftl) syntax highlighting</td>\n      <td>What steps will reproduce the problem?\\n\\n1. O...</td>\n      <td>{\"login\": \"tobiaskybernium\", \"$type\": \"User\"}</td>\n      <td>1570088574970</td>\n      <td>[{\"value\": {\"name\": \"Feature\", \"$type\": \"EnumB...</td>\n      <td>[{\"direction\": \"BOTH\", \"linkType\": {\"directed\"...</td>\n    </tr>\n    <tr>\n      <th>2</th>\n      <td>25-2515293</td>\n      <td>Quick definition (Ctrl+Shift+I) called on Lomb...</td>\n      <td>What steps will reproduce the issue?\\n1. Creat...</td>\n      <td>{\"login\": \"Sergei_Tsypanov\", \"$type\": \"User\"}</td>\n      <td>1570190482389</td>\n      <td>[{\"value\": {\"name\": \"Bug\", \"$type\": \"EnumBundl...</td>\n      <td>[{\"direction\": \"BOTH\", \"linkType\": {\"directed\"...</td>\n    </tr>\n    <tr>\n      <th>3</th>\n      <td>25-2514349</td>\n      <td>Checkboxes in search dialog not aligned to pix...</td>\n      <td>Ugly checkbox boundaries under windows 10 (per...</td>\n      <td>{\"login\": \"gamalik\", \"$type\": \"User\"}</td>\n      <td>1570110634652</td>\n      <td>[{\"value\": {\"name\": \"Cosmetics\", \"$type\": \"Enu...</td>\n      <td>[{\"direction\": \"BOTH\", \"linkType\": {\"directed\"...</td>\n    </tr>\n    <tr>\n      <th>4</th>\n      <td>25-2514337</td>\n      <td>HTTP client: Response Handler is not called wh...</td>\n      <td>**Problem**\\n\\nI can't use [response handler s...</td>\n      <td>{\"login\": \"iwansoft\", \"$type\": \"User\"}</td>\n      <td>1570110085315</td>\n      <td>[{\"value\": {\"name\": \"Usability Problem\", \"$typ...</td>\n      <td>[{\"direction\": \"BOTH\", \"linkType\": {\"directed\"...</td>\n    </tr>\n  </tbody>\n</table>\n</div>"
     },
     "execution_count": 271,
     "metadata": {},
     "output_type": "execute_result"
    }
   ],
   "source": [
    "test_df = pd.read_csv('data/test.csv')\n",
    "test_df.summary.fillna('', inplace=True)\n",
    "test_df.head()"
   ]
  },
  {
   "cell_type": "code",
   "execution_count": 272,
   "outputs": [],
   "source": [
    "test_df = test_df.drop(['reporter', 'created'], axis=1)"
   ],
   "metadata": {
    "collapsed": false,
    "pycharm": {
     "name": "#%%\n"
    }
   }
  },
  {
   "cell_type": "code",
   "execution_count": 273,
   "outputs": [],
   "source": [
    "cf_f_test = test_df['customFields'].apply(json.loads).to_frame(name='customFields')\n",
    "converted_cf_f_test = cf_f_test.apply(lambda cf: convert_custom_fields(cf), axis='columns', result_type='expand')"
   ],
   "metadata": {
    "collapsed": false,
    "pycharm": {
     "name": "#%%\n"
    }
   }
  },
  {
   "cell_type": "code",
   "execution_count": 274,
   "outputs": [],
   "source": [
    "test_df.drop('customFields', axis=1, inplace=True)\n",
    "test_df = pd.concat([test_df, converted_cf_f_test], axis=1)"
   ],
   "metadata": {
    "collapsed": false,
    "pycharm": {
     "name": "#%%\n"
    }
   }
  },
  {
   "cell_type": "code",
   "execution_count": 275,
   "outputs": [],
   "source": [
    "links_f_test = test_df['links'].apply(json.loads).to_frame(name='links')\n",
    "converted_links_f_test = links_f_test.apply(lambda l: convert_links_field(l), axis='columns', result_type='expand')"
   ],
   "metadata": {
    "collapsed": false,
    "pycharm": {
     "name": "#%%\n"
    }
   }
  },
  {
   "cell_type": "code",
   "execution_count": 276,
   "outputs": [],
   "source": [
    "test_df.drop('links', axis=1, inplace=True)\n",
    "test_df = pd.concat([test_df, converted_links_f_test], axis=1)"
   ],
   "metadata": {
    "collapsed": false,
    "pycharm": {
     "name": "#%%\n"
    }
   }
  },
  {
   "cell_type": "code",
   "execution_count": 277,
   "outputs": [],
   "source": [
    "test_df['description'].fillna(\"\", inplace=True)\n",
    "test_df['summary'].fillna(\"\", inplace=True)"
   ],
   "metadata": {
    "collapsed": false,
    "pycharm": {
     "name": "#%%\n"
    }
   }
  },
  {
   "cell_type": "code",
   "execution_count": 278,
   "outputs": [],
   "source": [
    "test_df = test_df[[\n",
    "            \"id\",\n",
    "            \"BOTHRelates\",\n",
    "            \"OUTWARDDepend\",\n",
    "            \"INWARDDepend\",\n",
    "            \"OUTWARDDuplicate\",\n",
    "            \"INWARDDuplicate\",\n",
    "            \"OUTWARDSubtask\",\n",
    "            \"INWARDSubtask\",\n",
    "            \"OUTWARDFolllowed\",\n",
    "            \"INWARDFolllowed\",\n",
    "            \"BOTHSimilar\",\n",
    "            \"BOTHReuse\",\n",
    "            \"OUTWARDCause\",\n",
    "            \"INWARDCause\",\n",
    "            \"OUTWARDLeadsto\",\n",
    "            \"INWARDLeadsto\",\n",
    "            \"summary\",\n",
    "            \"description\",\n",
    "            \"issueType\",\n",
    "            \"subsystem\"]]"
   ],
   "metadata": {
    "collapsed": false,
    "pycharm": {
     "name": "#%%\n"
    }
   }
  },
  {
   "cell_type": "code",
   "execution_count": 279,
   "outputs": [
    {
     "name": "stdout",
     "output_type": "stream",
     "text": [
      "<class 'pandas.core.frame.DataFrame'>\n",
      "RangeIndex: 18529 entries, 0 to 18528\n",
      "Data columns (total 20 columns):\n",
      " #   Column            Non-Null Count  Dtype \n",
      "---  ------            --------------  ----- \n",
      " 0   id                18529 non-null  object\n",
      " 1   BOTHRelates       18529 non-null  object\n",
      " 2   OUTWARDDepend     18529 non-null  object\n",
      " 3   INWARDDepend      18529 non-null  object\n",
      " 4   OUTWARDDuplicate  18529 non-null  object\n",
      " 5   INWARDDuplicate   18529 non-null  object\n",
      " 6   OUTWARDSubtask    18529 non-null  object\n",
      " 7   INWARDSubtask     18529 non-null  object\n",
      " 8   OUTWARDFolllowed  18529 non-null  object\n",
      " 9   INWARDFolllowed   18529 non-null  object\n",
      " 10  BOTHSimilar       18529 non-null  object\n",
      " 11  BOTHReuse         18529 non-null  object\n",
      " 12  OUTWARDCause      18529 non-null  object\n",
      " 13  INWARDCause       18529 non-null  object\n",
      " 14  OUTWARDLeadsto    18529 non-null  object\n",
      " 15  INWARDLeadsto     18529 non-null  object\n",
      " 16  summary           18529 non-null  object\n",
      " 17  description       18529 non-null  object\n",
      " 18  issueType         18529 non-null  object\n",
      " 19  subsystem         18529 non-null  object\n",
      "dtypes: object(20)\n",
      "memory usage: 2.8+ MB\n"
     ]
    }
   ],
   "source": [
    "test_df.info()"
   ],
   "metadata": {
    "collapsed": false,
    "pycharm": {
     "name": "#%%\n"
    }
   }
  },
  {
   "cell_type": "code",
   "execution_count": 280,
   "outputs": [
    {
     "data": {
      "text/plain": "               id                                        BOTHRelates  \\\n0      25-2512303  25-2719410 25-2751307 25-2858706 25-3108818 25...   \n1      25-2513780                                                      \n2      25-2515293                                                      \n3      25-2514349                                                      \n4      25-2514337                                                      \n...           ...                                                ...   \n18524  25-3224524                                                      \n18525  25-3224569                                                      \n18526  25-3224564                                                      \n18527  25-3224549                                                      \n18528  25-3224582                                                      \n\n      OUTWARDDepend INWARDDepend OUTWARDDuplicate INWARDDuplicate  \\\n0                                                                   \n1                                                                   \n2                                                                   \n3                                                                   \n4                                                                   \n...             ...          ...              ...             ...   \n18524                                                  25-2439065   \n18525                                                  25-2967377   \n18526                                                  25-2897994   \n18527                                                               \n18528                                                               \n\n      OUTWARDSubtask INWARDSubtask OUTWARDFolllowed INWARDFolllowed  \\\n0                                                                     \n1                                                                     \n2                                                                     \n3                                                                     \n4                                                                     \n...              ...           ...              ...             ...   \n18524                                                                 \n18525                                                                 \n18526                                                                 \n18527                                                                 \n18528                                                                 \n\n      BOTHSimilar BOTHReuse OUTWARDCause INWARDCause OUTWARDLeadsto  \\\n0                                                                     \n1                                                                     \n2                                                                     \n3                                                                     \n4                                                                     \n...           ...       ...          ...         ...            ...   \n18524                                                                 \n18525                                                                 \n18526                                                                 \n18527                                                                 \n18528                                                                 \n\n      INWARDLeadsto                                            summary  \\\n0                        WSL support for JVM development under Windows   \n1                         Mozilla's Fluent (*.ftl) syntax highlighting   \n2                    Quick definition (Ctrl+Shift+I) called on Lomb...   \n3                    Checkboxes in search dialog not aligned to pix...   \n4                    HTTP client: Response Handler is not called wh...   \n...             ...                                                ...   \n18524                Incorrect Error Message Text Decoding of Java ...   \n18525                     Code Style: Spacing for code braces not work   \n18526                Diglog is hided by the taskbar when taskbar is...   \n18527                Debugger shall use \"MethodParameters\" attribut...   \n18528                InteliJIdea Ultimate Keyboard shortcuts not wo...   \n\n                                             description  \\\n0      As a Kotlin/Scala/Java developer on Windows I ...   \n1      What steps will reproduce the problem?\\n\\n1. O...   \n2      What steps will reproduce the issue?\\n1. Creat...   \n3      Ugly checkbox boundaries under windows 10 (per...   \n4      **Problem**\\n\\nI can't use [response handler s...   \n...                                                  ...   \n18524  Intellij uses incorrect text encoding for disp...   \n18525  **What steps will reproduce the issue?**\\n\\n1....   \n18526  Intellij IDEA 2020.3.3 \\nwindows 10\\n\\n**What ...   \n18527  If there is neither `LocalVariableTable` nor `...   \n18528  While working out of a sudden, none of the key...   \n\n                   issueType           subsystem  \n0                    Feature                      \n1                    Feature          Frameworks  \n2                        Bug  Frameworks. Lombok  \n3                  Cosmetics              Editor  \n4          Usability Problem  Tools. HTTP Client  \n...                      ...                 ...  \n18524  Configuration Problem                      \n18525                    Bug                      \n18526                    Bug                      \n18527                    Bug      Java. Debugger  \n18528                    Bug                      \n\n[18529 rows x 20 columns]",
      "text/html": "<div>\n<style scoped>\n    .dataframe tbody tr th:only-of-type {\n        vertical-align: middle;\n    }\n\n    .dataframe tbody tr th {\n        vertical-align: top;\n    }\n\n    .dataframe thead th {\n        text-align: right;\n    }\n</style>\n<table border=\"1\" class=\"dataframe\">\n  <thead>\n    <tr style=\"text-align: right;\">\n      <th></th>\n      <th>id</th>\n      <th>BOTHRelates</th>\n      <th>OUTWARDDepend</th>\n      <th>INWARDDepend</th>\n      <th>OUTWARDDuplicate</th>\n      <th>INWARDDuplicate</th>\n      <th>OUTWARDSubtask</th>\n      <th>INWARDSubtask</th>\n      <th>OUTWARDFolllowed</th>\n      <th>INWARDFolllowed</th>\n      <th>BOTHSimilar</th>\n      <th>BOTHReuse</th>\n      <th>OUTWARDCause</th>\n      <th>INWARDCause</th>\n      <th>OUTWARDLeadsto</th>\n      <th>INWARDLeadsto</th>\n      <th>summary</th>\n      <th>description</th>\n      <th>issueType</th>\n      <th>subsystem</th>\n    </tr>\n  </thead>\n  <tbody>\n    <tr>\n      <th>0</th>\n      <td>25-2512303</td>\n      <td>25-2719410 25-2751307 25-2858706 25-3108818 25...</td>\n      <td></td>\n      <td></td>\n      <td></td>\n      <td></td>\n      <td></td>\n      <td></td>\n      <td></td>\n      <td></td>\n      <td></td>\n      <td></td>\n      <td></td>\n      <td></td>\n      <td></td>\n      <td></td>\n      <td>WSL support for JVM development under Windows</td>\n      <td>As a Kotlin/Scala/Java developer on Windows I ...</td>\n      <td>Feature</td>\n      <td></td>\n    </tr>\n    <tr>\n      <th>1</th>\n      <td>25-2513780</td>\n      <td></td>\n      <td></td>\n      <td></td>\n      <td></td>\n      <td></td>\n      <td></td>\n      <td></td>\n      <td></td>\n      <td></td>\n      <td></td>\n      <td></td>\n      <td></td>\n      <td></td>\n      <td></td>\n      <td></td>\n      <td>Mozilla's Fluent (*.ftl) syntax highlighting</td>\n      <td>What steps will reproduce the problem?\\n\\n1. O...</td>\n      <td>Feature</td>\n      <td>Frameworks</td>\n    </tr>\n    <tr>\n      <th>2</th>\n      <td>25-2515293</td>\n      <td></td>\n      <td></td>\n      <td></td>\n      <td></td>\n      <td></td>\n      <td></td>\n      <td></td>\n      <td></td>\n      <td></td>\n      <td></td>\n      <td></td>\n      <td></td>\n      <td></td>\n      <td></td>\n      <td></td>\n      <td>Quick definition (Ctrl+Shift+I) called on Lomb...</td>\n      <td>What steps will reproduce the issue?\\n1. Creat...</td>\n      <td>Bug</td>\n      <td>Frameworks. Lombok</td>\n    </tr>\n    <tr>\n      <th>3</th>\n      <td>25-2514349</td>\n      <td></td>\n      <td></td>\n      <td></td>\n      <td></td>\n      <td></td>\n      <td></td>\n      <td></td>\n      <td></td>\n      <td></td>\n      <td></td>\n      <td></td>\n      <td></td>\n      <td></td>\n      <td></td>\n      <td></td>\n      <td>Checkboxes in search dialog not aligned to pix...</td>\n      <td>Ugly checkbox boundaries under windows 10 (per...</td>\n      <td>Cosmetics</td>\n      <td>Editor</td>\n    </tr>\n    <tr>\n      <th>4</th>\n      <td>25-2514337</td>\n      <td></td>\n      <td></td>\n      <td></td>\n      <td></td>\n      <td></td>\n      <td></td>\n      <td></td>\n      <td></td>\n      <td></td>\n      <td></td>\n      <td></td>\n      <td></td>\n      <td></td>\n      <td></td>\n      <td></td>\n      <td>HTTP client: Response Handler is not called wh...</td>\n      <td>**Problem**\\n\\nI can't use [response handler s...</td>\n      <td>Usability Problem</td>\n      <td>Tools. HTTP Client</td>\n    </tr>\n    <tr>\n      <th>...</th>\n      <td>...</td>\n      <td>...</td>\n      <td>...</td>\n      <td>...</td>\n      <td>...</td>\n      <td>...</td>\n      <td>...</td>\n      <td>...</td>\n      <td>...</td>\n      <td>...</td>\n      <td>...</td>\n      <td>...</td>\n      <td>...</td>\n      <td>...</td>\n      <td>...</td>\n      <td>...</td>\n      <td>...</td>\n      <td>...</td>\n      <td>...</td>\n      <td>...</td>\n    </tr>\n    <tr>\n      <th>18524</th>\n      <td>25-3224524</td>\n      <td></td>\n      <td></td>\n      <td></td>\n      <td></td>\n      <td>25-2439065</td>\n      <td></td>\n      <td></td>\n      <td></td>\n      <td></td>\n      <td></td>\n      <td></td>\n      <td></td>\n      <td></td>\n      <td></td>\n      <td></td>\n      <td>Incorrect Error Message Text Decoding of Java ...</td>\n      <td>Intellij uses incorrect text encoding for disp...</td>\n      <td>Configuration Problem</td>\n      <td></td>\n    </tr>\n    <tr>\n      <th>18525</th>\n      <td>25-3224569</td>\n      <td></td>\n      <td></td>\n      <td></td>\n      <td></td>\n      <td>25-2967377</td>\n      <td></td>\n      <td></td>\n      <td></td>\n      <td></td>\n      <td></td>\n      <td></td>\n      <td></td>\n      <td></td>\n      <td></td>\n      <td></td>\n      <td>Code Style: Spacing for code braces not work</td>\n      <td>**What steps will reproduce the issue?**\\n\\n1....</td>\n      <td>Bug</td>\n      <td></td>\n    </tr>\n    <tr>\n      <th>18526</th>\n      <td>25-3224564</td>\n      <td></td>\n      <td></td>\n      <td></td>\n      <td></td>\n      <td>25-2897994</td>\n      <td></td>\n      <td></td>\n      <td></td>\n      <td></td>\n      <td></td>\n      <td></td>\n      <td></td>\n      <td></td>\n      <td></td>\n      <td></td>\n      <td>Diglog is hided by the taskbar when taskbar is...</td>\n      <td>Intellij IDEA 2020.3.3 \\nwindows 10\\n\\n**What ...</td>\n      <td>Bug</td>\n      <td></td>\n    </tr>\n    <tr>\n      <th>18527</th>\n      <td>25-3224549</td>\n      <td></td>\n      <td></td>\n      <td></td>\n      <td></td>\n      <td></td>\n      <td></td>\n      <td></td>\n      <td></td>\n      <td></td>\n      <td></td>\n      <td></td>\n      <td></td>\n      <td></td>\n      <td></td>\n      <td></td>\n      <td>Debugger shall use \"MethodParameters\" attribut...</td>\n      <td>If there is neither `LocalVariableTable` nor `...</td>\n      <td>Bug</td>\n      <td>Java. Debugger</td>\n    </tr>\n    <tr>\n      <th>18528</th>\n      <td>25-3224582</td>\n      <td></td>\n      <td></td>\n      <td></td>\n      <td></td>\n      <td></td>\n      <td></td>\n      <td></td>\n      <td></td>\n      <td></td>\n      <td></td>\n      <td></td>\n      <td></td>\n      <td></td>\n      <td></td>\n      <td></td>\n      <td>InteliJIdea Ultimate Keyboard shortcuts not wo...</td>\n      <td>While working out of a sudden, none of the key...</td>\n      <td>Bug</td>\n      <td></td>\n    </tr>\n  </tbody>\n</table>\n<p>18529 rows × 20 columns</p>\n</div>"
     },
     "execution_count": 280,
     "metadata": {},
     "output_type": "execute_result"
    }
   ],
   "source": [
    "test_df"
   ],
   "metadata": {
    "collapsed": false,
    "pycharm": {
     "name": "#%%\n"
    }
   }
  },
  {
   "cell_type": "code",
   "execution_count": null,
   "outputs": [],
   "source": [
    "predictions = {}"
   ],
   "metadata": {
    "collapsed": false,
    "pycharm": {
     "name": "#%%\n"
    }
   }
  },
  {
   "cell_type": "code",
   "execution_count": 142,
   "outputs": [],
   "source": [
    "test_df_len = len(test_df.index)"
   ],
   "metadata": {
    "collapsed": false,
    "pycharm": {
     "name": "#%%\n"
    }
   }
  },
  {
   "cell_type": "code",
   "execution_count": 150,
   "outputs": [
    {
     "data": {
      "text/plain": "{'id': 0     25-2512303\n 1     25-2513780\n 2     25-2515293\n 3     25-2514349\n 4     25-2514337\n 5     25-2512992\n 6     25-2514081\n 7     25-2513668\n 8     25-2511510\n 9     25-2509902\n 10    25-2514553\n Name: id, dtype: object,\n 'BOTHRelates': 0     25-2719410 25-2751307 25-2858706 25-3108818 25...\n 1                                                      \n 2                                                      \n 3                                                      \n 4                                                      \n 5                                                      \n 6                      25-2747806 25-3153783 25-2241811\n 7                                            25-2346435\n 8                                                      \n 9                                                      \n 10                                                     \n Name: BOTHRelates, dtype: object,\n 'OUTWARDDepend': 0     \n 1     \n 2     \n 3     \n 4     \n 5     \n 6     \n 7     \n 8     \n 9     \n 10    \n Name: OUTWARDDepend, dtype: object,\n 'INWARDDepend': 0     \n 1     \n 2     \n 3     \n 4     \n 5     \n 6     \n 7     \n 8     \n 9     \n 10    \n Name: INWARDDepend, dtype: object,\n 'OUTWARDDuplicate': 0     \n 1     \n 2     \n 3     \n 4     \n 5     \n 6     \n 7     \n 8     \n 9     \n 10    \n Name: OUTWARDDuplicate, dtype: object,\n 'INWARDDuplicate': 0               \n 1               \n 2               \n 3               \n 4               \n 5     25-1486683\n 6               \n 7               \n 8               \n 9      25-394159\n 10    25-1447193\n Name: INWARDDuplicate, dtype: object,\n 'OUTWARDSubtask': 0     \n 1     \n 2     \n 3     \n 4     \n 5     \n 6     \n 7     \n 8     \n 9     \n 10    \n Name: OUTWARDSubtask, dtype: object,\n 'INWARDSubtask': 0     \n 1     \n 2     \n 3     \n 4     \n 5     \n 6     \n 7     \n 8     \n 9     \n 10    \n Name: INWARDSubtask, dtype: object,\n 'OUTWARDFolllowed': 0     \n 1     \n 2     \n 3     \n 4     \n 5     \n 6     \n 7     \n 8     \n 9     \n 10    \n Name: OUTWARDFolllowed, dtype: object,\n 'INWARDFolllowed': 0     \n 1     \n 2     \n 3     \n 4     \n 5     \n 6     \n 7     \n 8     \n 9     \n 10    \n Name: INWARDFolllowed, dtype: object,\n 'BOTHSimilar': 0     \n 1     \n 2     \n 3     \n 4     \n 5     \n 6     \n 7     \n 8     \n 9     \n 10    \n Name: BOTHSimilar, dtype: object,\n 'BOTHReuse': 0     \n 1     \n 2     \n 3     \n 4     \n 5     \n 6     \n 7     \n 8     \n 9     \n 10    \n Name: BOTHReuse, dtype: object,\n 'OUTWARDCause': 0     \n 1     \n 2     \n 3     \n 4     \n 5     \n 6     \n 7     \n 8     \n 9     \n 10    \n Name: OUTWARDCause, dtype: object,\n 'INWARDCause': 0     \n 1     \n 2     \n 3     \n 4     \n 5     \n 6     \n 7     \n 8     \n 9     \n 10    \n Name: INWARDCause, dtype: object,\n 'OUTWARDLeadsto': 0     \n 1     \n 2     \n 3     \n 4     \n 5     \n 6     \n 7     \n 8     \n 9     \n 10    \n Name: OUTWARDLeadsto, dtype: object,\n 'INWARDLeadsto': 0     \n 1     \n 2     \n 3     \n 4     \n 5     \n 6     \n 7     \n 8     \n 9     \n 10    \n Name: INWARDLeadsto, dtype: object,\n 'summary': 0         WSL support for JVM development under Windows\n 1          Mozilla's Fluent (*.ftl) syntax highlighting\n 2     Quick definition (Ctrl+Shift+I) called on Lomb...\n 3     Checkboxes in search dialog not aligned to pix...\n 4     HTTP client: Response Handler is not called wh...\n 5     Find in path window doesn't act has expected w...\n 6     \"Externally added files can be added to Git\" n...\n 7     Exiting Diff Viewer with a non-file-backed pan...\n 8     JUnit5 test runner - console output lines are ...\n 9     Provide new default keymap for macOS to accoun...\n 10    Feature Suggestion: Multiple tab presses to se...\n Name: summary, dtype: object,\n 'description': 0     As a Kotlin/Scala/Java developer on Windows I ...\n 1     What steps will reproduce the problem?\\n\\n1. O...\n 2     What steps will reproduce the issue?\\n1. Creat...\n 3     Ugly checkbox boundaries under windows 10 (per...\n 4     **Problem**\\n\\nI can't use [response handler s...\n 5     What steps will reproduce the problem?\\n1. Ope...\n 6     The notification just stays there and nothing ...\n 7     What steps will reproduce the issue?\\n1. Open ...\n 8     When I run JUnit5 test, the lines in console o...\n 9     It's been years since Apple has \"deprecated\" f...\n 10    Instead of using arrow keys to select an autoc...\n Name: description, dtype: object,\n 'issueType': 0               Feature\n 1               Feature\n 2                   Bug\n 3             Cosmetics\n 4     Usability Problem\n 5     Usability Problem\n 6                   Bug\n 7     Usability Problem\n 8                   Bug\n 9     Usability Problem\n 10              Feature\n Name: issueType, dtype: object,\n 'subsystem': 0                                   \n 1                         Frameworks\n 2                 Frameworks. Lombok\n 3                             Editor\n 4                 Tools. HTTP Client\n 5              User Interface. Focus\n 6               Version Control. Git\n 7             Editor. Diff and Merge\n 8                 Java. Tests. JUnit\n 9     User Interface. Keyboard Input\n 10           Editor. Code Completion\n Name: subsystem, dtype: object}"
     },
     "execution_count": 150,
     "metadata": {},
     "output_type": "execute_result"
    }
   ],
   "source": [
    "hd = dict(test_df[0:11])\n",
    "hd"
   ],
   "metadata": {
    "collapsed": false,
    "pycharm": {
     "name": "#%%\n"
    }
   }
  },
  {
   "cell_type": "code",
   "execution_count": 281,
   "outputs": [],
   "source": [
    "result = []\n",
    "ix = 0\n",
    "while ix < test_df_len:\n",
    "    slice = test_df[ix:ix+10]\n",
    "\n",
    "    predict_slice = dict(slice)\n",
    "    res = model.predict(predict_slice)\n",
    "\n",
    "    res_list = [y for x in np.ndarray.tolist(res) for y in x]\n",
    "\n",
    "    data_slice = slice['id']\n",
    "\n",
    "    zipped = list(zip(data_slice,res_list))\n",
    "\n",
    "    result.extend(zipped)\n",
    "\n",
    "    ix = ix + 10"
   ],
   "metadata": {
    "collapsed": false,
    "pycharm": {
     "name": "#%%\n"
    }
   }
  },
  {
   "cell_type": "code",
   "execution_count": 282,
   "outputs": [
    {
     "data": {
      "text/plain": "[('25-2512303', 0.00047771286335773766),\n ('25-2513780', 0.0013389188097789884),\n ('25-2515293', 0.00012349039025139064),\n ('25-2514349', 0.0003370249178260565),\n ('25-2514337', 0.00044418490142561495),\n ('25-2512992', 0.003360573435202241),\n ('25-2514081', 0.4444179832935333),\n ('25-2513668', 0.4076318144798279),\n ('25-2511510', 0.0022530185524374247),\n ('25-2509902', 0.0015591594856232405),\n ('25-2514553', 6.5114043536596e-05),\n ('25-2511118', 0.3565573990345001),\n ('25-2514074', 0.0010145718697458506),\n ('25-2510991', 0.0009564902866259217),\n ('25-2514825', 0.005070971325039864),\n ('25-2511622', 0.0012666693655773997),\n ('25-2514695', 0.4318679869174957),\n ('25-2511429', 0.0018309573642909527),\n ('25-2513557', 0.2603486478328705),\n ('25-2513716', 0.2708859145641327),\n ('25-2512351', 0.0012987488880753517),\n ('25-2513705', 0.42533421516418457),\n ('25-2513221', 0.0035737918224185705),\n ('25-2513733', 0.006031944416463375),\n ('25-2513729', 0.0008440706878900528),\n ('25-2513737', 0.003309377934783697),\n ('25-2514175', 0.00039860521792434156),\n ('25-2515375', 0.008090962655842304),\n ('25-2514755', 0.0020816419273614883),\n ('25-2516197', 0.07196412980556488),\n ('25-2513713', 0.14808617532253265),\n ('25-2515665', 0.0009489317890256643),\n ('25-2511599', 0.0003829501220025122),\n ('25-2511902', 0.15070149302482605),\n ('25-2516122', 0.3009756803512573),\n ('25-2515282', 0.38207778334617615),\n ('25-2511399', 0.21036383509635925),\n ('25-2510150', 0.007611921988427639),\n ('25-2513627', 0.003010269021615386),\n ('25-2514921', 0.0006358720711432397),\n ('25-2513709', 0.3729041814804077),\n ('25-2513707', 0.00011160667781950906),\n ('25-2513723', 0.0008356259786523879),\n ('25-2510712', 0.4279480278491974),\n ('25-2510105', 0.005235631950199604),\n ('25-2513481', 0.0024662648793309927),\n ('25-2514820', 0.0011227609356865287),\n ('25-2514429', 0.002354739001020789),\n ('25-2511192', 0.0001740598672768101),\n ('25-2514059', 8.42627850943245e-05),\n ('25-2515123', 0.15977652370929718),\n ('25-2516366', 0.02646566554903984),\n ('25-2516516', 0.15258431434631348),\n ('25-2513735', 0.013111894950270653),\n ('25-2511692', 0.005736900959163904),\n ('25-2510135', 0.04399745538830757),\n ('25-2513859', 0.009270627982914448),\n ('25-2513955', 0.0032844063825905323),\n ('25-2514837', 0.2529497742652893),\n ('25-2511572', 0.018665440380573273),\n ('25-2512916', 0.0024459753185510635),\n ('25-2516264', 0.006402486469596624),\n ('25-2509966', 0.00026665476616472006),\n ('25-2516657', 0.002307544695213437),\n ('25-2510025', 0.002139081247150898),\n ('25-2510163', 0.20122705399990082),\n ('25-2515428', 0.002021279651671648),\n ('25-2513981', 0.0025349196512252092),\n ('25-2514671', 0.0038752274122089148),\n ('25-2510337', 0.00014835728507023305),\n ('25-2515484', 0.019248908385634422),\n ('25-2513623', 0.020193370059132576),\n ('25-2512785', 0.12931060791015625),\n ('25-2513158', 0.10885000228881836),\n ('25-2511034', 0.053077735006809235),\n ('25-2511154', 0.05417170375585556),\n ('25-2511332', 0.01861071027815342),\n ('25-2510641', 0.025254197418689728),\n ('25-2516522', 0.00859732087701559),\n ('25-2512954', 0.016804451122879982),\n ('25-2513967', 0.023261142894625664),\n ('25-2512072', 0.1047353446483612),\n ('25-2513776', 0.011205032467842102),\n ('25-2513613', 0.03101564757525921),\n ('25-2516159', 0.025871986523270607),\n ('25-2511593', 0.031212780624628067),\n ('25-2515152', 0.008954167366027832),\n ('25-2514915', 0.004751682747155428),\n ('25-2515808', 0.07115405052900314),\n ('25-2516298', 0.03143312782049179),\n ('25-2514817', 5.000414603273384e-05),\n ('25-2510748', 0.00034495361614972353),\n ('25-2515602', 0.023275122046470642),\n ('25-2512051', 0.002622858854010701),\n ('25-2516494', 0.009581406600773335),\n ('25-2516380', 0.0049451785162091255),\n ('25-2513666', 0.0002910485491156578),\n ('25-2515068', 0.1795537769794464),\n ('25-2516433', 0.0006325428257696331),\n ('25-2513531', 0.0023961197584867477),\n ('25-2515417', 0.003990871366113424),\n ('25-2516425', 0.0015279097715392709),\n ('25-2510952', 0.001472414587624371),\n ('25-2513102', 0.006940310820937157),\n ('25-2509896', 0.0008173523820005357),\n ('25-2512648', 0.00028327989275567234),\n ('25-2515955', 0.00018745822308119386),\n ('25-2513602', 0.0022232949268072844),\n ('25-2516474', 5.1176426495658234e-05),\n ('25-2512104', 0.4444179832935333),\n ('25-2512485', 0.13621696829795837),\n ('25-2515910', 0.003907546866685152),\n ('25-2516152', 0.002200766233727336),\n ('25-2516532', 0.025868326425552368),\n ('25-2514639', 0.07784038782119751),\n ('25-2513354', 0.014237221330404282),\n ('25-2513549', 0.023267854005098343),\n ('25-2516526', 0.025490857660770416),\n ('25-2515228', 0.026319609954953194),\n ('25-2514673', 0.0035194074735045433),\n ('25-2514373', 0.009099205955862999),\n ('25-2514631', 0.01299030240625143),\n ('25-2516289', 0.05931057780981064),\n ('25-2511202', 0.020436417311429977),\n ('25-2516497', 0.07960435003042221),\n ('25-2514916', 0.0019341588485985994),\n ('25-2516483', 0.019331278279423714),\n ('25-2516222', 0.04625162109732628),\n ('25-2514086', 0.12909217178821564),\n ('25-2516030', 0.03536026179790497),\n ('25-2516552', 0.11520220339298248),\n ('25-2516424', 0.009712709113955498),\n ('25-2516304', 0.12479443103075027),\n ('25-2516104', 0.025020042434334755),\n ('25-2509968', 0.04092920571565628),\n ('25-2516268', 0.040590550750494),\n ('25-2510878', 0.012116207741200924),\n ('25-2512224', 0.022199923172593117),\n ('25-2515332', 0.01300694141536951),\n ('25-2514642', 0.08183012157678604),\n ('25-2515950', 0.12064339965581894),\n ('25-2513909', 0.04563717171549797),\n ('25-2515007', 0.015055995434522629),\n ('25-2515304', 0.14346176385879517),\n ('25-2514225', 0.028500845655798912),\n ('25-2514953', 0.01703927107155323),\n ('25-2514455', 0.03191469609737396),\n ('25-2514647', 0.08768678456544876),\n ('25-2513703', 0.07895613461732864),\n ('25-2514811', 0.21534857153892517),\n ('25-2514826', 0.005844539497047663),\n ('25-2514716', 0.028838064521551132),\n ('25-2514759', 0.005778344813734293),\n ('25-2511077', 0.011143787764012814),\n ('25-2512691', 0.004361557774245739),\n ('25-2512484', 0.04437613487243652),\n ('25-2512192', 0.0009566716034896672),\n ('25-2514676', 0.012834419496357441),\n ('25-2514461', 0.021479398012161255),\n ('25-2513661', 0.006486926693469286),\n ('25-2512604', 0.02443518117070198),\n ('25-2511256', 0.009305457584559917),\n ('25-2513637', 0.0054131909273564816),\n ('25-2512607', 0.07419680804014206),\n ('25-2513345', 0.004007856361567974),\n ('25-2513782', 0.00763344531878829),\n ('25-2513542', 0.0033169486559927464),\n ('25-2513359', 0.10797008872032166),\n ('25-2513524', 0.25245988368988037),\n ('25-2510376', 0.012195471674203873),\n ('25-2513347', 0.005099559668451548),\n ('25-2513087', 0.007612163200974464),\n ('25-2512196', 0.1810137927532196),\n ('25-2513103', 0.006878286600112915),\n ('25-2513285', 0.09833796322345734),\n ('25-2511107', 0.3778773546218872),\n ('25-2511673', 0.10373527556657791),\n ('25-2512886', 0.015182623639702797),\n ('25-2512698', 0.029666481539607048),\n ('25-2511082', 0.057133909314870834),\n ('25-2512684', 0.002466138219460845),\n ('25-2511619', 0.19004862010478973),\n ('25-2511923', 0.14703337848186493),\n ('25-2512639', 0.003388067940250039),\n ('25-2512849', 0.36149346828460693),\n ('25-2512853', 0.01819220557808876),\n ('25-2510455', 0.00043096771696582437),\n ('25-2512387', 0.0017119795083999634),\n ('25-2512039', 0.067781962454319),\n ('25-2511852', 0.36257708072662354),\n ('25-2512374', 0.026183435693383217),\n ('25-2512329', 0.013856368139386177),\n ('25-2509941', 0.14997045695781708),\n ('25-2512033', 0.018362894654273987),\n ('25-2511607', 0.1486082226037979),\n ('25-2511808', 0.014646288938820362),\n ('25-2511321', 0.021494071930646896),\n ('25-2510768', 0.003627528203651309),\n ('25-2511002', 0.05832881107926369),\n ('25-2511959', 0.01569833606481552),\n ('25-2511033', 0.13717985153198242),\n ('25-2511497', 0.0020682888571172953),\n ('25-2511069', 0.04440142959356308),\n ('25-2511773', 0.019058065488934517),\n ('25-2511750', 0.008086287416517735),\n ('25-2511300', 0.07983779162168503),\n ('25-2511159', 0.16447560489177704),\n ('25-2510858', 0.029820969328284264),\n ('25-2511104', 0.016491184011101723),\n ('25-2511084', 0.02953466959297657),\n ('25-2511209', 0.0009915733244270086),\n ('25-2510577', 0.0010675513185560703),\n ('25-2510658', 0.002062971470877528),\n ('25-2509917', 0.002666114829480648),\n ('25-2509859', 9.141402551904321e-05),\n ('25-2510073', 0.0017765496158972383),\n ('25-2521912', 0.004096996039152145),\n ('25-2519134', 0.2780056893825531),\n ('25-2520069', 0.0005198880098760128),\n ('25-2520388', 0.4444179832935333),\n ('25-2519335', 0.3737240731716156),\n ('25-2519217', 0.31444424390792847),\n ('25-2522478', 0.00010068422852782533),\n ('25-2521995', 0.0002546810719650239),\n ('25-2518847', 0.0005932655767537653),\n ('25-2519760', 0.0010678956750780344),\n ('25-2518059', 0.3466130197048187),\n ('25-2522862', 0.39842453598976135),\n ('25-2521276', 0.0022391958627849817),\n ('25-2523712', 0.4444179832935333),\n ('25-2523703', 0.006703304126858711),\n ('25-2523078', 0.0004734540416393429),\n ('25-2523664', 0.0014896217035129666),\n ('25-2521472', 0.0018327911384403706),\n ('25-2518088', 0.05204804614186287),\n ('25-2522131', 0.0009729545563459396),\n ('25-2516837', 0.0013716388493776321),\n ('25-2520611', 0.22999145090579987),\n ('25-2517646', 0.0001214138901559636),\n ('25-2523513', 0.42009520530700684),\n ('25-2523230', 0.0009607345564290881),\n ('25-2518383', 0.0004362938634585589),\n ('25-2519686', 0.13999876379966736),\n ('25-2520583', 0.0007115269545465708),\n ('25-2523533', 0.00464378297328949),\n ('25-2523448', 0.3530220091342926),\n ('25-2520684', 0.0006399387493729591),\n ('25-2517995', 0.4374139904975891),\n ('25-2519500', 0.41284072399139404),\n ('25-2518048', 0.00025845918571576476),\n ('25-2517922', 0.0007614169153384864),\n ('25-2519242', 0.007897818461060524),\n ('25-2519247', 0.001393234240822494),\n ('25-2519273', 0.002233459847047925),\n ('25-2523717', 0.0017456465866416693),\n ('25-2520348', 0.00011390484723960981),\n ('25-2523339', 0.001079888199456036),\n ('25-2519102', 0.0034755654633045197),\n ('25-2521854', 0.0016704736044630408),\n ('25-2517954', 0.43356844782829285),\n ('25-2522597', 0.003172262106090784),\n ('25-2518265', 0.0006977258599363267),\n ('25-2523742', 0.0008442999678663909),\n ('25-2522000', 0.0003036555426660925),\n ('25-2519353', 0.0029423916712403297),\n ('25-2517374', 0.000634427706245333),\n ('25-2518612', 0.0022032158449292183),\n ('25-2520483', 0.4444179832935333),\n ('25-2520697', 0.0019833925180137157),\n ('25-2523758', 0.0019079979974776506),\n ('25-2519458', 0.0026283031329512596),\n ('25-2521908', 0.0028192270547151566),\n ('25-2523445', 0.004043944180011749),\n ('25-2519628', 0.0014164734166115522),\n ('25-2521486', 0.0018037853296846151),\n ('25-2523341', 0.4444179832935333),\n ('25-2518930', 0.0030738934874534607),\n ('25-2520987', 0.0012490638764575124),\n ('25-2519675', 0.0004577380605041981),\n ('25-2520739', 0.000660728313960135),\n ('25-2522485', 0.0006592563586309552),\n ('25-2522054', 0.4444179832935333),\n ('25-2519904', 0.0007313949172385037),\n ('25-2517870', 0.005252274684607983),\n ('25-2517998', 0.00020546226005535573),\n ('25-2518000', 0.0002342256047995761),\n ('25-2523586', 0.004656112752854824),\n ('25-2521812', 0.0007565153646282852),\n ('25-2520244', 0.24201439321041107),\n ('25-2518868', 0.0008085877634584904),\n ('25-2520536', 0.020989252254366875),\n ('25-2523005', 0.059059105813503265),\n ('25-2522753', 0.058388762176036835),\n ('25-2517908', 0.019437480717897415),\n ('25-2520589', 0.20114172995090485),\n ('25-2520992', 0.003891551401466131),\n ('25-2518467', 0.02329523302614689),\n ('25-2523373', 0.01590409316122532),\n ('25-2519096', 0.13197122514247894),\n ('25-2523286', 0.025889858603477478),\n ('25-2522341', 0.012499037198722363),\n ('25-2520005', 0.05164165794849396),\n ('25-2523614', 0.010998663492500782),\n ('25-2522423', 0.025843646377325058),\n ('25-2518315', 0.3821743130683899),\n ('25-2519295', 0.021100811660289764),\n ('25-2519030', 0.02820170298218727),\n ('25-2517574', 0.0029451404698193073),\n ('25-2517243', 0.004747945349663496),\n ('25-2521529', 0.23158538341522217),\n ('25-2522087', 0.001538426848128438),\n ('25-2518954', 0.4444179832935333),\n ('25-2521507', 0.00637579383328557),\n ('25-2519425', 0.0011605130275711417),\n ('25-2521248', 0.002201363444328308),\n ('25-2521666', 0.0005020248354412615),\n ('25-2520056', 0.2306496500968933),\n ('25-2521881', 0.20820258557796478),\n ('25-2523237', 0.0028931275010108948),\n ('25-2522824', 0.0014435984194278717),\n ('25-2517931', 0.013782667927443981),\n ('25-2518869', 0.010396038182079792),\n ('25-2519559', 0.04582277312874794),\n ('25-2519173', 0.04531126469373703),\n ('25-2517206', 0.00038390906411223114),\n ('25-2519191', 0.04192674905061722),\n ('25-2519218', 0.008348917588591576),\n ('25-2518086', 0.029185855761170387),\n ('25-2520133', 0.009420742280781269),\n ('25-2516812', 0.006790373008698225),\n ('25-2523560', 0.037978604435920715),\n ('25-2519234', 0.023435140028595924),\n ('25-2523590', 0.010881681926548481),\n ('25-2522167', 0.08240500092506409),\n ('25-2522829', 0.026533454656600952),\n ('25-2521964', 0.041494715958833694),\n ('25-2521035', 0.01513945683836937),\n ('25-2520482', 0.10288801789283752),\n ('25-2521549', 0.033294837921857834),\n ('25-2518244', 0.10613487660884857),\n ('25-2523707', 0.03944941982626915),\n ('25-2523428', 0.011797933839261532),\n ('25-2523683', 0.0076225269585847855),\n ('25-2523403', 0.007591849192976952),\n ('25-2523368', 0.005424449685961008),\n ('25-2523056', 0.018102848902344704),\n ('25-2521730', 0.017932798713445663),\n ('25-2522525', 0.008453240618109703),\n ('25-2523643', 0.07942049950361252),\n ('25-2523678', 0.05748343467712402),\n ('25-2523416', 0.003232280258089304),\n ('25-2523709', 0.03585750237107277),\n ('25-2522081', 0.013473846018314362),\n ('25-2522957', 0.12477102875709534),\n ('25-2523601', 0.006197190843522549),\n ('25-2523569', 0.0006675021140836179),\n ('25-2523581', 0.23587653040885925),\n ('25-2523682', 0.009204797446727753),\n ('25-2523659', 0.02242199517786503),\n ('25-2517692', 0.034694064408540726),\n ('25-2523496', 0.04064237326383591),\n ('25-2523366', 0.007621415890753269),\n ('25-2519953', 0.010350973345339298),\n ('25-2522236', 0.013574549928307533),\n ('25-2516887', 0.021698880940675735),\n ('25-2517701', 0.03690365329384804),\n ('25-2523303', 0.002831813180819154),\n ('25-2520663', 0.013403558172285557),\n ('25-2522379', 0.30302345752716064),\n ('25-2523095', 0.0657329261302948),\n ('25-2521878', 0.008749187923967838),\n ('25-2522625', 0.009452727623283863),\n ('25-2518046', 0.04254482313990593),\n ('25-2516947', 0.04596572741866112),\n ('25-2521997', 0.03508523106575012),\n ('25-2520665', 0.06715851277112961),\n ('25-2519762', 0.041605930775403976),\n ('25-2518308', 0.09342927485704422),\n ('25-2521663', 0.2845748960971832),\n ('25-2518848', 0.0711975023150444),\n ('25-2522010', 0.02303643897175789),\n ('25-2517282', 0.020588885992765427),\n ('25-2519755', 0.01408552285283804),\n ('25-2518837', 0.10531407594680786),\n ('25-2520465', 0.04058510810136795),\n ('25-2520691', 0.08895038813352585),\n ('25-2519136', 0.06546259671449661),\n ('25-2521830', 0.009986771270632744),\n ('25-2520833', 0.0015594549477100372),\n ('25-2521256', 0.019105631858110428),\n ('25-2517926', 0.033228982239961624),\n ('25-2520737', 0.004348449409008026),\n ('25-2520195', 0.0006283655529841781),\n ('25-2521170', 7.112960884114727e-05),\n ('25-2517856', 0.002185885328799486),\n ('25-2520556', 0.003226331202313304),\n ('25-2520274', 0.0007984422845765948),\n ('25-2520617', 0.010877437889575958),\n ('25-2520652', 0.0007013333961367607),\n ('25-2520595', 0.0026370976120233536),\n ('25-2519256', 0.10403066873550415),\n ('25-2519560', 0.03890848904848099),\n ('25-2518662', 0.020123980939388275),\n ('25-2519965', 0.13552312552928925),\n ('25-2517201', 0.0307173989713192),\n ('25-2517893', 0.06517837196588516),\n ('25-2519993', 0.04334661364555359),\n ('25-2519831', 0.017357023432850838),\n ('25-2519245', 0.010579254478216171),\n ('25-2519949', 0.07133402675390244),\n ('25-2518884', 0.0718405544757843),\n ('25-2519789', 0.07234727591276169),\n ('25-2519683', 0.011877759359776974),\n ('25-2519253', 0.04858887568116188),\n ('25-2519310', 0.008517545647919178),\n ('25-2519744', 0.022527091205120087),\n ('25-2519556', 0.005869613494724035),\n ('25-2517354', 0.016529571264982224),\n ('25-2519348', 0.004425837192684412),\n ('25-2519288', 0.00974789448082447),\n ('25-2519146', 0.1415545493364334),\n ('25-2519258', 0.008482832461595535),\n ('25-2517970', 0.13034865260124207),\n ('25-2519161', 0.04559335485100746),\n ('25-2519126', 0.12876221537590027),\n ('25-2518851', 0.014317529276013374),\n ('25-2517493', 0.014311285689473152),\n ('25-2517963', 0.018587986007332802),\n ('25-2519103', 0.012970631010830402),\n ('25-2517608', 0.0031720029655843973),\n ('25-2517603', 0.02380501665174961),\n ('25-2517365', 0.0018046956975013018),\n ('25-2518110', 0.027047570794820786),\n ('25-2518178', 0.01858980767428875),\n ('25-2518140', 0.04560501128435135),\n ('25-2518281', 0.04066944867372513),\n ('25-2518172', 0.08679497241973877),\n ('25-2518128', 0.012183155864477158),\n ('25-2518030', 0.06494084000587463),\n ('25-2518053', 0.012009959667921066),\n ('25-2517005', 0.07234258204698563),\n ('25-2517871', 0.011982705444097519),\n ('25-2517887', 0.04134479910135269),\n ('25-2517973', 0.029057199135422707),\n ('25-2517937', 0.07147544622421265),\n ('25-2517421', 0.059016212821006775),\n ('25-2516821', 0.020751135423779488),\n ('25-2517012', 0.002765852492302656),\n ('25-2517721', 0.002369937254115939),\n ('25-2517291', 0.024875076487660408),\n ('25-2517363', 0.002407834865152836),\n ('25-2517249', 0.001208232599310577),\n ('25-2517169', 0.0022027085069566965),\n ('25-2526299', 0.0003469761286396533),\n ('25-2526797', 0.4444179832935333),\n ('25-2528377', 0.007119419518858194),\n ('25-2526699', 0.00030678135226480663),\n ('25-2526159', 0.0001590415049577132),\n ('25-2530100', 0.4410102665424347),\n ('25-2530678', 0.4437074661254883),\n ('25-2531824', 0.3924107253551483),\n ('25-2528015', 0.003684149356558919),\n ('25-2531396', 0.00038465348188765347),\n ('25-2526869', 0.0011871543247252703),\n ('25-2531728', 0.00023114164650905877),\n ('25-2523999', 0.0011211737291887403),\n ('25-2528044', 0.0004042958898935467),\n ('25-2526981', 0.009981812909245491),\n ('25-2525630', 0.005716513376682997),\n ('25-2530070', 0.0022801090963184834),\n ('25-2528332', 0.0018368239980190992),\n ('25-2528462', 0.004135442432016134),\n ('25-2526190', 0.004693691618740559),\n ('25-2525750', 0.004649455193430185),\n ('25-2530301', 0.4355821907520294),\n ('25-2526838', 0.00036935327807441354),\n ('25-2531437', 0.2064686119556427),\n ('25-2527119', 0.015458226203918457),\n ('25-2527713', 0.0015628448454663157),\n ('25-2527452', 0.0026176797691732645),\n ('25-2526618', 0.008972682058811188),\n ('25-2523820', 0.004825838375836611),\n ('25-2527664', 0.022919613867998123),\n ('25-2527855', 0.020231379196047783),\n ('25-2525037', 0.0034848630893975496),\n ('25-2531539', 0.05486264452338219),\n ('25-2528136', 0.017925040796399117),\n ('25-2531228', 0.019500993192195892),\n ('25-2526167', 0.4102430045604706),\n ('25-2528489', 0.0021208710968494415),\n ('25-2531206', 0.00260106660425663),\n ('25-2525597', 0.0007449480472132564),\n ('25-2526249', 0.0022747372277081013),\n ('25-2526098', 0.130949467420578),\n ('25-2525652', 0.00276463502086699),\n ('25-2524743', 0.0050455243326723576),\n ('25-2530091', 0.010581710375845432),\n ('25-2527052', 0.0004750722728203982),\n ('25-2531791', 0.0015299662481993437),\n ('25-2528546', 0.019470809027552605),\n ('25-2524322', 0.03821813687682152),\n ('25-2528458', 0.06146377697587013),\n ('25-2524639', 0.005270693451166153),\n ('25-2531386', 0.0020140488632023335),\n ('25-2526702', 0.005199068691581488),\n ('25-2531274', 0.01621582917869091),\n ('25-2527110', 0.003896624781191349),\n ('25-2530851', 0.003621138399466872),\n ('25-2531763', 0.003620062954723835),\n ('25-2526140', 0.34161847829818726),\n ('25-2526443', 0.00822314154356718),\n ('25-2531052', 0.4444179832935333),\n ('25-2525347', 0.0062145451083779335),\n ('25-2528288', 0.0017081242986023426),\n ('25-2525128', 0.00018931986414827406),\n ('25-2530691', 0.0003039159346371889),\n ('25-2531512', 0.0004302422166801989),\n ('25-2531587', 0.0009345360449515283),\n ('25-2528013', 0.22031570971012115),\n ('25-2525451', 0.4296315610408783),\n ('25-2524360', 0.00012085829075658694),\n ('25-2526207', 0.0010857065208256245),\n ('25-2524270', 0.0011171667138114572),\n ('25-2525251', 0.0007135150954127312),\n ('25-2524011', 0.00016936115571297705),\n ('25-2523862', 0.002075456315651536),\n ('25-2529946', 0.0014296984300017357),\n ('25-2525142', 0.004351348616182804),\n ('25-2525124', 0.0017550713382661343),\n ('25-2528974', 0.00026857832563109696),\n ('25-2531582', 0.002504543401300907),\n ('25-2526169', 0.0012424298329278827),\n ('25-2531810', 0.004603727720677853),\n ('25-2527012', 0.0011749749537557364),\n ('25-2530332', 0.24071453511714935),\n ('25-2525430', 0.00022532156435772777),\n ('25-2529397', 0.0023050266318023205),\n ('25-2529087', 0.017294729128479958),\n ('25-2523982', 0.029585642740130424),\n ('25-2530283', 0.0010836533037945628),\n ('25-2526997', 0.01496733445674181),\n ('25-2526993', 0.032706063240766525),\n ('25-2530730', 0.03760811686515808),\n ('25-2531720', 0.0029693590477108955),\n ('25-2531388', 0.05922321975231171),\n ('25-2531592', 0.34980541467666626),\n ('25-2531401', 0.044469840824604034),\n ('25-2531499', 0.0011737372260540724),\n ('25-2530586', 0.016681449487805367),\n ('25-2530054', 0.017139775678515434),\n ('25-2531772', 0.015565202571451664),\n ('25-2527020', 0.03572314977645874),\n ('25-2531531', 0.014126935973763466),\n ('25-2529037', 0.021452011540532112),\n ('25-2527305', 0.007769268471747637),\n ('25-2529919', 0.009524837136268616),\n ('25-2530211', 0.0026298961602151394),\n ('25-2531640', 0.02569897659122944),\n ('25-2528942', 0.03388683870434761),\n ('25-2525976', 0.15428020060062408),\n ('25-2527179', 0.007861428894102573),\n ('25-2531165', 0.015930892899632454),\n ('25-2526157', 0.28712332248687744),\n ('25-2527124', 0.3974212408065796),\n ('25-2523948', 0.002042005769908428),\n ('25-2528555', 0.05637108534574509),\n ('25-2530285', 0.07320256531238556),\n ('25-2528170', 0.00454913591966033),\n ('25-2523989', 0.0007248461479321122),\n ('25-2527296', 0.0032015489414334297),\n ('25-2528629', 0.1643894910812378),\n ('25-2527438', 0.02073807641863823),\n ('25-2528838', 0.0030377123039215803),\n ('25-2530050', 0.027946259826421738),\n ('25-2530602', 0.03265085071325302),\n ('25-2531710', 0.007532746996730566),\n ('25-2527809', 0.08915632963180542),\n ('25-2527963', 0.008787860162556171),\n ('25-2529255', 0.05018969252705574),\n ('25-2528926', 0.06819985061883926),\n ('25-2531076', 0.007823802530765533),\n ('25-2531593', 0.02001429721713066),\n ('25-2530941', 0.003929848317056894),\n ('25-2531589', 0.03405861184000969),\n ('25-2528643', 0.005543649196624756),\n ('25-2528872', 0.029684927314519882),\n ('25-2531754', 0.095957912504673),\n ('25-2531681', 0.048179689794778824),\n ('25-2527984', 0.23336003720760345),\n ('25-2531730', 0.04137514904141426),\n ('25-2531505', 0.04114396125078201),\n ('25-2531664', 0.03446681424975395),\n ('25-2531610', 0.006204131990671158),\n ('25-2531571', 0.08982151746749878),\n ('25-2531607', 0.04751833900809288),\n ('25-2531410', 0.023412328213453293),\n ('25-2531383', 0.008059692569077015),\n ('25-2531336', 0.08224550634622574),\n ('25-2531261', 0.0087848249822855),\n ('25-2531215', 0.01858019270002842),\n ('25-2530982', 0.021561212837696075),\n ('25-2531380', 0.003941026050597429),\n ('25-2531233', 0.07380366325378418),\n ('25-2531350', 0.02120989002287388),\n ('25-2529483', 0.031147830188274384),\n ('25-2531235', 0.0030180441681295633),\n ('25-2530267', 0.013074396178126335),\n ('25-2524808', 0.11115853488445282),\n ('25-2530183', 0.12921974062919617),\n ('25-2531021', 0.0663871094584465),\n ('25-2530415', 0.01505455281585455),\n ('25-2530266', 0.02205553650856018),\n ('25-2530052', 0.015748459845781326),\n ('25-2527860', 0.015941869467496872),\n ('25-2528404', 0.0594409741461277),\n ('25-2530795', 0.005285659339278936),\n ('25-2524852', 0.1134180799126625),\n ('25-2530065', 0.00260786060243845),\n ('25-2530164', 0.006068797782063484),\n ('25-2525351', 0.12697452306747437),\n ('25-2527171', 0.01880582608282566),\n ('25-2529602', 0.007587754167616367),\n ('25-2529748', 0.04047722369432449),\n ('25-2523864', 0.07278893887996674),\n ('25-2530062', 0.010782385244965553),\n ('25-2525650', 0.00880433153361082),\n ('25-2523978', 0.056908104568719864),\n ('25-2527108', 0.004742560908198357),\n ('25-2529741', 0.015758922323584557),\n ('25-2529557', 0.006211141124367714),\n ('25-2529022', 0.20345363020896912),\n ('25-2528501', 0.008133952505886555),\n ('25-2527749', 0.005470265168696642),\n ('25-2528689', 0.15465009212493896),\n ('25-2529170', 0.036128684878349304),\n ('25-2528021', 0.006818324327468872),\n ('25-2528253', 0.04420964792370796),\n ('25-2528494', 0.03991575539112091),\n ('25-2528646', 0.008235602639615536),\n ('25-2528523', 0.03785866126418114),\n ('25-2526186', 0.05737662687897682),\n ('25-2528039', 0.02160034328699112),\n ('25-2525731', 0.03488270193338394),\n ('25-2527989', 0.04098996892571449),\n ('25-2527006', 0.15601378679275513),\n ('25-2527728', 0.001464775879867375),\n ('25-2527817', 0.03498527407646179),\n ('25-2528538', 0.0633077621459961),\n ('25-2524701', 0.052468325942754745),\n ('25-2526663', 0.013365060091018677),\n ('25-2528295', 0.14263863861560822),\n ('25-2527476', 0.056247156113386154),\n ('25-2527988', 0.001132424920797348),\n ('25-2527585', 0.005147394258528948),\n ('25-2523805', 0.06801647692918777),\n ('25-2523940', 0.0071693058125674725),\n ('25-2526830', 0.02454713173210621),\n ('25-2527544', 0.014937793835997581),\n ('25-2525121', 0.38315632939338684),\n ('25-2525947', 0.060493264347314835),\n ('25-2527743', 0.03832215815782547),\n ('25-2525636', 0.10480891913175583),\n ('25-2527605', 0.008035581558942795),\n ('25-2527408', 0.0824953243136406),\n ('25-2527073', 0.004196339752525091),\n ('25-2525992', 0.04961617663502693),\n ('25-2527036', 0.01887846551835537),\n ('25-2525120', 0.002032328862696886),\n ('25-2524724', 0.2068866491317749),\n ('25-2524495', 0.05939403176307678),\n ('25-2526987', 0.0015924377366900444),\n ('25-2524976', 0.013249291107058525),\n ('25-2527126', 0.005437016021460295),\n ('25-2524432', 0.01907574199140072),\n ('25-2524395', 0.013007303699851036),\n ('25-2525948', 0.0011235318379476666),\n ('25-2525477', 0.03589440509676933),\n ('25-2525739', 0.00608358858153224),\n ('25-2524251', 0.008612099103629589),\n ('25-2526100', 0.02241416461765766),\n ('25-2526574', 0.01308992225676775),\n ('25-2524256', 0.008280247449874878),\n ('25-2524451', 0.027645336464047432),\n ('25-2523946', 0.005379475187510252),\n ('25-2523949', 0.0009806938469409943),\n ('25-2525710', 0.04757646098732948),\n ('25-2525548', 0.03645946830511093),\n ('25-2526258', 0.0037946088705211878),\n ('25-2525489', 0.04977419227361679),\n ('25-2526093', 0.3501734435558319),\n ('25-2525622', 0.10874068737030029),\n ('25-2523901', 0.055499035865068436),\n ('25-2525149', 0.05595586076378822),\n ('25-2524079', 0.016915801912546158),\n ('25-2524992', 0.015854598954319954),\n ('25-2524133', 0.04494832456111908),\n ('25-2524442', 0.020825248211622238),\n ('25-2523846', 0.18796025216579437),\n ('25-2523920', 0.009105282835662365),\n ('25-2523845', 0.008622825145721436),\n ('25-2523974', 8.979863196145743e-05),\n ('25-2539436', 0.0008675878052599728),\n ('25-2537007', 0.4159453511238098),\n ('25-2534619', 0.26816949248313904),\n ('25-2534031', 0.007107524201273918),\n ('25-2532109', 0.0005546448519453406),\n ('25-2538991', 0.005593900103121996),\n ('25-2537574', 0.271756112575531),\n ('25-2538604', 0.00044812337728217244),\n ('25-2534705', 0.43965524435043335),\n ('25-2535664', 0.0006748153828084469),\n ('25-2538327', 0.0005050878971815109),\n ('25-2534382', 0.0011548195034265518),\n ('25-2534864', 0.0007862095953896642),\n ('25-2535769', 0.00012708664871752262),\n ('25-2538283', 0.0011915472568944097),\n ('25-2532375', 0.44417804479599),\n ('25-2533324', 0.010061982087790966),\n ('25-2535227', 0.0006395357195287943),\n ('25-2531940', 0.0006817344692535698),\n ('25-2538836', 0.0009212329750880599),\n ('25-2533599', 0.00036727706901729107),\n ('25-2532335', 0.40491798520088196),\n ('25-2532592', 0.3256901800632477),\n ('25-2539465', 9.987106750486419e-05),\n ('25-2536537', 0.002516861306503415),\n ('25-2536518', 0.4444179832935333),\n ('25-2533337', 0.003994569182395935),\n ('25-2534807', 0.006220340263098478),\n ('25-2535024', 0.11838307976722717),\n ('25-2538558', 0.0026229636278003454),\n ('25-2532775', 0.003665186697617173),\n ('25-2537012', 0.002035383600741625),\n ('25-2539252', 0.00487546855583787),\n ('25-2535629', 0.003681611968204379),\n ('25-2537444', 0.004605095833539963),\n ('25-2537846', 0.007322858087718487),\n ('25-2533778', 0.02747424505650997),\n ('25-2532624', 0.021271605044603348),\n ('25-2535811', 0.0237283892929554),\n ('25-2537786', 0.00023614776728209108),\n ('25-2538970', 0.39044129848480225),\n ('25-2535413', 0.007347993087023497),\n ('25-2534202', 0.00020390002464409918),\n ('25-2535228', 0.001034760964103043),\n ('25-2538951', 0.001832089852541685),\n ('25-2532576', 0.005171522498130798),\n ('25-2537253', 0.004380279220640659),\n ('25-2535018', 0.0015016053803265095),\n ('25-2534853', 0.3366357982158661),\n ('25-2539529', 0.0004946395638398826),\n ('25-2533228', 0.35742905735969543),\n ('25-2533296', 0.007598095573484898),\n ('25-2532091', 0.0004291202931199223),\n ('25-2532945', 0.01229155994951725),\n ('25-2533704', 0.0009533223346807063),\n ('25-2534490', 0.005022843834012747),\n ('25-2534292', 0.0005380820366553962),\n ('25-2538069', 0.003836297430098057),\n ('25-2533486', 0.0003220699727535248),\n ('25-2533247', 0.004163105506449938),\n ('25-2536379', 0.0532083623111248),\n ('25-2538653', 0.032975804060697556),\n ('25-2537250', 0.01033081952482462),\n ('25-2534830', 0.04683130979537964),\n ('25-2537498', 0.34765565395355225),\n ('25-2537604', 0.008794919587671757),\n ('25-2538196', 0.04017585515975952),\n ('25-2533047', 0.010802213102579117),\n ('25-2539463', 0.01521055493503809),\n ('25-2539098', 0.2079627811908722),\n ('25-2534249', 0.01724100671708584),\n ('25-2537569', 0.2188057005405426),\n ('25-2537568', 0.21880175173282623),\n ('25-2539498', 0.005284036975353956),\n ('25-2539122', 0.038967911154031754),\n ('25-2539157', 0.040065933018922806),\n ('25-2538750', 0.027789568528532982),\n ('25-2533268', 0.07996511459350586),\n ('25-2539457', 0.027918072417378426),\n ('25-2537820', 0.10137318074703217),\n ('25-2538723', 0.01854526624083519),\n ('25-2538759', 0.25652626156806946),\n ('25-2539494', 0.03359724581241608),\n ('25-2538961', 0.07389611005783081),\n ('25-2535695', 0.040065016597509384),\n ('25-2538839', 0.05397826060652733),\n ('25-2532024', 0.013527287170290947),\n ('25-2538362', 0.0542641282081604),\n ('25-2539507', 0.0223386213183403),\n ('25-2539163', 0.014615854248404503),\n ('25-2536066', 0.0058266762644052505),\n ('25-2534335', 0.15000899136066437),\n ('25-2534234', 0.010584412142634392),\n ('25-2538950', 0.03019617684185505),\n ('25-2533338', 0.012389968149363995),\n ('25-2535624', 0.04126878082752228),\n ('25-2539634', 0.08171585202217102),\n ('25-2538136', 0.04255867749452591),\n ('25-2534631', 0.11048062145709991),\n ('25-2539357', 0.1402854174375534),\n ('25-2534914', 0.03533416986465454),\n ('25-2539113', 0.0004458244366105646),\n ('25-2539583', 0.0019313202938064933),\n ('25-2539453', 0.3686487078666687),\n ('25-2539489', 0.0011538881808519363),\n ('25-2539130', 0.0005188796203583479),\n ('25-2539418', 0.2034207582473755),\n ('25-2532215', 0.013794248923659325),\n ('25-2539456', 0.0008304619695991278),\n ('25-2538887', 0.0028343847952783108),\n ('25-2534971', 0.003376610577106476),\n ('25-2539609', 0.01142334658652544),\n ('25-2539559', 0.004080916289240122),\n ('25-2534176', 0.0033595035783946514),\n ('25-2539385', 0.030749350786209106),\n ('25-2539116', 0.0006141455378383398),\n ('25-2539562', 0.00770816532894969),\n ('25-2536362', 0.287863165140152),\n ('25-2539142', 0.006717335898429155),\n ('25-2536248', 0.006731432396918535),\n ('25-2538631', 0.026928717270493507),\n ('25-2538561', 0.021931596100330353),\n ('25-2538780', 0.02795325219631195),\n ('25-2538160', 0.051489319652318954),\n ('25-2538651', 0.24788913130760193),\n ('25-2534604', 0.05089631304144859),\n ('25-2538040', 0.025760987773537636),\n ('25-2534288', 0.1432461440563202),\n ('25-2538502', 0.08252518624067307),\n ('25-2536975', 0.014427844434976578),\n ('25-2538598', 0.07615242153406143),\n ('25-2536941', 0.04343734681606293),\n ('25-2536441', 0.048865437507629395),\n ('25-2538448', 0.2626505494117737),\n ('25-2534273', 0.04236290603876114),\n ('25-2537955', 0.0957513079047203),\n ('25-2537258', 0.03058934584259987),\n ('25-2532357', 0.11201933026313782),\n ('25-2537730', 0.11019793152809143),\n ('25-2537596', 0.03162024915218353),\n ('25-2537566', 0.01647624932229519),\n ('25-2535438', 0.41942209005355835),\n ('25-2537252', 0.00418699299916625),\n ('25-2531911', 0.006544827483594418),\n ('25-2537459', 0.03380059078335762),\n ('25-2534959', 0.01155848242342472),\n ('25-2534303', 0.07036605477333069),\n ('25-2534648', 0.031943149864673615),\n ('25-2537223', 0.004603649023920298),\n ('25-2536470', 0.06188799813389778),\n ('25-2535260', 0.05966668576002121),\n ('25-2535986', 0.01218545064330101),\n ('25-2535322', 0.003997732885181904),\n ('25-2535914', 0.06927745789289474),\n ('25-2537004', 0.022308962419629097),\n ('25-2535710', 0.011027862317860126),\n ('25-2536837', 0.009822150692343712),\n ('25-2536700', 0.0028689629398286343),\n ('25-2534937', 0.002719624200835824),\n ('25-2535447', 0.018878504633903503),\n ('25-2536661', 0.16664937138557434),\n ('25-2536520', 0.05302610248327255),\n ('25-2535072', 0.0021993061527609825),\n ('25-2536483', 0.042440563440322876),\n ('25-2533032', 0.005359361879527569),\n ('25-2534561', 0.011249503120779991),\n ('25-2536058', 0.007468436378985643),\n ('25-2536069', 0.14610952138900757),\n ('25-2535697', 0.02648346684873104),\n ('25-2535049', 0.11841078102588654),\n ('25-2535337', 0.018993694335222244),\n ('25-2536232', 0.01195792481303215),\n ('25-2533734', 0.031723298132419586),\n ('25-2535513', 0.07379752397537231),\n ('25-2535436', 0.042652711272239685),\n ('25-2535163', 0.1573542356491089),\n ('25-2533541', 0.20046259462833405),\n ('25-2534559', 0.01998450793325901),\n ('25-2535114', 0.021860722452402115),\n ('25-2534305', 0.0010358598083257675),\n ('25-2533738', 0.0302415918558836),\n ('25-2534686', 0.06812956929206848),\n ('25-2533230', 0.01980612426996231),\n ('25-2533189', 0.033815085887908936),\n ('25-2533380', 0.09132770448923111),\n ('25-2532608', 0.0018947988282889128),\n ('25-2533676', 0.027057215571403503),\n ('25-2533026', 0.004182836040854454),\n ('25-2533053', 0.0021517148707062006),\n ('25-2533183', 0.021501077339053154),\n ('25-2533029', 0.03232372924685478),\n ('25-2533290', 0.023598354309797287),\n ('25-2533121', 0.0028515742160379887),\n ('25-2533019', 0.018208645284175873),\n ('25-2532523', 0.19179341197013855),\n ('25-2532761', 0.019500035792589188),\n ('25-2532904', 0.036593809723854065),\n ('25-2532239', 0.00952067319303751),\n ('25-2532221', 0.014411316253244877),\n ('25-2532004', 0.007776557933539152),\n ('25-2532081', 0.004539132118225098),\n ('25-2531923', 0.002147521125152707),\n ('25-2546537', 0.3118964433670044),\n ('25-2545830', 0.0017145175952464342),\n ('25-2545977', 0.012790380977094173),\n ('25-2540691', 0.17366722226142883),\n ('25-2541328', 0.006114502437412739),\n ('25-2540492', 0.00044530650484375656),\n ('25-2544926', 0.007406753487884998),\n ('25-2544239', 0.0008289945544674993),\n ('25-2543954', 0.00013702067371923476),\n ('25-2545175', 0.0008664080523885787),\n ('25-2544252', 0.3681595027446747),\n ('25-2546571', 0.29211804270744324),\n ('25-2545341', 0.20351716876029968),\n ('25-2546199', 0.0019155499758198857),\n ('25-2540184', 0.0011324859224259853),\n ('25-2546673', 0.0012395710218697786),\n ('25-2545196', 0.010829931125044823),\n ('25-2544459', 0.0013734010281041265),\n ('25-2539844', 0.0018577600130811334),\n ('25-2543318', 0.0005508355097845197),\n ('25-2545111', 0.0018520012963563204),\n ('25-2541438', 0.0002482400450389832),\n ('25-2544170', 0.4444179832935333),\n ('25-2541330', 0.0021568667143583298),\n ('25-2542209', 0.0006823865114711225),\n ('25-2543467', 0.0007541184313595295),\n ('25-2540384', 0.00032761142938397825),\n ('25-2545925', 0.0001258541742572561),\n ('25-2540146', 0.44354984164237976),\n ('25-2543946', 0.0012430144706740975),\n ('25-2547127', 0.004897467792034149),\n ('25-2546209', 0.0004098441859241575),\n ('25-2546031', 0.013125834986567497),\n ('25-2547992', 0.0030439631082117558),\n ('25-2547834', 0.0002438970113871619),\n ('25-2539786', 0.00014733521675225347),\n ('25-2543918', 4.9703590775607154e-05),\n ('25-2541530', 0.04120834916830063),\n ('25-2540263', 0.022717518731951714),\n ('25-2542660', 0.03247307613492012),\n ('25-2542508', 0.03454645723104477),\n ('25-2548116', 0.0018345803255215287),\n ('25-2539759', 0.02102038450539112),\n ('25-2539891', 0.0021648749243468046),\n ('25-2546833', 0.002600284991785884),\n ('25-2545225', 0.0031981130596250296),\n ('25-2541646', 0.21982023119926453),\n ('25-2541103', 0.02214502915740013),\n ('25-2548375', 0.08590026944875717),\n ('25-2548357', 0.05279456079006195),\n ('25-2545991', 0.17204517126083374),\n ('25-2547784', 0.005308681167662144),\n ('25-2542903', 0.048448704183101654),\n ('25-2542107', 0.31068313121795654),\n ('25-2539929', 0.023016760125756264),\n ('25-2546616', 0.013242659159004688),\n ('25-2548194', 0.010603880509734154),\n ('25-2542317', 0.002681178040802479),\n ('25-2548285', 0.003951295278966427),\n ('25-2546363', 0.002278500935062766),\n ('25-2544442', 0.09639708697795868),\n ('25-2542652', 0.009097374975681305),\n ('25-2547412', 0.005893148947507143),\n ('25-2543150', 0.015541300177574158),\n ('25-2546190', 0.23295646905899048),\n ('25-2544099', 0.001362402574159205),\n ('25-2545967', 0.007373377215117216),\n ('25-2542907', 0.004760377109050751),\n ('25-2547773', 0.318352609872818),\n ('25-2544810', 0.004658135585486889),\n ('25-2548135', 0.014142392203211784),\n ('25-2546656', 0.015492130070924759),\n ('25-2548129', 0.0006040645530447364),\n ('25-2542195', 0.02804829552769661),\n ('25-2544537', 0.15064793825149536),\n ('25-2547793', 0.03929850831627846),\n ('25-2543993', 0.002591377357020974),\n ('25-2548345', 0.0016472332645207644),\n ('25-2548554', 0.3841744065284729),\n ('25-2540136', 0.023695167154073715),\n ('25-2548197', 0.01699747145175934),\n ('25-2544949', 0.004120067227631807),\n ('25-2547754', 0.006239411421120167),\n ('25-2541456', 0.04456357657909393),\n ('25-2542345', 0.001505815889686346),\n ('25-2544990', 0.0047659375704824924),\n ('25-2545186', 0.013317495584487915),\n ('25-2545559', 0.00638069212436676),\n ('25-2547826', 0.004167700652033091),\n ('25-2545407', 0.02744659222662449),\n ('25-2545979', 0.014840514399111271),\n ('25-2546674', 0.03459107130765915),\n ('25-2547926', 0.01204500999301672),\n ('25-2548686', 0.016723426058888435),\n ('25-2547530', 0.0015855197561904788),\n ('25-2548154', 0.009290313348174095),\n ('25-2546547', 0.005289637017995119),\n ...]"
     },
     "execution_count": 282,
     "metadata": {},
     "output_type": "execute_result"
    }
   ],
   "source": [
    "result"
   ],
   "metadata": {
    "collapsed": false,
    "pycharm": {
     "name": "#%%\n"
    }
   }
  },
  {
   "cell_type": "code",
   "execution_count": 293,
   "outputs": [
    {
     "data": {
      "text/plain": "18529"
     },
     "execution_count": 293,
     "metadata": {},
     "output_type": "execute_result"
    }
   ],
   "source": [
    "len(result)"
   ],
   "metadata": {
    "collapsed": false,
    "pycharm": {
     "name": "#%%\n"
    }
   }
  },
  {
   "cell_type": "code",
   "execution_count": 290,
   "outputs": [
    {
     "data": {
      "text/plain": "0.0578829211670538"
     },
     "execution_count": 290,
     "metadata": {},
     "output_type": "execute_result"
    }
   ],
   "source": [
    "import statistics\n",
    "statistics.mean([x[1] for x in result])"
   ],
   "metadata": {
    "collapsed": false,
    "pycharm": {
     "name": "#%%\n"
    }
   }
  },
  {
   "cell_type": "code",
   "execution_count": 288,
   "outputs": [
    {
     "data": {
      "text/plain": "0.4444179832935333"
     },
     "execution_count": 288,
     "metadata": {},
     "output_type": "execute_result"
    }
   ],
   "source": [
    "statistics.mode([x[1] for x in result])"
   ],
   "metadata": {
    "collapsed": false,
    "pycharm": {
     "name": "#%%\n"
    }
   }
  },
  {
   "cell_type": "code",
   "execution_count": 291,
   "outputs": [
    {
     "data": {
      "text/plain": "0.4444179832935333"
     },
     "execution_count": 291,
     "metadata": {},
     "output_type": "execute_result"
    }
   ],
   "source": [
    "max([x[1] for x in result])"
   ],
   "metadata": {
    "collapsed": false,
    "pycharm": {
     "name": "#%%\n"
    }
   }
  },
  {
   "cell_type": "code",
   "execution_count": 174,
   "outputs": [
    {
     "data": {
      "text/plain": "('25-3224582', 0.04289416968822479)"
     },
     "execution_count": 174,
     "metadata": {},
     "output_type": "execute_result"
    }
   ],
   "source": [
    "result[18528]"
   ],
   "metadata": {
    "collapsed": false,
    "pycharm": {
     "name": "#%%\n"
    }
   }
  },
  {
   "cell_type": "code",
   "execution_count": 151,
   "outputs": [],
   "source": [
    "res = model.predict(hd)"
   ],
   "metadata": {
    "collapsed": false,
    "pycharm": {
     "name": "#%%\n"
    }
   }
  },
  {
   "cell_type": "code",
   "execution_count": 158,
   "outputs": [
    {
     "data": {
      "text/plain": "[0.99936324,\n 0.43803155,\n 0.99880934,\n 0.97497034,\n 0.24900849,\n 0.84088564,\n 0.9999589,\n 0.49227476,\n 0.83189493,\n 0.99847,\n 0.003917]"
     },
     "execution_count": 158,
     "metadata": {},
     "output_type": "execute_result"
    }
   ],
   "source": [
    "[y for x in list(res) for y in x]"
   ],
   "metadata": {
    "collapsed": false,
    "pycharm": {
     "name": "#%%\n"
    }
   }
  },
  {
   "cell_type": "code",
   "execution_count": 160,
   "outputs": [],
   "source": [
    "slice = test_df[0:11]['id']"
   ],
   "metadata": {
    "collapsed": false,
    "pycharm": {
     "name": "#%%\n"
    }
   }
  },
  {
   "cell_type": "code",
   "execution_count": 161,
   "outputs": [],
   "source": [
    "wtf = [y for x in np.ndarray.tolist(res) for y in x]"
   ],
   "metadata": {
    "collapsed": false,
    "pycharm": {
     "name": "#%%\n"
    }
   }
  },
  {
   "cell_type": "code",
   "execution_count": 164,
   "outputs": [
    {
     "data": {
      "text/plain": "[('25-2512303', 0.9993632435798645),\n ('25-2513780', 0.43803155422210693),\n ('25-2515293', 0.9988093376159668),\n ('25-2514349', 0.9749703407287598),\n ('25-2514337', 0.24900849163532257),\n ('25-2512992', 0.8408856391906738),\n ('25-2514081', 0.999958872795105),\n ('25-2513668', 0.49227476119995117),\n ('25-2511510', 0.8318949341773987),\n ('25-2509902', 0.9984700083732605),\n ('25-2514553', 0.003916999790817499)]"
     },
     "execution_count": 164,
     "metadata": {},
     "output_type": "execute_result"
    }
   ],
   "source": [
    "list(zip(slice, wtf))"
   ],
   "metadata": {
    "collapsed": false,
    "pycharm": {
     "name": "#%%\n"
    }
   }
  },
  {
   "cell_type": "code",
   "execution_count": 294,
   "outputs": [
    {
     "data": {
      "text/plain": "array([[0.154],\n       [0.056],\n       [0.105],\n       [0.053],\n       [0.023],\n       [0.012],\n       [0.086],\n       [0.058],\n       [0.093]], dtype=float32)"
     },
     "execution_count": 294,
     "metadata": {},
     "output_type": "execute_result"
    }
   ],
   "source": [
    "res"
   ],
   "metadata": {
    "collapsed": false,
    "pycharm": {
     "name": "#%%\n"
    }
   }
  },
  {
   "cell_type": "code",
   "execution_count": 295,
   "outputs": [],
   "source": [
    "threshold = 0.25"
   ],
   "metadata": {
    "collapsed": false,
    "pycharm": {
     "name": "#%%\n"
    }
   }
  },
  {
   "cell_type": "code",
   "execution_count": 296,
   "outputs": [],
   "source": [
    "def prob_to_boolean(flt):\n",
    "    return 1 if flt > threshold else 0"
   ],
   "metadata": {
    "collapsed": false,
    "pycharm": {
     "name": "#%%\n"
    }
   }
  },
  {
   "cell_type": "code",
   "execution_count": 297,
   "outputs": [],
   "source": [
    "res_bool = [(x[0], prob_to_boolean(x[1])) for x in result]"
   ],
   "metadata": {
    "collapsed": false,
    "pycharm": {
     "name": "#%%\n"
    }
   }
  },
  {
   "cell_type": "code",
   "execution_count": 232,
   "outputs": [
    {
     "data": {
      "text/plain": "0.9999996423721313"
     },
     "execution_count": 232,
     "metadata": {},
     "output_type": "execute_result"
    }
   ],
   "source": [
    "import statistics\n",
    "\n",
    "statistics.mode([(x[1]) for x in result])"
   ],
   "metadata": {
    "collapsed": false,
    "pycharm": {
     "name": "#%%\n"
    }
   }
  },
  {
   "cell_type": "code",
   "execution_count": 232,
   "outputs": [],
   "source": [],
   "metadata": {
    "collapsed": false,
    "pycharm": {
     "name": "#%%\n"
    }
   }
  },
  {
   "cell_type": "code",
   "execution_count": 298,
   "outputs": [
    {
     "data": {
      "text/plain": "[('25-2512303', 0),\n ('25-2513780', 0),\n ('25-2515293', 0),\n ('25-2514349', 0),\n ('25-2514337', 0),\n ('25-2512992', 0),\n ('25-2514081', 1),\n ('25-2513668', 1),\n ('25-2511510', 0),\n ('25-2509902', 0),\n ('25-2514553', 0),\n ('25-2511118', 1),\n ('25-2514074', 0),\n ('25-2510991', 0),\n ('25-2514825', 0),\n ('25-2511622', 0),\n ('25-2514695', 1),\n ('25-2511429', 0),\n ('25-2513557', 1),\n ('25-2513716', 1),\n ('25-2512351', 0),\n ('25-2513705', 1),\n ('25-2513221', 0),\n ('25-2513733', 0),\n ('25-2513729', 0),\n ('25-2513737', 0),\n ('25-2514175', 0),\n ('25-2515375', 0),\n ('25-2514755', 0),\n ('25-2516197', 0),\n ('25-2513713', 0),\n ('25-2515665', 0),\n ('25-2511599', 0),\n ('25-2511902', 0),\n ('25-2516122', 1),\n ('25-2515282', 1),\n ('25-2511399', 0),\n ('25-2510150', 0),\n ('25-2513627', 0),\n ('25-2514921', 0),\n ('25-2513709', 1),\n ('25-2513707', 0),\n ('25-2513723', 0),\n ('25-2510712', 1),\n ('25-2510105', 0),\n ('25-2513481', 0),\n ('25-2514820', 0),\n ('25-2514429', 0),\n ('25-2511192', 0),\n ('25-2514059', 0),\n ('25-2515123', 0),\n ('25-2516366', 0),\n ('25-2516516', 0),\n ('25-2513735', 0),\n ('25-2511692', 0),\n ('25-2510135', 0),\n ('25-2513859', 0),\n ('25-2513955', 0),\n ('25-2514837', 1),\n ('25-2511572', 0),\n ('25-2512916', 0),\n ('25-2516264', 0),\n ('25-2509966', 0),\n ('25-2516657', 0),\n ('25-2510025', 0),\n ('25-2510163', 0),\n ('25-2515428', 0),\n ('25-2513981', 0),\n ('25-2514671', 0),\n ('25-2510337', 0),\n ('25-2515484', 0),\n ('25-2513623', 0),\n ('25-2512785', 0),\n ('25-2513158', 0),\n ('25-2511034', 0),\n ('25-2511154', 0),\n ('25-2511332', 0),\n ('25-2510641', 0),\n ('25-2516522', 0),\n ('25-2512954', 0),\n ('25-2513967', 0),\n ('25-2512072', 0),\n ('25-2513776', 0),\n ('25-2513613', 0),\n ('25-2516159', 0),\n ('25-2511593', 0),\n ('25-2515152', 0),\n ('25-2514915', 0),\n ('25-2515808', 0),\n ('25-2516298', 0),\n ('25-2514817', 0),\n ('25-2510748', 0),\n ('25-2515602', 0),\n ('25-2512051', 0),\n ('25-2516494', 0),\n ('25-2516380', 0),\n ('25-2513666', 0),\n ('25-2515068', 0),\n ('25-2516433', 0),\n ('25-2513531', 0),\n ('25-2515417', 0),\n ('25-2516425', 0),\n ('25-2510952', 0),\n ('25-2513102', 0),\n ('25-2509896', 0),\n ('25-2512648', 0),\n ('25-2515955', 0),\n ('25-2513602', 0),\n ('25-2516474', 0),\n ('25-2512104', 1),\n ('25-2512485', 0),\n ('25-2515910', 0),\n ('25-2516152', 0),\n ('25-2516532', 0),\n ('25-2514639', 0),\n ('25-2513354', 0),\n ('25-2513549', 0),\n ('25-2516526', 0),\n ('25-2515228', 0),\n ('25-2514673', 0),\n ('25-2514373', 0),\n ('25-2514631', 0),\n ('25-2516289', 0),\n ('25-2511202', 0),\n ('25-2516497', 0),\n ('25-2514916', 0),\n ('25-2516483', 0),\n ('25-2516222', 0),\n ('25-2514086', 0),\n ('25-2516030', 0),\n ('25-2516552', 0),\n ('25-2516424', 0),\n ('25-2516304', 0),\n ('25-2516104', 0),\n ('25-2509968', 0),\n ('25-2516268', 0),\n ('25-2510878', 0),\n ('25-2512224', 0),\n ('25-2515332', 0),\n ('25-2514642', 0),\n ('25-2515950', 0),\n ('25-2513909', 0),\n ('25-2515007', 0),\n ('25-2515304', 0),\n ('25-2514225', 0),\n ('25-2514953', 0),\n ('25-2514455', 0),\n ('25-2514647', 0),\n ('25-2513703', 0),\n ('25-2514811', 0),\n ('25-2514826', 0),\n ('25-2514716', 0),\n ('25-2514759', 0),\n ('25-2511077', 0),\n ('25-2512691', 0),\n ('25-2512484', 0),\n ('25-2512192', 0),\n ('25-2514676', 0),\n ('25-2514461', 0),\n ('25-2513661', 0),\n ('25-2512604', 0),\n ('25-2511256', 0),\n ('25-2513637', 0),\n ('25-2512607', 0),\n ('25-2513345', 0),\n ('25-2513782', 0),\n ('25-2513542', 0),\n ('25-2513359', 0),\n ('25-2513524', 1),\n ('25-2510376', 0),\n ('25-2513347', 0),\n ('25-2513087', 0),\n ('25-2512196', 0),\n ('25-2513103', 0),\n ('25-2513285', 0),\n ('25-2511107', 1),\n ('25-2511673', 0),\n ('25-2512886', 0),\n ('25-2512698', 0),\n ('25-2511082', 0),\n ('25-2512684', 0),\n ('25-2511619', 0),\n ('25-2511923', 0),\n ('25-2512639', 0),\n ('25-2512849', 1),\n ('25-2512853', 0),\n ('25-2510455', 0),\n ('25-2512387', 0),\n ('25-2512039', 0),\n ('25-2511852', 1),\n ('25-2512374', 0),\n ('25-2512329', 0),\n ('25-2509941', 0),\n ('25-2512033', 0),\n ('25-2511607', 0),\n ('25-2511808', 0),\n ('25-2511321', 0),\n ('25-2510768', 0),\n ('25-2511002', 0),\n ('25-2511959', 0),\n ('25-2511033', 0),\n ('25-2511497', 0),\n ('25-2511069', 0),\n ('25-2511773', 0),\n ('25-2511750', 0),\n ('25-2511300', 0),\n ('25-2511159', 0),\n ('25-2510858', 0),\n ('25-2511104', 0),\n ('25-2511084', 0),\n ('25-2511209', 0),\n ('25-2510577', 0),\n ('25-2510658', 0),\n ('25-2509917', 0),\n ('25-2509859', 0),\n ('25-2510073', 0),\n ('25-2521912', 0),\n ('25-2519134', 1),\n ('25-2520069', 0),\n ('25-2520388', 1),\n ('25-2519335', 1),\n ('25-2519217', 1),\n ('25-2522478', 0),\n ('25-2521995', 0),\n ('25-2518847', 0),\n ('25-2519760', 0),\n ('25-2518059', 1),\n ('25-2522862', 1),\n ('25-2521276', 0),\n ('25-2523712', 1),\n ('25-2523703', 0),\n ('25-2523078', 0),\n ('25-2523664', 0),\n ('25-2521472', 0),\n ('25-2518088', 0),\n ('25-2522131', 0),\n ('25-2516837', 0),\n ('25-2520611', 0),\n ('25-2517646', 0),\n ('25-2523513', 1),\n ('25-2523230', 0),\n ('25-2518383', 0),\n ('25-2519686', 0),\n ('25-2520583', 0),\n ('25-2523533', 0),\n ('25-2523448', 1),\n ('25-2520684', 0),\n ('25-2517995', 1),\n ('25-2519500', 1),\n ('25-2518048', 0),\n ('25-2517922', 0),\n ('25-2519242', 0),\n ('25-2519247', 0),\n ('25-2519273', 0),\n ('25-2523717', 0),\n ('25-2520348', 0),\n ('25-2523339', 0),\n ('25-2519102', 0),\n ('25-2521854', 0),\n ('25-2517954', 1),\n ('25-2522597', 0),\n ('25-2518265', 0),\n ('25-2523742', 0),\n ('25-2522000', 0),\n ('25-2519353', 0),\n ('25-2517374', 0),\n ('25-2518612', 0),\n ('25-2520483', 1),\n ('25-2520697', 0),\n ('25-2523758', 0),\n ('25-2519458', 0),\n ('25-2521908', 0),\n ('25-2523445', 0),\n ('25-2519628', 0),\n ('25-2521486', 0),\n ('25-2523341', 1),\n ('25-2518930', 0),\n ('25-2520987', 0),\n ('25-2519675', 0),\n ('25-2520739', 0),\n ('25-2522485', 0),\n ('25-2522054', 1),\n ('25-2519904', 0),\n ('25-2517870', 0),\n ('25-2517998', 0),\n ('25-2518000', 0),\n ('25-2523586', 0),\n ('25-2521812', 0),\n ('25-2520244', 0),\n ('25-2518868', 0),\n ('25-2520536', 0),\n ('25-2523005', 0),\n ('25-2522753', 0),\n ('25-2517908', 0),\n ('25-2520589', 0),\n ('25-2520992', 0),\n ('25-2518467', 0),\n ('25-2523373', 0),\n ('25-2519096', 0),\n ('25-2523286', 0),\n ('25-2522341', 0),\n ('25-2520005', 0),\n ('25-2523614', 0),\n ('25-2522423', 0),\n ('25-2518315', 1),\n ('25-2519295', 0),\n ('25-2519030', 0),\n ('25-2517574', 0),\n ('25-2517243', 0),\n ('25-2521529', 0),\n ('25-2522087', 0),\n ('25-2518954', 1),\n ('25-2521507', 0),\n ('25-2519425', 0),\n ('25-2521248', 0),\n ('25-2521666', 0),\n ('25-2520056', 0),\n ('25-2521881', 0),\n ('25-2523237', 0),\n ('25-2522824', 0),\n ('25-2517931', 0),\n ('25-2518869', 0),\n ('25-2519559', 0),\n ('25-2519173', 0),\n ('25-2517206', 0),\n ('25-2519191', 0),\n ('25-2519218', 0),\n ('25-2518086', 0),\n ('25-2520133', 0),\n ('25-2516812', 0),\n ('25-2523560', 0),\n ('25-2519234', 0),\n ('25-2523590', 0),\n ('25-2522167', 0),\n ('25-2522829', 0),\n ('25-2521964', 0),\n ('25-2521035', 0),\n ('25-2520482', 0),\n ('25-2521549', 0),\n ('25-2518244', 0),\n ('25-2523707', 0),\n ('25-2523428', 0),\n ('25-2523683', 0),\n ('25-2523403', 0),\n ('25-2523368', 0),\n ('25-2523056', 0),\n ('25-2521730', 0),\n ('25-2522525', 0),\n ('25-2523643', 0),\n ('25-2523678', 0),\n ('25-2523416', 0),\n ('25-2523709', 0),\n ('25-2522081', 0),\n ('25-2522957', 0),\n ('25-2523601', 0),\n ('25-2523569', 0),\n ('25-2523581', 0),\n ('25-2523682', 0),\n ('25-2523659', 0),\n ('25-2517692', 0),\n ('25-2523496', 0),\n ('25-2523366', 0),\n ('25-2519953', 0),\n ('25-2522236', 0),\n ('25-2516887', 0),\n ('25-2517701', 0),\n ('25-2523303', 0),\n ('25-2520663', 0),\n ('25-2522379', 1),\n ('25-2523095', 0),\n ('25-2521878', 0),\n ('25-2522625', 0),\n ('25-2518046', 0),\n ('25-2516947', 0),\n ('25-2521997', 0),\n ('25-2520665', 0),\n ('25-2519762', 0),\n ('25-2518308', 0),\n ('25-2521663', 1),\n ('25-2518848', 0),\n ('25-2522010', 0),\n ('25-2517282', 0),\n ('25-2519755', 0),\n ('25-2518837', 0),\n ('25-2520465', 0),\n ('25-2520691', 0),\n ('25-2519136', 0),\n ('25-2521830', 0),\n ('25-2520833', 0),\n ('25-2521256', 0),\n ('25-2517926', 0),\n ('25-2520737', 0),\n ('25-2520195', 0),\n ('25-2521170', 0),\n ('25-2517856', 0),\n ('25-2520556', 0),\n ('25-2520274', 0),\n ('25-2520617', 0),\n ('25-2520652', 0),\n ('25-2520595', 0),\n ('25-2519256', 0),\n ('25-2519560', 0),\n ('25-2518662', 0),\n ('25-2519965', 0),\n ('25-2517201', 0),\n ('25-2517893', 0),\n ('25-2519993', 0),\n ('25-2519831', 0),\n ('25-2519245', 0),\n ('25-2519949', 0),\n ('25-2518884', 0),\n ('25-2519789', 0),\n ('25-2519683', 0),\n ('25-2519253', 0),\n ('25-2519310', 0),\n ('25-2519744', 0),\n ('25-2519556', 0),\n ('25-2517354', 0),\n ('25-2519348', 0),\n ('25-2519288', 0),\n ('25-2519146', 0),\n ('25-2519258', 0),\n ('25-2517970', 0),\n ('25-2519161', 0),\n ('25-2519126', 0),\n ('25-2518851', 0),\n ('25-2517493', 0),\n ('25-2517963', 0),\n ('25-2519103', 0),\n ('25-2517608', 0),\n ('25-2517603', 0),\n ('25-2517365', 0),\n ('25-2518110', 0),\n ('25-2518178', 0),\n ('25-2518140', 0),\n ('25-2518281', 0),\n ('25-2518172', 0),\n ('25-2518128', 0),\n ('25-2518030', 0),\n ('25-2518053', 0),\n ('25-2517005', 0),\n ('25-2517871', 0),\n ('25-2517887', 0),\n ('25-2517973', 0),\n ('25-2517937', 0),\n ('25-2517421', 0),\n ('25-2516821', 0),\n ('25-2517012', 0),\n ('25-2517721', 0),\n ('25-2517291', 0),\n ('25-2517363', 0),\n ('25-2517249', 0),\n ('25-2517169', 0),\n ('25-2526299', 0),\n ('25-2526797', 1),\n ('25-2528377', 0),\n ('25-2526699', 0),\n ('25-2526159', 0),\n ('25-2530100', 1),\n ('25-2530678', 1),\n ('25-2531824', 1),\n ('25-2528015', 0),\n ('25-2531396', 0),\n ('25-2526869', 0),\n ('25-2531728', 0),\n ('25-2523999', 0),\n ('25-2528044', 0),\n ('25-2526981', 0),\n ('25-2525630', 0),\n ('25-2530070', 0),\n ('25-2528332', 0),\n ('25-2528462', 0),\n ('25-2526190', 0),\n ('25-2525750', 0),\n ('25-2530301', 1),\n ('25-2526838', 0),\n ('25-2531437', 0),\n ('25-2527119', 0),\n ('25-2527713', 0),\n ('25-2527452', 0),\n ('25-2526618', 0),\n ('25-2523820', 0),\n ('25-2527664', 0),\n ('25-2527855', 0),\n ('25-2525037', 0),\n ('25-2531539', 0),\n ('25-2528136', 0),\n ('25-2531228', 0),\n ('25-2526167', 1),\n ('25-2528489', 0),\n ('25-2531206', 0),\n ('25-2525597', 0),\n ('25-2526249', 0),\n ('25-2526098', 0),\n ('25-2525652', 0),\n ('25-2524743', 0),\n ('25-2530091', 0),\n ('25-2527052', 0),\n ('25-2531791', 0),\n ('25-2528546', 0),\n ('25-2524322', 0),\n ('25-2528458', 0),\n ('25-2524639', 0),\n ('25-2531386', 0),\n ('25-2526702', 0),\n ('25-2531274', 0),\n ('25-2527110', 0),\n ('25-2530851', 0),\n ('25-2531763', 0),\n ('25-2526140', 1),\n ('25-2526443', 0),\n ('25-2531052', 1),\n ('25-2525347', 0),\n ('25-2528288', 0),\n ('25-2525128', 0),\n ('25-2530691', 0),\n ('25-2531512', 0),\n ('25-2531587', 0),\n ('25-2528013', 0),\n ('25-2525451', 1),\n ('25-2524360', 0),\n ('25-2526207', 0),\n ('25-2524270', 0),\n ('25-2525251', 0),\n ('25-2524011', 0),\n ('25-2523862', 0),\n ('25-2529946', 0),\n ('25-2525142', 0),\n ('25-2525124', 0),\n ('25-2528974', 0),\n ('25-2531582', 0),\n ('25-2526169', 0),\n ('25-2531810', 0),\n ('25-2527012', 0),\n ('25-2530332', 0),\n ('25-2525430', 0),\n ('25-2529397', 0),\n ('25-2529087', 0),\n ('25-2523982', 0),\n ('25-2530283', 0),\n ('25-2526997', 0),\n ('25-2526993', 0),\n ('25-2530730', 0),\n ('25-2531720', 0),\n ('25-2531388', 0),\n ('25-2531592', 1),\n ('25-2531401', 0),\n ('25-2531499', 0),\n ('25-2530586', 0),\n ('25-2530054', 0),\n ('25-2531772', 0),\n ('25-2527020', 0),\n ('25-2531531', 0),\n ('25-2529037', 0),\n ('25-2527305', 0),\n ('25-2529919', 0),\n ('25-2530211', 0),\n ('25-2531640', 0),\n ('25-2528942', 0),\n ('25-2525976', 0),\n ('25-2527179', 0),\n ('25-2531165', 0),\n ('25-2526157', 1),\n ('25-2527124', 1),\n ('25-2523948', 0),\n ('25-2528555', 0),\n ('25-2530285', 0),\n ('25-2528170', 0),\n ('25-2523989', 0),\n ('25-2527296', 0),\n ('25-2528629', 0),\n ('25-2527438', 0),\n ('25-2528838', 0),\n ('25-2530050', 0),\n ('25-2530602', 0),\n ('25-2531710', 0),\n ('25-2527809', 0),\n ('25-2527963', 0),\n ('25-2529255', 0),\n ('25-2528926', 0),\n ('25-2531076', 0),\n ('25-2531593', 0),\n ('25-2530941', 0),\n ('25-2531589', 0),\n ('25-2528643', 0),\n ('25-2528872', 0),\n ('25-2531754', 0),\n ('25-2531681', 0),\n ('25-2527984', 0),\n ('25-2531730', 0),\n ('25-2531505', 0),\n ('25-2531664', 0),\n ('25-2531610', 0),\n ('25-2531571', 0),\n ('25-2531607', 0),\n ('25-2531410', 0),\n ('25-2531383', 0),\n ('25-2531336', 0),\n ('25-2531261', 0),\n ('25-2531215', 0),\n ('25-2530982', 0),\n ('25-2531380', 0),\n ('25-2531233', 0),\n ('25-2531350', 0),\n ('25-2529483', 0),\n ('25-2531235', 0),\n ('25-2530267', 0),\n ('25-2524808', 0),\n ('25-2530183', 0),\n ('25-2531021', 0),\n ('25-2530415', 0),\n ('25-2530266', 0),\n ('25-2530052', 0),\n ('25-2527860', 0),\n ('25-2528404', 0),\n ('25-2530795', 0),\n ('25-2524852', 0),\n ('25-2530065', 0),\n ('25-2530164', 0),\n ('25-2525351', 0),\n ('25-2527171', 0),\n ('25-2529602', 0),\n ('25-2529748', 0),\n ('25-2523864', 0),\n ('25-2530062', 0),\n ('25-2525650', 0),\n ('25-2523978', 0),\n ('25-2527108', 0),\n ('25-2529741', 0),\n ('25-2529557', 0),\n ('25-2529022', 0),\n ('25-2528501', 0),\n ('25-2527749', 0),\n ('25-2528689', 0),\n ('25-2529170', 0),\n ('25-2528021', 0),\n ('25-2528253', 0),\n ('25-2528494', 0),\n ('25-2528646', 0),\n ('25-2528523', 0),\n ('25-2526186', 0),\n ('25-2528039', 0),\n ('25-2525731', 0),\n ('25-2527989', 0),\n ('25-2527006', 0),\n ('25-2527728', 0),\n ('25-2527817', 0),\n ('25-2528538', 0),\n ('25-2524701', 0),\n ('25-2526663', 0),\n ('25-2528295', 0),\n ('25-2527476', 0),\n ('25-2527988', 0),\n ('25-2527585', 0),\n ('25-2523805', 0),\n ('25-2523940', 0),\n ('25-2526830', 0),\n ('25-2527544', 0),\n ('25-2525121', 1),\n ('25-2525947', 0),\n ('25-2527743', 0),\n ('25-2525636', 0),\n ('25-2527605', 0),\n ('25-2527408', 0),\n ('25-2527073', 0),\n ('25-2525992', 0),\n ('25-2527036', 0),\n ('25-2525120', 0),\n ('25-2524724', 0),\n ('25-2524495', 0),\n ('25-2526987', 0),\n ('25-2524976', 0),\n ('25-2527126', 0),\n ('25-2524432', 0),\n ('25-2524395', 0),\n ('25-2525948', 0),\n ('25-2525477', 0),\n ('25-2525739', 0),\n ('25-2524251', 0),\n ('25-2526100', 0),\n ('25-2526574', 0),\n ('25-2524256', 0),\n ('25-2524451', 0),\n ('25-2523946', 0),\n ('25-2523949', 0),\n ('25-2525710', 0),\n ('25-2525548', 0),\n ('25-2526258', 0),\n ('25-2525489', 0),\n ('25-2526093', 1),\n ('25-2525622', 0),\n ('25-2523901', 0),\n ('25-2525149', 0),\n ('25-2524079', 0),\n ('25-2524992', 0),\n ('25-2524133', 0),\n ('25-2524442', 0),\n ('25-2523846', 0),\n ('25-2523920', 0),\n ('25-2523845', 0),\n ('25-2523974', 0),\n ('25-2539436', 0),\n ('25-2537007', 1),\n ('25-2534619', 1),\n ('25-2534031', 0),\n ('25-2532109', 0),\n ('25-2538991', 0),\n ('25-2537574', 1),\n ('25-2538604', 0),\n ('25-2534705', 1),\n ('25-2535664', 0),\n ('25-2538327', 0),\n ('25-2534382', 0),\n ('25-2534864', 0),\n ('25-2535769', 0),\n ('25-2538283', 0),\n ('25-2532375', 1),\n ('25-2533324', 0),\n ('25-2535227', 0),\n ('25-2531940', 0),\n ('25-2538836', 0),\n ('25-2533599', 0),\n ('25-2532335', 1),\n ('25-2532592', 1),\n ('25-2539465', 0),\n ('25-2536537', 0),\n ('25-2536518', 1),\n ('25-2533337', 0),\n ('25-2534807', 0),\n ('25-2535024', 0),\n ('25-2538558', 0),\n ('25-2532775', 0),\n ('25-2537012', 0),\n ('25-2539252', 0),\n ('25-2535629', 0),\n ('25-2537444', 0),\n ('25-2537846', 0),\n ('25-2533778', 0),\n ('25-2532624', 0),\n ('25-2535811', 0),\n ('25-2537786', 0),\n ('25-2538970', 1),\n ('25-2535413', 0),\n ('25-2534202', 0),\n ('25-2535228', 0),\n ('25-2538951', 0),\n ('25-2532576', 0),\n ('25-2537253', 0),\n ('25-2535018', 0),\n ('25-2534853', 1),\n ('25-2539529', 0),\n ('25-2533228', 1),\n ('25-2533296', 0),\n ('25-2532091', 0),\n ('25-2532945', 0),\n ('25-2533704', 0),\n ('25-2534490', 0),\n ('25-2534292', 0),\n ('25-2538069', 0),\n ('25-2533486', 0),\n ('25-2533247', 0),\n ('25-2536379', 0),\n ('25-2538653', 0),\n ('25-2537250', 0),\n ('25-2534830', 0),\n ('25-2537498', 1),\n ('25-2537604', 0),\n ('25-2538196', 0),\n ('25-2533047', 0),\n ('25-2539463', 0),\n ('25-2539098', 0),\n ('25-2534249', 0),\n ('25-2537569', 0),\n ('25-2537568', 0),\n ('25-2539498', 0),\n ('25-2539122', 0),\n ('25-2539157', 0),\n ('25-2538750', 0),\n ('25-2533268', 0),\n ('25-2539457', 0),\n ('25-2537820', 0),\n ('25-2538723', 0),\n ('25-2538759', 1),\n ('25-2539494', 0),\n ('25-2538961', 0),\n ('25-2535695', 0),\n ('25-2538839', 0),\n ('25-2532024', 0),\n ('25-2538362', 0),\n ('25-2539507', 0),\n ('25-2539163', 0),\n ('25-2536066', 0),\n ('25-2534335', 0),\n ('25-2534234', 0),\n ('25-2538950', 0),\n ('25-2533338', 0),\n ('25-2535624', 0),\n ('25-2539634', 0),\n ('25-2538136', 0),\n ('25-2534631', 0),\n ('25-2539357', 0),\n ('25-2534914', 0),\n ('25-2539113', 0),\n ('25-2539583', 0),\n ('25-2539453', 1),\n ('25-2539489', 0),\n ('25-2539130', 0),\n ('25-2539418', 0),\n ('25-2532215', 0),\n ('25-2539456', 0),\n ('25-2538887', 0),\n ('25-2534971', 0),\n ('25-2539609', 0),\n ('25-2539559', 0),\n ('25-2534176', 0),\n ('25-2539385', 0),\n ('25-2539116', 0),\n ('25-2539562', 0),\n ('25-2536362', 1),\n ('25-2539142', 0),\n ('25-2536248', 0),\n ('25-2538631', 0),\n ('25-2538561', 0),\n ('25-2538780', 0),\n ('25-2538160', 0),\n ('25-2538651', 0),\n ('25-2534604', 0),\n ('25-2538040', 0),\n ('25-2534288', 0),\n ('25-2538502', 0),\n ('25-2536975', 0),\n ('25-2538598', 0),\n ('25-2536941', 0),\n ('25-2536441', 0),\n ('25-2538448', 1),\n ('25-2534273', 0),\n ('25-2537955', 0),\n ('25-2537258', 0),\n ('25-2532357', 0),\n ('25-2537730', 0),\n ('25-2537596', 0),\n ('25-2537566', 0),\n ('25-2535438', 1),\n ('25-2537252', 0),\n ('25-2531911', 0),\n ('25-2537459', 0),\n ('25-2534959', 0),\n ('25-2534303', 0),\n ('25-2534648', 0),\n ('25-2537223', 0),\n ('25-2536470', 0),\n ('25-2535260', 0),\n ('25-2535986', 0),\n ('25-2535322', 0),\n ('25-2535914', 0),\n ('25-2537004', 0),\n ('25-2535710', 0),\n ('25-2536837', 0),\n ('25-2536700', 0),\n ('25-2534937', 0),\n ('25-2535447', 0),\n ('25-2536661', 0),\n ('25-2536520', 0),\n ('25-2535072', 0),\n ('25-2536483', 0),\n ('25-2533032', 0),\n ('25-2534561', 0),\n ('25-2536058', 0),\n ('25-2536069', 0),\n ('25-2535697', 0),\n ('25-2535049', 0),\n ('25-2535337', 0),\n ('25-2536232', 0),\n ('25-2533734', 0),\n ('25-2535513', 0),\n ('25-2535436', 0),\n ('25-2535163', 0),\n ('25-2533541', 0),\n ('25-2534559', 0),\n ('25-2535114', 0),\n ('25-2534305', 0),\n ('25-2533738', 0),\n ('25-2534686', 0),\n ('25-2533230', 0),\n ('25-2533189', 0),\n ('25-2533380', 0),\n ('25-2532608', 0),\n ('25-2533676', 0),\n ('25-2533026', 0),\n ('25-2533053', 0),\n ('25-2533183', 0),\n ('25-2533029', 0),\n ('25-2533290', 0),\n ('25-2533121', 0),\n ('25-2533019', 0),\n ('25-2532523', 0),\n ('25-2532761', 0),\n ('25-2532904', 0),\n ('25-2532239', 0),\n ('25-2532221', 0),\n ('25-2532004', 0),\n ('25-2532081', 0),\n ('25-2531923', 0),\n ('25-2546537', 1),\n ('25-2545830', 0),\n ('25-2545977', 0),\n ('25-2540691', 0),\n ('25-2541328', 0),\n ('25-2540492', 0),\n ('25-2544926', 0),\n ('25-2544239', 0),\n ('25-2543954', 0),\n ('25-2545175', 0),\n ('25-2544252', 1),\n ('25-2546571', 1),\n ('25-2545341', 0),\n ('25-2546199', 0),\n ('25-2540184', 0),\n ('25-2546673', 0),\n ('25-2545196', 0),\n ('25-2544459', 0),\n ('25-2539844', 0),\n ('25-2543318', 0),\n ('25-2545111', 0),\n ('25-2541438', 0),\n ('25-2544170', 1),\n ('25-2541330', 0),\n ('25-2542209', 0),\n ('25-2543467', 0),\n ('25-2540384', 0),\n ('25-2545925', 0),\n ('25-2540146', 1),\n ('25-2543946', 0),\n ('25-2547127', 0),\n ('25-2546209', 0),\n ('25-2546031', 0),\n ('25-2547992', 0),\n ('25-2547834', 0),\n ('25-2539786', 0),\n ('25-2543918', 0),\n ('25-2541530', 0),\n ('25-2540263', 0),\n ('25-2542660', 0),\n ('25-2542508', 0),\n ('25-2548116', 0),\n ('25-2539759', 0),\n ('25-2539891', 0),\n ('25-2546833', 0),\n ('25-2545225', 0),\n ('25-2541646', 0),\n ('25-2541103', 0),\n ('25-2548375', 0),\n ('25-2548357', 0),\n ('25-2545991', 0),\n ('25-2547784', 0),\n ('25-2542903', 0),\n ('25-2542107', 1),\n ('25-2539929', 0),\n ('25-2546616', 0),\n ('25-2548194', 0),\n ('25-2542317', 0),\n ('25-2548285', 0),\n ('25-2546363', 0),\n ('25-2544442', 0),\n ('25-2542652', 0),\n ('25-2547412', 0),\n ('25-2543150', 0),\n ('25-2546190', 0),\n ('25-2544099', 0),\n ('25-2545967', 0),\n ('25-2542907', 0),\n ('25-2547773', 1),\n ('25-2544810', 0),\n ('25-2548135', 0),\n ('25-2546656', 0),\n ('25-2548129', 0),\n ('25-2542195', 0),\n ('25-2544537', 0),\n ('25-2547793', 0),\n ('25-2543993', 0),\n ('25-2548345', 0),\n ('25-2548554', 1),\n ('25-2540136', 0),\n ('25-2548197', 0),\n ('25-2544949', 0),\n ('25-2547754', 0),\n ('25-2541456', 0),\n ('25-2542345', 0),\n ('25-2544990', 0),\n ('25-2545186', 0),\n ('25-2545559', 0),\n ('25-2547826', 0),\n ('25-2545407', 0),\n ('25-2545979', 0),\n ('25-2546674', 0),\n ('25-2547926', 0),\n ('25-2548686', 0),\n ('25-2547530', 0),\n ('25-2548154', 0),\n ('25-2546547', 0),\n ...]"
     },
     "execution_count": 298,
     "metadata": {},
     "output_type": "execute_result"
    }
   ],
   "source": [
    "res_bool"
   ],
   "metadata": {
    "collapsed": false,
    "pycharm": {
     "name": "#%%\n"
    }
   }
  },
  {
   "cell_type": "code",
   "execution_count": 299,
   "outputs": [],
   "source": [
    "res_df = pd.DataFrame.from_records(res_bool, columns=['id','is_high_priority'])"
   ],
   "metadata": {
    "collapsed": false,
    "pycharm": {
     "name": "#%%\n"
    }
   }
  },
  {
   "cell_type": "code",
   "execution_count": 300,
   "outputs": [
    {
     "data": {
      "text/plain": "               id  is_high_priority\n0      25-2512303                 0\n1      25-2513780                 0\n2      25-2515293                 0\n3      25-2514349                 0\n4      25-2514337                 0\n...           ...               ...\n18524  25-3224524                 0\n18525  25-3224569                 0\n18526  25-3224564                 0\n18527  25-3224549                 0\n18528  25-3224582                 0\n\n[18529 rows x 2 columns]",
      "text/html": "<div>\n<style scoped>\n    .dataframe tbody tr th:only-of-type {\n        vertical-align: middle;\n    }\n\n    .dataframe tbody tr th {\n        vertical-align: top;\n    }\n\n    .dataframe thead th {\n        text-align: right;\n    }\n</style>\n<table border=\"1\" class=\"dataframe\">\n  <thead>\n    <tr style=\"text-align: right;\">\n      <th></th>\n      <th>id</th>\n      <th>is_high_priority</th>\n    </tr>\n  </thead>\n  <tbody>\n    <tr>\n      <th>0</th>\n      <td>25-2512303</td>\n      <td>0</td>\n    </tr>\n    <tr>\n      <th>1</th>\n      <td>25-2513780</td>\n      <td>0</td>\n    </tr>\n    <tr>\n      <th>2</th>\n      <td>25-2515293</td>\n      <td>0</td>\n    </tr>\n    <tr>\n      <th>3</th>\n      <td>25-2514349</td>\n      <td>0</td>\n    </tr>\n    <tr>\n      <th>4</th>\n      <td>25-2514337</td>\n      <td>0</td>\n    </tr>\n    <tr>\n      <th>...</th>\n      <td>...</td>\n      <td>...</td>\n    </tr>\n    <tr>\n      <th>18524</th>\n      <td>25-3224524</td>\n      <td>0</td>\n    </tr>\n    <tr>\n      <th>18525</th>\n      <td>25-3224569</td>\n      <td>0</td>\n    </tr>\n    <tr>\n      <th>18526</th>\n      <td>25-3224564</td>\n      <td>0</td>\n    </tr>\n    <tr>\n      <th>18527</th>\n      <td>25-3224549</td>\n      <td>0</td>\n    </tr>\n    <tr>\n      <th>18528</th>\n      <td>25-3224582</td>\n      <td>0</td>\n    </tr>\n  </tbody>\n</table>\n<p>18529 rows × 2 columns</p>\n</div>"
     },
     "execution_count": 300,
     "metadata": {},
     "output_type": "execute_result"
    }
   ],
   "source": [
    "res_df"
   ],
   "metadata": {
    "collapsed": false,
    "pycharm": {
     "name": "#%%\n"
    }
   }
  },
  {
   "cell_type": "code",
   "execution_count": 301,
   "outputs": [],
   "source": [
    "res_df.to_csv('nn-results4.csv',columns=['id', 'is_high_priority'], index=False)"
   ],
   "metadata": {
    "collapsed": false,
    "pycharm": {
     "name": "#%%\n"
    }
   }
  },
  {
   "cell_type": "markdown",
   "metadata": {
    "id": "sbrPymbcLv5P",
    "pycharm": {
     "name": "#%% md\n"
    }
   },
   "source": [
    "### 3. Объединяем результаты - если кто-то из моделей сказал что задача важная, то считаем её важной"
   ]
  },
  {
   "cell_type": "code",
   "execution_count": 42,
   "metadata": {
    "id": "Q5Vlo13GLvlV",
    "pycharm": {
     "name": "#%%\n"
    }
   },
   "outputs": [],
   "source": [
    "final_result['is_high_priority'] = (final_result['is_high_priority_tree'] > 0).astype(int) \n",
    "\n",
    "final_result.to_csv('tree-model-links-and-custom.csv', columns=['id', 'is_high_priority'], index=False)"
   ]
  }
 ],
 "metadata": {
  "colab": {
   "collapsed_sections": [
    "1BEvcAagPVxl"
   ],
   "name": "issue_priority_prediction.ipynb",
   "provenance": []
  },
  "kernelspec": {
   "display_name": "Python 3 (ipykernel)",
   "language": "python",
   "name": "python3"
  },
  "language_info": {
   "name": "python"
  }
 },
 "nbformat": 4,
 "nbformat_minor": 1
}