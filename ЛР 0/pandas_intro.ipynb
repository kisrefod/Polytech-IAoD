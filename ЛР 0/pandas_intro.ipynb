{
 "cells": [
  {
   "cell_type": "markdown",
   "metadata": {
    "id": "Ghtjb3JfICDF"
   },
   "source": [
    "## Pandas basics"
   ]
  },
  {
   "cell_type": "code",
   "execution_count": null,
   "metadata": {
    "id": "-sCzgdUDICDG"
   },
   "outputs": [],
   "source": [
    "# отключим предупреждения\n",
    "import warnings\n",
    "warnings.simplefilter(\"ignore\")\n",
    "\n",
    "import numpy as np\n",
    "import pandas as pd\n",
    "\n",
    "#%matplotlib inline\n",
    "#import matplotlib.pyplot as plt"
   ]
  },
  {
   "cell_type": "markdown",
   "metadata": {
    "id": "KXPFnt2eICDS"
   },
   "source": [
    "Основными структурами данных в Pandas являются классы Series и DataFrame. \n",
    "\n",
    "Первый из них представляет собой одномерный индексированный массив данных некоторого фиксированного типа. \n",
    "\n",
    "Второй - это двухмерная структура данных, представляющая собой таблицу, каждый столбец которой содержит данные одного типа. Можно представлять её как словарь объектов типа Series. Структура DataFrame отлично подходит для представления реальных данных: строки соответствуют признаковым описаниям отдельных объектов, а столбцы соответствуют признакам.\n",
    "\n",
    "Для начала рассмотрим простые примеры создания таких объектов и возможных операций над ними."
   ]
  },
  {
   "cell_type": "markdown",
   "metadata": {
    "id": "2Bnq2JJMICDT"
   },
   "source": [
    "### Series"
   ]
  },
  {
   "cell_type": "markdown",
   "metadata": {
    "id": "H3S6wyYWICDU"
   },
   "source": [
    "**Создание объекта Series из 5 элементов, индексированных буквами:**"
   ]
  },
  {
   "cell_type": "code",
   "execution_count": null,
   "metadata": {
    "colab": {
     "base_uri": "https://localhost:8080/"
    },
    "id": "AHe5u8c4ICDU",
    "outputId": "6b5ea6c1-0302-408e-f745-eb99c42b0b4b"
   },
   "outputs": [],
   "source": [
    "salaries = pd.Series([400, 300, 200, 250], index=[\"Andrew\", \"Bob\", \"Charles\", \"Ann\"])\n",
    "salaries"
   ]
  },
  {
   "cell_type": "code",
   "execution_count": null,
   "metadata": {},
   "outputs": [],
   "source": [
    "salaries.loc['Andrew']"
   ]
  },
  {
   "cell_type": "code",
   "execution_count": null,
   "metadata": {
    "colab": {
     "base_uri": "https://localhost:8080/"
    },
    "id": "VQVAGdb_ICDW",
    "outputId": "6a43482b-2fce-49d8-aaf7-b090a6061c8d"
   },
   "outputs": [],
   "source": [
    "salaries[salaries > 250]"
   ]
  },
  {
   "cell_type": "markdown",
   "metadata": {
    "id": "VO2aqKMMICDW"
   },
   "source": [
    "**Индексирование возможно в виде series.Name или series['Name'].**"
   ]
  },
  {
   "cell_type": "code",
   "execution_count": null,
   "metadata": {
    "colab": {
     "base_uri": "https://localhost:8080/"
    },
    "id": "ljPS3k7uICDX",
    "outputId": "d5c65fb3-4143-4043-ab60-48af576c90b7"
   },
   "outputs": [],
   "source": [
    "salaries.Ann == salaries[\"Andrew\"]"
   ]
  },
  {
   "cell_type": "markdown",
   "metadata": {
    "id": "fPEiUma5ICDa"
   },
   "source": [
    "**Series поддерживает пропуски в данных.**"
   ]
  },
  {
   "cell_type": "code",
   "execution_count": null,
   "metadata": {
    "colab": {
     "base_uri": "https://localhost:8080/"
    },
    "id": "n_UBTJTbICDa",
    "outputId": "5cf4750c-3320-4fe6-c702-c9eb5568749b"
   },
   "outputs": [],
   "source": [
    "salaries.Ann = None  # Series can contain missing values\n",
    "salaries"
   ]
  },
  {
   "cell_type": "code",
   "execution_count": null,
   "metadata": {},
   "outputs": [],
   "source": [
    "salaries.mean()"
   ]
  },
  {
   "cell_type": "markdown",
   "metadata": {
    "id": "71UxfHT3ICDb"
   },
   "source": [
    "**Объекты Series похожи на ndarray и могут быть переданы в качестве аргументов большинству функций из Numpy.**"
   ]
  },
  {
   "cell_type": "code",
   "execution_count": null,
   "metadata": {
    "colab": {
     "base_uri": "https://localhost:8080/"
    },
    "id": "Eyo3sGqgICDb",
    "outputId": "88161c23-98b3-4844-9e6d-c187b213f47c"
   },
   "outputs": [],
   "source": [
    "print(\"Second element of salaries is\", salaries[1], \"\\n\")\n",
    "\n",
    "# индексирование как для ndarray\n",
    "print(salaries[:3], \"\\n\")\n",
    "\n",
    "print(\"There are\", len(salaries[salaries > 0]), \"positive elements in salaries\\n\")\n",
    "\n",
    "print(np.exp(salaries))"
   ]
  },
  {
   "cell_type": "markdown",
   "metadata": {
    "id": "vgoa6agIICDc"
   },
   "source": [
    "### DataFrame"
   ]
  },
  {
   "cell_type": "markdown",
   "metadata": {
    "id": "NaD3m9_jICDc"
   },
   "source": [
    "### Создание и изменение"
   ]
  },
  {
   "cell_type": "markdown",
   "metadata": {
    "id": "S7JDCVWcICDc"
   },
   "source": [
    "DataFrame можно создать, например, из массива ndarray, указав дополнительно столбцов и индексы для строк."
   ]
  },
  {
   "cell_type": "code",
   "execution_count": null,
   "metadata": {
    "colab": {
     "base_uri": "https://localhost:8080/",
     "height": 0
    },
    "id": "iXWKdowhICDd",
    "outputId": "02760e40-d4dc-4bb3-da12-b13ab12af1a9"
   },
   "outputs": [],
   "source": [
    "df1 = pd.DataFrame(np.random.randn(5, 3),\n",
    "                   index=['r1', 'r2', 'r3', 'r4', 'r5'],\n",
    "                   columns=['c1', 'c2', 'c3'],\n",
    "                  )\n",
    "df1"
   ]
  },
  {
   "cell_type": "markdown",
   "metadata": {
    "id": "yrg1HxPZICDd"
   },
   "source": [
    "Или из словаря numpy массивов или списков"
   ]
  },
  {
   "cell_type": "code",
   "execution_count": null,
   "metadata": {
    "colab": {
     "base_uri": "https://localhost:8080/",
     "height": 0
    },
    "id": "dsZjYM8zICDe",
    "outputId": "73a19bfd-4ec1-48a7-c79b-5ea1d7c293ed"
   },
   "outputs": [],
   "source": [
    "df2 = pd.DataFrame({'A': np.random.random(5), \n",
    "                    'B': [\"a\", \"b\", \"c\", \"d\", \"e\"], \n",
    "                    'C': np.arange(5) > 2}\n",
    "                  )\n",
    "\n",
    "df2"
   ]
  },
  {
   "cell_type": "markdown",
   "metadata": {
    "id": "Hp4GX0wMICDf"
   },
   "source": [
    "Обращение к элементам фрейма:"
   ]
  },
  {
   "cell_type": "code",
   "execution_count": null,
   "metadata": {
    "colab": {
     "base_uri": "https://localhost:8080/",
     "height": 0
    },
    "id": "VP7HHCRpICDf",
    "outputId": "ebb8f004-6a11-4c6e-a609-f9cf8c92ba3a"
   },
   "outputs": [],
   "source": [
    "print(\"Элемент на позиции 3, B это\", df2.at[3, 'B'])\n",
    "\n",
    "df2.loc[[1, 4], ['A', 'B']]\n"
   ]
  },
  {
   "cell_type": "markdown",
   "metadata": {
    "id": "V_KDiplOICDf"
   },
   "source": [
    "**Изменение элементов и добавление новых:**"
   ]
  },
  {
   "cell_type": "code",
   "execution_count": null,
   "metadata": {
    "colab": {
     "base_uri": "https://localhost:8080/",
     "height": 0
    },
    "id": "g3fK5gl7ICDg",
    "outputId": "3a401152-9852-4fa1-dba6-5b6716dfef70"
   },
   "outputs": [],
   "source": [
    "df2.at[2, 'B'] = 'new'\n",
    "df2"
   ]
  },
  {
   "cell_type": "code",
   "execution_count": null,
   "metadata": {
    "colab": {
     "base_uri": "https://localhost:8080/",
     "height": 0
    },
    "id": "x3ditnYwICDh",
    "outputId": "1d7741c3-77d2-4421-ff40-fb7338f84dd9"
   },
   "outputs": [],
   "source": [
    "df2.loc[5] = [10000, 'new', False]\n",
    "df2"
   ]
  },
  {
   "cell_type": "code",
   "execution_count": null,
   "metadata": {
    "colab": {
     "base_uri": "https://localhost:8080/",
     "height": 0
    },
    "id": "mR_P5iMCICDh",
    "outputId": "eb68f403-7e82-45de-88e4-d027b26f3eb0"
   },
   "outputs": [],
   "source": [
    "df1.columns = [\"A\", \"B\", \"C\"]\n",
    "\n",
    "df3 = df1.append(df2)\n",
    "\n",
    "df3"
   ]
  },
  {
   "cell_type": "markdown",
   "metadata": {
    "id": "80PqzsHuICDi"
   },
   "source": [
    "#### Обработка пропущенных значений"
   ]
  },
  {
   "cell_type": "code",
   "execution_count": null,
   "metadata": {
    "colab": {
     "base_uri": "https://localhost:8080/",
     "height": 0
    },
    "id": "PbfrRNzOICDi",
    "outputId": "2018ab53-ba59-4904-c640-08a267b2684a"
   },
   "outputs": [],
   "source": [
    "df1.at[\"o2\", \"A\"] = np.nan\n",
    "df1.at[\"o4\", \"C\"] = np.nan\n",
    "df1"
   ]
  },
  {
   "cell_type": "markdown",
   "metadata": {
    "id": "0mY4jpwpICDi"
   },
   "source": [
    "**Булева маска для пропущенных значений (True - там, где был пропуск, иначе - False):**"
   ]
  },
  {
   "cell_type": "code",
   "execution_count": null,
   "metadata": {
    "colab": {
     "base_uri": "https://localhost:8080/",
     "height": 0
    },
    "id": "DXP0qcZyICDi",
    "outputId": "80094eae-5193-495e-ffca-b79229f6dd66"
   },
   "outputs": [],
   "source": [
    "pd.isnull(df1)"
   ]
  },
  {
   "cell_type": "markdown",
   "metadata": {
    "id": "gNq8OKJ5ICDj"
   },
   "source": [
    "**Можно удалить все строки, где есть хотя бы один пропуск.**"
   ]
  },
  {
   "cell_type": "code",
   "execution_count": null,
   "metadata": {
    "colab": {
     "base_uri": "https://localhost:8080/",
     "height": 0
    },
    "id": "hfbGWNCwICDj",
    "outputId": "34ac8a82-4bbe-4c71-9c5f-22002d565011"
   },
   "outputs": [],
   "source": [
    "df1.dropna(how = \"all\")"
   ]
  },
  {
   "cell_type": "markdown",
   "metadata": {
    "id": "4X7BcNSsICDk"
   },
   "source": [
    "**Пропуски можно заменить каким-то значением.**"
   ]
  },
  {
   "cell_type": "code",
   "execution_count": null,
   "metadata": {},
   "outputs": [],
   "source": [
    "df1.fillna(0)"
   ]
  },
  {
   "cell_type": "markdown",
   "metadata": {},
   "source": [
    "**Чтение из файла**"
   ]
  },
  {
   "cell_type": "code",
   "execution_count": null,
   "metadata": {},
   "outputs": [],
   "source": [
    "df = pd.read_csv(\"beauty.csv\", sep=\";\")"
   ]
  },
  {
   "cell_type": "markdown",
   "metadata": {},
   "source": [
    "**Посмотрим на размер данных и названия признаков.**"
   ]
  },
  {
   "cell_type": "code",
   "execution_count": null,
   "metadata": {},
   "outputs": [],
   "source": [
    "print(df.shape)\n",
    "print(df.columns.values)"
   ]
  },
  {
   "cell_type": "code",
   "execution_count": null,
   "metadata": {},
   "outputs": [],
   "source": [
    "df.head(5)"
   ]
  },
  {
   "cell_type": "markdown",
   "metadata": {},
   "source": [
    "**При работе с большими объёмами данных бывает удобно посмотреть только на небольшие части фрейма (например, начало).**"
   ]
  },
  {
   "cell_type": "code",
   "execution_count": null,
   "metadata": {},
   "outputs": [],
   "source": [
    "df.head(4)"
   ]
  },
  {
   "cell_type": "markdown",
   "metadata": {},
   "source": [
    "**DataFrame можно отсортировать по значению признаков**"
   ]
  },
  {
   "cell_type": "code",
   "execution_count": null,
   "metadata": {},
   "outputs": [],
   "source": [
    "df.sort_values(by=\"wage\", ascending=False).head()"
   ]
  },
  {
   "cell_type": "code",
   "execution_count": null,
   "metadata": {},
   "outputs": [],
   "source": [
    "df.sort_values(by=[\"female\", \"wage\"], ascending=[True, False]).head()"
   ]
  },
  {
   "cell_type": "markdown",
   "metadata": {},
   "source": [
    "### Индексация и извлечение данных"
   ]
  },
  {
   "cell_type": "code",
   "execution_count": null,
   "metadata": {},
   "outputs": [],
   "source": [
    "df[\"goodhlth\"].mean()"
   ]
  },
  {
   "cell_type": "code",
   "execution_count": null,
   "metadata": {},
   "outputs": [],
   "source": [
    "df[df[\"female\"] == 1].head()"
   ]
  },
  {
   "cell_type": "code",
   "execution_count": null,
   "metadata": {},
   "outputs": [],
   "source": [
    "df[(df[\"goodhlth\"] == 1) & (df[\"female\"] == 1)].head()"
   ]
  },
  {
   "cell_type": "code",
   "execution_count": null,
   "metadata": {},
   "outputs": [],
   "source": [
    "df[(df[\"female\"] == 0)][\"wage\"].mean() - df[(df[\"female\"] == 1)][\"wage\"].mean()"
   ]
  },
  {
   "cell_type": "markdown",
   "metadata": {},
   "source": [
    "**Применение функции к каждому столбцу:**"
   ]
  },
  {
   "cell_type": "code",
   "execution_count": null,
   "metadata": {},
   "outputs": [],
   "source": [
    "df.apply(np.sum)"
   ]
  },
  {
   "cell_type": "markdown",
   "metadata": {},
   "source": [
    "**Группирование данных в зависимости от значения признака *looks* и подсчет среднего значения по каждому столбцу в каждой группе.**"
   ]
  },
  {
   "cell_type": "code",
   "execution_count": null,
   "metadata": {},
   "outputs": [],
   "source": [
    "g = df.groupby(\"looks\")\n",
    "\n",
    "for (i, sub_df) in g:\n",
    "    \n",
    "    print (i, len(sub_df))\n",
    "    \n",
    "    print(sub_df[\"wage\"].mean(), sub_df[\"looks\"].mean())"
   ]
  },
  {
   "cell_type": "markdown",
   "metadata": {},
   "source": [
    "**Обращение к конкретной группе:**"
   ]
  },
  {
   "cell_type": "code",
   "execution_count": null,
   "metadata": {},
   "outputs": [],
   "source": [
    "d1 = g.get_group(5)\n",
    "d1.head()"
   ]
  },
  {
   "cell_type": "code",
   "execution_count": null,
   "metadata": {},
   "outputs": [],
   "source": []
  }
 ],
 "metadata": {
  "anaconda-cloud": {},
  "colab": {
   "collapsed_sections": [
    "vgoa6agIICDc",
    "NaD3m9_jICDc",
    "80PqzsHuICDi",
    "1tg334jTICDl",
    "VU09GPabICDn"
   ],
   "name": "practice1_part1_pandas_intro",
   "provenance": []
  },
  "kernelspec": {
   "display_name": "Python 3 (ipykernel)",
   "language": "python",
   "name": "python3"
  },
  "language_info": {
   "codemirror_mode": {
    "name": "ipython",
    "version": 3
   },
   "file_extension": ".py",
   "mimetype": "text/x-python",
   "name": "python",
   "nbconvert_exporter": "python",
   "pygments_lexer": "ipython3",
   "version": "3.9.7"
  },
  "name": "seminar02_part2_pandas.ipynb"
 },
 "nbformat": 4,
 "nbformat_minor": 4
}
