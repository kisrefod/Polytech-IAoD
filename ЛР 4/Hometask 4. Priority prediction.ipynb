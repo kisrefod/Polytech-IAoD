{
 "nbformat": 4,
 "nbformat_minor": 0,
 "metadata": {
  "colab": {
   "name": "issue_priority_prediction.ipynb",
   "provenance": [],
   "collapsed_sections": [
    "1BEvcAagPVxl"
   ]
  },
  "kernelspec": {
   "name": "python3",
   "display_name": "Python 3"
  },
  "language_info": {
   "name": "python"
  }
 },
 "cells": [
  {
   "cell_type": "markdown",
   "source": [
    "## PRIMO 2022 ML Homework 4\n",
    "Estimating the issue priority in the bug tracker\n",
    "\n",
    "train.csv - обучающий набор\n",
    "test.csv - тестовый набор\n",
    "sample_submission.csv - образец итогового файла с предсказаниями. Обратите внимание, что вместо True и False здесь используются 1 и 0.\n",
    "\n",
    "<u><b>summary</u></b> — краткое описание проблемы.\n",
    "<u><b>description</u></b> — более подробное описание проблемы. Здесь могут быть использованы языки разметки Markdown и YouTrack Wiki.\n",
    "<u><b>reporter</u></b> — создатель задачи. Обратите внимание, что поле содержит объект JSON, а не простое имя.\n",
    "<u><b>created</u></b> — дата создания задачи в миллисекундах с 1 января 1970 г.\n",
    "<u><b>customFields</u></b> — JSON-объект со вспомогательными данными о задаче: подсистема, тип, связанная версия продукта и т. д. Использование потенциально изменяемых полей при обучении модели может привести к \"утечке\" данных (data leakage). Использовать их не запрещено, но будьте осторожны и валидируйте свои модели.\n",
    "<u><b>links</u></b> — JSON-объект со ссылками на другие задачи, если такие есть: какие задачи связаны с этой, какие задачи дублируются этой и т. д.\n",
    "<u><b>is_high_priority</u></b> — целевая переменная: 1, если проблема имеет высокий приоритет, и 0 - в противном случае.\n",
    "Блокнот с фрагментами кода, которые показывают, как начать работу с полями JSON в CSV можно найти на dl."
   ],
   "metadata": {
    "id": "FI182HK-PVxb"
   }
  },
  {
   "cell_type": "markdown",
   "source": [
    "### Размышления\n",
    "Summary и Description долго и сложно парсить. Трогать не буду\n",
    "Reporter - может иметь значение, но вряд ли\n",
    "Created - выглядит бесперспективно\n",
    "CustomFields - выглядит очень перспективно\n",
    "Links - выглядит странно, но распарсить можно также, как CustomFields - добавлю\n",
    "\n",
    "Из моделей - быстрее и эффективней всего оказался Random Forest - в него всё загрузим и посмотрим - переступим порог или нет"
   ],
   "metadata": {
    "collapsed": false,
    "pycharm": {
     "name": "#%% md\n"
    }
   }
  },
  {
   "cell_type": "code",
   "execution_count": 1,
   "outputs": [],
   "source": [
    "import pandas as pd\n",
    "import numpy as np\n",
    "import json\n",
    "\n",
    "np.set_printoptions(precision=3)\n",
    "\n",
    "import warnings\n",
    "warnings.simplefilter('ignore')\n",
    "\n",
    "from sklearn.model_selection import train_test_split\n",
    "from sklearn.ensemble import RandomForestRegressor\n",
    "from sklearn.metrics import f1_score\n",
    "from sklearn.model_selection import ParameterGrid\n",
    "from tqdm import tqdm"
   ],
   "metadata": {
    "collapsed": false,
    "pycharm": {
     "name": "#%%\n"
    }
   }
  },
  {
   "cell_type": "code",
   "source": [
    "train = pd.read_csv('train.csv')\n",
    "train_df = train\n",
    "train_df.info()"
   ],
   "metadata": {
    "colab": {
     "base_uri": "https://localhost:8080/",
     "height": 615
    },
    "outputId": "d13b322b-d65e-4932-efa9-54cbd06862fc",
    "id": "Wz04Ri9mPVxk"
   },
   "execution_count": 2,
   "outputs": [
    {
     "name": "stdout",
     "output_type": "stream",
     "text": [
      "<class 'pandas.core.frame.DataFrame'>\n",
      "RangeIndex: 105365 entries, 0 to 105364\n",
      "Data columns (total 8 columns):\n",
      " #   Column            Non-Null Count   Dtype \n",
      "---  ------            --------------   ----- \n",
      " 0   id                105365 non-null  object\n",
      " 1   summary           105364 non-null  object\n",
      " 2   description       103548 non-null  object\n",
      " 3   reporter          105365 non-null  object\n",
      " 4   created           105365 non-null  int64 \n",
      " 5   customFields      105365 non-null  object\n",
      " 6   links             105365 non-null  object\n",
      " 7   is_high_priority  105365 non-null  bool  \n",
      "dtypes: bool(1), int64(1), object(6)\n",
      "memory usage: 5.7+ MB\n"
     ]
    }
   ]
  },
  {
   "cell_type": "markdown",
   "source": [
    "## JSON"
   ],
   "metadata": {
    "collapsed": false,
    "pycharm": {
     "name": "#%% md\n"
    }
   }
  },
  {
   "cell_type": "code",
   "execution_count": 3,
   "outputs": [],
   "source": [
    "json_fields = pd.json_normalize(\n",
    "    train_df.customFields.map(\n",
    "        json.loads\n",
    "    ).map(\n",
    "        lambda x: {\n",
    "            field['name']: field['value'] for field in x\n",
    "        }\n",
    "    )\n",
    ")\n",
    "json_fields.set_index(train_df.index, inplace=True)\n",
    "dummy_type = json_fields['Type.name'].str.get_dummies()\n",
    "dummy_subsystem = json_fields['State.name'].str.get_dummies()"
   ],
   "metadata": {
    "collapsed": false,
    "pycharm": {
     "name": "#%%\n"
    }
   }
  },
  {
   "cell_type": "code",
   "execution_count": 4,
   "outputs": [],
   "source": [
    "json_links = pd.json_normalize(\n",
    "    train_df.links.map(\n",
    "        json.loads\n",
    "    ).map(\n",
    "        lambda x: {\n",
    "            link['direction'] + link['linkType']['name']: len(link['issues']) for link in x\n",
    "        }\n",
    "    )\n",
    ")\n",
    "json_links.set_index(train_df.index, inplace=True)"
   ],
   "metadata": {
    "collapsed": false,
    "pycharm": {
     "name": "#%%\n"
    }
   }
  },
  {
   "cell_type": "markdown",
   "source": [
    "## Random Forest"
   ],
   "metadata": {
    "id": "rpavxPlghe8k"
   }
  },
  {
   "cell_type": "code",
   "execution_count": 8,
   "outputs": [],
   "source": [
    "forest_X = pd.concat([json_links, dummy_type, dummy_subsystem], axis = 1)\n",
    "if not ('Security (deprecated use Security Problem instead)' in forest_X.columns):\n",
    "    forest_X['Security (deprecated use Security Problem instead)'] = 0\n",
    "forest_Y = train_df['is_high_priority']"
   ],
   "metadata": {
    "collapsed": false,
    "pycharm": {
     "name": "#%%\n"
    }
   }
  },
  {
   "cell_type": "code",
   "source": [
    "tree_threshold = .2\n",
    "\n",
    "param_grid = dict(split_rand_state=range(5, 6), model_rand_state=range(5, 6), test_size=[0.2], n_estimators=[100], threshold=[tree_threshold])\n",
    "\n",
    "forest_results = []\n",
    "\n",
    "for params in tqdm(ParameterGrid(param_grid)):\n",
    "    forest_X_train, forest_X_test, forest_Y_train, forest_Y_test = train_test_split(forest_X,\n",
    "                                                                        forest_Y,\n",
    "                                                                        stratify=forest_Y,\n",
    "                                                                        random_state=params['split_rand_state'],\n",
    "                                                                        test_size=params['test_size'])\n",
    "\n",
    "    RF_model = RandomForestRegressor(random_state = params['model_rand_state'], n_estimators = params['n_estimators'])\n",
    "\n",
    "    RF_model.fit(forest_X_train, forest_Y_train)\n",
    "\n",
    "    forest_Y_train_predicted = RF_model.predict(forest_X_train)\n",
    "    forest_Y_test_predicted = RF_model.predict(forest_X_test)\n",
    "\n",
    "    forest_results.append(dict(\n",
    "                        estimator=RF_model,\n",
    "                        parameters=params,\n",
    "                        train_f1 = f1_score(y_true=forest_Y_train, y_pred=forest_Y_train_predicted > params['threshold']),\n",
    "                        test_f1 = f1_score(y_true=forest_Y_test, y_pred=forest_Y_test_predicted > params['threshold'])))"
   ],
   "metadata": {
    "colab": {
     "base_uri": "https://localhost:8080/"
    },
    "id": "Lvg0-99vldHX",
    "outputId": "321eda75-3704-4ccb-9cca-2a04b521af74"
   },
   "execution_count": 9,
   "outputs": [
    {
     "name": "stderr",
     "output_type": "stream",
     "text": [
      "100%|██████████| 1/1 [00:26<00:00, 26.55s/it]\n"
     ]
    }
   ]
  },
  {
   "cell_type": "code",
   "source": [
    "forest_result_df = pd.DataFrame(forest_results)\n",
    "forest_result_df"
   ],
   "metadata": {
    "colab": {
     "base_uri": "https://localhost:8080/",
     "height": 81
    },
    "id": "XqKfk_Q-oGnM",
    "outputId": "bc0c80ad-0be7-4143-b5d3-c283a31ab6cd"
   },
   "execution_count": 10,
   "outputs": [
    {
     "data": {
      "text/plain": "                                           estimator  \\\n0  (DecisionTreeRegressor(max_features='auto', ra...   \n\n                                          parameters  train_f1   test_f1  \n0  {'model_rand_state': 5, 'n_estimators': 100, '...  0.327205  0.241642  ",
      "text/html": "<div>\n<style scoped>\n    .dataframe tbody tr th:only-of-type {\n        vertical-align: middle;\n    }\n\n    .dataframe tbody tr th {\n        vertical-align: top;\n    }\n\n    .dataframe thead th {\n        text-align: right;\n    }\n</style>\n<table border=\"1\" class=\"dataframe\">\n  <thead>\n    <tr style=\"text-align: right;\">\n      <th></th>\n      <th>estimator</th>\n      <th>parameters</th>\n      <th>train_f1</th>\n      <th>test_f1</th>\n    </tr>\n  </thead>\n  <tbody>\n    <tr>\n      <th>0</th>\n      <td>(DecisionTreeRegressor(max_features='auto', ra...</td>\n      <td>{'model_rand_state': 5, 'n_estimators': 100, '...</td>\n      <td>0.327205</td>\n      <td>0.241642</td>\n    </tr>\n  </tbody>\n</table>\n</div>"
     },
     "execution_count": 10,
     "metadata": {},
     "output_type": "execute_result"
    }
   ]
  },
  {
   "cell_type": "markdown",
   "source": [
    "## Test"
   ],
   "metadata": {
    "id": "trNL9SnKPVxo"
   }
  },
  {
   "cell_type": "code",
   "source": [
    "test_df = pd.read_csv('test.csv')\n",
    "test_df.summary.fillna('', inplace=True)\n",
    "test_df.description.fillna('', inplace=True)"
   ],
   "metadata": {
    "colab": {
     "base_uri": "https://localhost:8080/",
     "height": 250
    },
    "outputId": "02794362-630f-4bcf-e16e-fcb7f507462e",
    "id": "3V9rMFkUPVxo"
   },
   "execution_count": 11,
   "outputs": []
  },
  {
   "cell_type": "code",
   "source": [
    "json_fields = pd.json_normalize(\n",
    "    test_df.customFields.map(\n",
    "        json.loads\n",
    "    ).map(\n",
    "        lambda x: {\n",
    "            field['name']: field['value'] for field in x\n",
    "        }\n",
    "    )\n",
    ")\n",
    "json_fields.set_index(test_df.index, inplace=True)\n",
    "dummy_type = json_fields['Type.name'].str.get_dummies()\n",
    "dummy_subsystem = json_fields['State.name'].str.get_dummies()\n",
    "\n",
    "json_links = pd.json_normalize(\n",
    "    test_df.links.map(\n",
    "        json.loads\n",
    "    ).map(\n",
    "        lambda x: {\n",
    "            link['direction'] + link['linkType']['name']: len(link['issues']) for link in x\n",
    "        }\n",
    "    )\n",
    ")\n",
    "json_links.set_index(test_df.index, inplace=True)\n",
    "\n",
    "forest_X = pd.concat([json_links, dummy_type, dummy_subsystem], axis = 1)\n",
    "\n",
    "if not ('Security (deprecated use Security Problem instead)' in forest_X.columns):\n",
    "    forest_X['Security (deprecated use Security Problem instead)'] = 0"
   ],
   "metadata": {
    "colab": {
     "base_uri": "https://localhost:8080/",
     "height": 661
    },
    "id": "SpRbaE9I7hqQ",
    "outputId": "9d209ade-94bf-4107-e659-5f61d7aab743"
   },
   "execution_count": 12,
   "outputs": []
  },
  {
   "cell_type": "code",
   "source": [
    "forest_Y = RF_model.predict(forest_X)"
   ],
   "metadata": {
    "colab": {
     "base_uri": "https://localhost:8080/"
    },
    "id": "QOBSb4k08Uf3",
    "outputId": "b82d3d3a-1ec8-4d41-de41-b7be417ee31a"
   },
   "execution_count": 13,
   "outputs": []
  },
  {
   "cell_type": "code",
   "source": [
    "probabilities = (forest_Y > tree_threshold).astype(int)\n",
    "\n",
    "tree_result = pd.concat([test_df[\"id\"], pd.DataFrame(probabilities, columns=['is_high_priority'])], axis=1)\n",
    "tree_result.to_csv('PotatoTeam.csv', columns=['id', 'is_high_priority'], index=False)\n",
    "tree_result"
   ],
   "metadata": {
    "id": "HvmHS73T8nFH",
    "colab": {
     "base_uri": "https://localhost:8080/",
     "height": 424
    },
    "outputId": "1e486bb0-440e-4ae1-9424-26bc6e27ff06",
    "pycharm": {
     "name": "#%%\n"
    }
   },
   "execution_count": 14,
   "outputs": [
    {
     "data": {
      "text/plain": "               id  is_high_priority\n0      25-2512303                 0\n1      25-2513780                 0\n2      25-2515293                 0\n3      25-2514349                 0\n4      25-2514337                 0\n...           ...               ...\n18524  25-3224524                 0\n18525  25-3224569                 0\n18526  25-3224564                 0\n18527  25-3224549                 0\n18528  25-3224582                 0\n\n[18529 rows x 2 columns]",
      "text/html": "<div>\n<style scoped>\n    .dataframe tbody tr th:only-of-type {\n        vertical-align: middle;\n    }\n\n    .dataframe tbody tr th {\n        vertical-align: top;\n    }\n\n    .dataframe thead th {\n        text-align: right;\n    }\n</style>\n<table border=\"1\" class=\"dataframe\">\n  <thead>\n    <tr style=\"text-align: right;\">\n      <th></th>\n      <th>id</th>\n      <th>is_high_priority</th>\n    </tr>\n  </thead>\n  <tbody>\n    <tr>\n      <th>0</th>\n      <td>25-2512303</td>\n      <td>0</td>\n    </tr>\n    <tr>\n      <th>1</th>\n      <td>25-2513780</td>\n      <td>0</td>\n    </tr>\n    <tr>\n      <th>2</th>\n      <td>25-2515293</td>\n      <td>0</td>\n    </tr>\n    <tr>\n      <th>3</th>\n      <td>25-2514349</td>\n      <td>0</td>\n    </tr>\n    <tr>\n      <th>4</th>\n      <td>25-2514337</td>\n      <td>0</td>\n    </tr>\n    <tr>\n      <th>...</th>\n      <td>...</td>\n      <td>...</td>\n    </tr>\n    <tr>\n      <th>18524</th>\n      <td>25-3224524</td>\n      <td>0</td>\n    </tr>\n    <tr>\n      <th>18525</th>\n      <td>25-3224569</td>\n      <td>0</td>\n    </tr>\n    <tr>\n      <th>18526</th>\n      <td>25-3224564</td>\n      <td>0</td>\n    </tr>\n    <tr>\n      <th>18527</th>\n      <td>25-3224549</td>\n      <td>0</td>\n    </tr>\n    <tr>\n      <th>18528</th>\n      <td>25-3224582</td>\n      <td>0</td>\n    </tr>\n  </tbody>\n</table>\n<p>18529 rows × 2 columns</p>\n</div>"
     },
     "execution_count": 14,
     "metadata": {},
     "output_type": "execute_result"
    }
   ]
  }
 ]
}