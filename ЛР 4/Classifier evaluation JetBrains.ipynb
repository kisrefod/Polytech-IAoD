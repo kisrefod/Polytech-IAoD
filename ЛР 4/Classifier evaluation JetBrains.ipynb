{
 "cells": [
  {
   "cell_type": "code",
   "execution_count": 4,
   "id": "0e21f628-3c6c-4753-9cea-dc203846c177",
   "metadata": {},
   "outputs": [],
   "source": [
    "import numpy as np\n",
    "import pandas as pd\n",
    "import warnings\n",
    "import json\n",
    "import operator\n",
    "\n",
    "from tqdm import tqdm\n",
    "\n",
    "from sklearn.model_selection import train_test_split, ParameterGrid\n",
    "from sklearn.pipeline import Pipeline, make_pipeline\n",
    "from sklearn.feature_extraction.text import CountVectorizer, TfidfVectorizer\n",
    "from sklearn.base import TransformerMixin\n",
    "from sklearn.metrics import f1_score\n",
    "from sklearn.preprocessing import OneHotEncoder\n",
    "\n",
    "from sklearn.naive_bayes import MultinomialNB\n",
    "\n",
    "warnings.filterwarnings(\"ignore\")\n",
    "np.set_printoptions(precision=3)"
   ]
  },
  {
   "cell_type": "markdown",
   "id": "79941f68-7ae5-417f-8ac6-bcbb45754f76",
   "metadata": {
    "tags": []
   },
   "source": [
    "## Предсказание приорита задачи (issue) для JetBrains\n",
    "https://youtrack.jetbrains.com/issues/IDEA\n",
    "\n",
    "Описание процесса:\n",
    "\n",
    "1. Внешние пользователи могут создать новую задачу в трекере и указать аннотацию и описание проблемы, о которой репортируют. Идентификатор автора и дата создания задачи добавляются автоматически. Для простоты будем считать, что аннотация и описание задачи не могут быть изменены.\n",
    "1. В какой-то момент задачи из трекера будет решена. Команде разработчков необходимо определить приоритет каждой новой задачи. \n",
    "\n",
    "**Цель**:  обучить модель для автоматического предсказания приоритета задачи (высокий/ не ввысокий) в момент ее создания.\n",
    "\n",
    "\n",
    "**Обучающая выборка**: данные обо всех решенных задачах для IDE IDEA, созданных внешними пользователеми.\n"
   ]
  },
  {
   "cell_type": "code",
   "execution_count": 5,
   "id": "bc384b30-8a78-4a3f-aa6c-f9625190a518",
   "metadata": {},
   "outputs": [
    {
     "data": {
      "text/plain": "                                                    summary  \\\nid                                                            \n25-60681     Don't sync font size within IDEA server plugin   \n25-60682                       Cancelling subversion update   \n25-60686  Suspended Breakpoint in JVM not Recognized in ...   \n25-60691  Good code red: IDEA incorrectly resolves neste...   \n25-60679  Module WIll Not Load Jar Dependencies on Intre...   \n\n                                                description  \\\nid                                                            \n25-60681  At home I have 1900x1200 resolution and at my ...   \n25-60682  When cancelling an update from ie. subversion ...   \n25-60686  In some breakpoint cases for a app launched fr...   \n25-60691  The relevant snippet if part of the UIDebug cl...   \n25-60679  I have IntelliJ 7.0.5 running on both WIndows ...   \n\n                                         reporter        created  \\\nid                                                                 \n25-60681     {\"login\": \"machak\", \"$type\": \"User\"}  1231150644000   \n25-60682     {\"login\": \"sprice\", \"$type\": \"User\"}  1231150705000   \n25-60686    {\"login\": \"brigham\", \"$type\": \"User\"}  1231183948000   \n25-60691      {\"login\": \"xduke\", \"$type\": \"User\"}  1231241109000   \n25-60679  {\"login\": \"stonemack\", \"$type\": \"User\"}  1231133633000   \n\n                                               customFields  \\\nid                                                            \n25-60681  [{\"value\": {\"name\": \"Bug\", \"$type\": \"EnumBundl...   \n25-60682  [{\"value\": {\"name\": \"Usability Problem\", \"$typ...   \n25-60686  [{\"value\": {\"name\": \"Bug\", \"$type\": \"EnumBundl...   \n25-60691  [{\"value\": {\"name\": \"Bug\", \"$type\": \"EnumBundl...   \n25-60679  [{\"value\": {\"name\": \"Bug\", \"$type\": \"EnumBundl...   \n\n                                                      links  is_high_priority  \nid                                                                             \n25-60681  [{\"direction\": \"BOTH\", \"linkType\": {\"directed\"...             False  \n25-60682  [{\"direction\": \"BOTH\", \"linkType\": {\"directed\"...             False  \n25-60686  [{\"direction\": \"BOTH\", \"linkType\": {\"directed\"...             False  \n25-60691  [{\"direction\": \"BOTH\", \"linkType\": {\"directed\"...             False  \n25-60679  [{\"direction\": \"BOTH\", \"linkType\": {\"directed\"...             False  ",
      "text/html": "<div>\n<style scoped>\n    .dataframe tbody tr th:only-of-type {\n        vertical-align: middle;\n    }\n\n    .dataframe tbody tr th {\n        vertical-align: top;\n    }\n\n    .dataframe thead th {\n        text-align: right;\n    }\n</style>\n<table border=\"1\" class=\"dataframe\">\n  <thead>\n    <tr style=\"text-align: right;\">\n      <th></th>\n      <th>summary</th>\n      <th>description</th>\n      <th>reporter</th>\n      <th>created</th>\n      <th>customFields</th>\n      <th>links</th>\n      <th>is_high_priority</th>\n    </tr>\n    <tr>\n      <th>id</th>\n      <th></th>\n      <th></th>\n      <th></th>\n      <th></th>\n      <th></th>\n      <th></th>\n      <th></th>\n    </tr>\n  </thead>\n  <tbody>\n    <tr>\n      <th>25-60681</th>\n      <td>Don't sync font size within IDEA server plugin</td>\n      <td>At home I have 1900x1200 resolution and at my ...</td>\n      <td>{\"login\": \"machak\", \"$type\": \"User\"}</td>\n      <td>1231150644000</td>\n      <td>[{\"value\": {\"name\": \"Bug\", \"$type\": \"EnumBundl...</td>\n      <td>[{\"direction\": \"BOTH\", \"linkType\": {\"directed\"...</td>\n      <td>False</td>\n    </tr>\n    <tr>\n      <th>25-60682</th>\n      <td>Cancelling subversion update</td>\n      <td>When cancelling an update from ie. subversion ...</td>\n      <td>{\"login\": \"sprice\", \"$type\": \"User\"}</td>\n      <td>1231150705000</td>\n      <td>[{\"value\": {\"name\": \"Usability Problem\", \"$typ...</td>\n      <td>[{\"direction\": \"BOTH\", \"linkType\": {\"directed\"...</td>\n      <td>False</td>\n    </tr>\n    <tr>\n      <th>25-60686</th>\n      <td>Suspended Breakpoint in JVM not Recognized in ...</td>\n      <td>In some breakpoint cases for a app launched fr...</td>\n      <td>{\"login\": \"brigham\", \"$type\": \"User\"}</td>\n      <td>1231183948000</td>\n      <td>[{\"value\": {\"name\": \"Bug\", \"$type\": \"EnumBundl...</td>\n      <td>[{\"direction\": \"BOTH\", \"linkType\": {\"directed\"...</td>\n      <td>False</td>\n    </tr>\n    <tr>\n      <th>25-60691</th>\n      <td>Good code red: IDEA incorrectly resolves neste...</td>\n      <td>The relevant snippet if part of the UIDebug cl...</td>\n      <td>{\"login\": \"xduke\", \"$type\": \"User\"}</td>\n      <td>1231241109000</td>\n      <td>[{\"value\": {\"name\": \"Bug\", \"$type\": \"EnumBundl...</td>\n      <td>[{\"direction\": \"BOTH\", \"linkType\": {\"directed\"...</td>\n      <td>False</td>\n    </tr>\n    <tr>\n      <th>25-60679</th>\n      <td>Module WIll Not Load Jar Dependencies on Intre...</td>\n      <td>I have IntelliJ 7.0.5 running on both WIndows ...</td>\n      <td>{\"login\": \"stonemack\", \"$type\": \"User\"}</td>\n      <td>1231133633000</td>\n      <td>[{\"value\": {\"name\": \"Bug\", \"$type\": \"EnumBundl...</td>\n      <td>[{\"direction\": \"BOTH\", \"linkType\": {\"directed\"...</td>\n      <td>False</td>\n    </tr>\n  </tbody>\n</table>\n</div>"
     },
     "execution_count": 5,
     "metadata": {},
     "output_type": "execute_result"
    }
   ],
   "source": [
    "train_df = pd.read_csv('train.csv', index_col='id')\n",
    "train_df.head()"
   ]
  },
  {
   "cell_type": "code",
   "execution_count": 6,
   "id": "12495aa1-ff79-4ccf-8c6f-afda5532af6c",
   "metadata": {},
   "outputs": [
    {
     "name": "stdout",
     "output_type": "stream",
     "text": [
      "<class 'pandas.core.frame.DataFrame'>\n",
      "Index: 105365 entries, 25-60681 to 25-2506947\n",
      "Data columns (total 7 columns):\n",
      " #   Column            Non-Null Count   Dtype \n",
      "---  ------            --------------   ----- \n",
      " 0   summary           105364 non-null  object\n",
      " 1   description       103548 non-null  object\n",
      " 2   reporter          105365 non-null  object\n",
      " 3   created           105365 non-null  int64 \n",
      " 4   customFields      105365 non-null  object\n",
      " 5   links             105365 non-null  object\n",
      " 6   is_high_priority  105365 non-null  bool  \n",
      "dtypes: bool(1), int64(1), object(5)\n",
      "memory usage: 5.7+ MB\n"
     ]
    }
   ],
   "source": [
    "train_df.info()"
   ]
  },
  {
   "cell_type": "code",
   "execution_count": 7,
   "id": "858f9cf0-728e-4c74-b52f-cdaee96fdb18",
   "metadata": {},
   "outputs": [],
   "source": [
    "train_df.summary.fillna('', inplace=True)\n",
    "train_df.description.fillna('', inplace=True)"
   ]
  },
  {
   "cell_type": "code",
   "execution_count": 8,
   "id": "f3970020-d536-4a7a-a6c9-cb64799521fe",
   "metadata": {},
   "outputs": [],
   "source": [
    "X_text = train_df.summary\n",
    "y = train_df.is_high_priority"
   ]
  },
  {
   "cell_type": "code",
   "execution_count": 9,
   "id": "2bde541f-296a-4049-bdd0-1d7fe7428fb7",
   "metadata": {},
   "outputs": [
    {
     "data": {
      "text/plain": "id\n25-60681         Don't sync font size within IDEA server plugin\n25-60682                           Cancelling subversion update\n25-60686      Suspended Breakpoint in JVM not Recognized in ...\n25-60691      Good code red: IDEA incorrectly resolves neste...\n25-60679      Module WIll Not Load Jar Dependencies on Intre...\n                                    ...                        \n25-2507313    Version Control Incoming tab missing search fi...\n25-2507159    Groovy compiler can't find files with names co...\n25-2507096          auto close stepped in files on debug resume\n25-2506900    Keymaps don't resync after disabled settings s...\n25-2506947    OK , cancel button do not appear when i do imp...\nName: summary, Length: 105365, dtype: object"
     },
     "execution_count": 9,
     "metadata": {},
     "output_type": "execute_result"
    }
   ],
   "source": [
    "X_text"
   ]
  },
  {
   "cell_type": "code",
   "execution_count": 10,
   "id": "1c4926a7-629e-444c-8970-36fea9225728",
   "metadata": {},
   "outputs": [
    {
     "data": {
      "text/plain": "False    100717\nTrue       4648\nName: is_high_priority, dtype: int64"
     },
     "execution_count": 10,
     "metadata": {},
     "output_type": "execute_result"
    }
   ],
   "source": [
    "y.value_counts()"
   ]
  },
  {
   "cell_type": "code",
   "execution_count": 11,
   "id": "522020d7-8ec1-43db-9cfa-39df77e2702c",
   "metadata": {},
   "outputs": [],
   "source": [
    "X_text_train, X_text_test, y_train, y_test = train_test_split(X_text, y, \n",
    "                                                              stratify=y, \n",
    "                                                              random_state=3, \n",
    "                                                              test_size=0.25)"
   ]
  },
  {
   "cell_type": "markdown",
   "id": "3145422b-c4d0-4ef1-ae5b-9db1af75835a",
   "metadata": {},
   "source": [
    "### Модель, которая умеет читать"
   ]
  },
  {
   "cell_type": "code",
   "execution_count": 12,
   "id": "7b621f78-caf5-473c-ba98-a8e7c808431c",
   "metadata": {},
   "outputs": [
    {
     "data": {
      "text/plain": "   action  add  allow  android  broken  build  button  change  changes  class  \\\n0       0    0      0        0       0      0       0       0        0      0   \n1       0    0      0        0       0      0       0       0        0      0   \n2       0    0      0        0       0      0       0       0        0      0   \n3       0    0      0        0       0      0       0       0        0      0   \n4       0    0      0        0       0      0       0       0        0      0   \n\n   ...  using  variable  version  view  window  windows  work  working  wrong  \\\n0  ...      0         0        0     0       0        0     0        0      0   \n1  ...      0         0        0     0       0        0     0        0      0   \n2  ...      0         0        0     0       0        0     0        0      0   \n3  ...      0         0        0     0       0        0     0        0      0   \n4  ...      1         0        0     0       0        0     0        0      0   \n\n   xml  \n0    0  \n1    0  \n2    0  \n3    0  \n4    0  \n\n[5 rows x 93 columns]",
      "text/html": "<div>\n<style scoped>\n    .dataframe tbody tr th:only-of-type {\n        vertical-align: middle;\n    }\n\n    .dataframe tbody tr th {\n        vertical-align: top;\n    }\n\n    .dataframe thead th {\n        text-align: right;\n    }\n</style>\n<table border=\"1\" class=\"dataframe\">\n  <thead>\n    <tr style=\"text-align: right;\">\n      <th></th>\n      <th>action</th>\n      <th>add</th>\n      <th>allow</th>\n      <th>android</th>\n      <th>broken</th>\n      <th>build</th>\n      <th>button</th>\n      <th>change</th>\n      <th>changes</th>\n      <th>class</th>\n      <th>...</th>\n      <th>using</th>\n      <th>variable</th>\n      <th>version</th>\n      <th>view</th>\n      <th>window</th>\n      <th>windows</th>\n      <th>work</th>\n      <th>working</th>\n      <th>wrong</th>\n      <th>xml</th>\n    </tr>\n  </thead>\n  <tbody>\n    <tr>\n      <th>0</th>\n      <td>0</td>\n      <td>0</td>\n      <td>0</td>\n      <td>0</td>\n      <td>0</td>\n      <td>0</td>\n      <td>0</td>\n      <td>0</td>\n      <td>0</td>\n      <td>0</td>\n      <td>...</td>\n      <td>0</td>\n      <td>0</td>\n      <td>0</td>\n      <td>0</td>\n      <td>0</td>\n      <td>0</td>\n      <td>0</td>\n      <td>0</td>\n      <td>0</td>\n      <td>0</td>\n    </tr>\n    <tr>\n      <th>1</th>\n      <td>0</td>\n      <td>0</td>\n      <td>0</td>\n      <td>0</td>\n      <td>0</td>\n      <td>0</td>\n      <td>0</td>\n      <td>0</td>\n      <td>0</td>\n      <td>0</td>\n      <td>...</td>\n      <td>0</td>\n      <td>0</td>\n      <td>0</td>\n      <td>0</td>\n      <td>0</td>\n      <td>0</td>\n      <td>0</td>\n      <td>0</td>\n      <td>0</td>\n      <td>0</td>\n    </tr>\n    <tr>\n      <th>2</th>\n      <td>0</td>\n      <td>0</td>\n      <td>0</td>\n      <td>0</td>\n      <td>0</td>\n      <td>0</td>\n      <td>0</td>\n      <td>0</td>\n      <td>0</td>\n      <td>0</td>\n      <td>...</td>\n      <td>0</td>\n      <td>0</td>\n      <td>0</td>\n      <td>0</td>\n      <td>0</td>\n      <td>0</td>\n      <td>0</td>\n      <td>0</td>\n      <td>0</td>\n      <td>0</td>\n    </tr>\n    <tr>\n      <th>3</th>\n      <td>0</td>\n      <td>0</td>\n      <td>0</td>\n      <td>0</td>\n      <td>0</td>\n      <td>0</td>\n      <td>0</td>\n      <td>0</td>\n      <td>0</td>\n      <td>0</td>\n      <td>...</td>\n      <td>0</td>\n      <td>0</td>\n      <td>0</td>\n      <td>0</td>\n      <td>0</td>\n      <td>0</td>\n      <td>0</td>\n      <td>0</td>\n      <td>0</td>\n      <td>0</td>\n    </tr>\n    <tr>\n      <th>4</th>\n      <td>0</td>\n      <td>0</td>\n      <td>0</td>\n      <td>0</td>\n      <td>0</td>\n      <td>0</td>\n      <td>0</td>\n      <td>0</td>\n      <td>0</td>\n      <td>0</td>\n      <td>...</td>\n      <td>1</td>\n      <td>0</td>\n      <td>0</td>\n      <td>0</td>\n      <td>0</td>\n      <td>0</td>\n      <td>0</td>\n      <td>0</td>\n      <td>0</td>\n      <td>0</td>\n    </tr>\n  </tbody>\n</table>\n<p>5 rows × 93 columns</p>\n</div>"
     },
     "execution_count": 12,
     "metadata": {},
     "output_type": "execute_result"
    }
   ],
   "source": [
    "count_vec = CountVectorizer(\n",
    "                            min_df=.01,\n",
    "                            max_df=.5,\n",
    "                            token_pattern=r'[A-Za-z]{2,}',\n",
    "                            stop_words='english'\n",
    "                            )\n",
    "\n",
    "count_vec.fit(X_text_train)\n",
    "\n",
    "X_text_vect_sample = pd.DataFrame(count_vec.transform(X_text_train.sample(5)).todense(), \n",
    "                                  columns=count_vec.get_feature_names_out())\n",
    "\n",
    "X_text_vect_sample"
   ]
  },
  {
   "cell_type": "code",
   "execution_count": 13,
   "id": "9e0c1caa-7adf-4bc9-aafd-07036392b12b",
   "metadata": {},
   "outputs": [],
   "source": [
    "#from sklearn.feature_extraction._stop_words import ENGLISH_STOP_WORDS\n",
    "#from nltk.corpus import stopwords\n",
    "#from spacy.lang.en.stop_words import STOP_WORDS"
   ]
  },
  {
   "cell_type": "code",
   "execution_count": 14,
   "id": "9fc2ee1f-33dc-42c5-bc6e-76d13df5e857",
   "metadata": {},
   "outputs": [
    {
     "data": {
      "text/plain": "matrix([[2, 2, 1, 2, 1, 1, 1, 3, 2, 3, 2, 2, 1, 1, 1, 1, 1, 2, 2, 1, 1,\n         1, 1, 1, 1, 1, 1, 2, 1, 2, 4, 1, 1, 1, 2, 3, 2, 1, 2, 1, 1, 2,\n         1, 2, 1, 1, 1, 1, 1, 2, 2, 2, 1, 1, 2, 1, 2, 2, 1, 2, 2, 3, 1,\n         2, 2, 1, 1, 3, 1, 2, 1, 2, 1, 1, 2, 2, 3, 2, 2, 1, 1, 1, 1, 1,\n         2, 1, 1, 2, 1, 1, 1, 1, 1]], dtype=int64)"
     },
     "execution_count": 14,
     "metadata": {},
     "output_type": "execute_result"
    }
   ],
   "source": [
    "count_vec.transform(X_text_train.sample(1000)).todense().max(axis=0)"
   ]
  },
  {
   "cell_type": "code",
   "execution_count": 15,
   "id": "5af88fcc-12ac-4b7e-8da7-23ff8a3025d4",
   "metadata": {},
   "outputs": [
    {
     "data": {
      "text/plain": "        add  allow  android  build  changes  class  code  commit  \\\n0  0.000000    0.0      0.0    0.0      0.0    0.0   0.0     0.0   \n1  0.000000    0.0      0.0    0.0      0.0    0.0   0.0     0.0   \n2  0.000000    0.0      0.0    0.0      0.0    0.0   1.0     0.0   \n3  0.669755    0.0      0.0    0.0      0.0    0.0   0.0     0.0   \n4  0.000000    0.0      0.0    0.0      0.0    0.0   0.0     0.0   \n\n   configuration    create  ...  type  update     using      view  window  \\\n0            0.0  0.000000  ...   0.0     0.0  0.739458  0.000000     0.0   \n1            0.0  0.000000  ...   0.0     0.0  0.000000  0.000000     0.0   \n2            0.0  0.000000  ...   0.0     0.0  0.000000  0.000000     0.0   \n3            0.0  0.000000  ...   0.0     0.0  0.000000  0.742583     0.0   \n4            0.0  0.391926  ...   0.0     0.0  0.000000  0.000000     0.0   \n\n   windows  work  working  wrong  xml  \n0      0.0   0.0      0.0    0.0  0.0  \n1      0.0   0.0      0.0    0.0  0.0  \n2      0.0   0.0      0.0    0.0  0.0  \n3      0.0   0.0      0.0    0.0  0.0  \n4      0.0   0.0      0.0    0.0  0.0  \n\n[5 rows x 53 columns]",
      "text/html": "<div>\n<style scoped>\n    .dataframe tbody tr th:only-of-type {\n        vertical-align: middle;\n    }\n\n    .dataframe tbody tr th {\n        vertical-align: top;\n    }\n\n    .dataframe thead th {\n        text-align: right;\n    }\n</style>\n<table border=\"1\" class=\"dataframe\">\n  <thead>\n    <tr style=\"text-align: right;\">\n      <th></th>\n      <th>add</th>\n      <th>allow</th>\n      <th>android</th>\n      <th>build</th>\n      <th>changes</th>\n      <th>class</th>\n      <th>code</th>\n      <th>commit</th>\n      <th>configuration</th>\n      <th>create</th>\n      <th>...</th>\n      <th>type</th>\n      <th>update</th>\n      <th>using</th>\n      <th>view</th>\n      <th>window</th>\n      <th>windows</th>\n      <th>work</th>\n      <th>working</th>\n      <th>wrong</th>\n      <th>xml</th>\n    </tr>\n  </thead>\n  <tbody>\n    <tr>\n      <th>0</th>\n      <td>0.000000</td>\n      <td>0.0</td>\n      <td>0.0</td>\n      <td>0.0</td>\n      <td>0.0</td>\n      <td>0.0</td>\n      <td>0.0</td>\n      <td>0.0</td>\n      <td>0.0</td>\n      <td>0.000000</td>\n      <td>...</td>\n      <td>0.0</td>\n      <td>0.0</td>\n      <td>0.739458</td>\n      <td>0.000000</td>\n      <td>0.0</td>\n      <td>0.0</td>\n      <td>0.0</td>\n      <td>0.0</td>\n      <td>0.0</td>\n      <td>0.0</td>\n    </tr>\n    <tr>\n      <th>1</th>\n      <td>0.000000</td>\n      <td>0.0</td>\n      <td>0.0</td>\n      <td>0.0</td>\n      <td>0.0</td>\n      <td>0.0</td>\n      <td>0.0</td>\n      <td>0.0</td>\n      <td>0.0</td>\n      <td>0.000000</td>\n      <td>...</td>\n      <td>0.0</td>\n      <td>0.0</td>\n      <td>0.000000</td>\n      <td>0.000000</td>\n      <td>0.0</td>\n      <td>0.0</td>\n      <td>0.0</td>\n      <td>0.0</td>\n      <td>0.0</td>\n      <td>0.0</td>\n    </tr>\n    <tr>\n      <th>2</th>\n      <td>0.000000</td>\n      <td>0.0</td>\n      <td>0.0</td>\n      <td>0.0</td>\n      <td>0.0</td>\n      <td>0.0</td>\n      <td>1.0</td>\n      <td>0.0</td>\n      <td>0.0</td>\n      <td>0.000000</td>\n      <td>...</td>\n      <td>0.0</td>\n      <td>0.0</td>\n      <td>0.000000</td>\n      <td>0.000000</td>\n      <td>0.0</td>\n      <td>0.0</td>\n      <td>0.0</td>\n      <td>0.0</td>\n      <td>0.0</td>\n      <td>0.0</td>\n    </tr>\n    <tr>\n      <th>3</th>\n      <td>0.669755</td>\n      <td>0.0</td>\n      <td>0.0</td>\n      <td>0.0</td>\n      <td>0.0</td>\n      <td>0.0</td>\n      <td>0.0</td>\n      <td>0.0</td>\n      <td>0.0</td>\n      <td>0.000000</td>\n      <td>...</td>\n      <td>0.0</td>\n      <td>0.0</td>\n      <td>0.000000</td>\n      <td>0.742583</td>\n      <td>0.0</td>\n      <td>0.0</td>\n      <td>0.0</td>\n      <td>0.0</td>\n      <td>0.0</td>\n      <td>0.0</td>\n    </tr>\n    <tr>\n      <th>4</th>\n      <td>0.000000</td>\n      <td>0.0</td>\n      <td>0.0</td>\n      <td>0.0</td>\n      <td>0.0</td>\n      <td>0.0</td>\n      <td>0.0</td>\n      <td>0.0</td>\n      <td>0.0</td>\n      <td>0.391926</td>\n      <td>...</td>\n      <td>0.0</td>\n      <td>0.0</td>\n      <td>0.000000</td>\n      <td>0.000000</td>\n      <td>0.0</td>\n      <td>0.0</td>\n      <td>0.0</td>\n      <td>0.0</td>\n      <td>0.0</td>\n      <td>0.0</td>\n    </tr>\n  </tbody>\n</table>\n<p>5 rows × 53 columns</p>\n</div>"
     },
     "execution_count": 15,
     "metadata": {},
     "output_type": "execute_result"
    }
   ],
   "source": [
    "tfidf_vec = TfidfVectorizer(min_df=.015, max_df=0.95,\n",
    "                            token_pattern=r'[A-Za-z]{2,}',\n",
    "                            stop_words='english')\n",
    "\n",
    "tfidf_vec.fit(X_text_train)\n",
    "\n",
    "X_text_vect_sample = pd.DataFrame(tfidf_vec.transform(X_text_train.sample(5)).todense(), \n",
    "                                  columns=tfidf_vec.get_feature_names_out())\n",
    "\n",
    "X_text_vect_sample"
   ]
  },
  {
   "cell_type": "code",
   "execution_count": 16,
   "id": "4f92db63-de16-4b20-afb8-f5f88676e292",
   "metadata": {},
   "outputs": [
    {
     "data": {
      "text/plain": "matrix([[1.   , 1.   , 1.   , 1.   , 1.   , 1.   , 1.   , 1.   , 1.   ,\n         1.   , 1.   , 1.   , 1.   , 1.   , 1.   , 1.   , 1.   , 1.   ,\n         1.   , 1.   , 1.   , 1.   , 1.   , 1.   , 1.   , 1.   , 1.   ,\n         1.   , 1.   , 1.   , 1.   , 1.   , 1.   , 1.   , 1.   , 1.   ,\n         1.   , 1.   , 1.   , 1.   , 1.   , 1.   , 1.   , 1.   , 1.   ,\n         1.   , 1.   , 1.   , 0.776, 1.   , 1.   , 1.   , 1.   ]])"
     },
     "execution_count": 16,
     "metadata": {},
     "output_type": "execute_result"
    }
   ],
   "source": [
    "tfidf_vec.transform(X_text_train.sample(1000)).todense().max(axis=0)"
   ]
  },
  {
   "cell_type": "code",
   "execution_count": 17,
   "id": "38590ee0-b66d-4688-9b3e-9eb95d629ea1",
   "metadata": {},
   "outputs": [],
   "source": [
    "class DenseTransformer(TransformerMixin):\n",
    "\n",
    "    def fit(self, X, y=None, **fit_params):\n",
    "        return self\n",
    "\n",
    "    def transform(self, X, y=None, **fit_params):\n",
    "        return X.todense()"
   ]
  },
  {
   "cell_type": "code",
   "execution_count": 18,
   "id": "5080c1f9-7032-47bf-b0a0-c5f5f138ab2d",
   "metadata": {},
   "outputs": [
    {
     "name": "stdout",
     "output_type": "stream",
     "text": [
      "Train f1 = 0.0\n",
      "Test f1 = 0.0\n"
     ]
    }
   ],
   "source": [
    "# https://scikit-learn.org/stable/modules/naive_bayes.html#multinomial-naive-bayes\n",
    "\n",
    "nb_pipeline = Pipeline(steps = [('tfidf', tfidf_vec),\n",
    "                                ('to_dense', DenseTransformer()), \n",
    "                                ('clf', MultinomialNB ())\n",
    "                               ]\n",
    "                       )\n",
    "\n",
    "nb_pipeline.fit(X_text_train, y_train)\n",
    "\n",
    "print (f'Train f1 = {f1_score(y_true=y_train, y_pred=nb_pipeline.predict(X_text_train))}')\n",
    "print (f'Test f1 = {f1_score(y_true=y_test, y_pred=nb_pipeline.predict(X_text_test))}')"
   ]
  },
  {
   "cell_type": "markdown",
   "id": "a65fa718-ea1e-4171-b50f-e35e5a8b02d8",
   "metadata": {},
   "source": [
    "## Подбор параметров"
   ]
  },
  {
   "cell_type": "code",
   "execution_count": 19,
   "id": "a29e9c2b-505d-461f-a657-72747df1eab3",
   "metadata": {},
   "outputs": [
    {
     "name": "stderr",
     "output_type": "stream",
     "text": [
      "100%|██████████| 6/6 [00:18<00:00,  3.04s/it]\n"
     ]
    }
   ],
   "source": [
    "param_grid = dict(min_df=[.01, .05], max_df=[.5, .6, .7])\n",
    "\n",
    "results = []\n",
    "\n",
    "for params in tqdm(ParameterGrid(param_grid)):\n",
    "#     print(params)\n",
    "    pipe = Pipeline(steps = [('tfidf', TfidfVectorizer(min_df=params['min_df'], max_df=params['max_df'],\n",
    "                                                       token_pattern=r'[A-Za-z]{2,}',\n",
    "                                                       stop_words='english')),\n",
    "                             ('to_dense', DenseTransformer()), \n",
    "                             ('clf', MultinomialNB ())\n",
    "                            ]\n",
    "                       )\n",
    "    \n",
    "    #cv_train_preds = cross_val_predict(pipe, X_text_train, y_train, cv = 5, n_jobs = -1)\n",
    "    \n",
    "    pipe.fit(X_text_train, y_train)\n",
    "    train_preds = pipe.predict(X_text_train)\n",
    "    \n",
    "    results.append(dict(\n",
    "                        estimator=pipe,\n",
    "                        parameters=params,\n",
    "                        train_f1 = f1_score(y_true=y_train, y_pred=pipe.predict(X_text_train)),\n",
    "                        test_f1 = f1_score(y_true=y_test, y_pred=pipe.predict(X_text_test))\n",
    "    ))"
   ]
  },
  {
   "cell_type": "code",
   "execution_count": 20,
   "id": "11738546-8497-4c43-8b8b-971877f1be23",
   "metadata": {},
   "outputs": [
    {
     "data": {
      "text/plain": "<pandas.io.formats.style.Styler at 0x270162c4940>",
      "text/html": "<style type=\"text/css\">\n#T_16836_row0_col1, #T_16836_row0_col2, #T_16836_row1_col1, #T_16836_row1_col2, #T_16836_row2_col1, #T_16836_row2_col2, #T_16836_row3_col1, #T_16836_row3_col2, #T_16836_row4_col1, #T_16836_row4_col2, #T_16836_row5_col1, #T_16836_row5_col2 {\n  width: 10em;\n}\n</style>\n<table id=\"T_16836\">\n  <thead>\n    <tr>\n      <th class=\"blank level0\" >&nbsp;</th>\n      <th id=\"T_16836_level0_col0\" class=\"col_heading level0 col0\" >parameters</th>\n      <th id=\"T_16836_level0_col1\" class=\"col_heading level0 col1\" >train_f1</th>\n      <th id=\"T_16836_level0_col2\" class=\"col_heading level0 col2\" >test_f1</th>\n    </tr>\n  </thead>\n  <tbody>\n    <tr>\n      <th id=\"T_16836_level0_row0\" class=\"row_heading level0 row0\" >0</th>\n      <td id=\"T_16836_row0_col0\" class=\"data row0 col0\" >{'max_df': 0.5, 'min_df': 0.01}</td>\n      <td id=\"T_16836_row0_col1\" class=\"data row0 col1\" >0.000000</td>\n      <td id=\"T_16836_row0_col2\" class=\"data row0 col2\" >0.000000</td>\n    </tr>\n    <tr>\n      <th id=\"T_16836_level0_row1\" class=\"row_heading level0 row1\" >1</th>\n      <td id=\"T_16836_row1_col0\" class=\"data row1 col0\" >{'max_df': 0.5, 'min_df': 0.05}</td>\n      <td id=\"T_16836_row1_col1\" class=\"data row1 col1\" >0.000000</td>\n      <td id=\"T_16836_row1_col2\" class=\"data row1 col2\" >0.000000</td>\n    </tr>\n    <tr>\n      <th id=\"T_16836_level0_row2\" class=\"row_heading level0 row2\" >2</th>\n      <td id=\"T_16836_row2_col0\" class=\"data row2 col0\" >{'max_df': 0.6, 'min_df': 0.01}</td>\n      <td id=\"T_16836_row2_col1\" class=\"data row2 col1\" >0.000000</td>\n      <td id=\"T_16836_row2_col2\" class=\"data row2 col2\" >0.000000</td>\n    </tr>\n    <tr>\n      <th id=\"T_16836_level0_row3\" class=\"row_heading level0 row3\" >3</th>\n      <td id=\"T_16836_row3_col0\" class=\"data row3 col0\" >{'max_df': 0.6, 'min_df': 0.05}</td>\n      <td id=\"T_16836_row3_col1\" class=\"data row3 col1\" >0.000000</td>\n      <td id=\"T_16836_row3_col2\" class=\"data row3 col2\" >0.000000</td>\n    </tr>\n    <tr>\n      <th id=\"T_16836_level0_row4\" class=\"row_heading level0 row4\" >4</th>\n      <td id=\"T_16836_row4_col0\" class=\"data row4 col0\" >{'max_df': 0.7, 'min_df': 0.01}</td>\n      <td id=\"T_16836_row4_col1\" class=\"data row4 col1\" >0.000000</td>\n      <td id=\"T_16836_row4_col2\" class=\"data row4 col2\" >0.000000</td>\n    </tr>\n    <tr>\n      <th id=\"T_16836_level0_row5\" class=\"row_heading level0 row5\" >5</th>\n      <td id=\"T_16836_row5_col0\" class=\"data row5 col0\" >{'max_df': 0.7, 'min_df': 0.05}</td>\n      <td id=\"T_16836_row5_col1\" class=\"data row5 col1\" >0.000000</td>\n      <td id=\"T_16836_row5_col2\" class=\"data row5 col2\" >0.000000</td>\n    </tr>\n  </tbody>\n</table>\n"
     },
     "execution_count": 20,
     "metadata": {},
     "output_type": "execute_result"
    }
   ],
   "source": [
    "pd.DataFrame(results).drop(columns='estimator').sort_values('test_f1').style.bar(vmin=0, vmax=1)"
   ]
  },
  {
   "cell_type": "markdown",
   "id": "ec910284-daf7-4433-82eb-3ce265288e20",
   "metadata": {},
   "source": [
    "## Другие признаки"
   ]
  },
  {
   "cell_type": "code",
   "execution_count": 21,
   "id": "6a2adc86-44cd-4ad6-9687-3464939b632b",
   "metadata": {},
   "outputs": [
    {
     "data": {
      "text/plain": "         Affected versions Included in builds          Type.name  \\\nid                                                                 \n25-60681                []                 []                Bug   \n25-60682                []                 []  Usability Problem   \n25-60686                []                 []                Bug   \n25-60691                []                 []                Bug   \n25-60679                []                 []                Bug   \n\n                 Type.$type State.name         State.$type     Assignee.login  \\\nid                                                                              \n25-60681  EnumBundleElement   Obsolete  StateBundleElement              lesya   \n25-60682  EnumBundleElement   Obsolete  StateBundleElement  Kirill.Likhodedov   \n25-60686  EnumBundleElement  Duplicate  StateBundleElement               jeka   \n25-60691  EnumBundleElement   Obsolete  StateBundleElement                cdr   \n25-60679  EnumBundleElement      Fixed  StateBundleElement           sashache   \n\n                Assignee.name Assignee.$type               Subsystem.name  \\\nid                                                                          \n25-60681      Olesya Smirnova           User       Core. Project Settings   \n25-60682    Kirill Likhodedov           User  Version Control. Subversion   \n25-60686     Eugene Zhuravlev           User               Java. Debugger   \n25-60691    Alexey Kudravtsev           User    Code Analysis. Inspection   \n25-60679  Alexander Chernikov           User       Core. Project Settings   \n\n             Subsystem.$type Available in  Subsystem  Assignee  \nid                                                              \n25-60681  OwnedBundleElement          NaN        NaN       NaN  \n25-60682  OwnedBundleElement          NaN        NaN       NaN  \n25-60686  OwnedBundleElement          NaN        NaN       NaN  \n25-60691  OwnedBundleElement          NaN        NaN       NaN  \n25-60679  OwnedBundleElement           []        NaN       NaN  ",
      "text/html": "<div>\n<style scoped>\n    .dataframe tbody tr th:only-of-type {\n        vertical-align: middle;\n    }\n\n    .dataframe tbody tr th {\n        vertical-align: top;\n    }\n\n    .dataframe thead th {\n        text-align: right;\n    }\n</style>\n<table border=\"1\" class=\"dataframe\">\n  <thead>\n    <tr style=\"text-align: right;\">\n      <th></th>\n      <th>Affected versions</th>\n      <th>Included in builds</th>\n      <th>Type.name</th>\n      <th>Type.$type</th>\n      <th>State.name</th>\n      <th>State.$type</th>\n      <th>Assignee.login</th>\n      <th>Assignee.name</th>\n      <th>Assignee.$type</th>\n      <th>Subsystem.name</th>\n      <th>Subsystem.$type</th>\n      <th>Available in</th>\n      <th>Subsystem</th>\n      <th>Assignee</th>\n    </tr>\n    <tr>\n      <th>id</th>\n      <th></th>\n      <th></th>\n      <th></th>\n      <th></th>\n      <th></th>\n      <th></th>\n      <th></th>\n      <th></th>\n      <th></th>\n      <th></th>\n      <th></th>\n      <th></th>\n      <th></th>\n      <th></th>\n    </tr>\n  </thead>\n  <tbody>\n    <tr>\n      <th>25-60681</th>\n      <td>[]</td>\n      <td>[]</td>\n      <td>Bug</td>\n      <td>EnumBundleElement</td>\n      <td>Obsolete</td>\n      <td>StateBundleElement</td>\n      <td>lesya</td>\n      <td>Olesya Smirnova</td>\n      <td>User</td>\n      <td>Core. Project Settings</td>\n      <td>OwnedBundleElement</td>\n      <td>NaN</td>\n      <td>NaN</td>\n      <td>NaN</td>\n    </tr>\n    <tr>\n      <th>25-60682</th>\n      <td>[]</td>\n      <td>[]</td>\n      <td>Usability Problem</td>\n      <td>EnumBundleElement</td>\n      <td>Obsolete</td>\n      <td>StateBundleElement</td>\n      <td>Kirill.Likhodedov</td>\n      <td>Kirill Likhodedov</td>\n      <td>User</td>\n      <td>Version Control. Subversion</td>\n      <td>OwnedBundleElement</td>\n      <td>NaN</td>\n      <td>NaN</td>\n      <td>NaN</td>\n    </tr>\n    <tr>\n      <th>25-60686</th>\n      <td>[]</td>\n      <td>[]</td>\n      <td>Bug</td>\n      <td>EnumBundleElement</td>\n      <td>Duplicate</td>\n      <td>StateBundleElement</td>\n      <td>jeka</td>\n      <td>Eugene Zhuravlev</td>\n      <td>User</td>\n      <td>Java. Debugger</td>\n      <td>OwnedBundleElement</td>\n      <td>NaN</td>\n      <td>NaN</td>\n      <td>NaN</td>\n    </tr>\n    <tr>\n      <th>25-60691</th>\n      <td>[]</td>\n      <td>[]</td>\n      <td>Bug</td>\n      <td>EnumBundleElement</td>\n      <td>Obsolete</td>\n      <td>StateBundleElement</td>\n      <td>cdr</td>\n      <td>Alexey Kudravtsev</td>\n      <td>User</td>\n      <td>Code Analysis. Inspection</td>\n      <td>OwnedBundleElement</td>\n      <td>NaN</td>\n      <td>NaN</td>\n      <td>NaN</td>\n    </tr>\n    <tr>\n      <th>25-60679</th>\n      <td>[]</td>\n      <td>[]</td>\n      <td>Bug</td>\n      <td>EnumBundleElement</td>\n      <td>Fixed</td>\n      <td>StateBundleElement</td>\n      <td>sashache</td>\n      <td>Alexander Chernikov</td>\n      <td>User</td>\n      <td>Core. Project Settings</td>\n      <td>OwnedBundleElement</td>\n      <td>[]</td>\n      <td>NaN</td>\n      <td>NaN</td>\n    </tr>\n  </tbody>\n</table>\n</div>"
     },
     "execution_count": 21,
     "metadata": {},
     "output_type": "execute_result"
    }
   ],
   "source": [
    "json_fileds = pd.json_normalize(train_df.customFields.map(json.loads).map(lambda x: {field['name']: field['value'] for field in x}))\n",
    "json_fileds.set_index(train_df.index, inplace=True)\n",
    "json_fileds.head()"
   ]
  },
  {
   "cell_type": "code",
   "execution_count": 22,
   "id": "ef75cda0-9229-4e01-a34b-019828f94cb0",
   "metadata": {},
   "outputs": [
    {
     "name": "stdout",
     "output_type": "stream",
     "text": [
      "<class 'pandas.core.frame.DataFrame'>\n",
      "Index: 105365 entries, 25-60681 to 25-2506947\n",
      "Data columns (total 14 columns):\n",
      " #   Column              Non-Null Count   Dtype  \n",
      "---  ------              --------------   -----  \n",
      " 0   Affected versions   105365 non-null  object \n",
      " 1   Included in builds  105365 non-null  object \n",
      " 2   Type.name           105365 non-null  object \n",
      " 3   Type.$type          105365 non-null  object \n",
      " 4   State.name          105365 non-null  object \n",
      " 5   State.$type         105365 non-null  object \n",
      " 6   Assignee.login      96428 non-null   object \n",
      " 7   Assignee.name       96428 non-null   object \n",
      " 8   Assignee.$type      96428 non-null   object \n",
      " 9   Subsystem.name      82778 non-null   object \n",
      " 10  Subsystem.$type     82778 non-null   object \n",
      " 11  Available in        31350 non-null   object \n",
      " 12  Subsystem           0 non-null       float64\n",
      " 13  Assignee            0 non-null       float64\n",
      "dtypes: float64(2), object(12)\n",
      "memory usage: 12.1+ MB\n"
     ]
    }
   ],
   "source": [
    "json_fileds.info()"
   ]
  },
  {
   "cell_type": "code",
   "execution_count": 23,
   "id": "09d92f5b-cedd-4e96-a7c5-987e56c845f4",
   "metadata": {},
   "outputs": [],
   "source": [
    "## Не можем использовать большинство полей, потому что они будут пустыми при создании\n",
    "json_columns = ['Type.name' , 'Subsystem.name'] "
   ]
  },
  {
   "cell_type": "code",
   "execution_count": 24,
   "id": "cc6d124b-0543-47e2-a18a-86a4a648858b",
   "metadata": {},
   "outputs": [],
   "source": [
    "train_df = train_df.join(json_fileds[json_columns])\n",
    "\n",
    "train_df['reporter_name'] = train_df.reporter.map(json.loads).map(operator.itemgetter('login'))\n",
    "train_df['Year'] = train_df.created.apply(lambda c: pd.to_datetime(c, unit='ms').year)\n",
    "train_df['Month'] = train_df.created.apply(lambda c: pd.to_datetime(c, unit='ms').month)\n",
    "train_df['Day'] = train_df.created.apply(lambda c: pd.to_datetime(c, unit='ms').day)\n",
    "train_df['Hour'] = train_df.created.apply(lambda c: pd.to_datetime(c, unit='ms').hour)"
   ]
  },
  {
   "cell_type": "code",
   "execution_count": 25,
   "id": "a52b26fb-59cf-4e5a-9b35-6f51b9425d88",
   "metadata": {},
   "outputs": [
    {
     "data": {
      "text/plain": "                                                      summary  \\\nid                                                              \n25-60681       Don't sync font size within IDEA server plugin   \n25-60682                         Cancelling subversion update   \n25-60686    Suspended Breakpoint in JVM not Recognized in ...   \n25-60691    Good code red: IDEA incorrectly resolves neste...   \n25-60679    Module WIll Not Load Jar Dependencies on Intre...   \n...                                                       ...   \n25-2507313  Version Control Incoming tab missing search fi...   \n25-2507159  Groovy compiler can't find files with names co...   \n25-2507096        auto close stepped in files on debug resume   \n25-2506900  Keymaps don't resync after disabled settings s...   \n25-2506947  OK , cancel button do not appear when i do imp...   \n\n                                                  description  \\\nid                                                              \n25-60681    At home I have 1900x1200 resolution and at my ...   \n25-60682    When cancelling an update from ie. subversion ...   \n25-60686    In some breakpoint cases for a app launched fr...   \n25-60691    The relevant snippet if part of the UIDebug cl...   \n25-60679    I have IntelliJ 7.0.5 running on both WIndows ...   \n...                                                       ...   \n25-2507313  The Version Control tab for \"Incoming\" doesn't...   \n25-2507159  1. Create a new Project with groovy support\\n2...   \n25-2507096  Hi,\\n\\none coworker switched from eclipse to I...   \n25-2506900  I had to disable setting sync so I could expor...   \n25-2506947  Hello, \\nI've recently started using intelliJ,...   \n\n                                                  reporter        created  \\\nid                                                                          \n25-60681              {\"login\": \"machak\", \"$type\": \"User\"}  1231150644000   \n25-60682              {\"login\": \"sprice\", \"$type\": \"User\"}  1231150705000   \n25-60686             {\"login\": \"brigham\", \"$type\": \"User\"}  1231183948000   \n25-60691               {\"login\": \"xduke\", \"$type\": \"User\"}  1231241109000   \n25-60679           {\"login\": \"stonemack\", \"$type\": \"User\"}  1231133633000   \n...                                                    ...            ...   \n25-2507313       {\"login\": \"markhodgson\", \"$type\": \"User\"}  1569492791894   \n25-2507159     {\"login\": \"ted.lundqvist\", \"$type\": \"User\"}  1569488444807   \n25-2507096           {\"login\": \"alain57\", \"$type\": \"User\"}  1569486640163   \n25-2506900            {\"login\": \"Dmi3se\", \"$type\": \"User\"}  1569452238504   \n25-2506947  {\"login\": \"mohammedkhan5040\", \"$type\": \"User\"}  1569469889899   \n\n                                                 customFields  \\\nid                                                              \n25-60681    [{\"value\": {\"name\": \"Bug\", \"$type\": \"EnumBundl...   \n25-60682    [{\"value\": {\"name\": \"Usability Problem\", \"$typ...   \n25-60686    [{\"value\": {\"name\": \"Bug\", \"$type\": \"EnumBundl...   \n25-60691    [{\"value\": {\"name\": \"Bug\", \"$type\": \"EnumBundl...   \n25-60679    [{\"value\": {\"name\": \"Bug\", \"$type\": \"EnumBundl...   \n...                                                       ...   \n25-2507313  [{\"value\": {\"name\": \"Usability Problem\", \"$typ...   \n25-2507159  [{\"value\": {\"name\": \"Bug\", \"$type\": \"EnumBundl...   \n25-2507096  [{\"value\": {\"name\": \"Feature\", \"$type\": \"EnumB...   \n25-2506900  [{\"value\": {\"name\": \"Bug\", \"$type\": \"EnumBundl...   \n25-2506947  [{\"value\": {\"name\": \"Bug\", \"$type\": \"EnumBundl...   \n\n                                                        links  \\\nid                                                              \n25-60681    [{\"direction\": \"BOTH\", \"linkType\": {\"directed\"...   \n25-60682    [{\"direction\": \"BOTH\", \"linkType\": {\"directed\"...   \n25-60686    [{\"direction\": \"BOTH\", \"linkType\": {\"directed\"...   \n25-60691    [{\"direction\": \"BOTH\", \"linkType\": {\"directed\"...   \n25-60679    [{\"direction\": \"BOTH\", \"linkType\": {\"directed\"...   \n...                                                       ...   \n25-2507313  [{\"direction\": \"BOTH\", \"linkType\": {\"directed\"...   \n25-2507159  [{\"direction\": \"BOTH\", \"linkType\": {\"directed\"...   \n25-2507096  [{\"direction\": \"BOTH\", \"linkType\": {\"directed\"...   \n25-2506900  [{\"direction\": \"BOTH\", \"linkType\": {\"directed\"...   \n25-2506947  [{\"direction\": \"BOTH\", \"linkType\": {\"directed\"...   \n\n            is_high_priority          Type.name               Subsystem.name  \\\nid                                                                             \n25-60681               False                Bug       Core. Project Settings   \n25-60682               False  Usability Problem  Version Control. Subversion   \n25-60686               False                Bug               Java. Debugger   \n25-60691               False                Bug    Code Analysis. Inspection   \n25-60679               False                Bug       Core. Project Settings   \n...                      ...                ...                          ...   \n25-2507313             False  Usability Problem  Version Control. Subversion   \n25-2507159             False                Bug                          NaN   \n25-2507096             False            Feature               Java. Debugger   \n25-2506900             False                Bug  Core. IDE Settings. Sharing   \n25-2506947             False                Bug                          NaN   \n\n               reporter_name  Year  Month  Day  Hour  \nid                                                    \n25-60681              machak  2009      1    5    10  \n25-60682              sprice  2009      1    5    10  \n25-60686             brigham  2009      1    5    19  \n25-60691               xduke  2009      1    6    11  \n25-60679           stonemack  2009      1    5     5  \n...                      ...   ...    ...  ...   ...  \n25-2507313       markhodgson  2019      9   26    10  \n25-2507159     ted.lundqvist  2019      9   26     9  \n25-2507096           alain57  2019      9   26     8  \n25-2506900            Dmi3se  2019      9   25    22  \n25-2506947  mohammedkhan5040  2019      9   26     3  \n\n[105365 rows x 14 columns]",
      "text/html": "<div>\n<style scoped>\n    .dataframe tbody tr th:only-of-type {\n        vertical-align: middle;\n    }\n\n    .dataframe tbody tr th {\n        vertical-align: top;\n    }\n\n    .dataframe thead th {\n        text-align: right;\n    }\n</style>\n<table border=\"1\" class=\"dataframe\">\n  <thead>\n    <tr style=\"text-align: right;\">\n      <th></th>\n      <th>summary</th>\n      <th>description</th>\n      <th>reporter</th>\n      <th>created</th>\n      <th>customFields</th>\n      <th>links</th>\n      <th>is_high_priority</th>\n      <th>Type.name</th>\n      <th>Subsystem.name</th>\n      <th>reporter_name</th>\n      <th>Year</th>\n      <th>Month</th>\n      <th>Day</th>\n      <th>Hour</th>\n    </tr>\n    <tr>\n      <th>id</th>\n      <th></th>\n      <th></th>\n      <th></th>\n      <th></th>\n      <th></th>\n      <th></th>\n      <th></th>\n      <th></th>\n      <th></th>\n      <th></th>\n      <th></th>\n      <th></th>\n      <th></th>\n      <th></th>\n    </tr>\n  </thead>\n  <tbody>\n    <tr>\n      <th>25-60681</th>\n      <td>Don't sync font size within IDEA server plugin</td>\n      <td>At home I have 1900x1200 resolution and at my ...</td>\n      <td>{\"login\": \"machak\", \"$type\": \"User\"}</td>\n      <td>1231150644000</td>\n      <td>[{\"value\": {\"name\": \"Bug\", \"$type\": \"EnumBundl...</td>\n      <td>[{\"direction\": \"BOTH\", \"linkType\": {\"directed\"...</td>\n      <td>False</td>\n      <td>Bug</td>\n      <td>Core. Project Settings</td>\n      <td>machak</td>\n      <td>2009</td>\n      <td>1</td>\n      <td>5</td>\n      <td>10</td>\n    </tr>\n    <tr>\n      <th>25-60682</th>\n      <td>Cancelling subversion update</td>\n      <td>When cancelling an update from ie. subversion ...</td>\n      <td>{\"login\": \"sprice\", \"$type\": \"User\"}</td>\n      <td>1231150705000</td>\n      <td>[{\"value\": {\"name\": \"Usability Problem\", \"$typ...</td>\n      <td>[{\"direction\": \"BOTH\", \"linkType\": {\"directed\"...</td>\n      <td>False</td>\n      <td>Usability Problem</td>\n      <td>Version Control. Subversion</td>\n      <td>sprice</td>\n      <td>2009</td>\n      <td>1</td>\n      <td>5</td>\n      <td>10</td>\n    </tr>\n    <tr>\n      <th>25-60686</th>\n      <td>Suspended Breakpoint in JVM not Recognized in ...</td>\n      <td>In some breakpoint cases for a app launched fr...</td>\n      <td>{\"login\": \"brigham\", \"$type\": \"User\"}</td>\n      <td>1231183948000</td>\n      <td>[{\"value\": {\"name\": \"Bug\", \"$type\": \"EnumBundl...</td>\n      <td>[{\"direction\": \"BOTH\", \"linkType\": {\"directed\"...</td>\n      <td>False</td>\n      <td>Bug</td>\n      <td>Java. Debugger</td>\n      <td>brigham</td>\n      <td>2009</td>\n      <td>1</td>\n      <td>5</td>\n      <td>19</td>\n    </tr>\n    <tr>\n      <th>25-60691</th>\n      <td>Good code red: IDEA incorrectly resolves neste...</td>\n      <td>The relevant snippet if part of the UIDebug cl...</td>\n      <td>{\"login\": \"xduke\", \"$type\": \"User\"}</td>\n      <td>1231241109000</td>\n      <td>[{\"value\": {\"name\": \"Bug\", \"$type\": \"EnumBundl...</td>\n      <td>[{\"direction\": \"BOTH\", \"linkType\": {\"directed\"...</td>\n      <td>False</td>\n      <td>Bug</td>\n      <td>Code Analysis. Inspection</td>\n      <td>xduke</td>\n      <td>2009</td>\n      <td>1</td>\n      <td>6</td>\n      <td>11</td>\n    </tr>\n    <tr>\n      <th>25-60679</th>\n      <td>Module WIll Not Load Jar Dependencies on Intre...</td>\n      <td>I have IntelliJ 7.0.5 running on both WIndows ...</td>\n      <td>{\"login\": \"stonemack\", \"$type\": \"User\"}</td>\n      <td>1231133633000</td>\n      <td>[{\"value\": {\"name\": \"Bug\", \"$type\": \"EnumBundl...</td>\n      <td>[{\"direction\": \"BOTH\", \"linkType\": {\"directed\"...</td>\n      <td>False</td>\n      <td>Bug</td>\n      <td>Core. Project Settings</td>\n      <td>stonemack</td>\n      <td>2009</td>\n      <td>1</td>\n      <td>5</td>\n      <td>5</td>\n    </tr>\n    <tr>\n      <th>...</th>\n      <td>...</td>\n      <td>...</td>\n      <td>...</td>\n      <td>...</td>\n      <td>...</td>\n      <td>...</td>\n      <td>...</td>\n      <td>...</td>\n      <td>...</td>\n      <td>...</td>\n      <td>...</td>\n      <td>...</td>\n      <td>...</td>\n      <td>...</td>\n    </tr>\n    <tr>\n      <th>25-2507313</th>\n      <td>Version Control Incoming tab missing search fi...</td>\n      <td>The Version Control tab for \"Incoming\" doesn't...</td>\n      <td>{\"login\": \"markhodgson\", \"$type\": \"User\"}</td>\n      <td>1569492791894</td>\n      <td>[{\"value\": {\"name\": \"Usability Problem\", \"$typ...</td>\n      <td>[{\"direction\": \"BOTH\", \"linkType\": {\"directed\"...</td>\n      <td>False</td>\n      <td>Usability Problem</td>\n      <td>Version Control. Subversion</td>\n      <td>markhodgson</td>\n      <td>2019</td>\n      <td>9</td>\n      <td>26</td>\n      <td>10</td>\n    </tr>\n    <tr>\n      <th>25-2507159</th>\n      <td>Groovy compiler can't find files with names co...</td>\n      <td>1. Create a new Project with groovy support\\n2...</td>\n      <td>{\"login\": \"ted.lundqvist\", \"$type\": \"User\"}</td>\n      <td>1569488444807</td>\n      <td>[{\"value\": {\"name\": \"Bug\", \"$type\": \"EnumBundl...</td>\n      <td>[{\"direction\": \"BOTH\", \"linkType\": {\"directed\"...</td>\n      <td>False</td>\n      <td>Bug</td>\n      <td>NaN</td>\n      <td>ted.lundqvist</td>\n      <td>2019</td>\n      <td>9</td>\n      <td>26</td>\n      <td>9</td>\n    </tr>\n    <tr>\n      <th>25-2507096</th>\n      <td>auto close stepped in files on debug resume</td>\n      <td>Hi,\\n\\none coworker switched from eclipse to I...</td>\n      <td>{\"login\": \"alain57\", \"$type\": \"User\"}</td>\n      <td>1569486640163</td>\n      <td>[{\"value\": {\"name\": \"Feature\", \"$type\": \"EnumB...</td>\n      <td>[{\"direction\": \"BOTH\", \"linkType\": {\"directed\"...</td>\n      <td>False</td>\n      <td>Feature</td>\n      <td>Java. Debugger</td>\n      <td>alain57</td>\n      <td>2019</td>\n      <td>9</td>\n      <td>26</td>\n      <td>8</td>\n    </tr>\n    <tr>\n      <th>25-2506900</th>\n      <td>Keymaps don't resync after disabled settings s...</td>\n      <td>I had to disable setting sync so I could expor...</td>\n      <td>{\"login\": \"Dmi3se\", \"$type\": \"User\"}</td>\n      <td>1569452238504</td>\n      <td>[{\"value\": {\"name\": \"Bug\", \"$type\": \"EnumBundl...</td>\n      <td>[{\"direction\": \"BOTH\", \"linkType\": {\"directed\"...</td>\n      <td>False</td>\n      <td>Bug</td>\n      <td>Core. IDE Settings. Sharing</td>\n      <td>Dmi3se</td>\n      <td>2019</td>\n      <td>9</td>\n      <td>25</td>\n      <td>22</td>\n    </tr>\n    <tr>\n      <th>25-2506947</th>\n      <td>OK , cancel button do not appear when i do imp...</td>\n      <td>Hello, \\nI've recently started using intelliJ,...</td>\n      <td>{\"login\": \"mohammedkhan5040\", \"$type\": \"User\"}</td>\n      <td>1569469889899</td>\n      <td>[{\"value\": {\"name\": \"Bug\", \"$type\": \"EnumBundl...</td>\n      <td>[{\"direction\": \"BOTH\", \"linkType\": {\"directed\"...</td>\n      <td>False</td>\n      <td>Bug</td>\n      <td>NaN</td>\n      <td>mohammedkhan5040</td>\n      <td>2019</td>\n      <td>9</td>\n      <td>26</td>\n      <td>3</td>\n    </tr>\n  </tbody>\n</table>\n<p>105365 rows × 14 columns</p>\n</div>"
     },
     "execution_count": 25,
     "metadata": {},
     "output_type": "execute_result"
    }
   ],
   "source": [
    "train_df"
   ]
  },
  {
   "cell_type": "code",
   "execution_count": 26,
   "id": "5461c43e-b98a-4107-9bc8-92135c0978bd",
   "metadata": {},
   "outputs": [
    {
     "data": {
      "text/plain": "                                                    summary  \\\nid                                                            \n25-60681     Don't sync font size within IDEA server plugin   \n25-60682                       Cancelling subversion update   \n25-60686  Suspended Breakpoint in JVM not Recognized in ...   \n25-60691  Good code red: IDEA incorrectly resolves neste...   \n25-60679  Module WIll Not Load Jar Dependencies on Intre...   \n\n                                                description reporter_name  \\\nid                                                                          \n25-60681  At home I have 1900x1200 resolution and at my ...        machak   \n25-60682  When cancelling an update from ie. subversion ...        sprice   \n25-60686  In some breakpoint cases for a app launched fr...       brigham   \n25-60691  The relevant snippet if part of the UIDebug cl...         xduke   \n25-60679  I have IntelliJ 7.0.5 running on both WIndows ...     stonemack   \n\n          Year  Month  Day  Hour          Type.name  \\\nid                                                    \n25-60681  2009      1    5    10                Bug   \n25-60682  2009      1    5    10  Usability Problem   \n25-60686  2009      1    5    19                Bug   \n25-60691  2009      1    6    11                Bug   \n25-60679  2009      1    5     5                Bug   \n\n                       Subsystem.name  \nid                                     \n25-60681       Core. Project Settings  \n25-60682  Version Control. Subversion  \n25-60686               Java. Debugger  \n25-60691    Code Analysis. Inspection  \n25-60679       Core. Project Settings  ",
      "text/html": "<div>\n<style scoped>\n    .dataframe tbody tr th:only-of-type {\n        vertical-align: middle;\n    }\n\n    .dataframe tbody tr th {\n        vertical-align: top;\n    }\n\n    .dataframe thead th {\n        text-align: right;\n    }\n</style>\n<table border=\"1\" class=\"dataframe\">\n  <thead>\n    <tr style=\"text-align: right;\">\n      <th></th>\n      <th>summary</th>\n      <th>description</th>\n      <th>reporter_name</th>\n      <th>Year</th>\n      <th>Month</th>\n      <th>Day</th>\n      <th>Hour</th>\n      <th>Type.name</th>\n      <th>Subsystem.name</th>\n    </tr>\n    <tr>\n      <th>id</th>\n      <th></th>\n      <th></th>\n      <th></th>\n      <th></th>\n      <th></th>\n      <th></th>\n      <th></th>\n      <th></th>\n      <th></th>\n    </tr>\n  </thead>\n  <tbody>\n    <tr>\n      <th>25-60681</th>\n      <td>Don't sync font size within IDEA server plugin</td>\n      <td>At home I have 1900x1200 resolution and at my ...</td>\n      <td>machak</td>\n      <td>2009</td>\n      <td>1</td>\n      <td>5</td>\n      <td>10</td>\n      <td>Bug</td>\n      <td>Core. Project Settings</td>\n    </tr>\n    <tr>\n      <th>25-60682</th>\n      <td>Cancelling subversion update</td>\n      <td>When cancelling an update from ie. subversion ...</td>\n      <td>sprice</td>\n      <td>2009</td>\n      <td>1</td>\n      <td>5</td>\n      <td>10</td>\n      <td>Usability Problem</td>\n      <td>Version Control. Subversion</td>\n    </tr>\n    <tr>\n      <th>25-60686</th>\n      <td>Suspended Breakpoint in JVM not Recognized in ...</td>\n      <td>In some breakpoint cases for a app launched fr...</td>\n      <td>brigham</td>\n      <td>2009</td>\n      <td>1</td>\n      <td>5</td>\n      <td>19</td>\n      <td>Bug</td>\n      <td>Java. Debugger</td>\n    </tr>\n    <tr>\n      <th>25-60691</th>\n      <td>Good code red: IDEA incorrectly resolves neste...</td>\n      <td>The relevant snippet if part of the UIDebug cl...</td>\n      <td>xduke</td>\n      <td>2009</td>\n      <td>1</td>\n      <td>6</td>\n      <td>11</td>\n      <td>Bug</td>\n      <td>Code Analysis. Inspection</td>\n    </tr>\n    <tr>\n      <th>25-60679</th>\n      <td>Module WIll Not Load Jar Dependencies on Intre...</td>\n      <td>I have IntelliJ 7.0.5 running on both WIndows ...</td>\n      <td>stonemack</td>\n      <td>2009</td>\n      <td>1</td>\n      <td>5</td>\n      <td>5</td>\n      <td>Bug</td>\n      <td>Core. Project Settings</td>\n    </tr>\n  </tbody>\n</table>\n</div>"
     },
     "execution_count": 26,
     "metadata": {},
     "output_type": "execute_result"
    }
   ],
   "source": [
    "columns = ['summary', 'description', 'reporter_name', 'Year','Month', 'Day', 'Hour'] +  json_columns\n",
    "\n",
    "X = train_df[columns]\n",
    "y = train_df['is_high_priority']\n",
    "\n",
    "X.head()"
   ]
  },
  {
   "cell_type": "markdown",
   "id": "0a44dece-4b57-406d-ab68-475ff0e6d00b",
   "metadata": {},
   "source": [
    "### DataFrameMapper"
   ]
  },
  {
   "cell_type": "code",
   "execution_count": 27,
   "id": "92221032-9d3f-4ca7-bc47-7646d1e27fa1",
   "metadata": {},
   "outputs": [
    {
     "data": {
      "text/plain": "            summary_are  summary_block  summary_clinet  summary_collections  \\\nid                                                                            \n25-476198      0.000000        0.57735        0.000000             0.000000   \n25-2171988     0.000000        0.00000        0.000000             0.339992   \n25-1310267     0.316228        0.00000        0.000000             0.000000   \n25-515040      0.000000        0.00000        0.321896             0.000000   \n25-375359      0.000000        0.00000        0.000000             0.000000   \n\n            summary_command  summary_commit  summary_configurations  \\\nid                                                                    \n25-476198          0.000000         0.00000                0.000000   \n25-2171988         0.000000         0.00000                0.000000   \n25-1310267         0.000000         0.00000                0.316228   \n25-515040          0.321896         0.00000                0.000000   \n25-375359          0.000000         0.67082                0.000000   \n\n            summary_debug  summary_detect  summary_dialog  ...  \\\nid                                                         ...   \n25-476198        0.000000        0.000000        0.000000  ...   \n25-2171988       0.000000        0.339992        0.000000  ...   \n25-1310267       0.316228        0.000000        0.000000  ...   \n25-515040        0.000000        0.000000        0.000000  ...   \n25-375359        0.000000        0.000000        0.223607  ...   \n\n            summary_unmodifiable  summary_updated  summary_values  \\\nid                                                                  \n25-476198               0.000000         0.000000        0.000000   \n25-2171988              0.679984         0.000000        0.339992   \n25-1310267              0.000000         0.316228        0.000000   \n25-515040               0.000000         0.000000        0.000000   \n25-375359               0.000000         0.000000        0.000000   \n\n            summary_was  summary_way  summary_with  summary_wrapping  \\\nid                                                                     \n25-476198      0.000000     0.000000      0.000000          0.000000   \n25-2171988     0.000000     0.000000      0.000000          0.339992   \n25-1310267     0.316228     0.000000      0.000000          0.000000   \n25-515040      0.000000     0.000000      0.321896          0.000000   \n25-375359      0.000000     0.223607      0.000000          0.000000   \n\n            Type.name_x0_Bug  Type.name_x0_Feature  Year  \nid                                                        \n25-476198                1.0                   0.0  2012  \n25-2171988               0.0                   1.0  2018  \n25-1310267               1.0                   0.0  2016  \n25-515040                1.0                   0.0  2013  \n25-375359                1.0                   0.0  2011  \n\n[5 rows x 43 columns]",
      "text/html": "<div>\n<style scoped>\n    .dataframe tbody tr th:only-of-type {\n        vertical-align: middle;\n    }\n\n    .dataframe tbody tr th {\n        vertical-align: top;\n    }\n\n    .dataframe thead th {\n        text-align: right;\n    }\n</style>\n<table border=\"1\" class=\"dataframe\">\n  <thead>\n    <tr style=\"text-align: right;\">\n      <th></th>\n      <th>summary_are</th>\n      <th>summary_block</th>\n      <th>summary_clinet</th>\n      <th>summary_collections</th>\n      <th>summary_command</th>\n      <th>summary_commit</th>\n      <th>summary_configurations</th>\n      <th>summary_debug</th>\n      <th>summary_detect</th>\n      <th>summary_dialog</th>\n      <th>...</th>\n      <th>summary_unmodifiable</th>\n      <th>summary_updated</th>\n      <th>summary_values</th>\n      <th>summary_was</th>\n      <th>summary_way</th>\n      <th>summary_with</th>\n      <th>summary_wrapping</th>\n      <th>Type.name_x0_Bug</th>\n      <th>Type.name_x0_Feature</th>\n      <th>Year</th>\n    </tr>\n    <tr>\n      <th>id</th>\n      <th></th>\n      <th></th>\n      <th></th>\n      <th></th>\n      <th></th>\n      <th></th>\n      <th></th>\n      <th></th>\n      <th></th>\n      <th></th>\n      <th></th>\n      <th></th>\n      <th></th>\n      <th></th>\n      <th></th>\n      <th></th>\n      <th></th>\n      <th></th>\n      <th></th>\n      <th></th>\n      <th></th>\n    </tr>\n  </thead>\n  <tbody>\n    <tr>\n      <th>25-476198</th>\n      <td>0.000000</td>\n      <td>0.57735</td>\n      <td>0.000000</td>\n      <td>0.000000</td>\n      <td>0.000000</td>\n      <td>0.00000</td>\n      <td>0.000000</td>\n      <td>0.000000</td>\n      <td>0.000000</td>\n      <td>0.000000</td>\n      <td>...</td>\n      <td>0.000000</td>\n      <td>0.000000</td>\n      <td>0.000000</td>\n      <td>0.000000</td>\n      <td>0.000000</td>\n      <td>0.000000</td>\n      <td>0.000000</td>\n      <td>1.0</td>\n      <td>0.0</td>\n      <td>2012</td>\n    </tr>\n    <tr>\n      <th>25-2171988</th>\n      <td>0.000000</td>\n      <td>0.00000</td>\n      <td>0.000000</td>\n      <td>0.339992</td>\n      <td>0.000000</td>\n      <td>0.00000</td>\n      <td>0.000000</td>\n      <td>0.000000</td>\n      <td>0.339992</td>\n      <td>0.000000</td>\n      <td>...</td>\n      <td>0.679984</td>\n      <td>0.000000</td>\n      <td>0.339992</td>\n      <td>0.000000</td>\n      <td>0.000000</td>\n      <td>0.000000</td>\n      <td>0.339992</td>\n      <td>0.0</td>\n      <td>1.0</td>\n      <td>2018</td>\n    </tr>\n    <tr>\n      <th>25-1310267</th>\n      <td>0.316228</td>\n      <td>0.00000</td>\n      <td>0.000000</td>\n      <td>0.000000</td>\n      <td>0.000000</td>\n      <td>0.00000</td>\n      <td>0.316228</td>\n      <td>0.316228</td>\n      <td>0.000000</td>\n      <td>0.000000</td>\n      <td>...</td>\n      <td>0.000000</td>\n      <td>0.316228</td>\n      <td>0.000000</td>\n      <td>0.316228</td>\n      <td>0.000000</td>\n      <td>0.000000</td>\n      <td>0.000000</td>\n      <td>1.0</td>\n      <td>0.0</td>\n      <td>2016</td>\n    </tr>\n    <tr>\n      <th>25-515040</th>\n      <td>0.000000</td>\n      <td>0.00000</td>\n      <td>0.321896</td>\n      <td>0.000000</td>\n      <td>0.321896</td>\n      <td>0.00000</td>\n      <td>0.000000</td>\n      <td>0.000000</td>\n      <td>0.000000</td>\n      <td>0.000000</td>\n      <td>...</td>\n      <td>0.000000</td>\n      <td>0.000000</td>\n      <td>0.000000</td>\n      <td>0.000000</td>\n      <td>0.000000</td>\n      <td>0.321896</td>\n      <td>0.000000</td>\n      <td>1.0</td>\n      <td>0.0</td>\n      <td>2013</td>\n    </tr>\n    <tr>\n      <th>25-375359</th>\n      <td>0.000000</td>\n      <td>0.00000</td>\n      <td>0.000000</td>\n      <td>0.000000</td>\n      <td>0.000000</td>\n      <td>0.67082</td>\n      <td>0.000000</td>\n      <td>0.000000</td>\n      <td>0.000000</td>\n      <td>0.223607</td>\n      <td>...</td>\n      <td>0.000000</td>\n      <td>0.000000</td>\n      <td>0.000000</td>\n      <td>0.000000</td>\n      <td>0.223607</td>\n      <td>0.000000</td>\n      <td>0.000000</td>\n      <td>1.0</td>\n      <td>0.0</td>\n      <td>2011</td>\n    </tr>\n  </tbody>\n</table>\n<p>5 rows × 43 columns</p>\n</div>"
     },
     "execution_count": 27,
     "metadata": {},
     "output_type": "execute_result"
    }
   ],
   "source": [
    "from sklearn_pandas import DataFrameMapper\n",
    "\n",
    "preprocessor = DataFrameMapper([('summary', TfidfVectorizer()),\n",
    "                                (['Type.name'], OneHotEncoder(sparse=False, handle_unknown='ignore')),\n",
    "                                #(['reporter_name'], ...),\n",
    "                                #(['Subsystem.name'], ...),\n",
    "                                ('Year', None),\n",
    "                                #('Month', ...),\n",
    "                                #('Day', ...),\n",
    "                                #('Hour', ...),\n",
    "                                ], \n",
    "                               input_df=True, \n",
    "                               df_out=True)\n",
    "\n",
    "preprocessor.fit_transform(X.sample(5))"
   ]
  },
  {
   "cell_type": "markdown",
   "id": "7fb9915b-d977-4859-9b86-d4703c5450d6",
   "metadata": {},
   "source": [
    "### Подбор порога"
   ]
  },
  {
   "cell_type": "code",
   "execution_count": null,
   "id": "7d1240d7-bbb2-4508-9894-6219be8ab343",
   "metadata": {
    "pycharm": {
     "is_executing": true
    }
   },
   "outputs": [],
   "source": [
    "pipe = make_pipeline(preprocessor, MultinomialNB ())\n",
    "\n",
    "pipe.fit(X, y)"
   ]
  },
  {
   "cell_type": "code",
   "execution_count": null,
   "id": "025da9bd-de38-4522-8285-9948ac9db5e5",
   "metadata": {
    "pycharm": {
     "is_executing": true
    }
   },
   "outputs": [],
   "source": [
    "probabilities = pipe.predict_proba(X)[:, 1]"
   ]
  },
  {
   "cell_type": "code",
   "execution_count": null,
   "id": "793b1da8-f9f9-45d3-9c70-4b145b7a6370",
   "metadata": {
    "pycharm": {
     "is_executing": true
    }
   },
   "outputs": [],
   "source": [
    "probabilities"
   ]
  },
  {
   "cell_type": "code",
   "execution_count": null,
   "id": "edeb8249-88c9-4aa7-a481-3d59e903a597",
   "metadata": {
    "pycharm": {
     "is_executing": true
    }
   },
   "outputs": [],
   "source": [
    "threshold = 0.1"
   ]
  },
  {
   "cell_type": "code",
   "execution_count": null,
   "id": "97c171f3-8a54-441b-91d4-46fc877c5327",
   "metadata": {
    "pycharm": {
     "is_executing": true
    }
   },
   "outputs": [],
   "source": [
    "f1_score(y_true=y, y_pred=probabilities > threshold)"
   ]
  },
  {
   "cell_type": "code",
   "execution_count": null,
   "id": "db10f578-3fdf-4320-a8ad-946a2882a5ae",
   "metadata": {
    "pycharm": {
     "is_executing": true
    }
   },
   "outputs": [],
   "source": []
  }
 ],
 "metadata": {
  "kernelspec": {
   "display_name": "Python 3 (ipykernel)",
   "language": "python",
   "name": "python3"
  },
  "language_info": {
   "codemirror_mode": {
    "name": "ipython",
    "version": 3
   },
   "file_extension": ".py",
   "mimetype": "text/x-python",
   "name": "python",
   "nbconvert_exporter": "python",
   "pygments_lexer": "ipython3",
   "version": "3.9.7"
  }
 },
 "nbformat": 4,
 "nbformat_minor": 5
}