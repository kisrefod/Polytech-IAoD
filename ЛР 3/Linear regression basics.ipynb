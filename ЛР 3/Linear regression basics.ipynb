{
 "cells": [
  {
   "cell_type": "markdown",
   "metadata": {},
   "source": [
    "### London bike sharing\n",
    "\n",
    "##### Dataset\n",
    "https://www.kaggle.com/hmavrodiev/london-bike-sharing-dataset\n",
    "\n",
    "\"timestamp\" - timestamp field for grouping the data</br>\n",
    "\"cnt\" - the count of a new bike shares</br>\n",
    "\"t1\" - real temperature in C</br>\n",
    "\"t2\" - temperature in C \"feels like\"</br>\n",
    "\"hum\" - humidity in percentage</br>\n",
    "\"windspeed\" - wind speed in km/h</br>\n",
    "\"weathercode\" - category of the weather</br>\n",
    "\"isholiday\" - boolean field - 1 holiday / 0 non holiday</br>\n",
    "\"isweekend\" - boolean field - 1 if the day is weekend</br>\n",
    "\"season\" - category field meteorological seasons: 0-spring ; 1-summer; 2-fall; 3-winter.</br>\n",
    "\n",
    "\"weathe_code\" category description:</br>\n",
    "1 = Clear ; mostly clear but have some values with haze/fog/patches of fog/ fog in vicinity 2 = scattered clouds / few clouds 3 = Broken clouds 4 = Cloudy 7 = Rain/ light Rain shower/ Light rain 10 = rain with thunderstorm 26 = snowfall 94 = Freezing Fog\n"
   ]
  },
  {
   "cell_type": "code",
   "execution_count": 5,
   "outputs": [],
   "source": [
    "import pandas as pd\n",
    "import numpy as np\n",
    "import matplotlib.pyplot as plt\n",
    "import seaborn as sns\n",
    "\n",
    "np.set_printoptions(precision=3)\n",
    "pd.set_option('precision', 3)\n",
    "sns.set()\n",
    "\n",
    "import warnings\n",
    "warnings.simplefilter('ignore')"
   ],
   "metadata": {
    "collapsed": false,
    "pycharm": {
     "name": "#%%\n"
    }
   }
  },
  {
   "cell_type": "code",
   "execution_count": 6,
   "metadata": {},
   "outputs": [
    {
     "data": {
      "text/plain": "             timestamp   cnt    t1    tF   t2   hum  wind_speed  weather_code  \\\n0  2015-01-04 14:00:00  1039   2.5  36.5  0.0  90.0         8.0           3.0   \n1  2015-01-04 15:00:00   869   2.0  35.6 -1.5  93.0        11.0           3.0   \n2  2015-01-04 20:00:00   328   3.0  37.4  3.0  93.0         4.0           3.0   \n3  2015-01-05 12:00:00   762  10.0  50.0  8.0  85.0        11.0           3.0   \n4  2015-01-05 19:00:00  1274   9.0  48.2  6.5  71.0        14.0           3.0   \n\n   is_holiday  is_weekend  season  \n0         0.0         1.0     3.0  \n1         0.0         1.0     3.0  \n2         0.0         1.0     3.0  \n3         0.0         0.0     3.0  \n4         0.0         0.0     3.0  ",
      "text/html": "<div>\n<style scoped>\n    .dataframe tbody tr th:only-of-type {\n        vertical-align: middle;\n    }\n\n    .dataframe tbody tr th {\n        vertical-align: top;\n    }\n\n    .dataframe thead th {\n        text-align: right;\n    }\n</style>\n<table border=\"1\" class=\"dataframe\">\n  <thead>\n    <tr style=\"text-align: right;\">\n      <th></th>\n      <th>timestamp</th>\n      <th>cnt</th>\n      <th>t1</th>\n      <th>tF</th>\n      <th>t2</th>\n      <th>hum</th>\n      <th>wind_speed</th>\n      <th>weather_code</th>\n      <th>is_holiday</th>\n      <th>is_weekend</th>\n      <th>season</th>\n    </tr>\n  </thead>\n  <tbody>\n    <tr>\n      <th>0</th>\n      <td>2015-01-04 14:00:00</td>\n      <td>1039</td>\n      <td>2.5</td>\n      <td>36.5</td>\n      <td>0.0</td>\n      <td>90.0</td>\n      <td>8.0</td>\n      <td>3.0</td>\n      <td>0.0</td>\n      <td>1.0</td>\n      <td>3.0</td>\n    </tr>\n    <tr>\n      <th>1</th>\n      <td>2015-01-04 15:00:00</td>\n      <td>869</td>\n      <td>2.0</td>\n      <td>35.6</td>\n      <td>-1.5</td>\n      <td>93.0</td>\n      <td>11.0</td>\n      <td>3.0</td>\n      <td>0.0</td>\n      <td>1.0</td>\n      <td>3.0</td>\n    </tr>\n    <tr>\n      <th>2</th>\n      <td>2015-01-04 20:00:00</td>\n      <td>328</td>\n      <td>3.0</td>\n      <td>37.4</td>\n      <td>3.0</td>\n      <td>93.0</td>\n      <td>4.0</td>\n      <td>3.0</td>\n      <td>0.0</td>\n      <td>1.0</td>\n      <td>3.0</td>\n    </tr>\n    <tr>\n      <th>3</th>\n      <td>2015-01-05 12:00:00</td>\n      <td>762</td>\n      <td>10.0</td>\n      <td>50.0</td>\n      <td>8.0</td>\n      <td>85.0</td>\n      <td>11.0</td>\n      <td>3.0</td>\n      <td>0.0</td>\n      <td>0.0</td>\n      <td>3.0</td>\n    </tr>\n    <tr>\n      <th>4</th>\n      <td>2015-01-05 19:00:00</td>\n      <td>1274</td>\n      <td>9.0</td>\n      <td>48.2</td>\n      <td>6.5</td>\n      <td>71.0</td>\n      <td>14.0</td>\n      <td>3.0</td>\n      <td>0.0</td>\n      <td>0.0</td>\n      <td>3.0</td>\n    </tr>\n  </tbody>\n</table>\n</div>"
     },
     "execution_count": 6,
     "metadata": {},
     "output_type": "execute_result"
    }
   ],
   "source": [
    "bike_data = pd.read_csv('london_bikes_sample.csv')\n",
    "bike_data.head()"
   ]
  },
  {
   "cell_type": "markdown",
   "metadata": {},
   "source": [
    "### 1. Исследуем признаки"
   ]
  },
  {
   "cell_type": "code",
   "execution_count": 7,
   "metadata": {},
   "outputs": [
    {
     "name": "stdout",
     "output_type": "stream",
     "text": [
      "<class 'pandas.core.frame.DataFrame'>\n",
      "RangeIndex: 1000 entries, 0 to 999\n",
      "Data columns (total 11 columns):\n",
      " #   Column        Non-Null Count  Dtype  \n",
      "---  ------        --------------  -----  \n",
      " 0   timestamp     1000 non-null   object \n",
      " 1   cnt           1000 non-null   int64  \n",
      " 2   t1            1000 non-null   float64\n",
      " 3   tF            1000 non-null   float64\n",
      " 4   t2            1000 non-null   float64\n",
      " 5   hum           1000 non-null   float64\n",
      " 6   wind_speed    1000 non-null   float64\n",
      " 7   weather_code  1000 non-null   float64\n",
      " 8   is_holiday    1000 non-null   float64\n",
      " 9   is_weekend    1000 non-null   float64\n",
      " 10  season        1000 non-null   float64\n",
      "dtypes: float64(9), int64(1), object(1)\n",
      "memory usage: 86.1+ KB\n"
     ]
    }
   ],
   "source": [
    "bike_data.info()"
   ]
  },
  {
   "cell_type": "markdown",
   "metadata": {},
   "source": [
    "**Q: Какие признаки и как мы можем преобразовать?**"
   ]
  },
  {
   "cell_type": "code",
   "execution_count": 8,
   "metadata": {},
   "outputs": [
    {
     "data": {
      "text/plain": "    cnt    t1    tF   t2   hum  wind_speed  weather_code  is_holiday  \\\n0  1039   2.5  36.5  0.0  90.0         8.0           3.0         0.0   \n1   869   2.0  35.6 -1.5  93.0        11.0           3.0         0.0   \n2   328   3.0  37.4  3.0  93.0         4.0           3.0         0.0   \n3   762  10.0  50.0  8.0  85.0        11.0           3.0         0.0   \n4  1274   9.0  48.2  6.5  71.0        14.0           3.0         0.0   \n\n   is_weekend  season  year  month  hour  \n0         1.0     3.0  2015      1    14  \n1         1.0     3.0  2015      1    15  \n2         1.0     3.0  2015      1    20  \n3         0.0     3.0  2015      1    12  \n4         0.0     3.0  2015      1    19  ",
      "text/html": "<div>\n<style scoped>\n    .dataframe tbody tr th:only-of-type {\n        vertical-align: middle;\n    }\n\n    .dataframe tbody tr th {\n        vertical-align: top;\n    }\n\n    .dataframe thead th {\n        text-align: right;\n    }\n</style>\n<table border=\"1\" class=\"dataframe\">\n  <thead>\n    <tr style=\"text-align: right;\">\n      <th></th>\n      <th>cnt</th>\n      <th>t1</th>\n      <th>tF</th>\n      <th>t2</th>\n      <th>hum</th>\n      <th>wind_speed</th>\n      <th>weather_code</th>\n      <th>is_holiday</th>\n      <th>is_weekend</th>\n      <th>season</th>\n      <th>year</th>\n      <th>month</th>\n      <th>hour</th>\n    </tr>\n  </thead>\n  <tbody>\n    <tr>\n      <th>0</th>\n      <td>1039</td>\n      <td>2.5</td>\n      <td>36.5</td>\n      <td>0.0</td>\n      <td>90.0</td>\n      <td>8.0</td>\n      <td>3.0</td>\n      <td>0.0</td>\n      <td>1.0</td>\n      <td>3.0</td>\n      <td>2015</td>\n      <td>1</td>\n      <td>14</td>\n    </tr>\n    <tr>\n      <th>1</th>\n      <td>869</td>\n      <td>2.0</td>\n      <td>35.6</td>\n      <td>-1.5</td>\n      <td>93.0</td>\n      <td>11.0</td>\n      <td>3.0</td>\n      <td>0.0</td>\n      <td>1.0</td>\n      <td>3.0</td>\n      <td>2015</td>\n      <td>1</td>\n      <td>15</td>\n    </tr>\n    <tr>\n      <th>2</th>\n      <td>328</td>\n      <td>3.0</td>\n      <td>37.4</td>\n      <td>3.0</td>\n      <td>93.0</td>\n      <td>4.0</td>\n      <td>3.0</td>\n      <td>0.0</td>\n      <td>1.0</td>\n      <td>3.0</td>\n      <td>2015</td>\n      <td>1</td>\n      <td>20</td>\n    </tr>\n    <tr>\n      <th>3</th>\n      <td>762</td>\n      <td>10.0</td>\n      <td>50.0</td>\n      <td>8.0</td>\n      <td>85.0</td>\n      <td>11.0</td>\n      <td>3.0</td>\n      <td>0.0</td>\n      <td>0.0</td>\n      <td>3.0</td>\n      <td>2015</td>\n      <td>1</td>\n      <td>12</td>\n    </tr>\n    <tr>\n      <th>4</th>\n      <td>1274</td>\n      <td>9.0</td>\n      <td>48.2</td>\n      <td>6.5</td>\n      <td>71.0</td>\n      <td>14.0</td>\n      <td>3.0</td>\n      <td>0.0</td>\n      <td>0.0</td>\n      <td>3.0</td>\n      <td>2015</td>\n      <td>1</td>\n      <td>19</td>\n    </tr>\n  </tbody>\n</table>\n</div>"
     },
     "execution_count": 8,
     "metadata": {},
     "output_type": "execute_result"
    }
   ],
   "source": [
    "bike_data['year'] = pd.DatetimeIndex(bike_data['timestamp']).year\n",
    "bike_data['month'] = pd.DatetimeIndex(bike_data['timestamp']).month\n",
    "bike_data['hour'] = pd.DatetimeIndex(bike_data['timestamp']).hour\n",
    "\n",
    "bike_data.drop('timestamp', axis = 1, inplace = True)\n",
    "\n",
    "bike_data.head()"
   ]
  },
  {
   "cell_type": "code",
   "execution_count": 9,
   "metadata": {},
   "outputs": [
    {
     "data": {
      "text/plain": "            cnt        t1        tF        t2       hum  wind_speed  \\\ncount  1000.000  1000.000  1000.000  1000.000  1000.000    1000.000   \nmean   1152.729    12.320    54.177    11.347    72.474      16.124   \nstd    1085.927     5.513     9.924     6.580    14.137       7.960   \nmin      17.000    -1.000    30.200    -3.500    28.500       0.000   \n25%     271.500     8.000    46.400     6.000    63.000      10.000   \n50%     857.000    12.000    53.600    12.000    74.500      15.000   \n75%    1674.500    16.000    60.800    16.000    83.000      21.000   \nmax    4861.000    30.000    86.000    29.500   100.000      46.000   \n\n       weather_code  is_holiday  is_weekend   season      year     month  \\\ncount      1000.000     1000.00    1000.000  1000.00  1000.000  1000.000   \nmean          2.790        0.02       0.288     1.52  2015.503     6.533   \nstd           2.359        0.14       0.453     1.13     0.500     3.523   \nmin           1.000        0.00       0.000     0.00  2015.000     1.000   \n25%           1.000        0.00       0.000     1.00  2015.000     3.000   \n50%           2.000        0.00       0.000     2.00  2016.000     7.000   \n75%           3.000        0.00       1.000     3.00  2016.000    10.000   \nmax          26.000        1.00       1.000     3.00  2016.000    12.000   \n\n           hour  \ncount  1000.000  \nmean     11.681  \nstd       6.877  \nmin       0.000  \n25%       6.000  \n50%      12.000  \n75%      18.000  \nmax      23.000  ",
      "text/html": "<div>\n<style scoped>\n    .dataframe tbody tr th:only-of-type {\n        vertical-align: middle;\n    }\n\n    .dataframe tbody tr th {\n        vertical-align: top;\n    }\n\n    .dataframe thead th {\n        text-align: right;\n    }\n</style>\n<table border=\"1\" class=\"dataframe\">\n  <thead>\n    <tr style=\"text-align: right;\">\n      <th></th>\n      <th>cnt</th>\n      <th>t1</th>\n      <th>tF</th>\n      <th>t2</th>\n      <th>hum</th>\n      <th>wind_speed</th>\n      <th>weather_code</th>\n      <th>is_holiday</th>\n      <th>is_weekend</th>\n      <th>season</th>\n      <th>year</th>\n      <th>month</th>\n      <th>hour</th>\n    </tr>\n  </thead>\n  <tbody>\n    <tr>\n      <th>count</th>\n      <td>1000.000</td>\n      <td>1000.000</td>\n      <td>1000.000</td>\n      <td>1000.000</td>\n      <td>1000.000</td>\n      <td>1000.000</td>\n      <td>1000.000</td>\n      <td>1000.00</td>\n      <td>1000.000</td>\n      <td>1000.00</td>\n      <td>1000.000</td>\n      <td>1000.000</td>\n      <td>1000.000</td>\n    </tr>\n    <tr>\n      <th>mean</th>\n      <td>1152.729</td>\n      <td>12.320</td>\n      <td>54.177</td>\n      <td>11.347</td>\n      <td>72.474</td>\n      <td>16.124</td>\n      <td>2.790</td>\n      <td>0.02</td>\n      <td>0.288</td>\n      <td>1.52</td>\n      <td>2015.503</td>\n      <td>6.533</td>\n      <td>11.681</td>\n    </tr>\n    <tr>\n      <th>std</th>\n      <td>1085.927</td>\n      <td>5.513</td>\n      <td>9.924</td>\n      <td>6.580</td>\n      <td>14.137</td>\n      <td>7.960</td>\n      <td>2.359</td>\n      <td>0.14</td>\n      <td>0.453</td>\n      <td>1.13</td>\n      <td>0.500</td>\n      <td>3.523</td>\n      <td>6.877</td>\n    </tr>\n    <tr>\n      <th>min</th>\n      <td>17.000</td>\n      <td>-1.000</td>\n      <td>30.200</td>\n      <td>-3.500</td>\n      <td>28.500</td>\n      <td>0.000</td>\n      <td>1.000</td>\n      <td>0.00</td>\n      <td>0.000</td>\n      <td>0.00</td>\n      <td>2015.000</td>\n      <td>1.000</td>\n      <td>0.000</td>\n    </tr>\n    <tr>\n      <th>25%</th>\n      <td>271.500</td>\n      <td>8.000</td>\n      <td>46.400</td>\n      <td>6.000</td>\n      <td>63.000</td>\n      <td>10.000</td>\n      <td>1.000</td>\n      <td>0.00</td>\n      <td>0.000</td>\n      <td>1.00</td>\n      <td>2015.000</td>\n      <td>3.000</td>\n      <td>6.000</td>\n    </tr>\n    <tr>\n      <th>50%</th>\n      <td>857.000</td>\n      <td>12.000</td>\n      <td>53.600</td>\n      <td>12.000</td>\n      <td>74.500</td>\n      <td>15.000</td>\n      <td>2.000</td>\n      <td>0.00</td>\n      <td>0.000</td>\n      <td>2.00</td>\n      <td>2016.000</td>\n      <td>7.000</td>\n      <td>12.000</td>\n    </tr>\n    <tr>\n      <th>75%</th>\n      <td>1674.500</td>\n      <td>16.000</td>\n      <td>60.800</td>\n      <td>16.000</td>\n      <td>83.000</td>\n      <td>21.000</td>\n      <td>3.000</td>\n      <td>0.00</td>\n      <td>1.000</td>\n      <td>3.00</td>\n      <td>2016.000</td>\n      <td>10.000</td>\n      <td>18.000</td>\n    </tr>\n    <tr>\n      <th>max</th>\n      <td>4861.000</td>\n      <td>30.000</td>\n      <td>86.000</td>\n      <td>29.500</td>\n      <td>100.000</td>\n      <td>46.000</td>\n      <td>26.000</td>\n      <td>1.00</td>\n      <td>1.000</td>\n      <td>3.00</td>\n      <td>2016.000</td>\n      <td>12.000</td>\n      <td>23.000</td>\n    </tr>\n  </tbody>\n</table>\n</div>"
     },
     "execution_count": 9,
     "metadata": {},
     "output_type": "execute_result"
    }
   ],
   "source": [
    "bike_data.describe()"
   ]
  },
  {
   "cell_type": "code",
   "execution_count": 10,
   "metadata": {},
   "outputs": [
    {
     "data": {
      "text/plain": "<AxesSubplot:xlabel='season', ylabel='cnt'>"
     },
     "execution_count": 10,
     "metadata": {},
     "output_type": "execute_result"
    },
    {
     "data": {
      "text/plain": "<Figure size 864x504 with 1 Axes>",
      "image/png": "[encoded data removed]"
     },
     "metadata": {},
     "output_type": "display_data"
    }
   ],
   "source": [
    "plt.subplots(figsize=(12,7))\n",
    "sns.boxplot(x=bike_data['season'], y=bike_data['cnt'])"
   ]
  },
  {
   "cell_type": "code",
   "execution_count": null,
   "metadata": {},
   "outputs": [],
   "source": [
    "sns.pairplot(bike_data)"
   ]
  },
  {
   "cell_type": "code",
   "execution_count": null,
   "metadata": {},
   "outputs": [],
   "source": [
    "plt.figure(figsize=(18,20))\n",
    "for i, column in enumerate(bike_data.columns):\n",
    "    plt.subplot(4, 4, i + 1)\n",
    "    plt.scatter(bike_data[column], bike_data['cnt'])\n",
    "    plt.xlabel(column)\n",
    "    plt.ylabel('count')"
   ]
  },
  {
   "cell_type": "code",
   "execution_count": null,
   "metadata": {},
   "outputs": [],
   "source": [
    "fig, ax = plt.subplots(figsize=(10,10))\n",
    "sns.heatmap(bike_data.corr(method='spearman'), annot = True, linewidths=0.7, ax=ax )"
   ]
  },
  {
   "cell_type": "markdown",
   "metadata": {},
   "source": [
    "**Q: Какие признак(и) можно/нужно удалить из выборки?**"
   ]
  },
  {
   "cell_type": "code",
   "execution_count": null,
   "metadata": {},
   "outputs": [],
   "source": [
    "to_drop = [\"tF\"]"
   ]
  },
  {
   "cell_type": "code",
   "execution_count": null,
   "metadata": {},
   "outputs": [],
   "source": [
    "X, Y = bike_data.drop('cnt', axis = 1), bike_data['cnt']\n",
    "X.head()"
   ]
  },
  {
   "cell_type": "markdown",
   "metadata": {},
   "source": [
    "### 2. Сформируем тренировочную и тестовую выборки"
   ]
  },
  {
   "cell_type": "code",
   "execution_count": null,
   "metadata": {},
   "outputs": [],
   "source": [
    "import sklearn.metrics as metrics\n",
    "\n",
    "from sklearn.linear_model import LinearRegression, Lasso, Ridge, LassoCV, RidgeCV\n",
    "from sklearn.preprocessing import StandardScaler\n",
    "\n",
    "from sklearn.model_selection import train_test_split"
   ]
  },
  {
   "cell_type": "code",
   "execution_count": null,
   "metadata": {},
   "outputs": [],
   "source": [
    "X_train, X_test, Y_train, Y_test = train_test_split (X, Y, test_size = 0.3, shuffle = False)\n",
    "X_train"
   ]
  },
  {
   "cell_type": "code",
   "execution_count": null,
   "metadata": {},
   "outputs": [],
   "source": [
    "std_scaler = StandardScaler()\n",
    "\n",
    "X_train_scaled = std_scaler.fit_transform(X_train)\n",
    "X_test_scaled = std_scaler.transform(X_test)\n",
    "\n",
    "X_train_scaled"
   ]
  },
  {
   "cell_type": "markdown",
   "metadata": {},
   "source": [
    "### 3. Построим baseline модель"
   ]
  },
  {
   "cell_type": "markdown",
   "metadata": {},
   "source": [
    "**Q: Придумайте самый простой способ формировать предсказания.**"
   ]
  },
  {
   "cell_type": "code",
   "execution_count": null,
   "metadata": {},
   "outputs": [],
   "source": [
    "def dummy_LR (X_train, X_test, Y_train, Y_test):\n",
    "    \n",
    "    Y_mean = Y_train.mean()\n",
    "    \n",
    "    return np.full(Y_test.shape, Y_mean)\n",
    "\n",
    "dummy_LR_predictions = dummy_LR (X_train, X_test, Y_train, Y_test)\n",
    "\n",
    "dummy_LR_MSE = metrics.mean_squared_error(Y_test, dummy_LR_predictions)\n",
    "\n",
    "print (f'Dummy MSE = {round(dummy_LR_MSE, 3)}')"
   ]
  },
  {
   "cell_type": "markdown",
   "metadata": {},
   "source": [
    "### 4. Построим простую модель регрессии"
   ]
  },
  {
   "cell_type": "code",
   "execution_count": null,
   "metadata": {},
   "outputs": [],
   "source": [
    "simple_LR = LinearRegression()\n",
    "\n",
    "simple_LR.fit(X_train_scaled, Y_train)\n",
    "\n",
    "simple_LR_predictions = simple_LR.predict(X_test_scaled)\n",
    "\n",
    "simple_LR_MSE = metrics.mean_squared_error(Y_test, simple_LR_predictions)\n",
    "\n",
    "print (f'Simple LR MSE = {round(simple_LR_MSE,3)}')"
   ]
  },
  {
   "cell_type": "code",
   "execution_count": null,
   "metadata": {},
   "outputs": [],
   "source": [
    "simple_LR_RMSE = metrics.mean_squared_error(Y_test, simple_LR_predictions, squared = False)\n",
    "\n",
    "print (f'Simple LR RMSE = {round(simple_LR_RMSE, 3)}')"
   ]
  },
  {
   "cell_type": "code",
   "execution_count": null,
   "metadata": {},
   "outputs": [],
   "source": [
    "print (f'Test std: {round(Y_test.std(), 3)}')\n",
    "print (f'Dummy RMSE = {round(metrics.mean_squared_error(Y_test, dummy_LR_predictions, squared = False), 3)}')"
   ]
  },
  {
   "cell_type": "code",
   "execution_count": null,
   "metadata": {},
   "outputs": [],
   "source": [
    "plt.figure(figsize=(8, 8))\n",
    "plt.scatter(simple_LR_predictions, Y_test)\n",
    "plt.xlabel('Predictions')\n",
    "plt.ylabel('Target')"
   ]
  },
  {
   "cell_type": "code",
   "execution_count": null,
   "metadata": {},
   "outputs": [],
   "source": [
    "simple_LR.intercept_, simple_LR.coef_"
   ]
  },
  {
   "cell_type": "code",
   "execution_count": null,
   "metadata": {},
   "outputs": [],
   "source": [
    "pd.DataFrame(simple_LR.coef_, bike_data.columns[1:], columns=['Coefficients'])"
   ]
  },
  {
   "cell_type": "markdown",
   "metadata": {},
   "source": [
    "### 5. Применим регуляризацию"
   ]
  },
  {
   "cell_type": "code",
   "execution_count": null,
   "metadata": {},
   "outputs": [],
   "source": [
    "model = Lasso()\n",
    "\n",
    "model.fit(X_train_scaled, Y_train)\n",
    "predictions = model.predict(X_test_scaled)\n",
    "\n",
    "print (f'Lasso RMSE = {round(metrics.mean_squared_error(Y_test, predictions, squared=False), 3)}')\n",
    "\n",
    "pd.DataFrame(model.coef_, bike_data.columns[1:], columns=['Coefficients'])"
   ]
  },
  {
   "cell_type": "code",
   "execution_count": null,
   "metadata": {},
   "outputs": [],
   "source": [
    "model = LassoCV(random_state=10)\n",
    "\n",
    "model.fit(X_train_scaled, Y_train)\n",
    "predictions = model.predict(X_test_scaled)\n",
    "\n",
    "print (f'Lasso CV RMSE = {round(metrics.mean_squared_error(Y_test, predictions, squared=False), 3)}')\n",
    "\n",
    "pd.DataFrame(model.coef_, bike_data.columns[1:], columns=['Coefficients'])"
   ]
  },
  {
   "cell_type": "code",
   "execution_count": null,
   "metadata": {},
   "outputs": [],
   "source": [
    "model = Ridge()\n",
    "\n",
    "model.fit(X_train_scaled, Y_train)\n",
    "predictions = model.predict(X_test_scaled)\n",
    "\n",
    "print (f'Ridge RMSE = {round(metrics.mean_squared_error(Y_test, predictions, squared=False), 3)}')\n",
    "\n",
    "pd.DataFrame(model.coef_, bike_data.columns[1:], columns=['Coefficients'])"
   ]
  },
  {
   "cell_type": "code",
   "execution_count": null,
   "metadata": {},
   "outputs": [],
   "source": [
    "model = RidgeCV()\n",
    "\n",
    "model.fit(X_train_scaled, Y_train)\n",
    "predictions = model.predict(X_test_scaled)\n",
    "\n",
    "print (f'Ridge CV RMSE = {round(metrics.mean_squared_error(Y_test, predictions, squared=False), 3)}')\n",
    "\n",
    "pd.DataFrame(model.coef_, bike_data.columns[1:], columns=['Coefficients'])"
   ]
  },
  {
   "cell_type": "code",
   "execution_count": null,
   "metadata": {},
   "outputs": [],
   "source": [
    "alphas = np.linspace(1, 10, 20)\n",
    "alphas"
   ]
  },
  {
   "cell_type": "code",
   "execution_count": null,
   "metadata": {},
   "outputs": [],
   "source": [
    "model = LassoCV(random_state = 10, alphas=alphas)\n",
    "\n",
    "model.fit(X_train_scaled, Y_train)\n",
    "predictions = model.predict(X_test_scaled)\n",
    "\n",
    "print (f'Lasso CV RMSE = {round(metrics.mean_squared_error(Y_test, predictions, squared=False), 3)}')\n",
    "\n",
    "pd.DataFrame(model.coef_, bike_data.columns[1:], columns=['Coefficients'])"
   ]
  },
  {
   "cell_type": "code",
   "execution_count": null,
   "metadata": {},
   "outputs": [],
   "source": [
    "bike_data_dummy = pd.concat([bike_data.drop('weather_code', axis=1), \n",
    "                             pd.get_dummies(bike_data['weather_code'])], axis = 1)\n",
    "bike_data_dummy.head()"
   ]
  },
  {
   "cell_type": "code",
   "execution_count": null,
   "metadata": {},
   "outputs": [],
   "source": [
    "X, Y = bike_data_dummy.drop(['cnt'], axis=1), bike_data_dummy['cnt']\n",
    "\n",
    "X_train, X_test, Y_train, Y_test = train_test_split(X, Y, test_size=0.3, shuffle=False)\n",
    "\n",
    "std_scaler = StandardScaler()\n",
    "\n",
    "X_train_scaled = std_scaler.fit_transform(X_train)\n",
    "X_test_scaled = std_scaler.transform(X_test)\n",
    "\n",
    "model = LassoCV(alphas=alphas)\n",
    "\n",
    "model.fit(X_train_scaled, Y_train)\n",
    "predictions = model.predict(X_test_scaled)\n",
    "\n",
    "print (f'RMSE = {round(metrics.mean_squared_error(Y_test, predictions, squared=False), 3)}')\n",
    "\n",
    "pd.DataFrame(model.coef_, bike_data_dummy.columns[1:], \n",
    "             columns=['Coefficients']).sort_values('Coefficients')"
   ]
  },
  {
   "cell_type": "markdown",
   "metadata": {},
   "source": [
    "### 6. Другие модели регрессии"
   ]
  },
  {
   "cell_type": "code",
   "execution_count": null,
   "metadata": {},
   "outputs": [],
   "source": [
    "from sklearn.ensemble import RandomForestRegressor\n",
    "\n",
    "model = RandomForestRegressor(random_state = 10, n_estimators = 100)\n",
    "\n",
    "model.fit(X_train, Y_train)\n",
    "predictions = model.predict(X_test)\n",
    "\n",
    "print (f'RMSE = {round(metrics.mean_squared_error(Y_test, predictions, squared=False), 3)}')\n",
    "\n",
    "pd.DataFrame(model.feature_importances_, bike_data_dummy.columns[1:], \n",
    "             columns=['Importance']).sort_values('Importance')"
   ]
  },
  {
   "cell_type": "code",
   "execution_count": null,
   "metadata": {},
   "outputs": [],
   "source": [
    "plt.figure(figsize=(8, 8))\n",
    "plt.scatter(predictions, Y_test)\n",
    "plt.xlabel('Predictions')\n",
    "plt.ylabel('Target')"
   ]
  },
  {
   "cell_type": "code",
   "execution_count": null,
   "metadata": {},
   "outputs": [],
   "source": []
  }
 ],
 "metadata": {
  "kernelspec": {
   "display_name": "Python 3 (ipykernel)",
   "language": "python",
   "name": "python3"
  },
  "language_info": {
   "codemirror_mode": {
    "name": "ipython",
    "version": 3
   },
   "file_extension": ".py",
   "mimetype": "text/x-python",
   "name": "python",
   "nbconvert_exporter": "python",
   "pygments_lexer": "ipython3",
   "version": "3.9.7"
  }
 },
 "nbformat": 4,
 "nbformat_minor": 4
}