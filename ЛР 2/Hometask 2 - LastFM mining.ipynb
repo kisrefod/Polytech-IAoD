{
 "cells": [
  {
   "cell_type": "markdown",
   "metadata": {},
   "source": [
    "# Last FM hometask <br>\n",
    "https://www.kaggle.com/ravichaubey1506/lastfm <br>\n",
    "1. Выберите данные по странам своей группы (совместно): <br>\n",
    "    3530203_80101: Spain, Portugal, France, Italy, Belgium<br>\n",
    "    3530203_80102: Germany, Netherlands <br>\n",
    "    3530903_80301: Belarus, Ukraine, Poland, Russian Federation<br>\n",
    "    3530903_80302: Sweden, Finland, Norway, Denmark, Iceland<br>\n",
    "    \n",
    "2. Попытайтесь найти полезные с точки зрения продвижения групп (или еще чего-нибудь) и нетривиальные правила, используя алгоритмы Apriori, FPGrowth, FPMax и всевозможные метрики. Найдите и объясните хотя бы 5 правил.\n",
    "3. Выведите эти правила в отдельных ячейках. \n",
    "4. Подумайте, как можно было бы использовать полученные правила на практике."
   ]
  },
  {
   "cell_type": "code",
   "execution_count": 1,
   "metadata": {},
   "outputs": [],
   "source": [
    "import pandas as pd\n",
    "from mlxtend.frequent_patterns import apriori, fpgrowth, fpmax, association_rules"
   ]
  },
  {
   "cell_type": "code",
   "execution_count": 2,
   "metadata": {},
   "outputs": [
    {
     "data": {
      "text/plain": "array(['Portugal', 'Italy', 'Spain', 'France', 'Belgium'], dtype=object)"
     },
     "execution_count": 2,
     "metadata": {},
     "output_type": "execute_result"
    }
   ],
   "source": [
    "data = pd.read_csv('lastfm.csv')\n",
    "data = data[data.country.isin(['Spain', 'Portugal', 'France', 'Italy', 'Belgium'])]\n",
    "data['country'].unique()"
   ]
  },
  {
   "cell_type": "code",
   "execution_count": 3,
   "outputs": [
    {
     "name": "stdout",
     "output_type": "stream",
     "text": [
      "<class 'pandas.core.frame.DataFrame'>\n",
      "Int64Index: 27214 entries, 83 to 289762\n",
      "Data columns (total 4 columns):\n",
      " #   Column   Non-Null Count  Dtype \n",
      "---  ------   --------------  ----- \n",
      " 0   user     27214 non-null  int64 \n",
      " 1   artist   27214 non-null  object\n",
      " 2   sex      27214 non-null  object\n",
      " 3   country  27214 non-null  object\n",
      "dtypes: int64(1), object(3)\n",
      "memory usage: 1.0+ MB\n"
     ]
    }
   ],
   "source": [
    "data.info()"
   ],
   "metadata": {
    "collapsed": false,
    "pycharm": {
     "name": "#%%\n"
    }
   }
  },
  {
   "cell_type": "code",
   "execution_count": 4,
   "outputs": [
    {
     "data": {
      "text/plain": "Spain       9322\nFrance      5962\nItaly       5717\nBelgium     3331\nPortugal    2882\nName: country, dtype: int64"
     },
     "execution_count": 4,
     "metadata": {},
     "output_type": "execute_result"
    }
   ],
   "source": [
    "data['country'].value_counts()"
   ],
   "metadata": {
    "collapsed": false,
    "pycharm": {
     "name": "#%%\n"
    }
   }
  },
  {
   "cell_type": "code",
   "execution_count": 5,
   "outputs": [
    {
     "data": {
      "text/plain": "   ...and you will know us by the trail of dead  2pac  3 doors down  \\\n0                                             0     0             0   \n1                                             0     0             0   \n2                                             0     0             0   \n3                                             0     0             0   \n4                                             0     0             0   \n\n   30 seconds to mars  311  36 crazyfists  44  50 cent  65daysofstatic  \\\n0                   0    0              0   0        0               0   \n1                   0    0              0   0        0               0   \n2                   0    0              0   0        0               0   \n3                   0    0              0   0        0               0   \n4                   0    0              0   0        0               0   \n\n   [unknown]  ...  wilco  within temptation  wolfgang amadeus mozart  \\\n0          0  ...      0                  0                        0   \n1          0  ...      0                  0                        0   \n2          0  ...      0                  0                        0   \n3          0  ...      0                  0                        0   \n4          0  ...      0                  0                        0   \n\n   wu-tang clan  yann tiersen  yeah yeah yeahs  yellowcard  yo la tengo  \\\n0             0             0                0           0            0   \n1             0             0                0           0            0   \n2             0             0                0           0            0   \n3             0             0                0           0            0   \n4             0             0                0           0            0   \n\n   zero 7  Édith piaf  \n0       0           0  \n1       0           0  \n2       0           0  \n3       1           0  \n4       0           0  \n\n[5 rows x 994 columns]",
      "text/html": "<div>\n<style scoped>\n    .dataframe tbody tr th:only-of-type {\n        vertical-align: middle;\n    }\n\n    .dataframe tbody tr th {\n        vertical-align: top;\n    }\n\n    .dataframe thead th {\n        text-align: right;\n    }\n</style>\n<table border=\"1\" class=\"dataframe\">\n  <thead>\n    <tr style=\"text-align: right;\">\n      <th></th>\n      <th>...and you will know us by the trail of dead</th>\n      <th>2pac</th>\n      <th>3 doors down</th>\n      <th>30 seconds to mars</th>\n      <th>311</th>\n      <th>36 crazyfists</th>\n      <th>44</th>\n      <th>50 cent</th>\n      <th>65daysofstatic</th>\n      <th>[unknown]</th>\n      <th>...</th>\n      <th>wilco</th>\n      <th>within temptation</th>\n      <th>wolfgang amadeus mozart</th>\n      <th>wu-tang clan</th>\n      <th>yann tiersen</th>\n      <th>yeah yeah yeahs</th>\n      <th>yellowcard</th>\n      <th>yo la tengo</th>\n      <th>zero 7</th>\n      <th>Édith piaf</th>\n    </tr>\n  </thead>\n  <tbody>\n    <tr>\n      <th>0</th>\n      <td>0</td>\n      <td>0</td>\n      <td>0</td>\n      <td>0</td>\n      <td>0</td>\n      <td>0</td>\n      <td>0</td>\n      <td>0</td>\n      <td>0</td>\n      <td>0</td>\n      <td>...</td>\n      <td>0</td>\n      <td>0</td>\n      <td>0</td>\n      <td>0</td>\n      <td>0</td>\n      <td>0</td>\n      <td>0</td>\n      <td>0</td>\n      <td>0</td>\n      <td>0</td>\n    </tr>\n    <tr>\n      <th>1</th>\n      <td>0</td>\n      <td>0</td>\n      <td>0</td>\n      <td>0</td>\n      <td>0</td>\n      <td>0</td>\n      <td>0</td>\n      <td>0</td>\n      <td>0</td>\n      <td>0</td>\n      <td>...</td>\n      <td>0</td>\n      <td>0</td>\n      <td>0</td>\n      <td>0</td>\n      <td>0</td>\n      <td>0</td>\n      <td>0</td>\n      <td>0</td>\n      <td>0</td>\n      <td>0</td>\n    </tr>\n    <tr>\n      <th>2</th>\n      <td>0</td>\n      <td>0</td>\n      <td>0</td>\n      <td>0</td>\n      <td>0</td>\n      <td>0</td>\n      <td>0</td>\n      <td>0</td>\n      <td>0</td>\n      <td>0</td>\n      <td>...</td>\n      <td>0</td>\n      <td>0</td>\n      <td>0</td>\n      <td>0</td>\n      <td>0</td>\n      <td>0</td>\n      <td>0</td>\n      <td>0</td>\n      <td>0</td>\n      <td>0</td>\n    </tr>\n    <tr>\n      <th>3</th>\n      <td>0</td>\n      <td>0</td>\n      <td>0</td>\n      <td>0</td>\n      <td>0</td>\n      <td>0</td>\n      <td>0</td>\n      <td>0</td>\n      <td>0</td>\n      <td>0</td>\n      <td>...</td>\n      <td>0</td>\n      <td>0</td>\n      <td>0</td>\n      <td>0</td>\n      <td>0</td>\n      <td>0</td>\n      <td>0</td>\n      <td>0</td>\n      <td>1</td>\n      <td>0</td>\n    </tr>\n    <tr>\n      <th>4</th>\n      <td>0</td>\n      <td>0</td>\n      <td>0</td>\n      <td>0</td>\n      <td>0</td>\n      <td>0</td>\n      <td>0</td>\n      <td>0</td>\n      <td>0</td>\n      <td>0</td>\n      <td>...</td>\n      <td>0</td>\n      <td>0</td>\n      <td>0</td>\n      <td>0</td>\n      <td>0</td>\n      <td>0</td>\n      <td>0</td>\n      <td>0</td>\n      <td>0</td>\n      <td>0</td>\n    </tr>\n  </tbody>\n</table>\n<p>5 rows × 994 columns</p>\n</div>"
     },
     "execution_count": 5,
     "metadata": {},
     "output_type": "execute_result"
    }
   ],
   "source": [
    "#First, what you need to accomplish is to transform the data given here into an incidence matrix, where each listener represents a row, with 0s and 1s across the columns. This indicates if he or she has played a certain artist or not. Then, the support for each of the listed 1004 artists needs to be calculated by displaying the support for all artists with support larger than 0.08\n",
    "\n",
    "#Then, construct the association rules using the function Apriori in the R package arules and then look for artists (or groups of artists) who have support that is larger than 0.01 (1%). After the calculation is checked, another music collection of an artist turns out to be larger than 0.50 (50%). - KAGGLE\n",
    "\n",
    "# Строю матрицу инцидентности по артистам. IM = incidence matrix\n",
    "data_artist_grouped = data.groupby(['user', 'sex', 'country'])['artist'].apply(','.join).reset_index()\n",
    "IM_artists = data_artist_grouped['artist'].str.get_dummies(',')\n",
    "\n",
    "IM_artists.head() # Матрица инцидентности по артистам"
   ],
   "metadata": {
    "collapsed": false,
    "pycharm": {
     "name": "#%%\n"
    }
   }
  },
  {
   "cell_type": "markdown",
   "source": [
    "### Правило 1: Кому следует и кому не следует советовать AC/DC? (Apriori)\n"
   ],
   "metadata": {
    "collapsed": false,
    "pycharm": {
     "name": "#%% md\n"
    }
   }
  },
  {
   "cell_type": "code",
   "execution_count": 6,
   "outputs": [
    {
     "data": {
      "text/plain": "                                consequents               antecedents  \\\n0                      (30 seconds to mars)            (fall out boy)   \n1                            (fall out boy)      (30 seconds to mars)   \n2                             (linkin park)      (30 seconds to mars)   \n3                                    (muse)      (30 seconds to mars)   \n4                                  (mogwai)          (65daysofstatic)   \n...                                     ...                       ...   \n8308          (interpol, the strokes, muse)  (radiohead, the killers)   \n8309       (the strokes, muse, the killers)     (interpol, radiohead)   \n8310     (interpol, the strokes, radiohead)       (muse, the killers)   \n8311  (the strokes, radiohead, the killers)          (interpol, muse)   \n8312         (the strokes, radiohead, muse)   (interpol, the killers)   \n\n           lift  conviction  \n0      9.214286    1.334302  \n1      9.214286    1.495263  \n2      5.962185    1.832276  \n3      2.462117    1.445384  \n4     10.413405    2.043042  \n...         ...         ...  \n8308  11.315789    1.325581  \n8309   9.356044    1.267935  \n8310   9.808756    1.244923  \n8311  13.591954    1.323172  \n8312  15.423913    1.452499  \n\n[8313 rows x 4 columns]",
      "text/html": "<div>\n<style scoped>\n    .dataframe tbody tr th:only-of-type {\n        vertical-align: middle;\n    }\n\n    .dataframe tbody tr th {\n        vertical-align: top;\n    }\n\n    .dataframe thead th {\n        text-align: right;\n    }\n</style>\n<table border=\"1\" class=\"dataframe\">\n  <thead>\n    <tr style=\"text-align: right;\">\n      <th></th>\n      <th>consequents</th>\n      <th>antecedents</th>\n      <th>lift</th>\n      <th>conviction</th>\n    </tr>\n  </thead>\n  <tbody>\n    <tr>\n      <th>0</th>\n      <td>(30 seconds to mars)</td>\n      <td>(fall out boy)</td>\n      <td>9.214286</td>\n      <td>1.334302</td>\n    </tr>\n    <tr>\n      <th>1</th>\n      <td>(fall out boy)</td>\n      <td>(30 seconds to mars)</td>\n      <td>9.214286</td>\n      <td>1.495263</td>\n    </tr>\n    <tr>\n      <th>2</th>\n      <td>(linkin park)</td>\n      <td>(30 seconds to mars)</td>\n      <td>5.962185</td>\n      <td>1.832276</td>\n    </tr>\n    <tr>\n      <th>3</th>\n      <td>(muse)</td>\n      <td>(30 seconds to mars)</td>\n      <td>2.462117</td>\n      <td>1.445384</td>\n    </tr>\n    <tr>\n      <th>4</th>\n      <td>(mogwai)</td>\n      <td>(65daysofstatic)</td>\n      <td>10.413405</td>\n      <td>2.043042</td>\n    </tr>\n    <tr>\n      <th>...</th>\n      <td>...</td>\n      <td>...</td>\n      <td>...</td>\n      <td>...</td>\n    </tr>\n    <tr>\n      <th>8308</th>\n      <td>(interpol, the strokes, muse)</td>\n      <td>(radiohead, the killers)</td>\n      <td>11.315789</td>\n      <td>1.325581</td>\n    </tr>\n    <tr>\n      <th>8309</th>\n      <td>(the strokes, muse, the killers)</td>\n      <td>(interpol, radiohead)</td>\n      <td>9.356044</td>\n      <td>1.267935</td>\n    </tr>\n    <tr>\n      <th>8310</th>\n      <td>(interpol, the strokes, radiohead)</td>\n      <td>(muse, the killers)</td>\n      <td>9.808756</td>\n      <td>1.244923</td>\n    </tr>\n    <tr>\n      <th>8311</th>\n      <td>(the strokes, radiohead, the killers)</td>\n      <td>(interpol, muse)</td>\n      <td>13.591954</td>\n      <td>1.323172</td>\n    </tr>\n    <tr>\n      <th>8312</th>\n      <td>(the strokes, radiohead, muse)</td>\n      <td>(interpol, the killers)</td>\n      <td>15.423913</td>\n      <td>1.452499</td>\n    </tr>\n  </tbody>\n</table>\n<p>8313 rows × 4 columns</p>\n</div>"
     },
     "execution_count": 6,
     "metadata": {},
     "output_type": "execute_result"
    }
   ],
   "source": [
    "# Пояснение к метрикам в результате \"что есть что\"\n",
    "# https://rasbt.github.io/mlxtend/user_guide/frequent_patterns/association_rules/\n",
    "apriori_frequent_sets = apriori(IM_artists, min_support=0.01, use_colnames=True)  # минимальная поддержка из KAGGLE\n",
    "apriori_rules = association_rules(apriori_frequent_sets, metric=\"confidence\", min_threshold=0.2)\n",
    "apriori_rules[{'antecedents', 'consequents', 'lift', 'conviction'}]"
   ],
   "metadata": {
    "collapsed": false,
    "pycharm": {
     "name": "#%%\n"
    }
   }
  },
  {
   "cell_type": "markdown",
   "source": [
    "Чем больше lift, тем больше вероятность того, что предпосылка и следствие будут встречены вместе. То есть тот, кто слушал одну группу будет слушать и другую. Если lift = 1, значит предпосылка и следствие независимы\n",
    "Чем больше conviction, тем больше \"убежденность\" в том, что предпосылка и следствие связаны. Если предпосылка и следствие всегда вместе, то conviction будет равен бесконечности"
   ],
   "metadata": {
    "collapsed": false,
    "pycharm": {
     "name": "#%% md\n"
    }
   }
  },
  {
   "cell_type": "code",
   "execution_count": 7,
   "outputs": [
    {
     "name": "stdout",
     "output_type": "stream",
     "text": [
      "Какие группы вероятно подойдут любителям AC/DC? Спойлер - \"рок\"\n"
     ]
    },
    {
     "data": {
      "text/plain": "        consequents antecedents      lift  conviction\n35      (motörhead)     (ac/dc)  6.606984    1.224942\n21  (black sabbath)     (ac/dc)  4.504762    1.206220\n27    (iron maiden)     (ac/dc)  4.028297    1.314925\n32      (metallica)     (ac/dc)  3.243429    1.461123\n30   (led zeppelin)     (ac/dc)  3.185510    1.314453\n37          (queen)     (ac/dc)  2.527062    1.169494\n36     (pink floyd)     (ac/dc)  2.045405    1.185854\n40    (the beatles)     (ac/dc)  1.586698    1.141093\n38      (radiohead)     (ac/dc)  0.882238    0.964620",
      "text/html": "<div>\n<style scoped>\n    .dataframe tbody tr th:only-of-type {\n        vertical-align: middle;\n    }\n\n    .dataframe tbody tr th {\n        vertical-align: top;\n    }\n\n    .dataframe thead th {\n        text-align: right;\n    }\n</style>\n<table border=\"1\" class=\"dataframe\">\n  <thead>\n    <tr style=\"text-align: right;\">\n      <th></th>\n      <th>consequents</th>\n      <th>antecedents</th>\n      <th>lift</th>\n      <th>conviction</th>\n    </tr>\n  </thead>\n  <tbody>\n    <tr>\n      <th>35</th>\n      <td>(motörhead)</td>\n      <td>(ac/dc)</td>\n      <td>6.606984</td>\n      <td>1.224942</td>\n    </tr>\n    <tr>\n      <th>21</th>\n      <td>(black sabbath)</td>\n      <td>(ac/dc)</td>\n      <td>4.504762</td>\n      <td>1.206220</td>\n    </tr>\n    <tr>\n      <th>27</th>\n      <td>(iron maiden)</td>\n      <td>(ac/dc)</td>\n      <td>4.028297</td>\n      <td>1.314925</td>\n    </tr>\n    <tr>\n      <th>32</th>\n      <td>(metallica)</td>\n      <td>(ac/dc)</td>\n      <td>3.243429</td>\n      <td>1.461123</td>\n    </tr>\n    <tr>\n      <th>30</th>\n      <td>(led zeppelin)</td>\n      <td>(ac/dc)</td>\n      <td>3.185510</td>\n      <td>1.314453</td>\n    </tr>\n    <tr>\n      <th>37</th>\n      <td>(queen)</td>\n      <td>(ac/dc)</td>\n      <td>2.527062</td>\n      <td>1.169494</td>\n    </tr>\n    <tr>\n      <th>36</th>\n      <td>(pink floyd)</td>\n      <td>(ac/dc)</td>\n      <td>2.045405</td>\n      <td>1.185854</td>\n    </tr>\n    <tr>\n      <th>40</th>\n      <td>(the beatles)</td>\n      <td>(ac/dc)</td>\n      <td>1.586698</td>\n      <td>1.141093</td>\n    </tr>\n    <tr>\n      <th>38</th>\n      <td>(radiohead)</td>\n      <td>(ac/dc)</td>\n      <td>0.882238</td>\n      <td>0.964620</td>\n    </tr>\n  </tbody>\n</table>\n</div>"
     },
     "execution_count": 7,
     "metadata": {},
     "output_type": "execute_result"
    }
   ],
   "source": [
    "rule = apriori_rules[(apriori_rules['antecedents'] == {'ac/dc'})].sort_values(by=['lift', 'conviction'], ascending=False)\n",
    "print('Какие группы вероятно подойдут любителям AC/DC? Спойлер - \"рок\"')\n",
    "rule[{'antecedents', 'consequents', 'lift', 'conviction'}]"
   ],
   "metadata": {
    "collapsed": false,
    "pycharm": {
     "name": "#%%\n"
    }
   }
  },
  {
   "cell_type": "markdown",
   "source": [
    "При этом, если lift < 1, то предпосылка и следствие скорее имеют обратную зависимость. Иначе говоря - не надо давать такие группы слушать"
   ],
   "metadata": {
    "collapsed": false,
    "pycharm": {
     "name": "#%% md\n"
    }
   }
  },
  {
   "cell_type": "code",
   "execution_count": 8,
   "outputs": [
    {
     "data": {
      "text/plain": "    consequents antecedents      lift  conviction\n38  (radiohead)     (ac/dc)  0.882238     0.96462",
      "text/html": "<div>\n<style scoped>\n    .dataframe tbody tr th:only-of-type {\n        vertical-align: middle;\n    }\n\n    .dataframe tbody tr th {\n        vertical-align: top;\n    }\n\n    .dataframe thead th {\n        text-align: right;\n    }\n</style>\n<table border=\"1\" class=\"dataframe\">\n  <thead>\n    <tr style=\"text-align: right;\">\n      <th></th>\n      <th>consequents</th>\n      <th>antecedents</th>\n      <th>lift</th>\n      <th>conviction</th>\n    </tr>\n  </thead>\n  <tbody>\n    <tr>\n      <th>38</th>\n      <td>(radiohead)</td>\n      <td>(ac/dc)</td>\n      <td>0.882238</td>\n      <td>0.96462</td>\n    </tr>\n  </tbody>\n</table>\n</div>"
     },
     "execution_count": 8,
     "metadata": {},
     "output_type": "execute_result"
    }
   ],
   "source": [
    "rule[{'antecedents', 'consequents', 'lift', 'conviction'}][rule['lift'] < 1]"
   ],
   "metadata": {
    "collapsed": false,
    "pycharm": {
     "name": "#%%\n"
    }
   }
  },
  {
   "cell_type": "markdown",
   "source": [
    "### Правило 2: Можно ли судить о предпочтениях по комбинации групп? (FPGrowth)"
   ],
   "metadata": {
    "collapsed": false,
    "pycharm": {
     "name": "#%% md\n"
    }
   }
  },
  {
   "cell_type": "code",
   "execution_count": 9,
   "outputs": [
    {
     "data": {
      "text/plain": "              consequents   antecedents       lift  conviction\n9301          (gamma ray)   (helloween)  23.650000    1.684083\n9302          (helloween)   (gamma ray)  23.650000    2.436575\n9046          (helloween)  (iced earth)  22.523810    2.274137\n9047         (iced earth)   (helloween)  22.523810    1.764482\n5841  (children of bodom)  (arch enemy)  22.336111    2.249146\n...                   ...           ...        ...         ...\n6500           (coldplay)       (ac/dc)   0.860460    0.968672\n467           (radiohead)   (metallica)   0.842136    0.953136\n466           (metallica)   (radiohead)   0.842136    0.978275\n1750          (radiohead)       (queen)   0.821597    0.947359\n5666          (radiohead)   (rammstein)   0.750419    0.927872\n\n[11918 rows x 4 columns]",
      "text/html": "<div>\n<style scoped>\n    .dataframe tbody tr th:only-of-type {\n        vertical-align: middle;\n    }\n\n    .dataframe tbody tr th {\n        vertical-align: top;\n    }\n\n    .dataframe thead th {\n        text-align: right;\n    }\n</style>\n<table border=\"1\" class=\"dataframe\">\n  <thead>\n    <tr style=\"text-align: right;\">\n      <th></th>\n      <th>consequents</th>\n      <th>antecedents</th>\n      <th>lift</th>\n      <th>conviction</th>\n    </tr>\n  </thead>\n  <tbody>\n    <tr>\n      <th>9301</th>\n      <td>(gamma ray)</td>\n      <td>(helloween)</td>\n      <td>23.650000</td>\n      <td>1.684083</td>\n    </tr>\n    <tr>\n      <th>9302</th>\n      <td>(helloween)</td>\n      <td>(gamma ray)</td>\n      <td>23.650000</td>\n      <td>2.436575</td>\n    </tr>\n    <tr>\n      <th>9046</th>\n      <td>(helloween)</td>\n      <td>(iced earth)</td>\n      <td>22.523810</td>\n      <td>2.274137</td>\n    </tr>\n    <tr>\n      <th>9047</th>\n      <td>(iced earth)</td>\n      <td>(helloween)</td>\n      <td>22.523810</td>\n      <td>1.764482</td>\n    </tr>\n    <tr>\n      <th>5841</th>\n      <td>(children of bodom)</td>\n      <td>(arch enemy)</td>\n      <td>22.336111</td>\n      <td>2.249146</td>\n    </tr>\n    <tr>\n      <th>...</th>\n      <td>...</td>\n      <td>...</td>\n      <td>...</td>\n      <td>...</td>\n    </tr>\n    <tr>\n      <th>6500</th>\n      <td>(coldplay)</td>\n      <td>(ac/dc)</td>\n      <td>0.860460</td>\n      <td>0.968672</td>\n    </tr>\n    <tr>\n      <th>467</th>\n      <td>(radiohead)</td>\n      <td>(metallica)</td>\n      <td>0.842136</td>\n      <td>0.953136</td>\n    </tr>\n    <tr>\n      <th>466</th>\n      <td>(metallica)</td>\n      <td>(radiohead)</td>\n      <td>0.842136</td>\n      <td>0.978275</td>\n    </tr>\n    <tr>\n      <th>1750</th>\n      <td>(radiohead)</td>\n      <td>(queen)</td>\n      <td>0.821597</td>\n      <td>0.947359</td>\n    </tr>\n    <tr>\n      <th>5666</th>\n      <td>(radiohead)</td>\n      <td>(rammstein)</td>\n      <td>0.750419</td>\n      <td>0.927872</td>\n    </tr>\n  </tbody>\n</table>\n<p>11918 rows × 4 columns</p>\n</div>"
     },
     "execution_count": 9,
     "metadata": {},
     "output_type": "execute_result"
    }
   ],
   "source": [
    "fpgrowth_frequent_sets = fpgrowth(IM_artists, min_support=0.01, use_colnames=True).sort_values(by='support', ascending=False)\n",
    "rule  = association_rules(fpgrowth_frequent_sets, metric=\"confidence\", min_threshold=0.1)\n",
    "rule[{'antecedents', 'consequents', 'lift', 'conviction'}].sort_values(by='lift', ascending=False)"
   ],
   "metadata": {
    "collapsed": false,
    "pycharm": {
     "name": "#%%\n"
    }
   }
  },
  {
   "cell_type": "markdown",
   "source": [
    "Объяснение правила аналогичное предыдущему, но что интересно - с алгоритмом FPGrowth высокий показатель lift у комбинации групп"
   ],
   "metadata": {
    "collapsed": false,
    "pycharm": {
     "name": "#%% md\n"
    }
   }
  },
  {
   "cell_type": "markdown",
   "source": [
    "### ОФФТОП"
   ],
   "metadata": {
    "collapsed": false,
    "pycharm": {
     "name": "#%% md\n"
    }
   }
  },
  {
   "cell_type": "code",
   "execution_count": 10,
   "outputs": [],
   "source": [
    "#Собираю дополнительные таблицы так, потому что не могу придумать, как иначе\n",
    "user_sex = data[['user', 'sex']].pivot_table(index='user', columns='sex',aggfunc=any, fill_value=False).astype(int)\n",
    "user_country = data[['user', 'country']].pivot_table(index='user', columns='country',aggfunc=any, fill_value=False).astype(int)\n",
    "user_artist = data[['user', 'artist']].pivot_table(index='user', columns='artist',aggfunc=any, fill_value=False).astype(int)\n",
    "user_sex_country = pd.concat([user_sex, user_country], axis=1)\n",
    "user_sex_artist = pd.concat([user_sex, user_artist], axis=1)\n",
    "user_country_artist = pd.concat([user_country, user_artist], axis=1)\n",
    "user_all = pd.concat([user_sex, user_country, user_artist], axis=1)"
   ],
   "metadata": {
    "collapsed": false,
    "pycharm": {
     "name": "#%%\n"
    }
   }
  },
  {
   "cell_type": "markdown",
   "source": [
    "### Правило 3: Есть ли зависимость от пола?"
   ],
   "metadata": {
    "collapsed": false,
    "pycharm": {
     "name": "#%% md\n"
    }
   }
  },
  {
   "cell_type": "code",
   "execution_count": 11,
   "outputs": [],
   "source": [
    "sex_artist_frequent_sets = apriori(user_sex_artist, min_support=0.01, use_colnames=True).sort_values(by='support', ascending=False)\n",
    "rule = association_rules(sex_artist_frequent_sets, metric=\"confidence\", min_threshold=0.1)"
   ],
   "metadata": {
    "collapsed": false,
    "pycharm": {
     "name": "#%%\n"
    }
   }
  },
  {
   "cell_type": "code",
   "execution_count": 12,
   "outputs": [
    {
     "name": "stderr",
     "output_type": "stream",
     "text": [
      "C:\\Users\\vanoy\\AppData\\Local\\Temp/ipykernel_16772/939752960.py:1: UserWarning: Boolean Series key will be reindexed to match DataFrame index.\n",
      "  rule[{'antecedents', 'consequents', 'lift', 'conviction'}].sort_values(by='lift', ascending=False)[rule['antecedents'] == {'m'}]\n"
     ]
    },
    {
     "data": {
      "text/plain": "                consequents antecedents      lift  conviction\n10              (metallica)         (m)  1.135346    1.019409\n14              (daft punk)         (m)  1.122718    1.014165\n8              (pink floyd)         (m)  1.101692    1.015482\n20           (led zeppelin)         (m)  1.080410    1.008880\n13                (nirvana)         (m)  1.079065    1.011396\n16  (red hot chili peppers)         (m)  1.046402    1.005391\n0               (radiohead)         (m)  1.042210    1.013322\n4             (the beatles)         (m)  1.011981    1.002531\n2                (coldplay)         (m)  0.974585    0.994144\n22            (the killers)         (m)  0.961382    0.995253\n6                    (muse)         (m)  0.949705    0.989512",
      "text/html": "<div>\n<style scoped>\n    .dataframe tbody tr th:only-of-type {\n        vertical-align: middle;\n    }\n\n    .dataframe tbody tr th {\n        vertical-align: top;\n    }\n\n    .dataframe thead th {\n        text-align: right;\n    }\n</style>\n<table border=\"1\" class=\"dataframe\">\n  <thead>\n    <tr style=\"text-align: right;\">\n      <th></th>\n      <th>consequents</th>\n      <th>antecedents</th>\n      <th>lift</th>\n      <th>conviction</th>\n    </tr>\n  </thead>\n  <tbody>\n    <tr>\n      <th>10</th>\n      <td>(metallica)</td>\n      <td>(m)</td>\n      <td>1.135346</td>\n      <td>1.019409</td>\n    </tr>\n    <tr>\n      <th>14</th>\n      <td>(daft punk)</td>\n      <td>(m)</td>\n      <td>1.122718</td>\n      <td>1.014165</td>\n    </tr>\n    <tr>\n      <th>8</th>\n      <td>(pink floyd)</td>\n      <td>(m)</td>\n      <td>1.101692</td>\n      <td>1.015482</td>\n    </tr>\n    <tr>\n      <th>20</th>\n      <td>(led zeppelin)</td>\n      <td>(m)</td>\n      <td>1.080410</td>\n      <td>1.008880</td>\n    </tr>\n    <tr>\n      <th>13</th>\n      <td>(nirvana)</td>\n      <td>(m)</td>\n      <td>1.079065</td>\n      <td>1.011396</td>\n    </tr>\n    <tr>\n      <th>16</th>\n      <td>(red hot chili peppers)</td>\n      <td>(m)</td>\n      <td>1.046402</td>\n      <td>1.005391</td>\n    </tr>\n    <tr>\n      <th>0</th>\n      <td>(radiohead)</td>\n      <td>(m)</td>\n      <td>1.042210</td>\n      <td>1.013322</td>\n    </tr>\n    <tr>\n      <th>4</th>\n      <td>(the beatles)</td>\n      <td>(m)</td>\n      <td>1.011981</td>\n      <td>1.002531</td>\n    </tr>\n    <tr>\n      <th>2</th>\n      <td>(coldplay)</td>\n      <td>(m)</td>\n      <td>0.974585</td>\n      <td>0.994144</td>\n    </tr>\n    <tr>\n      <th>22</th>\n      <td>(the killers)</td>\n      <td>(m)</td>\n      <td>0.961382</td>\n      <td>0.995253</td>\n    </tr>\n    <tr>\n      <th>6</th>\n      <td>(muse)</td>\n      <td>(m)</td>\n      <td>0.949705</td>\n      <td>0.989512</td>\n    </tr>\n  </tbody>\n</table>\n</div>"
     },
     "execution_count": 12,
     "metadata": {},
     "output_type": "execute_result"
    }
   ],
   "source": [
    "rule[{'antecedents', 'consequents', 'lift', 'conviction'}].sort_values(by='lift', ascending=False)[rule['antecedents'] == {'m'}]"
   ],
   "metadata": {
    "collapsed": false,
    "pycharm": {
     "name": "#%%\n"
    }
   }
  },
  {
   "cell_type": "code",
   "execution_count": 13,
   "outputs": [
    {
     "name": "stderr",
     "output_type": "stream",
     "text": [
      "C:\\Users\\vanoy\\AppData\\Local\\Temp/ipykernel_16772/2082415823.py:1: UserWarning: Boolean Series key will be reindexed to match DataFrame index.\n",
      "  rule[{'antecedents', 'consequents', 'lift', 'conviction'}].sort_values(by='lift', ascending=False)[rule['antecedents'] == {'f'}]\n"
     ]
    },
    {
     "data": {
      "text/plain": "                consequents antecedents      lift  conviction\n1135  (death cab for cutie)         (f)  1.607906    1.047771\n580         (amy winehouse)         (f)  1.527870    1.055228\n504               (placebo)         (f)  1.461882    1.053250\n485              (the cure)         (f)  1.392268    1.047486\n1137          (david bowie)         (f)  1.273462    1.027133\n683        (arctic monkeys)         (f)  1.263355    1.030655\n880          (depeche mode)         (f)  1.261510    1.028750\n1564                (oasis)         (f)  1.233377    1.021625\n134                  (muse)         (f)  1.178449    1.039078\n813           (the killers)         (f)  1.137019    1.017215\n1245      (franz ferdinand)         (f)  1.137019    1.014738\n124              (coldplay)         (f)  1.090176    1.021346\n277           (the beatles)         (f)  0.957490    0.991121\n140             (radiohead)         (f)  0.850234    0.955433",
      "text/html": "<div>\n<style scoped>\n    .dataframe tbody tr th:only-of-type {\n        vertical-align: middle;\n    }\n\n    .dataframe tbody tr th {\n        vertical-align: top;\n    }\n\n    .dataframe thead th {\n        text-align: right;\n    }\n</style>\n<table border=\"1\" class=\"dataframe\">\n  <thead>\n    <tr style=\"text-align: right;\">\n      <th></th>\n      <th>consequents</th>\n      <th>antecedents</th>\n      <th>lift</th>\n      <th>conviction</th>\n    </tr>\n  </thead>\n  <tbody>\n    <tr>\n      <th>1135</th>\n      <td>(death cab for cutie)</td>\n      <td>(f)</td>\n      <td>1.607906</td>\n      <td>1.047771</td>\n    </tr>\n    <tr>\n      <th>580</th>\n      <td>(amy winehouse)</td>\n      <td>(f)</td>\n      <td>1.527870</td>\n      <td>1.055228</td>\n    </tr>\n    <tr>\n      <th>504</th>\n      <td>(placebo)</td>\n      <td>(f)</td>\n      <td>1.461882</td>\n      <td>1.053250</td>\n    </tr>\n    <tr>\n      <th>485</th>\n      <td>(the cure)</td>\n      <td>(f)</td>\n      <td>1.392268</td>\n      <td>1.047486</td>\n    </tr>\n    <tr>\n      <th>1137</th>\n      <td>(david bowie)</td>\n      <td>(f)</td>\n      <td>1.273462</td>\n      <td>1.027133</td>\n    </tr>\n    <tr>\n      <th>683</th>\n      <td>(arctic monkeys)</td>\n      <td>(f)</td>\n      <td>1.263355</td>\n      <td>1.030655</td>\n    </tr>\n    <tr>\n      <th>880</th>\n      <td>(depeche mode)</td>\n      <td>(f)</td>\n      <td>1.261510</td>\n      <td>1.028750</td>\n    </tr>\n    <tr>\n      <th>1564</th>\n      <td>(oasis)</td>\n      <td>(f)</td>\n      <td>1.233377</td>\n      <td>1.021625</td>\n    </tr>\n    <tr>\n      <th>134</th>\n      <td>(muse)</td>\n      <td>(f)</td>\n      <td>1.178449</td>\n      <td>1.039078</td>\n    </tr>\n    <tr>\n      <th>813</th>\n      <td>(the killers)</td>\n      <td>(f)</td>\n      <td>1.137019</td>\n      <td>1.017215</td>\n    </tr>\n    <tr>\n      <th>1245</th>\n      <td>(franz ferdinand)</td>\n      <td>(f)</td>\n      <td>1.137019</td>\n      <td>1.014738</td>\n    </tr>\n    <tr>\n      <th>124</th>\n      <td>(coldplay)</td>\n      <td>(f)</td>\n      <td>1.090176</td>\n      <td>1.021346</td>\n    </tr>\n    <tr>\n      <th>277</th>\n      <td>(the beatles)</td>\n      <td>(f)</td>\n      <td>0.957490</td>\n      <td>0.991121</td>\n    </tr>\n    <tr>\n      <th>140</th>\n      <td>(radiohead)</td>\n      <td>(f)</td>\n      <td>0.850234</td>\n      <td>0.955433</td>\n    </tr>\n  </tbody>\n</table>\n</div>"
     },
     "execution_count": 13,
     "metadata": {},
     "output_type": "execute_result"
    }
   ],
   "source": [
    "rule[{'antecedents', 'consequents', 'lift', 'conviction'}].sort_values(by='lift', ascending=False)[rule['antecedents'] == {'f'}]"
   ],
   "metadata": {
    "collapsed": false,
    "pycharm": {
     "name": "#%%\n"
    }
   }
  },
  {
   "cell_type": "markdown",
   "source": [
    "При попытке отследить женщин и мужчин, как причину выбора музыкальной группы было выяснено, что половая принадлежность особо не влияет на вкус в музыке. Наиболее вероятно из этого исследования можно сказать, что женщинам в среднем нравится \"The Cure\" - знать ЦА полезно в маркетинге"
   ],
   "metadata": {
    "collapsed": false,
    "pycharm": {
     "name": "#%% md\n"
    }
   }
  },
  {
   "cell_type": "markdown",
   "source": [
    "### Правило 4: есть ли предпочтения по странам?"
   ],
   "metadata": {
    "collapsed": false,
    "pycharm": {
     "name": "#%% md\n"
    }
   }
  },
  {
   "cell_type": "code",
   "execution_count": 14,
   "outputs": [],
   "source": [
    "country_artist_frequent_sets = apriori(user_country_artist, min_support=0.01, use_colnames=True).sort_values(by='support', ascending=False)\n",
    "rule = association_rules(country_artist_frequent_sets, metric=\"confidence\", min_threshold=0.1)"
   ],
   "metadata": {
    "collapsed": false,
    "pycharm": {
     "name": "#%%\n"
    }
   }
  },
  {
   "cell_type": "code",
   "execution_count": 15,
   "outputs": [
    {
     "name": "stderr",
     "output_type": "stream",
     "text": [
      "C:\\Users\\vanoy\\AppData\\Local\\Temp/ipykernel_16772/753675912.py:1: UserWarning: Boolean Series key will be reindexed to match DataFrame index.\n",
      "  rule[{'antecedents', 'consequents', 'lift', 'conviction'}].sort_values(by='lift', ascending=False)[rule['antecedents'] == {'Spain'}]\n"
     ]
    },
    {
     "data": {
      "text/plain": "           consequents antecedents      lift  conviction\n18       (the killers)     (Spain)  1.528010    1.069767\n96     (amy winehouse)     (Spain)  1.226902    1.023015\n76   (franz ferdinand)     (Spain)  1.216592    1.023499\n148            (queen)     (Spain)  1.162778    1.015691\n10              (muse)     (Spain)  1.089949    1.019323\n4           (coldplay)     (Spain)  1.060821    1.014298\n121   (arctic monkeys)     (Spain)  1.051630    1.005865\n22       (the beatles)     (Spain)  0.896937    0.978741\n143          (nirvana)     (Spain)  0.839720    0.977668\n12         (radiohead)     (Spain)  0.740614    0.925250",
      "text/html": "<div>\n<style scoped>\n    .dataframe tbody tr th:only-of-type {\n        vertical-align: middle;\n    }\n\n    .dataframe tbody tr th {\n        vertical-align: top;\n    }\n\n    .dataframe thead th {\n        text-align: right;\n    }\n</style>\n<table border=\"1\" class=\"dataframe\">\n  <thead>\n    <tr style=\"text-align: right;\">\n      <th></th>\n      <th>consequents</th>\n      <th>antecedents</th>\n      <th>lift</th>\n      <th>conviction</th>\n    </tr>\n  </thead>\n  <tbody>\n    <tr>\n      <th>18</th>\n      <td>(the killers)</td>\n      <td>(Spain)</td>\n      <td>1.528010</td>\n      <td>1.069767</td>\n    </tr>\n    <tr>\n      <th>96</th>\n      <td>(amy winehouse)</td>\n      <td>(Spain)</td>\n      <td>1.226902</td>\n      <td>1.023015</td>\n    </tr>\n    <tr>\n      <th>76</th>\n      <td>(franz ferdinand)</td>\n      <td>(Spain)</td>\n      <td>1.216592</td>\n      <td>1.023499</td>\n    </tr>\n    <tr>\n      <th>148</th>\n      <td>(queen)</td>\n      <td>(Spain)</td>\n      <td>1.162778</td>\n      <td>1.015691</td>\n    </tr>\n    <tr>\n      <th>10</th>\n      <td>(muse)</td>\n      <td>(Spain)</td>\n      <td>1.089949</td>\n      <td>1.019323</td>\n    </tr>\n    <tr>\n      <th>4</th>\n      <td>(coldplay)</td>\n      <td>(Spain)</td>\n      <td>1.060821</td>\n      <td>1.014298</td>\n    </tr>\n    <tr>\n      <th>121</th>\n      <td>(arctic monkeys)</td>\n      <td>(Spain)</td>\n      <td>1.051630</td>\n      <td>1.005865</td>\n    </tr>\n    <tr>\n      <th>22</th>\n      <td>(the beatles)</td>\n      <td>(Spain)</td>\n      <td>0.896937</td>\n      <td>0.978741</td>\n    </tr>\n    <tr>\n      <th>143</th>\n      <td>(nirvana)</td>\n      <td>(Spain)</td>\n      <td>0.839720</td>\n      <td>0.977668</td>\n    </tr>\n    <tr>\n      <th>12</th>\n      <td>(radiohead)</td>\n      <td>(Spain)</td>\n      <td>0.740614</td>\n      <td>0.925250</td>\n    </tr>\n  </tbody>\n</table>\n</div>"
     },
     "execution_count": 15,
     "metadata": {},
     "output_type": "execute_result"
    }
   ],
   "source": [
    "rule[{'antecedents', 'consequents', 'lift', 'conviction'}].sort_values(by='lift', ascending=False)[rule['antecedents'] == {'Spain'}]"
   ],
   "metadata": {
    "collapsed": false,
    "pycharm": {
     "name": "#%%\n"
    }
   }
  },
  {
   "cell_type": "code",
   "execution_count": 16,
   "outputs": [
    {
     "name": "stderr",
     "output_type": "stream",
     "text": [
      "C:\\Users\\vanoy\\AppData\\Local\\Temp/ipykernel_16772/3759632400.py:1: UserWarning: Boolean Series key will be reindexed to match DataFrame index.\n",
      "  rule[{'antecedents', 'consequents', 'lift', 'conviction'}].sort_values(by='lift', ascending=False)[rule['antecedents'] == {'Portugal'}]\n"
     ]
    },
    {
     "data": {
      "text/plain": "                   consequents antecedents      lift  conviction\n9281                  (beirut)  (Portugal)  2.269492    1.084434\n6681             (arcade fire)  (Portugal)  2.149234    1.086573\n6643               (pearl jam)  (Portugal)  2.136333    1.092061\n1761                 (nirvana)  (Portugal)  1.708530    1.112315\n6683              (bloc party)  (Portugal)  1.675674    1.065284\n1895               (metallica)  (Portugal)  1.661593    1.102621\n4978          (arctic monkeys)  (Portugal)  1.534665    1.064267\n13437            (linkin park)  (Portugal)  1.466111    1.044569\n13421              (sigur rós)  (Portugal)  1.418433    1.041355\n6658             (the killers)  (Portugal)  1.342055    1.044113\n9231                 (placebo)  (Portugal)  1.329274    1.037390\n9268               (daft punk)  (Portugal)  1.283437    1.033335\n9221                (the cure)  (Portugal)  1.265975    1.031712\n1758                    (muse)  (Portugal)  1.224331    1.049624\n594                (radiohead)  (Portugal)  1.207983    1.069265\n13423  (red hot chili peppers)  (Portugal)  1.186852    1.022070\n1757                (coldplay)  (Portugal)  1.132621    1.031712\n6917              (pink floyd)  (Portugal)  1.068808    1.010423\n4059             (the beatles)  (Portugal)  0.941793    0.987882",
      "text/html": "<div>\n<style scoped>\n    .dataframe tbody tr th:only-of-type {\n        vertical-align: middle;\n    }\n\n    .dataframe tbody tr th {\n        vertical-align: top;\n    }\n\n    .dataframe thead th {\n        text-align: right;\n    }\n</style>\n<table border=\"1\" class=\"dataframe\">\n  <thead>\n    <tr style=\"text-align: right;\">\n      <th></th>\n      <th>consequents</th>\n      <th>antecedents</th>\n      <th>lift</th>\n      <th>conviction</th>\n    </tr>\n  </thead>\n  <tbody>\n    <tr>\n      <th>9281</th>\n      <td>(beirut)</td>\n      <td>(Portugal)</td>\n      <td>2.269492</td>\n      <td>1.084434</td>\n    </tr>\n    <tr>\n      <th>6681</th>\n      <td>(arcade fire)</td>\n      <td>(Portugal)</td>\n      <td>2.149234</td>\n      <td>1.086573</td>\n    </tr>\n    <tr>\n      <th>6643</th>\n      <td>(pearl jam)</td>\n      <td>(Portugal)</td>\n      <td>2.136333</td>\n      <td>1.092061</td>\n    </tr>\n    <tr>\n      <th>1761</th>\n      <td>(nirvana)</td>\n      <td>(Portugal)</td>\n      <td>1.708530</td>\n      <td>1.112315</td>\n    </tr>\n    <tr>\n      <th>6683</th>\n      <td>(bloc party)</td>\n      <td>(Portugal)</td>\n      <td>1.675674</td>\n      <td>1.065284</td>\n    </tr>\n    <tr>\n      <th>1895</th>\n      <td>(metallica)</td>\n      <td>(Portugal)</td>\n      <td>1.661593</td>\n      <td>1.102621</td>\n    </tr>\n    <tr>\n      <th>4978</th>\n      <td>(arctic monkeys)</td>\n      <td>(Portugal)</td>\n      <td>1.534665</td>\n      <td>1.064267</td>\n    </tr>\n    <tr>\n      <th>13437</th>\n      <td>(linkin park)</td>\n      <td>(Portugal)</td>\n      <td>1.466111</td>\n      <td>1.044569</td>\n    </tr>\n    <tr>\n      <th>13421</th>\n      <td>(sigur rós)</td>\n      <td>(Portugal)</td>\n      <td>1.418433</td>\n      <td>1.041355</td>\n    </tr>\n    <tr>\n      <th>6658</th>\n      <td>(the killers)</td>\n      <td>(Portugal)</td>\n      <td>1.342055</td>\n      <td>1.044113</td>\n    </tr>\n    <tr>\n      <th>9231</th>\n      <td>(placebo)</td>\n      <td>(Portugal)</td>\n      <td>1.329274</td>\n      <td>1.037390</td>\n    </tr>\n    <tr>\n      <th>9268</th>\n      <td>(daft punk)</td>\n      <td>(Portugal)</td>\n      <td>1.283437</td>\n      <td>1.033335</td>\n    </tr>\n    <tr>\n      <th>9221</th>\n      <td>(the cure)</td>\n      <td>(Portugal)</td>\n      <td>1.265975</td>\n      <td>1.031712</td>\n    </tr>\n    <tr>\n      <th>1758</th>\n      <td>(muse)</td>\n      <td>(Portugal)</td>\n      <td>1.224331</td>\n      <td>1.049624</td>\n    </tr>\n    <tr>\n      <th>594</th>\n      <td>(radiohead)</td>\n      <td>(Portugal)</td>\n      <td>1.207983</td>\n      <td>1.069265</td>\n    </tr>\n    <tr>\n      <th>13423</th>\n      <td>(red hot chili peppers)</td>\n      <td>(Portugal)</td>\n      <td>1.186852</td>\n      <td>1.022070</td>\n    </tr>\n    <tr>\n      <th>1757</th>\n      <td>(coldplay)</td>\n      <td>(Portugal)</td>\n      <td>1.132621</td>\n      <td>1.031712</td>\n    </tr>\n    <tr>\n      <th>6917</th>\n      <td>(pink floyd)</td>\n      <td>(Portugal)</td>\n      <td>1.068808</td>\n      <td>1.010423</td>\n    </tr>\n    <tr>\n      <th>4059</th>\n      <td>(the beatles)</td>\n      <td>(Portugal)</td>\n      <td>0.941793</td>\n      <td>0.987882</td>\n    </tr>\n  </tbody>\n</table>\n</div>"
     },
     "execution_count": 16,
     "metadata": {},
     "output_type": "execute_result"
    }
   ],
   "source": [
    "rule[{'antecedents', 'consequents', 'lift', 'conviction'}].sort_values(by='lift', ascending=False)[rule['antecedents'] == {'Portugal'}]"
   ],
   "metadata": {
    "collapsed": false,
    "pycharm": {
     "name": "#%%\n"
    }
   }
  },
  {
   "cell_type": "code",
   "execution_count": 17,
   "outputs": [
    {
     "name": "stderr",
     "output_type": "stream",
     "text": [
      "C:\\Users\\vanoy\\AppData\\Local\\Temp/ipykernel_16772/4075796453.py:1: UserWarning: Boolean Series key will be reindexed to match DataFrame index.\n",
      "  rule[{'antecedents', 'consequents', 'lift', 'conviction'}].sort_values(by='lift', ascending=False)[rule['antecedents'] == {'France'}]\n"
     ]
    },
    {
     "data": {
      "text/plain": "           consequents antecedents      lift  conviction\n650         (gorillaz)    (France)  2.078046    1.060200\n152        (daft punk)    (France)  1.526289    1.063716\n224              (air)    (France)  1.523776    1.056270\n498            (björk)    (France)  1.473775    1.039770\n307       (portishead)    (France)  1.458055    1.046297\n674  (radiohead, muse)    (France)  1.294222    1.026380\n112       (pink floyd)    (France)  1.290107    1.045470\n489      (david bowie)    (France)  1.284477    1.028257\n663   (massive attack)    (France)  1.180330    1.017729\n14         (radiohead)    (France)  1.133150    1.043265\n275        (metallica)    (France)  1.066265    1.009410\n299          (nirvana)    (France)  1.029700    1.004251\n710     (led zeppelin)    (France)  1.022870    1.002510\n110             (muse)    (France)  0.966274    0.992942\n136      (the beatles)    (France)  0.931137    0.985695\n130         (coldplay)    (France)  0.861389    0.968874",
      "text/html": "<div>\n<style scoped>\n    .dataframe tbody tr th:only-of-type {\n        vertical-align: middle;\n    }\n\n    .dataframe tbody tr th {\n        vertical-align: top;\n    }\n\n    .dataframe thead th {\n        text-align: right;\n    }\n</style>\n<table border=\"1\" class=\"dataframe\">\n  <thead>\n    <tr style=\"text-align: right;\">\n      <th></th>\n      <th>consequents</th>\n      <th>antecedents</th>\n      <th>lift</th>\n      <th>conviction</th>\n    </tr>\n  </thead>\n  <tbody>\n    <tr>\n      <th>650</th>\n      <td>(gorillaz)</td>\n      <td>(France)</td>\n      <td>2.078046</td>\n      <td>1.060200</td>\n    </tr>\n    <tr>\n      <th>152</th>\n      <td>(daft punk)</td>\n      <td>(France)</td>\n      <td>1.526289</td>\n      <td>1.063716</td>\n    </tr>\n    <tr>\n      <th>224</th>\n      <td>(air)</td>\n      <td>(France)</td>\n      <td>1.523776</td>\n      <td>1.056270</td>\n    </tr>\n    <tr>\n      <th>498</th>\n      <td>(björk)</td>\n      <td>(France)</td>\n      <td>1.473775</td>\n      <td>1.039770</td>\n    </tr>\n    <tr>\n      <th>307</th>\n      <td>(portishead)</td>\n      <td>(France)</td>\n      <td>1.458055</td>\n      <td>1.046297</td>\n    </tr>\n    <tr>\n      <th>674</th>\n      <td>(radiohead, muse)</td>\n      <td>(France)</td>\n      <td>1.294222</td>\n      <td>1.026380</td>\n    </tr>\n    <tr>\n      <th>112</th>\n      <td>(pink floyd)</td>\n      <td>(France)</td>\n      <td>1.290107</td>\n      <td>1.045470</td>\n    </tr>\n    <tr>\n      <th>489</th>\n      <td>(david bowie)</td>\n      <td>(France)</td>\n      <td>1.284477</td>\n      <td>1.028257</td>\n    </tr>\n    <tr>\n      <th>663</th>\n      <td>(massive attack)</td>\n      <td>(France)</td>\n      <td>1.180330</td>\n      <td>1.017729</td>\n    </tr>\n    <tr>\n      <th>14</th>\n      <td>(radiohead)</td>\n      <td>(France)</td>\n      <td>1.133150</td>\n      <td>1.043265</td>\n    </tr>\n    <tr>\n      <th>275</th>\n      <td>(metallica)</td>\n      <td>(France)</td>\n      <td>1.066265</td>\n      <td>1.009410</td>\n    </tr>\n    <tr>\n      <th>299</th>\n      <td>(nirvana)</td>\n      <td>(France)</td>\n      <td>1.029700</td>\n      <td>1.004251</td>\n    </tr>\n    <tr>\n      <th>710</th>\n      <td>(led zeppelin)</td>\n      <td>(France)</td>\n      <td>1.022870</td>\n      <td>1.002510</td>\n    </tr>\n    <tr>\n      <th>110</th>\n      <td>(muse)</td>\n      <td>(France)</td>\n      <td>0.966274</td>\n      <td>0.992942</td>\n    </tr>\n    <tr>\n      <th>136</th>\n      <td>(the beatles)</td>\n      <td>(France)</td>\n      <td>0.931137</td>\n      <td>0.985695</td>\n    </tr>\n    <tr>\n      <th>130</th>\n      <td>(coldplay)</td>\n      <td>(France)</td>\n      <td>0.861389</td>\n      <td>0.968874</td>\n    </tr>\n  </tbody>\n</table>\n</div>"
     },
     "execution_count": 17,
     "metadata": {},
     "output_type": "execute_result"
    }
   ],
   "source": [
    "rule[{'antecedents', 'consequents', 'lift', 'conviction'}].sort_values(by='lift', ascending=False)[rule['antecedents'] == {'France'}]"
   ],
   "metadata": {
    "collapsed": false,
    "pycharm": {
     "name": "#%%\n"
    }
   }
  },
  {
   "cell_type": "code",
   "execution_count": 18,
   "outputs": [
    {
     "name": "stderr",
     "output_type": "stream",
     "text": [
      "C:\\Users\\vanoy\\AppData\\Local\\Temp/ipykernel_16772/3546127947.py:1: UserWarning: Boolean Series key will be reindexed to match DataFrame index.\n",
      "  rule[{'antecedents', 'consequents', 'lift', 'conviction'}].sort_values(by='lift', ascending=False)[rule['antecedents'] == {'Italy'}]\n"
     ]
    },
    {
     "data": {
      "text/plain": "                    consequents antecedents      lift  conviction\n933  (led zeppelin, pink floyd)     (Italy)  2.260948    1.063329\n439                 (bob dylan)     (Italy)  1.629314    1.053525\n59                 (pink floyd)     (Italy)  1.614794    1.101527\n196              (led zeppelin)     (Italy)  1.600376    1.070340\n290                     (queen)     (Italy)  1.593870    1.059729\n818    (radiohead, the beatles)     (Italy)  1.493684    1.038884\n559                 (sigur rós)     (Italy)  1.328225    1.032153\n34                (the beatles)     (Italy)  1.285052    1.063915\n432              (depeche mode)     (Italy)  1.260637    1.028651\n609           (franz ferdinand)     (Italy)  1.201263    1.021799\n833               (david bowie)     (Italy)  1.194947    1.019193\n786            (massive attack)     (Italy)  1.194947    1.019193\n16                  (radiohead)     (Italy)  1.191180    1.063315\n640                  (the cure)     (Italy)  1.079619    1.009287\n370                 (metallica)     (Italy)  1.040244    1.005694\n429                   (nirvana)     (Italy)  1.002119    1.000302\n144                  (coldplay)     (Italy)  0.909077    0.979362\n185                      (muse)     (Italy)  0.907096    0.980796",
      "text/html": "<div>\n<style scoped>\n    .dataframe tbody tr th:only-of-type {\n        vertical-align: middle;\n    }\n\n    .dataframe tbody tr th {\n        vertical-align: top;\n    }\n\n    .dataframe thead th {\n        text-align: right;\n    }\n</style>\n<table border=\"1\" class=\"dataframe\">\n  <thead>\n    <tr style=\"text-align: right;\">\n      <th></th>\n      <th>consequents</th>\n      <th>antecedents</th>\n      <th>lift</th>\n      <th>conviction</th>\n    </tr>\n  </thead>\n  <tbody>\n    <tr>\n      <th>933</th>\n      <td>(led zeppelin, pink floyd)</td>\n      <td>(Italy)</td>\n      <td>2.260948</td>\n      <td>1.063329</td>\n    </tr>\n    <tr>\n      <th>439</th>\n      <td>(bob dylan)</td>\n      <td>(Italy)</td>\n      <td>1.629314</td>\n      <td>1.053525</td>\n    </tr>\n    <tr>\n      <th>59</th>\n      <td>(pink floyd)</td>\n      <td>(Italy)</td>\n      <td>1.614794</td>\n      <td>1.101527</td>\n    </tr>\n    <tr>\n      <th>196</th>\n      <td>(led zeppelin)</td>\n      <td>(Italy)</td>\n      <td>1.600376</td>\n      <td>1.070340</td>\n    </tr>\n    <tr>\n      <th>290</th>\n      <td>(queen)</td>\n      <td>(Italy)</td>\n      <td>1.593870</td>\n      <td>1.059729</td>\n    </tr>\n    <tr>\n      <th>818</th>\n      <td>(radiohead, the beatles)</td>\n      <td>(Italy)</td>\n      <td>1.493684</td>\n      <td>1.038884</td>\n    </tr>\n    <tr>\n      <th>559</th>\n      <td>(sigur rós)</td>\n      <td>(Italy)</td>\n      <td>1.328225</td>\n      <td>1.032153</td>\n    </tr>\n    <tr>\n      <th>34</th>\n      <td>(the beatles)</td>\n      <td>(Italy)</td>\n      <td>1.285052</td>\n      <td>1.063915</td>\n    </tr>\n    <tr>\n      <th>432</th>\n      <td>(depeche mode)</td>\n      <td>(Italy)</td>\n      <td>1.260637</td>\n      <td>1.028651</td>\n    </tr>\n    <tr>\n      <th>609</th>\n      <td>(franz ferdinand)</td>\n      <td>(Italy)</td>\n      <td>1.201263</td>\n      <td>1.021799</td>\n    </tr>\n    <tr>\n      <th>833</th>\n      <td>(david bowie)</td>\n      <td>(Italy)</td>\n      <td>1.194947</td>\n      <td>1.019193</td>\n    </tr>\n    <tr>\n      <th>786</th>\n      <td>(massive attack)</td>\n      <td>(Italy)</td>\n      <td>1.194947</td>\n      <td>1.019193</td>\n    </tr>\n    <tr>\n      <th>16</th>\n      <td>(radiohead)</td>\n      <td>(Italy)</td>\n      <td>1.191180</td>\n      <td>1.063315</td>\n    </tr>\n    <tr>\n      <th>640</th>\n      <td>(the cure)</td>\n      <td>(Italy)</td>\n      <td>1.079619</td>\n      <td>1.009287</td>\n    </tr>\n    <tr>\n      <th>370</th>\n      <td>(metallica)</td>\n      <td>(Italy)</td>\n      <td>1.040244</td>\n      <td>1.005694</td>\n    </tr>\n    <tr>\n      <th>429</th>\n      <td>(nirvana)</td>\n      <td>(Italy)</td>\n      <td>1.002119</td>\n      <td>1.000302</td>\n    </tr>\n    <tr>\n      <th>144</th>\n      <td>(coldplay)</td>\n      <td>(Italy)</td>\n      <td>0.909077</td>\n      <td>0.979362</td>\n    </tr>\n    <tr>\n      <th>185</th>\n      <td>(muse)</td>\n      <td>(Italy)</td>\n      <td>0.907096</td>\n      <td>0.980796</td>\n    </tr>\n  </tbody>\n</table>\n</div>"
     },
     "execution_count": 18,
     "metadata": {},
     "output_type": "execute_result"
    }
   ],
   "source": [
    "rule[{'antecedents', 'consequents', 'lift', 'conviction'}].sort_values(by='lift', ascending=False)[rule['antecedents'] == {'Italy'}]"
   ],
   "metadata": {
    "collapsed": false,
    "pycharm": {
     "name": "#%%\n"
    }
   }
  },
  {
   "cell_type": "code",
   "execution_count": 19,
   "outputs": [
    {
     "name": "stderr",
     "output_type": "stream",
     "text": [
      "C:\\Users\\vanoy\\AppData\\Local\\Temp/ipykernel_16772/3835654035.py:1: UserWarning: Boolean Series key will be reindexed to match DataFrame index.\n",
      "  rule[{'antecedents', 'consequents', 'lift', 'conviction'}].sort_values(by='lift', ascending=False)[rule['antecedents'] == {'Belgium'}]\n"
     ]
    },
    {
     "data": {
      "text/plain": "                   consequents antecedents      lift  conviction\n920                     (deus)   (Belgium)  4.823355    1.190488\n10102        (deus, radiohead)   (Belgium)  4.577419    1.086837\n4375            (hooverphonic)   (Belgium)  4.223214    1.109031\n7284                    (eels)   (Belgium)  3.141016    1.081033\n4445           (kings of leon)   (Belgium)  2.429795    1.084063\n4429                    (mgmt)   (Belgium)  2.163110    1.076815\n2200                    (moby)   (Belgium)  1.850870    1.081126\n6498       (the white stripes)   (Belgium)  1.773750    1.055296\n8563                 (madonna)   (Belgium)  1.576667    1.040639\n4315              (bloc party)   (Belgium)  1.503178    1.047820\n8660            (foo fighters)   (Belgium)  1.404950    1.032026\n2617   (red hot chili peppers)   (Belgium)  1.387628    1.046897\n2952                (the cure)   (Belgium)  1.327296    1.039311\n5465            (depeche mode)   (Belgium)  1.229973    1.025195\n7497               (sigur rós)   (Belgium)  1.225762    1.021896\n601                 (coldplay)   (Belgium)  1.162570    1.039154\n7356                     (air)   (Belgium)  1.150906    1.015588\n6504                 (placebo)   (Belgium)  1.140268    1.015593\n8886                      (u2)   (Belgium)  1.135200    1.013233\n7390          (arctic monkeys)   (Belgium)  1.047005    1.005337\n7267               (daft punk)   (Belgium)  1.039784    1.004549\n380                (radiohead)   (Belgium)  1.026354    1.008276\n1532             (the beatles)   (Belgium)  0.969459    0.993605\n6513               (metallica)   (Belgium)  0.912214    0.987801\n8813             (the killers)   (Belgium)  0.909615    0.988959\n6511                 (nirvana)   (Belgium)  0.901907    0.986213\n2816                    (muse)   (Belgium)  0.789929    0.957604",
      "text/html": "<div>\n<style scoped>\n    .dataframe tbody tr th:only-of-type {\n        vertical-align: middle;\n    }\n\n    .dataframe tbody tr th {\n        vertical-align: top;\n    }\n\n    .dataframe thead th {\n        text-align: right;\n    }\n</style>\n<table border=\"1\" class=\"dataframe\">\n  <thead>\n    <tr style=\"text-align: right;\">\n      <th></th>\n      <th>consequents</th>\n      <th>antecedents</th>\n      <th>lift</th>\n      <th>conviction</th>\n    </tr>\n  </thead>\n  <tbody>\n    <tr>\n      <th>920</th>\n      <td>(deus)</td>\n      <td>(Belgium)</td>\n      <td>4.823355</td>\n      <td>1.190488</td>\n    </tr>\n    <tr>\n      <th>10102</th>\n      <td>(deus, radiohead)</td>\n      <td>(Belgium)</td>\n      <td>4.577419</td>\n      <td>1.086837</td>\n    </tr>\n    <tr>\n      <th>4375</th>\n      <td>(hooverphonic)</td>\n      <td>(Belgium)</td>\n      <td>4.223214</td>\n      <td>1.109031</td>\n    </tr>\n    <tr>\n      <th>7284</th>\n      <td>(eels)</td>\n      <td>(Belgium)</td>\n      <td>3.141016</td>\n      <td>1.081033</td>\n    </tr>\n    <tr>\n      <th>4445</th>\n      <td>(kings of leon)</td>\n      <td>(Belgium)</td>\n      <td>2.429795</td>\n      <td>1.084063</td>\n    </tr>\n    <tr>\n      <th>4429</th>\n      <td>(mgmt)</td>\n      <td>(Belgium)</td>\n      <td>2.163110</td>\n      <td>1.076815</td>\n    </tr>\n    <tr>\n      <th>2200</th>\n      <td>(moby)</td>\n      <td>(Belgium)</td>\n      <td>1.850870</td>\n      <td>1.081126</td>\n    </tr>\n    <tr>\n      <th>6498</th>\n      <td>(the white stripes)</td>\n      <td>(Belgium)</td>\n      <td>1.773750</td>\n      <td>1.055296</td>\n    </tr>\n    <tr>\n      <th>8563</th>\n      <td>(madonna)</td>\n      <td>(Belgium)</td>\n      <td>1.576667</td>\n      <td>1.040639</td>\n    </tr>\n    <tr>\n      <th>4315</th>\n      <td>(bloc party)</td>\n      <td>(Belgium)</td>\n      <td>1.503178</td>\n      <td>1.047820</td>\n    </tr>\n    <tr>\n      <th>8660</th>\n      <td>(foo fighters)</td>\n      <td>(Belgium)</td>\n      <td>1.404950</td>\n      <td>1.032026</td>\n    </tr>\n    <tr>\n      <th>2617</th>\n      <td>(red hot chili peppers)</td>\n      <td>(Belgium)</td>\n      <td>1.387628</td>\n      <td>1.046897</td>\n    </tr>\n    <tr>\n      <th>2952</th>\n      <td>(the cure)</td>\n      <td>(Belgium)</td>\n      <td>1.327296</td>\n      <td>1.039311</td>\n    </tr>\n    <tr>\n      <th>5465</th>\n      <td>(depeche mode)</td>\n      <td>(Belgium)</td>\n      <td>1.229973</td>\n      <td>1.025195</td>\n    </tr>\n    <tr>\n      <th>7497</th>\n      <td>(sigur rós)</td>\n      <td>(Belgium)</td>\n      <td>1.225762</td>\n      <td>1.021896</td>\n    </tr>\n    <tr>\n      <th>601</th>\n      <td>(coldplay)</td>\n      <td>(Belgium)</td>\n      <td>1.162570</td>\n      <td>1.039154</td>\n    </tr>\n    <tr>\n      <th>7356</th>\n      <td>(air)</td>\n      <td>(Belgium)</td>\n      <td>1.150906</td>\n      <td>1.015588</td>\n    </tr>\n    <tr>\n      <th>6504</th>\n      <td>(placebo)</td>\n      <td>(Belgium)</td>\n      <td>1.140268</td>\n      <td>1.015593</td>\n    </tr>\n    <tr>\n      <th>8886</th>\n      <td>(u2)</td>\n      <td>(Belgium)</td>\n      <td>1.135200</td>\n      <td>1.013233</td>\n    </tr>\n    <tr>\n      <th>7390</th>\n      <td>(arctic monkeys)</td>\n      <td>(Belgium)</td>\n      <td>1.047005</td>\n      <td>1.005337</td>\n    </tr>\n    <tr>\n      <th>7267</th>\n      <td>(daft punk)</td>\n      <td>(Belgium)</td>\n      <td>1.039784</td>\n      <td>1.004549</td>\n    </tr>\n    <tr>\n      <th>380</th>\n      <td>(radiohead)</td>\n      <td>(Belgium)</td>\n      <td>1.026354</td>\n      <td>1.008276</td>\n    </tr>\n    <tr>\n      <th>1532</th>\n      <td>(the beatles)</td>\n      <td>(Belgium)</td>\n      <td>0.969459</td>\n      <td>0.993605</td>\n    </tr>\n    <tr>\n      <th>6513</th>\n      <td>(metallica)</td>\n      <td>(Belgium)</td>\n      <td>0.912214</td>\n      <td>0.987801</td>\n    </tr>\n    <tr>\n      <th>8813</th>\n      <td>(the killers)</td>\n      <td>(Belgium)</td>\n      <td>0.909615</td>\n      <td>0.988959</td>\n    </tr>\n    <tr>\n      <th>6511</th>\n      <td>(nirvana)</td>\n      <td>(Belgium)</td>\n      <td>0.901907</td>\n      <td>0.986213</td>\n    </tr>\n    <tr>\n      <th>2816</th>\n      <td>(muse)</td>\n      <td>(Belgium)</td>\n      <td>0.789929</td>\n      <td>0.957604</td>\n    </tr>\n  </tbody>\n</table>\n</div>"
     },
     "execution_count": 19,
     "metadata": {},
     "output_type": "execute_result"
    }
   ],
   "source": [
    "rule[{'antecedents', 'consequents', 'lift', 'conviction'}].sort_values(by='lift', ascending=False)[rule['antecedents'] == {'Belgium'}]"
   ],
   "metadata": {
    "collapsed": false,
    "pycharm": {
     "name": "#%%\n"
    }
   }
  },
  {
   "cell_type": "markdown",
   "source": [
    "При попытке отследить страны, как причину выбора музыкальной группы было выяснено, что некоторые страны имеют предпочтения. К примеру, в Испании и Бельгии предпочитают группу Deus. На Википедии говорится, что это бельгийская группа. Отсюда можно сделать вывод, что группа Deus будет лучше всего собирать концерты в Бельгии\n"
   ],
   "metadata": {
    "collapsed": false,
    "pycharm": {
     "name": "#%% md\n"
    }
   }
  },
  {
   "cell_type": "markdown",
   "source": [
    "### Правило 5: Что будет, если все положить в анализ и посмотреть?"
   ],
   "metadata": {
    "collapsed": false,
    "pycharm": {
     "name": "#%% md\n"
    }
   }
  },
  {
   "cell_type": "code",
   "execution_count": 20,
   "outputs": [],
   "source": [
    "all_frequent_sets = apriori(user_all, min_support=0.01, use_colnames=True).sort_values(by='support', ascending=False)\n",
    "rule = association_rules(all_frequent_sets, metric=\"confidence\", min_threshold=0.1)\n",
    "thing = rule[{'antecedents', 'consequents', 'lift', 'conviction'}].sort_values(by='lift', ascending=False)"
   ],
   "metadata": {
    "collapsed": false,
    "pycharm": {
     "name": "#%%\n"
    }
   }
  },
  {
   "cell_type": "code",
   "execution_count": 21,
   "outputs": [
    {
     "data": {
      "text/plain": "               consequents              antecedents       lift  conviction\n25359         (iced earth)           (m, helloween)  25.339286    1.960536\n25360       (m, helloween)             (iced earth)  25.339286    2.108310\n24504  (children of bodom)          (m, arch enemy)  24.635417    2.599013\n24505      (m, arch enemy)      (children of bodom)  24.635417    1.685291\n19157          (gamma ray)      (m, sonata arctica)  24.544865    1.730863\n...                    ...                      ...        ...         ...\n24081                  (f)                     (u2)   0.545769    0.886508\n25931              (Spain)  (pink floyd, radiohead)   0.539298    0.796604\n8300               (Spain)                 (m, air)   0.539298    0.796604\n9151                   (f)              (metallica)   0.519780    0.880788\n2484               (Spain)          (m, pink floyd)   0.511485    0.786941\n\n[26166 rows x 4 columns]",
      "text/html": "<div>\n<style scoped>\n    .dataframe tbody tr th:only-of-type {\n        vertical-align: middle;\n    }\n\n    .dataframe tbody tr th {\n        vertical-align: top;\n    }\n\n    .dataframe thead th {\n        text-align: right;\n    }\n</style>\n<table border=\"1\" class=\"dataframe\">\n  <thead>\n    <tr style=\"text-align: right;\">\n      <th></th>\n      <th>consequents</th>\n      <th>antecedents</th>\n      <th>lift</th>\n      <th>conviction</th>\n    </tr>\n  </thead>\n  <tbody>\n    <tr>\n      <th>25359</th>\n      <td>(iced earth)</td>\n      <td>(m, helloween)</td>\n      <td>25.339286</td>\n      <td>1.960536</td>\n    </tr>\n    <tr>\n      <th>25360</th>\n      <td>(m, helloween)</td>\n      <td>(iced earth)</td>\n      <td>25.339286</td>\n      <td>2.108310</td>\n    </tr>\n    <tr>\n      <th>24504</th>\n      <td>(children of bodom)</td>\n      <td>(m, arch enemy)</td>\n      <td>24.635417</td>\n      <td>2.599013</td>\n    </tr>\n    <tr>\n      <th>24505</th>\n      <td>(m, arch enemy)</td>\n      <td>(children of bodom)</td>\n      <td>24.635417</td>\n      <td>1.685291</td>\n    </tr>\n    <tr>\n      <th>19157</th>\n      <td>(gamma ray)</td>\n      <td>(m, sonata arctica)</td>\n      <td>24.544865</td>\n      <td>1.730863</td>\n    </tr>\n    <tr>\n      <th>...</th>\n      <td>...</td>\n      <td>...</td>\n      <td>...</td>\n      <td>...</td>\n    </tr>\n    <tr>\n      <th>24081</th>\n      <td>(f)</td>\n      <td>(u2)</td>\n      <td>0.545769</td>\n      <td>0.886508</td>\n    </tr>\n    <tr>\n      <th>25931</th>\n      <td>(Spain)</td>\n      <td>(pink floyd, radiohead)</td>\n      <td>0.539298</td>\n      <td>0.796604</td>\n    </tr>\n    <tr>\n      <th>8300</th>\n      <td>(Spain)</td>\n      <td>(m, air)</td>\n      <td>0.539298</td>\n      <td>0.796604</td>\n    </tr>\n    <tr>\n      <th>9151</th>\n      <td>(f)</td>\n      <td>(metallica)</td>\n      <td>0.519780</td>\n      <td>0.880788</td>\n    </tr>\n    <tr>\n      <th>2484</th>\n      <td>(Spain)</td>\n      <td>(m, pink floyd)</td>\n      <td>0.511485</td>\n      <td>0.786941</td>\n    </tr>\n  </tbody>\n</table>\n<p>26166 rows × 4 columns</p>\n</div>"
     },
     "execution_count": 21,
     "metadata": {},
     "output_type": "execute_result"
    }
   ],
   "source": [
    "thing"
   ],
   "metadata": {
    "collapsed": false,
    "pycharm": {
     "name": "#%%\n"
    }
   }
  },
  {
   "cell_type": "markdown",
   "source": [
    "Предсказуемо, что если все взять и с минимальной обработкой отдать на анализ - данные будут неструктурированные. Однако, удивительно прослеживается рекомендации для \"мужчин, слушающих X\""
   ],
   "metadata": {
    "collapsed": false,
    "pycharm": {
     "name": "#%% md\n"
    }
   }
  }
 ],
 "metadata": {
  "kernelspec": {
   "display_name": "Python 3 (ipykernel)",
   "language": "python",
   "name": "python3"
  },
  "language_info": {
   "codemirror_mode": {
    "name": "ipython",
    "version": 3
   },
   "file_extension": ".py",
   "mimetype": "text/x-python",
   "name": "python",
   "nbconvert_exporter": "python",
   "pygments_lexer": "ipython3",
   "version": "3.9.7"
  }
 },
 "nbformat": 4,
 "nbformat_minor": 4
}