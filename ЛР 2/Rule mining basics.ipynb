{
 "cells": [
  {
   "cell_type": "markdown",
   "metadata": {},
   "source": [
    "# Association rule mining basics"
   ]
  },
  {
   "cell_type": "code",
   "execution_count": 2,
   "metadata": {},
   "outputs": [],
   "source": [
    "import pandas as pd"
   ]
  },
  {
   "cell_type": "code",
   "execution_count": 3,
   "metadata": {},
   "outputs": [
    {
     "data": {
      "text/plain": "   InvoiceNo StockCode                          Description  Quantity  \\\n0     536365    85123A   WHITE HANGING HEART T-LIGHT HOLDER         6   \n1     536365     71053                  WHITE METAL LANTERN         6   \n2     536365    84406B       CREAM CUPID HEARTS COAT HANGER         8   \n3     536365    84029G  KNITTED UNION FLAG HOT WATER BOTTLE         6   \n4     536365    84029E       RED WOOLLY HOTTIE WHITE HEART.         6   \n5     536365     22752         SET 7 BABUSHKA NESTING BOXES         2   \n6     536365     21730    GLASS STAR FROSTED T-LIGHT HOLDER         6   \n7     536366     22633               HAND WARMER UNION JACK         6   \n8     536366     22632            HAND WARMER RED POLKA DOT         6   \n9     536367     84879        ASSORTED COLOUR BIRD ORNAMENT        32   \n10    536367     22745           POPPY'S PLAYHOUSE BEDROOM          6   \n11    536367     22748            POPPY'S PLAYHOUSE KITCHEN         6   \n12    536367     22749    FELTCRAFT PRINCESS CHARLOTTE DOLL         8   \n13    536367     22310              IVORY KNITTED MUG COSY          6   \n14    536367     84969   BOX OF 6 ASSORTED COLOUR TEASPOONS         6   \n15    536367     22623        BOX OF VINTAGE JIGSAW BLOCKS          3   \n16    536367     22622       BOX OF VINTAGE ALPHABET BLOCKS         2   \n17    536367     21754             HOME BUILDING BLOCK WORD         3   \n18    536367     21755             LOVE BUILDING BLOCK WORD         3   \n19    536367     21777          RECIPE BOX WITH METAL HEART         4   \n\n         InvoiceDate  UnitPrice  CustomerID         Country  \n0   01.12.2010 08:26       2.55     17850.0  United Kingdom  \n1   01.12.2010 08:26       3.39     17850.0  United Kingdom  \n2   01.12.2010 08:26       2.75     17850.0  United Kingdom  \n3   01.12.2010 08:26       3.39     17850.0  United Kingdom  \n4   01.12.2010 08:26       3.39     17850.0  United Kingdom  \n5   01.12.2010 08:26       7.65     17850.0  United Kingdom  \n6   01.12.2010 08:26       4.25     17850.0  United Kingdom  \n7   01.12.2010 08:28       1.85     17850.0  United Kingdom  \n8   01.12.2010 08:28       1.85     17850.0  United Kingdom  \n9   01.12.2010 08:34       1.69     13047.0  United Kingdom  \n10  01.12.2010 08:34       2.10     13047.0  United Kingdom  \n11  01.12.2010 08:34       2.10     13047.0  United Kingdom  \n12  01.12.2010 08:34       3.75     13047.0  United Kingdom  \n13  01.12.2010 08:34       1.65     13047.0  United Kingdom  \n14  01.12.2010 08:34       4.25     13047.0  United Kingdom  \n15  01.12.2010 08:34       4.95     13047.0  United Kingdom  \n16  01.12.2010 08:34       9.95     13047.0  United Kingdom  \n17  01.12.2010 08:34       5.95     13047.0  United Kingdom  \n18  01.12.2010 08:34       5.95     13047.0  United Kingdom  \n19  01.12.2010 08:34       7.95     13047.0  United Kingdom  ",
      "text/html": "<div>\n<style scoped>\n    .dataframe tbody tr th:only-of-type {\n        vertical-align: middle;\n    }\n\n    .dataframe tbody tr th {\n        vertical-align: top;\n    }\n\n    .dataframe thead th {\n        text-align: right;\n    }\n</style>\n<table border=\"1\" class=\"dataframe\">\n  <thead>\n    <tr style=\"text-align: right;\">\n      <th></th>\n      <th>InvoiceNo</th>\n      <th>StockCode</th>\n      <th>Description</th>\n      <th>Quantity</th>\n      <th>InvoiceDate</th>\n      <th>UnitPrice</th>\n      <th>CustomerID</th>\n      <th>Country</th>\n    </tr>\n  </thead>\n  <tbody>\n    <tr>\n      <th>0</th>\n      <td>536365</td>\n      <td>85123A</td>\n      <td>WHITE HANGING HEART T-LIGHT HOLDER</td>\n      <td>6</td>\n      <td>01.12.2010 08:26</td>\n      <td>2.55</td>\n      <td>17850.0</td>\n      <td>United Kingdom</td>\n    </tr>\n    <tr>\n      <th>1</th>\n      <td>536365</td>\n      <td>71053</td>\n      <td>WHITE METAL LANTERN</td>\n      <td>6</td>\n      <td>01.12.2010 08:26</td>\n      <td>3.39</td>\n      <td>17850.0</td>\n      <td>United Kingdom</td>\n    </tr>\n    <tr>\n      <th>2</th>\n      <td>536365</td>\n      <td>84406B</td>\n      <td>CREAM CUPID HEARTS COAT HANGER</td>\n      <td>8</td>\n      <td>01.12.2010 08:26</td>\n      <td>2.75</td>\n      <td>17850.0</td>\n      <td>United Kingdom</td>\n    </tr>\n    <tr>\n      <th>3</th>\n      <td>536365</td>\n      <td>84029G</td>\n      <td>KNITTED UNION FLAG HOT WATER BOTTLE</td>\n      <td>6</td>\n      <td>01.12.2010 08:26</td>\n      <td>3.39</td>\n      <td>17850.0</td>\n      <td>United Kingdom</td>\n    </tr>\n    <tr>\n      <th>4</th>\n      <td>536365</td>\n      <td>84029E</td>\n      <td>RED WOOLLY HOTTIE WHITE HEART.</td>\n      <td>6</td>\n      <td>01.12.2010 08:26</td>\n      <td>3.39</td>\n      <td>17850.0</td>\n      <td>United Kingdom</td>\n    </tr>\n    <tr>\n      <th>5</th>\n      <td>536365</td>\n      <td>22752</td>\n      <td>SET 7 BABUSHKA NESTING BOXES</td>\n      <td>2</td>\n      <td>01.12.2010 08:26</td>\n      <td>7.65</td>\n      <td>17850.0</td>\n      <td>United Kingdom</td>\n    </tr>\n    <tr>\n      <th>6</th>\n      <td>536365</td>\n      <td>21730</td>\n      <td>GLASS STAR FROSTED T-LIGHT HOLDER</td>\n      <td>6</td>\n      <td>01.12.2010 08:26</td>\n      <td>4.25</td>\n      <td>17850.0</td>\n      <td>United Kingdom</td>\n    </tr>\n    <tr>\n      <th>7</th>\n      <td>536366</td>\n      <td>22633</td>\n      <td>HAND WARMER UNION JACK</td>\n      <td>6</td>\n      <td>01.12.2010 08:28</td>\n      <td>1.85</td>\n      <td>17850.0</td>\n      <td>United Kingdom</td>\n    </tr>\n    <tr>\n      <th>8</th>\n      <td>536366</td>\n      <td>22632</td>\n      <td>HAND WARMER RED POLKA DOT</td>\n      <td>6</td>\n      <td>01.12.2010 08:28</td>\n      <td>1.85</td>\n      <td>17850.0</td>\n      <td>United Kingdom</td>\n    </tr>\n    <tr>\n      <th>9</th>\n      <td>536367</td>\n      <td>84879</td>\n      <td>ASSORTED COLOUR BIRD ORNAMENT</td>\n      <td>32</td>\n      <td>01.12.2010 08:34</td>\n      <td>1.69</td>\n      <td>13047.0</td>\n      <td>United Kingdom</td>\n    </tr>\n    <tr>\n      <th>10</th>\n      <td>536367</td>\n      <td>22745</td>\n      <td>POPPY'S PLAYHOUSE BEDROOM</td>\n      <td>6</td>\n      <td>01.12.2010 08:34</td>\n      <td>2.10</td>\n      <td>13047.0</td>\n      <td>United Kingdom</td>\n    </tr>\n    <tr>\n      <th>11</th>\n      <td>536367</td>\n      <td>22748</td>\n      <td>POPPY'S PLAYHOUSE KITCHEN</td>\n      <td>6</td>\n      <td>01.12.2010 08:34</td>\n      <td>2.10</td>\n      <td>13047.0</td>\n      <td>United Kingdom</td>\n    </tr>\n    <tr>\n      <th>12</th>\n      <td>536367</td>\n      <td>22749</td>\n      <td>FELTCRAFT PRINCESS CHARLOTTE DOLL</td>\n      <td>8</td>\n      <td>01.12.2010 08:34</td>\n      <td>3.75</td>\n      <td>13047.0</td>\n      <td>United Kingdom</td>\n    </tr>\n    <tr>\n      <th>13</th>\n      <td>536367</td>\n      <td>22310</td>\n      <td>IVORY KNITTED MUG COSY</td>\n      <td>6</td>\n      <td>01.12.2010 08:34</td>\n      <td>1.65</td>\n      <td>13047.0</td>\n      <td>United Kingdom</td>\n    </tr>\n    <tr>\n      <th>14</th>\n      <td>536367</td>\n      <td>84969</td>\n      <td>BOX OF 6 ASSORTED COLOUR TEASPOONS</td>\n      <td>6</td>\n      <td>01.12.2010 08:34</td>\n      <td>4.25</td>\n      <td>13047.0</td>\n      <td>United Kingdom</td>\n    </tr>\n    <tr>\n      <th>15</th>\n      <td>536367</td>\n      <td>22623</td>\n      <td>BOX OF VINTAGE JIGSAW BLOCKS</td>\n      <td>3</td>\n      <td>01.12.2010 08:34</td>\n      <td>4.95</td>\n      <td>13047.0</td>\n      <td>United Kingdom</td>\n    </tr>\n    <tr>\n      <th>16</th>\n      <td>536367</td>\n      <td>22622</td>\n      <td>BOX OF VINTAGE ALPHABET BLOCKS</td>\n      <td>2</td>\n      <td>01.12.2010 08:34</td>\n      <td>9.95</td>\n      <td>13047.0</td>\n      <td>United Kingdom</td>\n    </tr>\n    <tr>\n      <th>17</th>\n      <td>536367</td>\n      <td>21754</td>\n      <td>HOME BUILDING BLOCK WORD</td>\n      <td>3</td>\n      <td>01.12.2010 08:34</td>\n      <td>5.95</td>\n      <td>13047.0</td>\n      <td>United Kingdom</td>\n    </tr>\n    <tr>\n      <th>18</th>\n      <td>536367</td>\n      <td>21755</td>\n      <td>LOVE BUILDING BLOCK WORD</td>\n      <td>3</td>\n      <td>01.12.2010 08:34</td>\n      <td>5.95</td>\n      <td>13047.0</td>\n      <td>United Kingdom</td>\n    </tr>\n    <tr>\n      <th>19</th>\n      <td>536367</td>\n      <td>21777</td>\n      <td>RECIPE BOX WITH METAL HEART</td>\n      <td>4</td>\n      <td>01.12.2010 08:34</td>\n      <td>7.95</td>\n      <td>13047.0</td>\n      <td>United Kingdom</td>\n    </tr>\n  </tbody>\n</table>\n</div>"
     },
     "execution_count": 3,
     "metadata": {},
     "output_type": "execute_result"
    }
   ],
   "source": [
    "data = pd.read_csv(\"Online Retail.csv\")\n",
    "data.head(20)"
   ]
  },
  {
   "cell_type": "code",
   "execution_count": 4,
   "metadata": {},
   "outputs": [
    {
     "name": "stdout",
     "output_type": "stream",
     "text": [
      "<class 'pandas.core.frame.DataFrame'>\n",
      "RangeIndex: 541909 entries, 0 to 541908\n",
      "Data columns (total 8 columns):\n",
      " #   Column       Non-Null Count   Dtype  \n",
      "---  ------       --------------   -----  \n",
      " 0   InvoiceNo    541909 non-null  object \n",
      " 1   StockCode    541909 non-null  object \n",
      " 2   Description  540455 non-null  object \n",
      " 3   Quantity     541909 non-null  int64  \n",
      " 4   InvoiceDate  541909 non-null  object \n",
      " 5   UnitPrice    541909 non-null  float64\n",
      " 6   CustomerID   406829 non-null  float64\n",
      " 7   Country      541909 non-null  object \n",
      "dtypes: float64(2), int64(1), object(5)\n",
      "memory usage: 33.1+ MB\n"
     ]
    }
   ],
   "source": [
    "data.info()"
   ]
  },
  {
   "cell_type": "markdown",
   "metadata": {},
   "source": [
    "**Q:Какие строки и стоит удалить и как это сделать?**"
   ]
  },
  {
   "cell_type": "code",
   "execution_count": 5,
   "metadata": {},
   "outputs": [],
   "source": [
    "data.dropna(subset=['Description'],inplace=True)"
   ]
  },
  {
   "cell_type": "code",
   "execution_count": 6,
   "metadata": {},
   "outputs": [
    {
     "name": "stdout",
     "output_type": "stream",
     "text": [
      "<class 'pandas.core.frame.DataFrame'>\n",
      "Int64Index: 540455 entries, 0 to 541908\n",
      "Data columns (total 8 columns):\n",
      " #   Column       Non-Null Count   Dtype  \n",
      "---  ------       --------------   -----  \n",
      " 0   InvoiceNo    540455 non-null  object \n",
      " 1   StockCode    540455 non-null  object \n",
      " 2   Description  540455 non-null  object \n",
      " 3   Quantity     540455 non-null  int64  \n",
      " 4   InvoiceDate  540455 non-null  object \n",
      " 5   UnitPrice    540455 non-null  float64\n",
      " 6   CustomerID   406829 non-null  float64\n",
      " 7   Country      540455 non-null  object \n",
      "dtypes: float64(2), int64(1), object(5)\n",
      "memory usage: 37.1+ MB\n"
     ]
    }
   ],
   "source": [
    "data.info()"
   ]
  },
  {
   "cell_type": "markdown",
   "metadata": {},
   "source": [
    "**Q: Как посчитать статистику распределения количества предметов по чекам (invoice)?**"
   ]
  },
  {
   "cell_type": "code",
   "execution_count": 7,
   "metadata": {},
   "outputs": [
    {
     "data": {
      "text/plain": "count    24446.000000\nmean        22.108116\nstd         44.009335\nmin          1.000000\n25%          3.000000\n50%         11.000000\n75%         25.000000\nmax       1114.000000\ndtype: float64"
     },
     "execution_count": 7,
     "metadata": {},
     "output_type": "execute_result"
    }
   ],
   "source": [
    "data.groupby(['InvoiceNo']).size().describe()"
   ]
  },
  {
   "cell_type": "markdown",
   "metadata": {},
   "source": [
    "### Data preprocessing"
   ]
  },
  {
   "cell_type": "code",
   "execution_count": 8,
   "metadata": {},
   "outputs": [
    {
     "data": {
      "text/plain": "      InvoiceNo         Country  \\\n0        536365  United Kingdom   \n1        536366  United Kingdom   \n2        536367  United Kingdom   \n3        536368  United Kingdom   \n4        536369  United Kingdom   \n...         ...             ...   \n24441   C581484  United Kingdom   \n24442   C581490  United Kingdom   \n24443   C581499  United Kingdom   \n24444   C581568  United Kingdom   \n24445   C581569  United Kingdom   \n\n                                             Description  \n0      WHITE HANGING HEART T-LIGHT HOLDER,WHITE METAL...  \n1       HAND WARMER UNION JACK,HAND WARMER RED POLKA DOT  \n2      ASSORTED COLOUR BIRD ORNAMENT,POPPY'S PLAYHOUS...  \n3      JAM MAKING SET WITH JARS,RED COAT RACK PARIS F...  \n4                               BATH BUILDING BLOCK WORD  \n...                                                  ...  \n24441                        PAPER CRAFT . LITTLE BIRDIE  \n24442  VICTORIAN GLASS HANGING T-LIGHT,ZINC T-LIGHT H...  \n24443                                             Manual  \n24444                         VICTORIAN SEWING BOX LARGE  \n24445  HANGING HEART JAR T-LIGHT HOLDER,36 PENCILS TU...  \n\n[24446 rows x 3 columns]",
      "text/html": "<div>\n<style scoped>\n    .dataframe tbody tr th:only-of-type {\n        vertical-align: middle;\n    }\n\n    .dataframe tbody tr th {\n        vertical-align: top;\n    }\n\n    .dataframe thead th {\n        text-align: right;\n    }\n</style>\n<table border=\"1\" class=\"dataframe\">\n  <thead>\n    <tr style=\"text-align: right;\">\n      <th></th>\n      <th>InvoiceNo</th>\n      <th>Country</th>\n      <th>Description</th>\n    </tr>\n  </thead>\n  <tbody>\n    <tr>\n      <th>0</th>\n      <td>536365</td>\n      <td>United Kingdom</td>\n      <td>WHITE HANGING HEART T-LIGHT HOLDER,WHITE METAL...</td>\n    </tr>\n    <tr>\n      <th>1</th>\n      <td>536366</td>\n      <td>United Kingdom</td>\n      <td>HAND WARMER UNION JACK,HAND WARMER RED POLKA DOT</td>\n    </tr>\n    <tr>\n      <th>2</th>\n      <td>536367</td>\n      <td>United Kingdom</td>\n      <td>ASSORTED COLOUR BIRD ORNAMENT,POPPY'S PLAYHOUS...</td>\n    </tr>\n    <tr>\n      <th>3</th>\n      <td>536368</td>\n      <td>United Kingdom</td>\n      <td>JAM MAKING SET WITH JARS,RED COAT RACK PARIS F...</td>\n    </tr>\n    <tr>\n      <th>4</th>\n      <td>536369</td>\n      <td>United Kingdom</td>\n      <td>BATH BUILDING BLOCK WORD</td>\n    </tr>\n    <tr>\n      <th>...</th>\n      <td>...</td>\n      <td>...</td>\n      <td>...</td>\n    </tr>\n    <tr>\n      <th>24441</th>\n      <td>C581484</td>\n      <td>United Kingdom</td>\n      <td>PAPER CRAFT . LITTLE BIRDIE</td>\n    </tr>\n    <tr>\n      <th>24442</th>\n      <td>C581490</td>\n      <td>United Kingdom</td>\n      <td>VICTORIAN GLASS HANGING T-LIGHT,ZINC T-LIGHT H...</td>\n    </tr>\n    <tr>\n      <th>24443</th>\n      <td>C581499</td>\n      <td>United Kingdom</td>\n      <td>Manual</td>\n    </tr>\n    <tr>\n      <th>24444</th>\n      <td>C581568</td>\n      <td>United Kingdom</td>\n      <td>VICTORIAN SEWING BOX LARGE</td>\n    </tr>\n    <tr>\n      <th>24445</th>\n      <td>C581569</td>\n      <td>United Kingdom</td>\n      <td>HANGING HEART JAR T-LIGHT HOLDER,36 PENCILS TU...</td>\n    </tr>\n  </tbody>\n</table>\n<p>24446 rows × 3 columns</p>\n</div>"
     },
     "execution_count": 8,
     "metadata": {},
     "output_type": "execute_result"
    }
   ],
   "source": [
    "#'Country', 'InvoiceDate','CustomerID'\n",
    "\n",
    "data_by_invoice = data.groupby(['InvoiceNo','Country'])['Description'].apply(lambda x: ','.join(x)).reset_index()\n",
    "data_by_invoice"
   ]
  },
  {
   "cell_type": "code",
   "execution_count": 9,
   "metadata": {},
   "outputs": [
    {
     "data": {
      "text/plain": "United Kingdom          22040\nGermany                   603\nFrance                    461\nEIRE                      360\nBelgium                   119\nSpain                     105\nNetherlands               101\nSwitzerland                74\nPortugal                   71\nAustralia                  69\nItaly                      55\nFinland                    48\nSweden                     46\nNorway                     40\nChannel Islands            33\nJapan                      28\nPoland                     24\nDenmark                    21\nCyprus                     20\nAustria                    19\nHong Kong                  15\nUnspecified                13\nSingapore                  10\nMalta                      10\nIsrael                      9\nUSA                         7\nIceland                     7\nGreece                      6\nCanada                      6\nEuropean Community          5\nCzech Republic              5\nLithuania                   4\nBahrain                     4\nUnited Arab Emirates        3\nSaudi Arabia                2\nBrazil                      1\nLebanon                     1\nRSA                         1\nName: Country, dtype: int64"
     },
     "execution_count": 9,
     "metadata": {},
     "output_type": "execute_result"
    }
   ],
   "source": [
    "data_by_invoice['Country'].value_counts()"
   ]
  },
  {
   "cell_type": "markdown",
   "metadata": {},
   "source": [
    "#### Get country data"
   ]
  },
  {
   "cell_type": "code",
   "execution_count": 10,
   "metadata": {},
   "outputs": [
    {
     "data": {
      "text/plain": "    InvoiceNo Country                                        Description\n5      536370  France  ALARM CLOCK BAKELIKE PINK,ALARM CLOCK BAKELIKE...\n273    536852  France  PICTURE DOMINOES,MINI JIGSAW SPACEBOY,MINI JIG...\n311    536974  France  EDWARDIAN PARASOL BLACK,EDWARDIAN PARASOL PINK...\n360    537065  France  HOT WATER BOTTLE BABUSHKA ,BREAD BIN DINER STY...\n543    537463  France  JAM MAKING SET PRINTED,SET/4 SKULL BADGES,ROUN...",
      "text/html": "<div>\n<style scoped>\n    .dataframe tbody tr th:only-of-type {\n        vertical-align: middle;\n    }\n\n    .dataframe tbody tr th {\n        vertical-align: top;\n    }\n\n    .dataframe thead th {\n        text-align: right;\n    }\n</style>\n<table border=\"1\" class=\"dataframe\">\n  <thead>\n    <tr style=\"text-align: right;\">\n      <th></th>\n      <th>InvoiceNo</th>\n      <th>Country</th>\n      <th>Description</th>\n    </tr>\n  </thead>\n  <tbody>\n    <tr>\n      <th>5</th>\n      <td>536370</td>\n      <td>France</td>\n      <td>ALARM CLOCK BAKELIKE PINK,ALARM CLOCK BAKELIKE...</td>\n    </tr>\n    <tr>\n      <th>273</th>\n      <td>536852</td>\n      <td>France</td>\n      <td>PICTURE DOMINOES,MINI JIGSAW SPACEBOY,MINI JIG...</td>\n    </tr>\n    <tr>\n      <th>311</th>\n      <td>536974</td>\n      <td>France</td>\n      <td>EDWARDIAN PARASOL BLACK,EDWARDIAN PARASOL PINK...</td>\n    </tr>\n    <tr>\n      <th>360</th>\n      <td>537065</td>\n      <td>France</td>\n      <td>HOT WATER BOTTLE BABUSHKA ,BREAD BIN DINER STY...</td>\n    </tr>\n    <tr>\n      <th>543</th>\n      <td>537463</td>\n      <td>France</td>\n      <td>JAM MAKING SET PRINTED,SET/4 SKULL BADGES,ROUN...</td>\n    </tr>\n  </tbody>\n</table>\n</div>"
     },
     "execution_count": 10,
     "metadata": {},
     "output_type": "execute_result"
    }
   ],
   "source": [
    "data_by_invoice_france = data_by_invoice[data_by_invoice.Country == 'France']\n",
    "data_by_invoice_france.head()"
   ]
  },
  {
   "cell_type": "markdown",
   "metadata": {},
   "source": [
    "#### Dummy encoding <br>\n",
    "<img src=\"dummy.png\" width=\"500\">"
   ]
  },
  {
   "cell_type": "code",
   "execution_count": 11,
   "metadata": {},
   "outputs": [
    {
     "data": {
      "text/plain": "    InvoiceNo Country                                        Description  \\\n5      536370  France  ALARM CLOCK BAKELIKE PINK,ALARM CLOCK BAKELIKE...   \n273    536852  France  PICTURE DOMINOES,MINI JIGSAW SPACEBOY,MINI JIG...   \n311    536974  France  EDWARDIAN PARASOL BLACK,EDWARDIAN PARASOL PINK...   \n360    537065  France  HOT WATER BOTTLE BABUSHKA ,BREAD BIN DINER STY...   \n543    537463  France  JAM MAKING SET PRINTED,SET/4 SKULL BADGES,ROUN...   \n\n      50'S CHRISTMAS GIFT BAG LARGE   DOLLY GIRL BEAKER  \\\n5                                 0                   0   \n273                               0                   0   \n311                               0                   0   \n360                               0                   0   \n543                               0                   0   \n\n      I LOVE LONDON MINI BACKPACK   NINE DRAWER OFFICE TIDY  \\\n5                               0                         0   \n273                             0                         0   \n311                             0                         0   \n360                             0                         0   \n543                             0                         0   \n\n      SET 2 TEA TOWELS I LOVE LONDON    SPACEBOY BABY GIFT SET  \\\n5                                   1                        0   \n273                                 0                        0   \n311                                 0                        0   \n360                                 0                        0   \n543                                 0                        0   \n\n      TRELLIS COAT RACK  ...  WRAP VINTAGE PETALS  DESIGN  \\\n5                     0  ...                            0   \n273                   0  ...                            0   \n311                   0  ...                            0   \n360                   0  ...                            0   \n543                   0  ...                            0   \n\n     YELLOW COAT RACK PARIS FASHION  YELLOW GIANT GARDEN THERMOMETER  \\\n5                                 0                                0   \n273                               0                                0   \n311                               0                                0   \n360                               0                                0   \n543                               0                                0   \n\n     YELLOW SHARK HELICOPTER  ZINC  STAR T-LIGHT HOLDER   \\\n5                          0                           0   \n273                        0                           0   \n311                        0                           0   \n360                        0                           0   \n543                        0                           0   \n\n     ZINC FOLKART SLEIGH BELLS  ZINC HERB GARDEN CONTAINER  \\\n5                            0                           0   \n273                          0                           0   \n311                          0                           0   \n360                          0                           0   \n543                          0                           0   \n\n     ZINC METAL HEART DECORATION  ZINC T-LIGHT HOLDER STAR LARGE  \\\n5                              0                               0   \n273                            0                               0   \n311                            0                               0   \n360                            0                               0   \n543                            0                               0   \n\n     ZINC T-LIGHT HOLDER STARS SMALL  \n5                                  0  \n273                                0  \n311                                0  \n360                                0  \n543                                0  \n\n[5 rows x 1568 columns]",
      "text/html": "<div>\n<style scoped>\n    .dataframe tbody tr th:only-of-type {\n        vertical-align: middle;\n    }\n\n    .dataframe tbody tr th {\n        vertical-align: top;\n    }\n\n    .dataframe thead th {\n        text-align: right;\n    }\n</style>\n<table border=\"1\" class=\"dataframe\">\n  <thead>\n    <tr style=\"text-align: right;\">\n      <th></th>\n      <th>InvoiceNo</th>\n      <th>Country</th>\n      <th>Description</th>\n      <th>50'S CHRISTMAS GIFT BAG LARGE</th>\n      <th>DOLLY GIRL BEAKER</th>\n      <th>I LOVE LONDON MINI BACKPACK</th>\n      <th>NINE DRAWER OFFICE TIDY</th>\n      <th>SET 2 TEA TOWELS I LOVE LONDON</th>\n      <th>SPACEBOY BABY GIFT SET</th>\n      <th>TRELLIS COAT RACK</th>\n      <th>...</th>\n      <th>WRAP VINTAGE PETALS  DESIGN</th>\n      <th>YELLOW COAT RACK PARIS FASHION</th>\n      <th>YELLOW GIANT GARDEN THERMOMETER</th>\n      <th>YELLOW SHARK HELICOPTER</th>\n      <th>ZINC  STAR T-LIGHT HOLDER</th>\n      <th>ZINC FOLKART SLEIGH BELLS</th>\n      <th>ZINC HERB GARDEN CONTAINER</th>\n      <th>ZINC METAL HEART DECORATION</th>\n      <th>ZINC T-LIGHT HOLDER STAR LARGE</th>\n      <th>ZINC T-LIGHT HOLDER STARS SMALL</th>\n    </tr>\n  </thead>\n  <tbody>\n    <tr>\n      <th>5</th>\n      <td>536370</td>\n      <td>France</td>\n      <td>ALARM CLOCK BAKELIKE PINK,ALARM CLOCK BAKELIKE...</td>\n      <td>0</td>\n      <td>0</td>\n      <td>0</td>\n      <td>0</td>\n      <td>1</td>\n      <td>0</td>\n      <td>0</td>\n      <td>...</td>\n      <td>0</td>\n      <td>0</td>\n      <td>0</td>\n      <td>0</td>\n      <td>0</td>\n      <td>0</td>\n      <td>0</td>\n      <td>0</td>\n      <td>0</td>\n      <td>0</td>\n    </tr>\n    <tr>\n      <th>273</th>\n      <td>536852</td>\n      <td>France</td>\n      <td>PICTURE DOMINOES,MINI JIGSAW SPACEBOY,MINI JIG...</td>\n      <td>0</td>\n      <td>0</td>\n      <td>0</td>\n      <td>0</td>\n      <td>0</td>\n      <td>0</td>\n      <td>0</td>\n      <td>...</td>\n      <td>0</td>\n      <td>0</td>\n      <td>0</td>\n      <td>0</td>\n      <td>0</td>\n      <td>0</td>\n      <td>0</td>\n      <td>0</td>\n      <td>0</td>\n      <td>0</td>\n    </tr>\n    <tr>\n      <th>311</th>\n      <td>536974</td>\n      <td>France</td>\n      <td>EDWARDIAN PARASOL BLACK,EDWARDIAN PARASOL PINK...</td>\n      <td>0</td>\n      <td>0</td>\n      <td>0</td>\n      <td>0</td>\n      <td>0</td>\n      <td>0</td>\n      <td>0</td>\n      <td>...</td>\n      <td>0</td>\n      <td>0</td>\n      <td>0</td>\n      <td>0</td>\n      <td>0</td>\n      <td>0</td>\n      <td>0</td>\n      <td>0</td>\n      <td>0</td>\n      <td>0</td>\n    </tr>\n    <tr>\n      <th>360</th>\n      <td>537065</td>\n      <td>France</td>\n      <td>HOT WATER BOTTLE BABUSHKA ,BREAD BIN DINER STY...</td>\n      <td>0</td>\n      <td>0</td>\n      <td>0</td>\n      <td>0</td>\n      <td>0</td>\n      <td>0</td>\n      <td>0</td>\n      <td>...</td>\n      <td>0</td>\n      <td>0</td>\n      <td>0</td>\n      <td>0</td>\n      <td>0</td>\n      <td>0</td>\n      <td>0</td>\n      <td>0</td>\n      <td>0</td>\n      <td>0</td>\n    </tr>\n    <tr>\n      <th>543</th>\n      <td>537463</td>\n      <td>France</td>\n      <td>JAM MAKING SET PRINTED,SET/4 SKULL BADGES,ROUN...</td>\n      <td>0</td>\n      <td>0</td>\n      <td>0</td>\n      <td>0</td>\n      <td>0</td>\n      <td>0</td>\n      <td>0</td>\n      <td>...</td>\n      <td>0</td>\n      <td>0</td>\n      <td>0</td>\n      <td>0</td>\n      <td>0</td>\n      <td>0</td>\n      <td>0</td>\n      <td>0</td>\n      <td>0</td>\n      <td>0</td>\n    </tr>\n  </tbody>\n</table>\n<p>5 rows × 1568 columns</p>\n</div>"
     },
     "execution_count": 11,
     "metadata": {},
     "output_type": "execute_result"
    }
   ],
   "source": [
    "dummy_data_by_invoice_france = data_by_invoice_france['Description'].str.get_dummies(',')\n",
    "data_france = pd.concat([data_by_invoice_france, dummy_data_by_invoice_france], axis = 1)\n",
    "data_france.head(5)"
   ]
  },
  {
   "cell_type": "code",
   "execution_count": 12,
   "metadata": {},
   "outputs": [
    {
     "data": {
      "text/plain": "Index(['InvoiceNo', 'Country', 'Description', ' 50'S CHRISTMAS GIFT BAG LARGE',\n       ' DOLLY GIRL BEAKER', ' I LOVE LONDON MINI BACKPACK',\n       ' NINE DRAWER OFFICE TIDY', ' SET 2 TEA TOWELS I LOVE LONDON ',\n       ' SPACEBOY BABY GIFT SET', ' TRELLIS COAT RACK',\n       ...\n       'WRAP VINTAGE PETALS  DESIGN', 'YELLOW COAT RACK PARIS FASHION',\n       'YELLOW GIANT GARDEN THERMOMETER', 'YELLOW SHARK HELICOPTER',\n       'ZINC  STAR T-LIGHT HOLDER ', 'ZINC FOLKART SLEIGH BELLS',\n       'ZINC HERB GARDEN CONTAINER', 'ZINC METAL HEART DECORATION',\n       'ZINC T-LIGHT HOLDER STAR LARGE', 'ZINC T-LIGHT HOLDER STARS SMALL'],\n      dtype='object', length=1568)"
     },
     "execution_count": 12,
     "metadata": {},
     "output_type": "execute_result"
    }
   ],
   "source": [
    "data_france.columns"
   ]
  },
  {
   "cell_type": "code",
   "execution_count": 13,
   "metadata": {},
   "outputs": [
    {
     "data": {
      "text/plain": "                                   Country                     \\\nDescription  50'S CHRISTMAS GIFT BAG LARGE  DOLLY GIRL BEAKER   \nInvoiceNo                                                       \n536370                                   0                  0   \n536852                                   0                  0   \n536974                                   0                  0   \n537065                                   0                  0   \n537463                                   0                  0   \n...                                    ...                ...   \nC579532                                  0                  0   \nC579562                                  0                  0   \nC580161                                  0                  0   \nC580263                                  0                  0   \nC581316                                  0                  0   \n\n                                                                   \\\nDescription  I LOVE LONDON MINI BACKPACK  NINE DRAWER OFFICE TIDY   \nInvoiceNo                                                           \n536370                                 0                        0   \n536852                                 0                        0   \n536974                                 0                        0   \n537065                                 0                        0   \n537463                                 0                        0   \n...                                  ...                      ...   \nC579532                                0                        0   \nC579562                                0                        0   \nC580161                                0                        0   \nC580263                                0                        0   \nC581316                                0                        0   \n\n                                                                      \\\nDescription  SET 2 TEA TOWELS I LOVE LONDON   SPACEBOY BABY GIFT SET   \nInvoiceNo                                                              \n536370                                     1                       0   \n536852                                     0                       0   \n536974                                     0                       0   \n537065                                     0                       0   \n537463                                     0                       0   \n...                                      ...                     ...   \nC579532                                    0                       0   \nC579562                                    0                       0   \nC580161                                    0                       0   \nC580263                                    0                       0   \nC581316                                    0                       0   \n\n                                                       \\\nDescription  TRELLIS COAT RACK 10 COLOUR SPACEBOY PEN   \nInvoiceNo                                               \n536370                       0                      0   \n536852                       0                      0   \n536974                       0                      0   \n537065                       0                      0   \n537463                       0                      0   \n...                        ...                    ...   \nC579532                      0                      0   \nC579562                      0                      0   \nC580161                      0                      0   \nC580263                      0                      0   \nC581316                      0                      0   \n\n                                                                  ...  \\\nDescription 12 COLOURED PARTY BALLOONS 12 EGG HOUSE PAINTED WOOD  ...   \nInvoiceNo                                                         ...   \n536370                               0                         0  ...   \n536852                               0                         0  ...   \n536974                               0                         0  ...   \n537065                               0                         0  ...   \n537463                               0                         0  ...   \n...                                ...                       ...  ...   \nC579532                              0                         0  ...   \nC579562                              0                         0  ...   \nC580161                              0                         0  ...   \nC580263                              0                         0  ...   \nC581316                              0                         0  ...   \n\n                              UnitPrice                                 \\\nDescription WRAP VINTAGE PETALS  DESIGN YELLOW COAT RACK PARIS FASHION   \nInvoiceNo                                                                \n536370                                0                              0   \n536852                                0                              0   \n536974                                0                              0   \n537065                                0                              0   \n537463                                0                              0   \n...                                 ...                            ...   \nC579532                               0                              0   \nC579562                               0                              0   \nC580161                               0                              0   \nC580263                               0                              0   \nC581316                               0                              0   \n\n                                                                     \\\nDescription YELLOW GIANT GARDEN THERMOMETER YELLOW SHARK HELICOPTER   \nInvoiceNo                                                             \n536370                                    0                       0   \n536852                                    0                       0   \n536974                                    0                       0   \n537065                                    0                       0   \n537463                                    0                       0   \n...                                     ...                     ...   \nC579532                                   0                       0   \nC579562                                   0                       0   \nC580161                                   0                       0   \nC580263                                   0                       0   \nC581316                                   0                       0   \n\n                                                                  \\\nDescription ZINC  STAR T-LIGHT HOLDER  ZINC FOLKART SLEIGH BELLS   \nInvoiceNo                                                          \n536370                               0                         0   \n536852                               0                         0   \n536974                               0                         0   \n537065                               0                         0   \n537463                               0                         0   \n...                                ...                       ...   \nC579532                              0                         0   \nC579562                              0                         0   \nC580161                              0                         0   \nC580263                              0                         0   \nC581316                              0                         0   \n\n                                                                    \\\nDescription ZINC HERB GARDEN CONTAINER ZINC METAL HEART DECORATION   \nInvoiceNo                                                            \n536370                               0                           0   \n536852                               0                           0   \n536974                               0                           0   \n537065                               0                           0   \n537463                               0                           0   \n...                                ...                         ...   \nC579532                              0                           0   \nC579562                              0                           0   \nC580161                              0                           0   \nC580263                              0                           0   \nC581316                              0                           0   \n\n                                                                            \nDescription ZINC T-LIGHT HOLDER STAR LARGE ZINC T-LIGHT HOLDER STARS SMALL  \nInvoiceNo                                                                   \n536370                                   0                               0  \n536852                                   0                               0  \n536974                                   0                               0  \n537065                                   0                               0  \n537463                                   0                               0  \n...                                    ...                             ...  \nC579532                                  0                               0  \nC579562                                  0                               0  \nC580161                                  0                               0  \nC580263                                  0                               0  \nC581316                                  0                               0  \n\n[461 rows x 9390 columns]",
      "text/html": "<div>\n<style scoped>\n    .dataframe tbody tr th:only-of-type {\n        vertical-align: middle;\n    }\n\n    .dataframe tbody tr th {\n        vertical-align: top;\n    }\n\n    .dataframe thead tr th {\n        text-align: left;\n    }\n\n    .dataframe thead tr:last-of-type th {\n        text-align: right;\n    }\n</style>\n<table border=\"1\" class=\"dataframe\">\n  <thead>\n    <tr>\n      <th></th>\n      <th colspan=\"10\" halign=\"left\">Country</th>\n      <th>...</th>\n      <th colspan=\"10\" halign=\"left\">UnitPrice</th>\n    </tr>\n    <tr>\n      <th>Description</th>\n      <th>50'S CHRISTMAS GIFT BAG LARGE</th>\n      <th>DOLLY GIRL BEAKER</th>\n      <th>I LOVE LONDON MINI BACKPACK</th>\n      <th>NINE DRAWER OFFICE TIDY</th>\n      <th>SET 2 TEA TOWELS I LOVE LONDON</th>\n      <th>SPACEBOY BABY GIFT SET</th>\n      <th>TRELLIS COAT RACK</th>\n      <th>10 COLOUR SPACEBOY PEN</th>\n      <th>12 COLOURED PARTY BALLOONS</th>\n      <th>12 EGG HOUSE PAINTED WOOD</th>\n      <th>...</th>\n      <th>WRAP VINTAGE PETALS  DESIGN</th>\n      <th>YELLOW COAT RACK PARIS FASHION</th>\n      <th>YELLOW GIANT GARDEN THERMOMETER</th>\n      <th>YELLOW SHARK HELICOPTER</th>\n      <th>ZINC  STAR T-LIGHT HOLDER</th>\n      <th>ZINC FOLKART SLEIGH BELLS</th>\n      <th>ZINC HERB GARDEN CONTAINER</th>\n      <th>ZINC METAL HEART DECORATION</th>\n      <th>ZINC T-LIGHT HOLDER STAR LARGE</th>\n      <th>ZINC T-LIGHT HOLDER STARS SMALL</th>\n    </tr>\n    <tr>\n      <th>InvoiceNo</th>\n      <th></th>\n      <th></th>\n      <th></th>\n      <th></th>\n      <th></th>\n      <th></th>\n      <th></th>\n      <th></th>\n      <th></th>\n      <th></th>\n      <th></th>\n      <th></th>\n      <th></th>\n      <th></th>\n      <th></th>\n      <th></th>\n      <th></th>\n      <th></th>\n      <th></th>\n      <th></th>\n      <th></th>\n    </tr>\n  </thead>\n  <tbody>\n    <tr>\n      <th>536370</th>\n      <td>0</td>\n      <td>0</td>\n      <td>0</td>\n      <td>0</td>\n      <td>1</td>\n      <td>0</td>\n      <td>0</td>\n      <td>0</td>\n      <td>0</td>\n      <td>0</td>\n      <td>...</td>\n      <td>0</td>\n      <td>0</td>\n      <td>0</td>\n      <td>0</td>\n      <td>0</td>\n      <td>0</td>\n      <td>0</td>\n      <td>0</td>\n      <td>0</td>\n      <td>0</td>\n    </tr>\n    <tr>\n      <th>536852</th>\n      <td>0</td>\n      <td>0</td>\n      <td>0</td>\n      <td>0</td>\n      <td>0</td>\n      <td>0</td>\n      <td>0</td>\n      <td>0</td>\n      <td>0</td>\n      <td>0</td>\n      <td>...</td>\n      <td>0</td>\n      <td>0</td>\n      <td>0</td>\n      <td>0</td>\n      <td>0</td>\n      <td>0</td>\n      <td>0</td>\n      <td>0</td>\n      <td>0</td>\n      <td>0</td>\n    </tr>\n    <tr>\n      <th>536974</th>\n      <td>0</td>\n      <td>0</td>\n      <td>0</td>\n      <td>0</td>\n      <td>0</td>\n      <td>0</td>\n      <td>0</td>\n      <td>0</td>\n      <td>0</td>\n      <td>0</td>\n      <td>...</td>\n      <td>0</td>\n      <td>0</td>\n      <td>0</td>\n      <td>0</td>\n      <td>0</td>\n      <td>0</td>\n      <td>0</td>\n      <td>0</td>\n      <td>0</td>\n      <td>0</td>\n    </tr>\n    <tr>\n      <th>537065</th>\n      <td>0</td>\n      <td>0</td>\n      <td>0</td>\n      <td>0</td>\n      <td>0</td>\n      <td>0</td>\n      <td>0</td>\n      <td>0</td>\n      <td>0</td>\n      <td>0</td>\n      <td>...</td>\n      <td>0</td>\n      <td>0</td>\n      <td>0</td>\n      <td>0</td>\n      <td>0</td>\n      <td>0</td>\n      <td>0</td>\n      <td>0</td>\n      <td>0</td>\n      <td>0</td>\n    </tr>\n    <tr>\n      <th>537463</th>\n      <td>0</td>\n      <td>0</td>\n      <td>0</td>\n      <td>0</td>\n      <td>0</td>\n      <td>0</td>\n      <td>0</td>\n      <td>0</td>\n      <td>0</td>\n      <td>0</td>\n      <td>...</td>\n      <td>0</td>\n      <td>0</td>\n      <td>0</td>\n      <td>0</td>\n      <td>0</td>\n      <td>0</td>\n      <td>0</td>\n      <td>0</td>\n      <td>0</td>\n      <td>0</td>\n    </tr>\n    <tr>\n      <th>...</th>\n      <td>...</td>\n      <td>...</td>\n      <td>...</td>\n      <td>...</td>\n      <td>...</td>\n      <td>...</td>\n      <td>...</td>\n      <td>...</td>\n      <td>...</td>\n      <td>...</td>\n      <td>...</td>\n      <td>...</td>\n      <td>...</td>\n      <td>...</td>\n      <td>...</td>\n      <td>...</td>\n      <td>...</td>\n      <td>...</td>\n      <td>...</td>\n      <td>...</td>\n      <td>...</td>\n    </tr>\n    <tr>\n      <th>C579532</th>\n      <td>0</td>\n      <td>0</td>\n      <td>0</td>\n      <td>0</td>\n      <td>0</td>\n      <td>0</td>\n      <td>0</td>\n      <td>0</td>\n      <td>0</td>\n      <td>0</td>\n      <td>...</td>\n      <td>0</td>\n      <td>0</td>\n      <td>0</td>\n      <td>0</td>\n      <td>0</td>\n      <td>0</td>\n      <td>0</td>\n      <td>0</td>\n      <td>0</td>\n      <td>0</td>\n    </tr>\n    <tr>\n      <th>C579562</th>\n      <td>0</td>\n      <td>0</td>\n      <td>0</td>\n      <td>0</td>\n      <td>0</td>\n      <td>0</td>\n      <td>0</td>\n      <td>0</td>\n      <td>0</td>\n      <td>0</td>\n      <td>...</td>\n      <td>0</td>\n      <td>0</td>\n      <td>0</td>\n      <td>0</td>\n      <td>0</td>\n      <td>0</td>\n      <td>0</td>\n      <td>0</td>\n      <td>0</td>\n      <td>0</td>\n    </tr>\n    <tr>\n      <th>C580161</th>\n      <td>0</td>\n      <td>0</td>\n      <td>0</td>\n      <td>0</td>\n      <td>0</td>\n      <td>0</td>\n      <td>0</td>\n      <td>0</td>\n      <td>0</td>\n      <td>0</td>\n      <td>...</td>\n      <td>0</td>\n      <td>0</td>\n      <td>0</td>\n      <td>0</td>\n      <td>0</td>\n      <td>0</td>\n      <td>0</td>\n      <td>0</td>\n      <td>0</td>\n      <td>0</td>\n    </tr>\n    <tr>\n      <th>C580263</th>\n      <td>0</td>\n      <td>0</td>\n      <td>0</td>\n      <td>0</td>\n      <td>0</td>\n      <td>0</td>\n      <td>0</td>\n      <td>0</td>\n      <td>0</td>\n      <td>0</td>\n      <td>...</td>\n      <td>0</td>\n      <td>0</td>\n      <td>0</td>\n      <td>0</td>\n      <td>0</td>\n      <td>0</td>\n      <td>0</td>\n      <td>0</td>\n      <td>0</td>\n      <td>0</td>\n    </tr>\n    <tr>\n      <th>C581316</th>\n      <td>0</td>\n      <td>0</td>\n      <td>0</td>\n      <td>0</td>\n      <td>0</td>\n      <td>0</td>\n      <td>0</td>\n      <td>0</td>\n      <td>0</td>\n      <td>0</td>\n      <td>...</td>\n      <td>0</td>\n      <td>0</td>\n      <td>0</td>\n      <td>0</td>\n      <td>0</td>\n      <td>0</td>\n      <td>0</td>\n      <td>0</td>\n      <td>0</td>\n      <td>0</td>\n    </tr>\n  </tbody>\n</table>\n<p>461 rows × 9390 columns</p>\n</div>"
     },
     "execution_count": 13,
     "metadata": {},
     "output_type": "execute_result"
    }
   ],
   "source": [
    "#Еще один способ сделать то же самое\n",
    "\n",
    "data[data.Country == 'France'].pivot_table(index='InvoiceNo', columns='Description', aggfunc=any, fill_value=False).astype(int)"
   ]
  },
  {
   "cell_type": "markdown",
   "metadata": {},
   "source": [
    "### Extract rules with Mlxtend (machine learning extensions) \n",
    "\n",
    "Python library of useful tools for the day-to-day data science tasks.\n",
    "\n",
    "http://rasbt.github.io/mlxtend/api_subpackages/mlxtend.frequent_patterns/"
   ]
  },
  {
   "cell_type": "markdown",
   "metadata": {},
   "source": [
    "### Find frequent itemsets and rules"
   ]
  },
  {
   "cell_type": "code",
   "execution_count": 14,
   "metadata": {},
   "outputs": [
    {
     "data": {
      "text/plain": "      support                                           itemsets\n0    0.060738                      (4 TRADITIONAL SPINNING TOPS)\n1    0.084599                       (ALARM CLOCK BAKELIKE GREEN)\n2    0.086768                        (ALARM CLOCK BAKELIKE PINK)\n3    0.080260                        (ALARM CLOCK BAKELIKE RED )\n4    0.058568                       (ASSORTED COLOUR MINI CASES)\n..        ...                                                ...\n125  0.071584  (SET/20 RED RETROSPOT PAPER NAPKINS , POSTAGE,...\n126  0.071584  (SET/20 RED RETROSPOT PAPER NAPKINS , POSTAGE,...\n127  0.086768  (SET/6 RED SPOTTY PAPER PLATES, POSTAGE, SET/6...\n128  0.084599  (SET/20 RED RETROSPOT PAPER NAPKINS , SET/6 RE...\n129  0.069414  (SET/20 RED RETROSPOT PAPER NAPKINS , POSTAGE,...\n\n[130 rows x 2 columns]",
      "text/html": "<div>\n<style scoped>\n    .dataframe tbody tr th:only-of-type {\n        vertical-align: middle;\n    }\n\n    .dataframe tbody tr th {\n        vertical-align: top;\n    }\n\n    .dataframe thead th {\n        text-align: right;\n    }\n</style>\n<table border=\"1\" class=\"dataframe\">\n  <thead>\n    <tr style=\"text-align: right;\">\n      <th></th>\n      <th>support</th>\n      <th>itemsets</th>\n    </tr>\n  </thead>\n  <tbody>\n    <tr>\n      <th>0</th>\n      <td>0.060738</td>\n      <td>(4 TRADITIONAL SPINNING TOPS)</td>\n    </tr>\n    <tr>\n      <th>1</th>\n      <td>0.084599</td>\n      <td>(ALARM CLOCK BAKELIKE GREEN)</td>\n    </tr>\n    <tr>\n      <th>2</th>\n      <td>0.086768</td>\n      <td>(ALARM CLOCK BAKELIKE PINK)</td>\n    </tr>\n    <tr>\n      <th>3</th>\n      <td>0.080260</td>\n      <td>(ALARM CLOCK BAKELIKE RED )</td>\n    </tr>\n    <tr>\n      <th>4</th>\n      <td>0.058568</td>\n      <td>(ASSORTED COLOUR MINI CASES)</td>\n    </tr>\n    <tr>\n      <th>...</th>\n      <td>...</td>\n      <td>...</td>\n    </tr>\n    <tr>\n      <th>125</th>\n      <td>0.071584</td>\n      <td>(SET/20 RED RETROSPOT PAPER NAPKINS , POSTAGE,...</td>\n    </tr>\n    <tr>\n      <th>126</th>\n      <td>0.071584</td>\n      <td>(SET/20 RED RETROSPOT PAPER NAPKINS , POSTAGE,...</td>\n    </tr>\n    <tr>\n      <th>127</th>\n      <td>0.086768</td>\n      <td>(SET/6 RED SPOTTY PAPER PLATES, POSTAGE, SET/6...</td>\n    </tr>\n    <tr>\n      <th>128</th>\n      <td>0.084599</td>\n      <td>(SET/20 RED RETROSPOT PAPER NAPKINS , SET/6 RE...</td>\n    </tr>\n    <tr>\n      <th>129</th>\n      <td>0.069414</td>\n      <td>(SET/20 RED RETROSPOT PAPER NAPKINS , POSTAGE,...</td>\n    </tr>\n  </tbody>\n</table>\n<p>130 rows × 2 columns</p>\n</div>"
     },
     "execution_count": 14,
     "metadata": {},
     "output_type": "execute_result"
    }
   ],
   "source": [
    "from mlxtend.frequent_patterns import apriori, association_rules\n",
    "\n",
    "frequent_itemsets = apriori(data_france.drop(columns=['InvoiceNo','Country','Description']), \n",
    "                            min_support=0.05, use_colnames=True)\n",
    "\n",
    "frequent_itemsets"
   ]
  },
  {
   "cell_type": "code",
   "execution_count": 15,
   "metadata": {},
   "outputs": [
    {
     "data": {
      "text/plain": "                    antecedents                   consequents  \\\n0  (ALARM CLOCK BAKELIKE GREEN)   (ALARM CLOCK BAKELIKE PINK)   \n1   (ALARM CLOCK BAKELIKE PINK)  (ALARM CLOCK BAKELIKE GREEN)   \n2  (ALARM CLOCK BAKELIKE GREEN)   (ALARM CLOCK BAKELIKE RED )   \n3   (ALARM CLOCK BAKELIKE RED )  (ALARM CLOCK BAKELIKE GREEN)   \n4  (ALARM CLOCK BAKELIKE GREEN)                     (POSTAGE)   \n\n   antecedent support  consequent support   support  confidence      lift  \\\n0            0.084599            0.086768  0.062907    0.743590  8.569872   \n1            0.086768            0.084599  0.062907    0.725000  8.569872   \n2            0.084599            0.080260  0.067245    0.794872  9.903673   \n3            0.080260            0.084599  0.067245    0.837838  9.903673   \n4            0.084599            0.674620  0.071584    0.846154  1.254267   \n\n   leverage  conviction  \n0  0.055566    3.561605  \n1  0.055566    3.328732  \n2  0.060455    4.483731  \n3  0.060455    5.644975  \n4  0.014512    2.114967  ",
      "text/html": "<div>\n<style scoped>\n    .dataframe tbody tr th:only-of-type {\n        vertical-align: middle;\n    }\n\n    .dataframe tbody tr th {\n        vertical-align: top;\n    }\n\n    .dataframe thead th {\n        text-align: right;\n    }\n</style>\n<table border=\"1\" class=\"dataframe\">\n  <thead>\n    <tr style=\"text-align: right;\">\n      <th></th>\n      <th>antecedents</th>\n      <th>consequents</th>\n      <th>antecedent support</th>\n      <th>consequent support</th>\n      <th>support</th>\n      <th>confidence</th>\n      <th>lift</th>\n      <th>leverage</th>\n      <th>conviction</th>\n    </tr>\n  </thead>\n  <tbody>\n    <tr>\n      <th>0</th>\n      <td>(ALARM CLOCK BAKELIKE GREEN)</td>\n      <td>(ALARM CLOCK BAKELIKE PINK)</td>\n      <td>0.084599</td>\n      <td>0.086768</td>\n      <td>0.062907</td>\n      <td>0.743590</td>\n      <td>8.569872</td>\n      <td>0.055566</td>\n      <td>3.561605</td>\n    </tr>\n    <tr>\n      <th>1</th>\n      <td>(ALARM CLOCK BAKELIKE PINK)</td>\n      <td>(ALARM CLOCK BAKELIKE GREEN)</td>\n      <td>0.086768</td>\n      <td>0.084599</td>\n      <td>0.062907</td>\n      <td>0.725000</td>\n      <td>8.569872</td>\n      <td>0.055566</td>\n      <td>3.328732</td>\n    </tr>\n    <tr>\n      <th>2</th>\n      <td>(ALARM CLOCK BAKELIKE GREEN)</td>\n      <td>(ALARM CLOCK BAKELIKE RED )</td>\n      <td>0.084599</td>\n      <td>0.080260</td>\n      <td>0.067245</td>\n      <td>0.794872</td>\n      <td>9.903673</td>\n      <td>0.060455</td>\n      <td>4.483731</td>\n    </tr>\n    <tr>\n      <th>3</th>\n      <td>(ALARM CLOCK BAKELIKE RED )</td>\n      <td>(ALARM CLOCK BAKELIKE GREEN)</td>\n      <td>0.080260</td>\n      <td>0.084599</td>\n      <td>0.067245</td>\n      <td>0.837838</td>\n      <td>9.903673</td>\n      <td>0.060455</td>\n      <td>5.644975</td>\n    </tr>\n    <tr>\n      <th>4</th>\n      <td>(ALARM CLOCK BAKELIKE GREEN)</td>\n      <td>(POSTAGE)</td>\n      <td>0.084599</td>\n      <td>0.674620</td>\n      <td>0.071584</td>\n      <td>0.846154</td>\n      <td>1.254267</td>\n      <td>0.014512</td>\n      <td>2.114967</td>\n    </tr>\n  </tbody>\n</table>\n</div>"
     },
     "execution_count": 15,
     "metadata": {},
     "output_type": "execute_result"
    }
   ],
   "source": [
    "rules = association_rules(frequent_itemsets, metric=\"confidence\", min_threshold=0.5)\n",
    "rules.head()"
   ]
  },
  {
   "cell_type": "markdown",
   "metadata": {},
   "source": [
    "### Add antecedent lenght column"
   ]
  },
  {
   "cell_type": "code",
   "execution_count": 16,
   "metadata": {},
   "outputs": [
    {
     "data": {
      "text/plain": "                    antecedents                   consequents  \\\n0  (ALARM CLOCK BAKELIKE GREEN)   (ALARM CLOCK BAKELIKE PINK)   \n1   (ALARM CLOCK BAKELIKE PINK)  (ALARM CLOCK BAKELIKE GREEN)   \n2  (ALARM CLOCK BAKELIKE GREEN)   (ALARM CLOCK BAKELIKE RED )   \n3   (ALARM CLOCK BAKELIKE RED )  (ALARM CLOCK BAKELIKE GREEN)   \n4  (ALARM CLOCK BAKELIKE GREEN)                     (POSTAGE)   \n\n   antecedent support  consequent support   support  confidence      lift  \\\n0            0.084599            0.086768  0.062907    0.743590  8.569872   \n1            0.086768            0.084599  0.062907    0.725000  8.569872   \n2            0.084599            0.080260  0.067245    0.794872  9.903673   \n3            0.080260            0.084599  0.067245    0.837838  9.903673   \n4            0.084599            0.674620  0.071584    0.846154  1.254267   \n\n   leverage  conviction  antecedent_len  \n0  0.055566    3.561605               1  \n1  0.055566    3.328732               1  \n2  0.060455    4.483731               1  \n3  0.060455    5.644975               1  \n4  0.014512    2.114967               1  ",
      "text/html": "<div>\n<style scoped>\n    .dataframe tbody tr th:only-of-type {\n        vertical-align: middle;\n    }\n\n    .dataframe tbody tr th {\n        vertical-align: top;\n    }\n\n    .dataframe thead th {\n        text-align: right;\n    }\n</style>\n<table border=\"1\" class=\"dataframe\">\n  <thead>\n    <tr style=\"text-align: right;\">\n      <th></th>\n      <th>antecedents</th>\n      <th>consequents</th>\n      <th>antecedent support</th>\n      <th>consequent support</th>\n      <th>support</th>\n      <th>confidence</th>\n      <th>lift</th>\n      <th>leverage</th>\n      <th>conviction</th>\n      <th>antecedent_len</th>\n    </tr>\n  </thead>\n  <tbody>\n    <tr>\n      <th>0</th>\n      <td>(ALARM CLOCK BAKELIKE GREEN)</td>\n      <td>(ALARM CLOCK BAKELIKE PINK)</td>\n      <td>0.084599</td>\n      <td>0.086768</td>\n      <td>0.062907</td>\n      <td>0.743590</td>\n      <td>8.569872</td>\n      <td>0.055566</td>\n      <td>3.561605</td>\n      <td>1</td>\n    </tr>\n    <tr>\n      <th>1</th>\n      <td>(ALARM CLOCK BAKELIKE PINK)</td>\n      <td>(ALARM CLOCK BAKELIKE GREEN)</td>\n      <td>0.086768</td>\n      <td>0.084599</td>\n      <td>0.062907</td>\n      <td>0.725000</td>\n      <td>8.569872</td>\n      <td>0.055566</td>\n      <td>3.328732</td>\n      <td>1</td>\n    </tr>\n    <tr>\n      <th>2</th>\n      <td>(ALARM CLOCK BAKELIKE GREEN)</td>\n      <td>(ALARM CLOCK BAKELIKE RED )</td>\n      <td>0.084599</td>\n      <td>0.080260</td>\n      <td>0.067245</td>\n      <td>0.794872</td>\n      <td>9.903673</td>\n      <td>0.060455</td>\n      <td>4.483731</td>\n      <td>1</td>\n    </tr>\n    <tr>\n      <th>3</th>\n      <td>(ALARM CLOCK BAKELIKE RED )</td>\n      <td>(ALARM CLOCK BAKELIKE GREEN)</td>\n      <td>0.080260</td>\n      <td>0.084599</td>\n      <td>0.067245</td>\n      <td>0.837838</td>\n      <td>9.903673</td>\n      <td>0.060455</td>\n      <td>5.644975</td>\n      <td>1</td>\n    </tr>\n    <tr>\n      <th>4</th>\n      <td>(ALARM CLOCK BAKELIKE GREEN)</td>\n      <td>(POSTAGE)</td>\n      <td>0.084599</td>\n      <td>0.674620</td>\n      <td>0.071584</td>\n      <td>0.846154</td>\n      <td>1.254267</td>\n      <td>0.014512</td>\n      <td>2.114967</td>\n      <td>1</td>\n    </tr>\n  </tbody>\n</table>\n</div>"
     },
     "execution_count": 16,
     "metadata": {},
     "output_type": "execute_result"
    }
   ],
   "source": [
    "rules[\"antecedent_len\"] = rules[\"antecedents\"].apply(lambda x: len(x))\n",
    "rules.head()"
   ]
  },
  {
   "cell_type": "markdown",
   "metadata": {},
   "source": [
    "### Filter rules"
   ]
  },
  {
   "cell_type": "markdown",
   "metadata": {},
   "source": [
    "**Q: Выведите правила, у которых метрика lift > 3го квантиля? Сколько их?**"
   ]
  },
  {
   "cell_type": "code",
   "execution_count": 18,
   "metadata": {},
   "outputs": [
    {
     "data": {
      "text/plain": "count    141.000000\nmean       5.185359\nstd        3.436225\nmin        1.074678\n25%        1.297026\n50%        5.122222\n75%        8.195556\nmax       14.719029\nName: lift, dtype: float64"
     },
     "execution_count": 18,
     "metadata": {},
     "output_type": "execute_result"
    }
   ],
   "source": [
    "rules['lift'].describe()"
   ]
  },
  {
   "cell_type": "code",
   "execution_count": null,
   "metadata": {},
   "outputs": [],
   "source": [
    "rules_lift_75 = rules[rules['lift'] > 8.195] #8.195 - это значение третьего квантиля\n",
    "print (len(rules_lift_75))\n",
    "rules_lift_75.head(10)"
   ]
  },
  {
   "cell_type": "markdown",
   "metadata": {},
   "source": [
    "**Q: Выведите правила, у которых метрика lift > 1.297 (1 квантиль), поддержка > 0.07, а посылка правила включает *только*  'PLASTERS IN TIN WOODLAND ANIMALS'. Сколько их?**"
   ]
  },
  {
   "cell_type": "code",
   "execution_count": 22,
   "metadata": {},
   "outputs": [
    {
     "data": {
      "text/plain": "                                   antecedents  \\\n37            (PLASTERS IN TIN CIRCUS PARADE )   \n40                  (PLASTERS IN TIN SPACEBOY)   \n102  (POSTAGE, PLASTERS IN TIN CIRCUS PARADE )   \n105        (POSTAGE, PLASTERS IN TIN SPACEBOY)   \n\n                            consequents  antecedent support  \\\n37   (PLASTERS IN TIN WOODLAND ANIMALS)            0.147505   \n40   (PLASTERS IN TIN WOODLAND ANIMALS)            0.119306   \n102  (PLASTERS IN TIN WOODLAND ANIMALS)            0.125813   \n105  (PLASTERS IN TIN WOODLAND ANIMALS)            0.097614   \n\n     consequent support   support  confidence      lift  leverage  conviction  \\\n37             0.145336  0.086768    0.588235  4.047410  0.065330    2.075612   \n40             0.145336  0.088937    0.745455  5.129172  0.071598    3.357608   \n102            0.145336  0.071584    0.568966  3.914822  0.053298    1.982820   \n105            0.145336  0.071584    0.733333  5.045771  0.057397    3.204989   \n\n     antecedent_len  \n37                1  \n40                1  \n102               2  \n105               2  ",
      "text/html": "<div>\n<style scoped>\n    .dataframe tbody tr th:only-of-type {\n        vertical-align: middle;\n    }\n\n    .dataframe tbody tr th {\n        vertical-align: top;\n    }\n\n    .dataframe thead th {\n        text-align: right;\n    }\n</style>\n<table border=\"1\" class=\"dataframe\">\n  <thead>\n    <tr style=\"text-align: right;\">\n      <th></th>\n      <th>antecedents</th>\n      <th>consequents</th>\n      <th>antecedent support</th>\n      <th>consequent support</th>\n      <th>support</th>\n      <th>confidence</th>\n      <th>lift</th>\n      <th>leverage</th>\n      <th>conviction</th>\n      <th>antecedent_len</th>\n    </tr>\n  </thead>\n  <tbody>\n    <tr>\n      <th>37</th>\n      <td>(PLASTERS IN TIN CIRCUS PARADE )</td>\n      <td>(PLASTERS IN TIN WOODLAND ANIMALS)</td>\n      <td>0.147505</td>\n      <td>0.145336</td>\n      <td>0.086768</td>\n      <td>0.588235</td>\n      <td>4.047410</td>\n      <td>0.065330</td>\n      <td>2.075612</td>\n      <td>1</td>\n    </tr>\n    <tr>\n      <th>40</th>\n      <td>(PLASTERS IN TIN SPACEBOY)</td>\n      <td>(PLASTERS IN TIN WOODLAND ANIMALS)</td>\n      <td>0.119306</td>\n      <td>0.145336</td>\n      <td>0.088937</td>\n      <td>0.745455</td>\n      <td>5.129172</td>\n      <td>0.071598</td>\n      <td>3.357608</td>\n      <td>1</td>\n    </tr>\n    <tr>\n      <th>102</th>\n      <td>(POSTAGE, PLASTERS IN TIN CIRCUS PARADE )</td>\n      <td>(PLASTERS IN TIN WOODLAND ANIMALS)</td>\n      <td>0.125813</td>\n      <td>0.145336</td>\n      <td>0.071584</td>\n      <td>0.568966</td>\n      <td>3.914822</td>\n      <td>0.053298</td>\n      <td>1.982820</td>\n      <td>2</td>\n    </tr>\n    <tr>\n      <th>105</th>\n      <td>(POSTAGE, PLASTERS IN TIN SPACEBOY)</td>\n      <td>(PLASTERS IN TIN WOODLAND ANIMALS)</td>\n      <td>0.097614</td>\n      <td>0.145336</td>\n      <td>0.071584</td>\n      <td>0.733333</td>\n      <td>5.045771</td>\n      <td>0.057397</td>\n      <td>3.204989</td>\n      <td>2</td>\n    </tr>\n  </tbody>\n</table>\n</div>"
     },
     "execution_count": 22,
     "metadata": {},
     "output_type": "execute_result"
    }
   ],
   "source": [
    "first_quantile = rules.quantile(q = 0.25)['lift']\n",
    "rules[(rules['lift'] > first_quantile) &\n",
    "      (rules['support'] > 0.07) &\n",
    "      (rules['consequents'] == {'PLASTERS IN TIN WOODLAND ANIMALS'})]"
   ]
  },
  {
   "cell_type": "markdown",
   "metadata": {},
   "source": [
    "**Q\\*: Выведите правила, у которых метрика confidence > 0.7, поддержка > 0.05, а следствие правила включает 'POSTAGE'. Сколько их?**"
   ]
  },
  {
   "cell_type": "code",
   "execution_count": 23,
   "metadata": {},
   "outputs": [
    {
     "data": {
      "text/plain": "                                           antecedents  \\\n4                         (ALARM CLOCK BAKELIKE GREEN)   \n7                          (ALARM CLOCK BAKELIKE PINK)   \n8                          (ALARM CLOCK BAKELIKE RED )   \n9                         (ASSORTED COLOUR MINI CASES)   \n12                          (COFFEE MUG APPLES DESIGN)   \n13                              (DOLLY GIRL LUNCH BOX)   \n16                           (JUMBO BAG RED RETROSPOT)   \n17                        (JUMBO BAG WOODLAND ANIMALS)   \n21                            (LUNCH BAG APPLE DESIGN)   \n23                           (LUNCH BAG RED RETROSPOT)   \n26                        (LUNCH BAG SPACEBOY DESIGN )   \n27                                (LUNCH BAG WOODLAND)   \n28                 (LUNCH BOX WITH CUTLERY RETROSPOT )   \n30                           (MINI PAINT SET VINTAGE )   \n31                        (PACK OF 6 SKULL PAPER CUPS)   \n32                   (PACK OF 72 RETROSPOT CAKE CASES)   \n33                           (PAPER BUNTING RETROSPOT)   \n38                    (PLASTERS IN TIN CIRCUS PARADE )   \n41                          (PLASTERS IN TIN SPACEBOY)   \n42                         (PLASTERS IN TIN STRONGMAN)   \n43                  (PLASTERS IN TIN WOODLAND ANIMALS)   \n44                                (RABBIT NIGHT LIGHT)   \n45                       (RED RETROSPOT CHARLOTTE BAG)   \n46                          (RED RETROSPOT MINI CASES)   \n47                          (RED RETROSPOT PICNIC BAG)   \n48                     (RED TOADSTOOL LED NIGHT LIGHT)   \n49                          (REGENCY CAKESTAND 3 TIER)   \n50                (ROUND SNACK BOXES SET OF 4 FRUITS )   \n51               (ROUND SNACK BOXES SET OF4 WOODLAND )   \n52               (SET OF 2 TEA TOWELS APPLE AND PEARS)   \n53                     (SET OF 9 BLACK SKULL BALLOONS)   \n54                 (SET/10 RED POLKADOT PARTY CANDLES)   \n55               (SET/20 RED RETROSPOT PAPER NAPKINS )   \n56                       (SET/6 RED SPOTTY PAPER CUPS)   \n57                     (SET/6 RED SPOTTY PAPER PLATES)   \n58                               (SPACEBOY LUNCH BOX )   \n59                 (STRAWBERRY LUNCH BOX WITH CUTLERY)   \n60                           (TEA PARTY BIRTHDAY CARD)   \n61                            (WOODLAND CHARLOTTE BAG)   \n75   (ALARM CLOCK BAKELIKE GREEN, ALARM CLOCK BAKEL...   \n81   (ALARM CLOCK BAKELIKE GREEN, ALARM CLOCK BAKEL...   \n83                        (ALARM CLOCK BAKELIKE GREEN)   \n84                         (ALARM CLOCK BAKELIKE RED )   \n86   (ALARM CLOCK BAKELIKE PINK, ALARM CLOCK BAKELI...   \n89                         (ALARM CLOCK BAKELIKE RED )   \n90   (LUNCH BAG APPLE DESIGN, LUNCH BAG RED RETROSPOT)   \n97   (PLASTERS IN TIN SPACEBOY, PLASTERS IN TIN CIR...   \n101  (PLASTERS IN TIN WOODLAND ANIMALS, PLASTERS IN...   \n103  (PLASTERS IN TIN WOODLAND ANIMALS, PLASTERS IN...   \n108  (SET/20 RED RETROSPOT PAPER NAPKINS , SET/6 RE...   \n113  (SET/20 RED RETROSPOT PAPER NAPKINS , SET/6 RE...   \n118  (SET/6 RED SPOTTY PAPER PLATES, SET/6 RED SPOT...   \n120                    (SET/6 RED SPOTTY PAPER PLATES)   \n121                      (SET/6 RED SPOTTY PAPER CUPS)   \n130  (SET/20 RED RETROSPOT PAPER NAPKINS , SET/6 RE...   \n133  (SET/20 RED RETROSPOT PAPER NAPKINS , SET/6 RE...   \n134  (SET/20 RED RETROSPOT PAPER NAPKINS , SET/6 RE...   \n\n                                  consequents  antecedent support  \\\n4                                   (POSTAGE)            0.084599   \n7                                   (POSTAGE)            0.086768   \n8                                   (POSTAGE)            0.080260   \n9                                   (POSTAGE)            0.058568   \n12                                  (POSTAGE)            0.060738   \n13                                  (POSTAGE)            0.086768   \n16                                  (POSTAGE)            0.082430   \n17                                  (POSTAGE)            0.065076   \n21                                  (POSTAGE)            0.108460   \n23                                  (POSTAGE)            0.132321   \n26                                  (POSTAGE)            0.104121   \n27                                  (POSTAGE)            0.101952   \n28                                  (POSTAGE)            0.123644   \n30                                  (POSTAGE)            0.088937   \n31                                  (POSTAGE)            0.054230   \n32                                  (POSTAGE)            0.086768   \n33                                  (POSTAGE)            0.069414   \n38                                  (POSTAGE)            0.147505   \n41                                  (POSTAGE)            0.119306   \n42                                  (POSTAGE)            0.069414   \n43                                  (POSTAGE)            0.145336   \n44                                  (POSTAGE)            0.162690   \n45                                  (POSTAGE)            0.082430   \n46                                  (POSTAGE)            0.119306   \n47                                  (POSTAGE)            0.062907   \n48                                  (POSTAGE)            0.156182   \n49                                  (POSTAGE)            0.117137   \n50                                  (POSTAGE)            0.093275   \n51                                  (POSTAGE)            0.138829   \n52                                  (POSTAGE)            0.058568   \n53                                  (POSTAGE)            0.056399   \n54                                  (POSTAGE)            0.065076   \n55                                  (POSTAGE)            0.112798   \n56                                  (POSTAGE)            0.117137   \n57                                  (POSTAGE)            0.108460   \n58                                  (POSTAGE)            0.106291   \n59                                  (POSTAGE)            0.104121   \n60                                  (POSTAGE)            0.080260   \n61                                  (POSTAGE)            0.062907   \n75                                  (POSTAGE)            0.062907   \n81                                  (POSTAGE)            0.067245   \n83       (POSTAGE, ALARM CLOCK BAKELIKE RED )            0.084599   \n84      (ALARM CLOCK BAKELIKE GREEN, POSTAGE)            0.080260   \n86                                  (POSTAGE)            0.062907   \n89       (ALARM CLOCK BAKELIKE PINK, POSTAGE)            0.080260   \n90                                  (POSTAGE)            0.056399   \n97                                  (POSTAGE)            0.078091   \n101                                 (POSTAGE)            0.086768   \n103                                 (POSTAGE)            0.088937   \n108                                 (POSTAGE)            0.086768   \n113                                 (POSTAGE)            0.086768   \n118                                 (POSTAGE)            0.104121   \n120    (POSTAGE, SET/6 RED SPOTTY PAPER CUPS)            0.108460   \n121  (SET/6 RED SPOTTY PAPER PLATES, POSTAGE)            0.117137   \n130                                 (POSTAGE)            0.084599   \n133  (SET/6 RED SPOTTY PAPER PLATES, POSTAGE)            0.086768   \n134    (POSTAGE, SET/6 RED SPOTTY PAPER CUPS)            0.086768   \n\n     consequent support   support  confidence       lift  leverage  \\\n4              0.674620  0.071584    0.846154   1.254267  0.014512   \n7              0.674620  0.075922    0.875000   1.297026  0.017387   \n8              0.674620  0.073753    0.918919   1.362127  0.019607   \n9              0.674620  0.054230    0.925926   1.372514  0.014719   \n12             0.674620  0.052061    0.857143   1.270556  0.011086   \n13             0.674620  0.062907    0.725000   1.074678  0.004371   \n16             0.674620  0.069414    0.842105   1.248265  0.013806   \n17             0.674620  0.065076    1.000000   1.482315  0.021174   \n21             0.674620  0.088937    0.820000   1.215498  0.015768   \n23             0.674620  0.104121    0.786885   1.166412  0.014855   \n26             0.674620  0.078091    0.750000   1.111736  0.007849   \n27             0.674620  0.086768    0.851064   1.261545  0.017989   \n28             0.674620  0.097614    0.789474   1.170249  0.014201   \n30             0.674620  0.069414    0.780488   1.156929  0.009416   \n31             0.674620  0.052061    0.960000   1.423023  0.015476   \n32             0.674620  0.071584    0.825000   1.222910  0.013048   \n33             0.674620  0.060738    0.875000   1.297026  0.013909   \n38             0.674620  0.125813    0.852941   1.264328  0.026303   \n41             0.674620  0.097614    0.818182   1.212803  0.017128   \n42             0.674620  0.054230    0.781250   1.158059  0.007402   \n43             0.674620  0.117137    0.805970   1.194702  0.019090   \n44             0.674620  0.140998    0.866667   1.284673  0.031244   \n45             0.674620  0.069414    0.842105   1.248265  0.013806   \n46             0.674620  0.097614    0.818182   1.212803  0.017128   \n47             0.674620  0.058568    0.931034   1.380086  0.016130   \n48             0.674620  0.134490    0.861111   1.276438  0.029127   \n49             0.674620  0.091106    0.777778   1.152912  0.012084   \n50             0.674620  0.080260    0.860465   1.275480  0.017335   \n51             0.674620  0.125813    0.906250   1.343348  0.032157   \n52             0.674620  0.054230    0.925926   1.372514  0.014719   \n53             0.674620  0.054230    0.961538   1.425303  0.016182   \n54             0.674620  0.054230    0.833333   1.235263  0.010328   \n55             0.674620  0.093275    0.826923   1.225761  0.017179   \n56             0.674620  0.099783    0.851852   1.262713  0.020760   \n57             0.674620  0.091106    0.840000   1.245145  0.017937   \n58             0.674620  0.082430    0.775510   1.149550  0.010724   \n59             0.674620  0.097614    0.937500   1.389670  0.027371   \n60             0.674620  0.075922    0.945946   1.402190  0.021777   \n61             0.674620  0.056399    0.896552   1.328972  0.013961   \n75             0.674620  0.052061    0.827586   1.226744  0.009623   \n81             0.674620  0.060738    0.903226   1.338865  0.015373   \n83             0.073753  0.060738    0.717949   9.734540  0.054498   \n84             0.071584  0.060738    0.756757  10.571663  0.054992   \n86             0.674620  0.056399    0.896552   1.328972  0.013961   \n89             0.075922  0.056399    0.702703   9.255598  0.050306   \n90             0.674620  0.052061    0.923077   1.368291  0.014013   \n97             0.674620  0.062907    0.805556   1.194087  0.010225   \n101            0.674620  0.071584    0.825000   1.222910  0.013048   \n103            0.674620  0.071584    0.804878   1.193083  0.011585   \n108            0.674620  0.071584    0.825000   1.222910  0.013048   \n113            0.674620  0.071584    0.825000   1.222910  0.013048   \n118            0.674620  0.086768    0.833333   1.235263  0.016525   \n120            0.099783  0.086768    0.800000   8.017391  0.075945   \n121            0.091106  0.086768    0.740741   8.130511  0.076096   \n130            0.674620  0.069414    0.820513   1.216259  0.012342   \n133            0.091106  0.069414    0.800000   8.780952  0.061509   \n134            0.099783  0.069414    0.800000   8.017391  0.060756   \n\n     conviction  antecedent_len  \n4      2.114967               1  \n7      2.603037               1  \n8      4.013015               1  \n9      4.392625               1  \n12     2.277657               1  \n13     1.183199               1  \n16     2.060738               1  \n17          inf               1  \n21     1.807664               1  \n23     1.526781               1  \n26     1.301518               1  \n27     2.184692               1  \n28     1.545553               1  \n30     1.482285               1  \n31     8.134490               1  \n32     1.859312               1  \n33     2.603037               1  \n38     2.212581               1  \n41     1.789588               1  \n42     1.487450               1  \n43     1.676956               1  \n44     2.440347               1  \n45     2.060738               1  \n46     1.789588               1  \n47     4.718004               1  \n48     2.342733               1  \n49     1.464208               1  \n50     2.331887               1  \n51     3.470716               1  \n52     4.392625               1  \n53     8.459870               1  \n54     1.952278               1  \n55     1.879971               1  \n56     2.196312               1  \n57     2.033623               1  \n58     1.449418               1  \n59     5.206074               1  \n60     6.019523               1  \n61     3.145336               1  \n75     1.887202               2  \n81     3.362256               2  \n83     3.283968               1  \n84     3.816823               1  \n86     3.145336               2  \n89     3.108263               1  \n90     4.229935               2  \n97     1.673381               2  \n101    1.859312               2  \n103    1.667570               2  \n108    1.859312               2  \n113    1.859312               2  \n118    1.952278               2  \n120    4.501085               1  \n121    3.505733               1  \n130    1.812829               3  \n133    4.544469               2  \n134    4.501085               2  ",
      "text/html": "<div>\n<style scoped>\n    .dataframe tbody tr th:only-of-type {\n        vertical-align: middle;\n    }\n\n    .dataframe tbody tr th {\n        vertical-align: top;\n    }\n\n    .dataframe thead th {\n        text-align: right;\n    }\n</style>\n<table border=\"1\" class=\"dataframe\">\n  <thead>\n    <tr style=\"text-align: right;\">\n      <th></th>\n      <th>antecedents</th>\n      <th>consequents</th>\n      <th>antecedent support</th>\n      <th>consequent support</th>\n      <th>support</th>\n      <th>confidence</th>\n      <th>lift</th>\n      <th>leverage</th>\n      <th>conviction</th>\n      <th>antecedent_len</th>\n    </tr>\n  </thead>\n  <tbody>\n    <tr>\n      <th>4</th>\n      <td>(ALARM CLOCK BAKELIKE GREEN)</td>\n      <td>(POSTAGE)</td>\n      <td>0.084599</td>\n      <td>0.674620</td>\n      <td>0.071584</td>\n      <td>0.846154</td>\n      <td>1.254267</td>\n      <td>0.014512</td>\n      <td>2.114967</td>\n      <td>1</td>\n    </tr>\n    <tr>\n      <th>7</th>\n      <td>(ALARM CLOCK BAKELIKE PINK)</td>\n      <td>(POSTAGE)</td>\n      <td>0.086768</td>\n      <td>0.674620</td>\n      <td>0.075922</td>\n      <td>0.875000</td>\n      <td>1.297026</td>\n      <td>0.017387</td>\n      <td>2.603037</td>\n      <td>1</td>\n    </tr>\n    <tr>\n      <th>8</th>\n      <td>(ALARM CLOCK BAKELIKE RED )</td>\n      <td>(POSTAGE)</td>\n      <td>0.080260</td>\n      <td>0.674620</td>\n      <td>0.073753</td>\n      <td>0.918919</td>\n      <td>1.362127</td>\n      <td>0.019607</td>\n      <td>4.013015</td>\n      <td>1</td>\n    </tr>\n    <tr>\n      <th>9</th>\n      <td>(ASSORTED COLOUR MINI CASES)</td>\n      <td>(POSTAGE)</td>\n      <td>0.058568</td>\n      <td>0.674620</td>\n      <td>0.054230</td>\n      <td>0.925926</td>\n      <td>1.372514</td>\n      <td>0.014719</td>\n      <td>4.392625</td>\n      <td>1</td>\n    </tr>\n    <tr>\n      <th>12</th>\n      <td>(COFFEE MUG APPLES DESIGN)</td>\n      <td>(POSTAGE)</td>\n      <td>0.060738</td>\n      <td>0.674620</td>\n      <td>0.052061</td>\n      <td>0.857143</td>\n      <td>1.270556</td>\n      <td>0.011086</td>\n      <td>2.277657</td>\n      <td>1</td>\n    </tr>\n    <tr>\n      <th>13</th>\n      <td>(DOLLY GIRL LUNCH BOX)</td>\n      <td>(POSTAGE)</td>\n      <td>0.086768</td>\n      <td>0.674620</td>\n      <td>0.062907</td>\n      <td>0.725000</td>\n      <td>1.074678</td>\n      <td>0.004371</td>\n      <td>1.183199</td>\n      <td>1</td>\n    </tr>\n    <tr>\n      <th>16</th>\n      <td>(JUMBO BAG RED RETROSPOT)</td>\n      <td>(POSTAGE)</td>\n      <td>0.082430</td>\n      <td>0.674620</td>\n      <td>0.069414</td>\n      <td>0.842105</td>\n      <td>1.248265</td>\n      <td>0.013806</td>\n      <td>2.060738</td>\n      <td>1</td>\n    </tr>\n    <tr>\n      <th>17</th>\n      <td>(JUMBO BAG WOODLAND ANIMALS)</td>\n      <td>(POSTAGE)</td>\n      <td>0.065076</td>\n      <td>0.674620</td>\n      <td>0.065076</td>\n      <td>1.000000</td>\n      <td>1.482315</td>\n      <td>0.021174</td>\n      <td>inf</td>\n      <td>1</td>\n    </tr>\n    <tr>\n      <th>21</th>\n      <td>(LUNCH BAG APPLE DESIGN)</td>\n      <td>(POSTAGE)</td>\n      <td>0.108460</td>\n      <td>0.674620</td>\n      <td>0.088937</td>\n      <td>0.820000</td>\n      <td>1.215498</td>\n      <td>0.015768</td>\n      <td>1.807664</td>\n      <td>1</td>\n    </tr>\n    <tr>\n      <th>23</th>\n      <td>(LUNCH BAG RED RETROSPOT)</td>\n      <td>(POSTAGE)</td>\n      <td>0.132321</td>\n      <td>0.674620</td>\n      <td>0.104121</td>\n      <td>0.786885</td>\n      <td>1.166412</td>\n      <td>0.014855</td>\n      <td>1.526781</td>\n      <td>1</td>\n    </tr>\n    <tr>\n      <th>26</th>\n      <td>(LUNCH BAG SPACEBOY DESIGN )</td>\n      <td>(POSTAGE)</td>\n      <td>0.104121</td>\n      <td>0.674620</td>\n      <td>0.078091</td>\n      <td>0.750000</td>\n      <td>1.111736</td>\n      <td>0.007849</td>\n      <td>1.301518</td>\n      <td>1</td>\n    </tr>\n    <tr>\n      <th>27</th>\n      <td>(LUNCH BAG WOODLAND)</td>\n      <td>(POSTAGE)</td>\n      <td>0.101952</td>\n      <td>0.674620</td>\n      <td>0.086768</td>\n      <td>0.851064</td>\n      <td>1.261545</td>\n      <td>0.017989</td>\n      <td>2.184692</td>\n      <td>1</td>\n    </tr>\n    <tr>\n      <th>28</th>\n      <td>(LUNCH BOX WITH CUTLERY RETROSPOT )</td>\n      <td>(POSTAGE)</td>\n      <td>0.123644</td>\n      <td>0.674620</td>\n      <td>0.097614</td>\n      <td>0.789474</td>\n      <td>1.170249</td>\n      <td>0.014201</td>\n      <td>1.545553</td>\n      <td>1</td>\n    </tr>\n    <tr>\n      <th>30</th>\n      <td>(MINI PAINT SET VINTAGE )</td>\n      <td>(POSTAGE)</td>\n      <td>0.088937</td>\n      <td>0.674620</td>\n      <td>0.069414</td>\n      <td>0.780488</td>\n      <td>1.156929</td>\n      <td>0.009416</td>\n      <td>1.482285</td>\n      <td>1</td>\n    </tr>\n    <tr>\n      <th>31</th>\n      <td>(PACK OF 6 SKULL PAPER CUPS)</td>\n      <td>(POSTAGE)</td>\n      <td>0.054230</td>\n      <td>0.674620</td>\n      <td>0.052061</td>\n      <td>0.960000</td>\n      <td>1.423023</td>\n      <td>0.015476</td>\n      <td>8.134490</td>\n      <td>1</td>\n    </tr>\n    <tr>\n      <th>32</th>\n      <td>(PACK OF 72 RETROSPOT CAKE CASES)</td>\n      <td>(POSTAGE)</td>\n      <td>0.086768</td>\n      <td>0.674620</td>\n      <td>0.071584</td>\n      <td>0.825000</td>\n      <td>1.222910</td>\n      <td>0.013048</td>\n      <td>1.859312</td>\n      <td>1</td>\n    </tr>\n    <tr>\n      <th>33</th>\n      <td>(PAPER BUNTING RETROSPOT)</td>\n      <td>(POSTAGE)</td>\n      <td>0.069414</td>\n      <td>0.674620</td>\n      <td>0.060738</td>\n      <td>0.875000</td>\n      <td>1.297026</td>\n      <td>0.013909</td>\n      <td>2.603037</td>\n      <td>1</td>\n    </tr>\n    <tr>\n      <th>38</th>\n      <td>(PLASTERS IN TIN CIRCUS PARADE )</td>\n      <td>(POSTAGE)</td>\n      <td>0.147505</td>\n      <td>0.674620</td>\n      <td>0.125813</td>\n      <td>0.852941</td>\n      <td>1.264328</td>\n      <td>0.026303</td>\n      <td>2.212581</td>\n      <td>1</td>\n    </tr>\n    <tr>\n      <th>41</th>\n      <td>(PLASTERS IN TIN SPACEBOY)</td>\n      <td>(POSTAGE)</td>\n      <td>0.119306</td>\n      <td>0.674620</td>\n      <td>0.097614</td>\n      <td>0.818182</td>\n      <td>1.212803</td>\n      <td>0.017128</td>\n      <td>1.789588</td>\n      <td>1</td>\n    </tr>\n    <tr>\n      <th>42</th>\n      <td>(PLASTERS IN TIN STRONGMAN)</td>\n      <td>(POSTAGE)</td>\n      <td>0.069414</td>\n      <td>0.674620</td>\n      <td>0.054230</td>\n      <td>0.781250</td>\n      <td>1.158059</td>\n      <td>0.007402</td>\n      <td>1.487450</td>\n      <td>1</td>\n    </tr>\n    <tr>\n      <th>43</th>\n      <td>(PLASTERS IN TIN WOODLAND ANIMALS)</td>\n      <td>(POSTAGE)</td>\n      <td>0.145336</td>\n      <td>0.674620</td>\n      <td>0.117137</td>\n      <td>0.805970</td>\n      <td>1.194702</td>\n      <td>0.019090</td>\n      <td>1.676956</td>\n      <td>1</td>\n    </tr>\n    <tr>\n      <th>44</th>\n      <td>(RABBIT NIGHT LIGHT)</td>\n      <td>(POSTAGE)</td>\n      <td>0.162690</td>\n      <td>0.674620</td>\n      <td>0.140998</td>\n      <td>0.866667</td>\n      <td>1.284673</td>\n      <td>0.031244</td>\n      <td>2.440347</td>\n      <td>1</td>\n    </tr>\n    <tr>\n      <th>45</th>\n      <td>(RED RETROSPOT CHARLOTTE BAG)</td>\n      <td>(POSTAGE)</td>\n      <td>0.082430</td>\n      <td>0.674620</td>\n      <td>0.069414</td>\n      <td>0.842105</td>\n      <td>1.248265</td>\n      <td>0.013806</td>\n      <td>2.060738</td>\n      <td>1</td>\n    </tr>\n    <tr>\n      <th>46</th>\n      <td>(RED RETROSPOT MINI CASES)</td>\n      <td>(POSTAGE)</td>\n      <td>0.119306</td>\n      <td>0.674620</td>\n      <td>0.097614</td>\n      <td>0.818182</td>\n      <td>1.212803</td>\n      <td>0.017128</td>\n      <td>1.789588</td>\n      <td>1</td>\n    </tr>\n    <tr>\n      <th>47</th>\n      <td>(RED RETROSPOT PICNIC BAG)</td>\n      <td>(POSTAGE)</td>\n      <td>0.062907</td>\n      <td>0.674620</td>\n      <td>0.058568</td>\n      <td>0.931034</td>\n      <td>1.380086</td>\n      <td>0.016130</td>\n      <td>4.718004</td>\n      <td>1</td>\n    </tr>\n    <tr>\n      <th>48</th>\n      <td>(RED TOADSTOOL LED NIGHT LIGHT)</td>\n      <td>(POSTAGE)</td>\n      <td>0.156182</td>\n      <td>0.674620</td>\n      <td>0.134490</td>\n      <td>0.861111</td>\n      <td>1.276438</td>\n      <td>0.029127</td>\n      <td>2.342733</td>\n      <td>1</td>\n    </tr>\n    <tr>\n      <th>49</th>\n      <td>(REGENCY CAKESTAND 3 TIER)</td>\n      <td>(POSTAGE)</td>\n      <td>0.117137</td>\n      <td>0.674620</td>\n      <td>0.091106</td>\n      <td>0.777778</td>\n      <td>1.152912</td>\n      <td>0.012084</td>\n      <td>1.464208</td>\n      <td>1</td>\n    </tr>\n    <tr>\n      <th>50</th>\n      <td>(ROUND SNACK BOXES SET OF 4 FRUITS )</td>\n      <td>(POSTAGE)</td>\n      <td>0.093275</td>\n      <td>0.674620</td>\n      <td>0.080260</td>\n      <td>0.860465</td>\n      <td>1.275480</td>\n      <td>0.017335</td>\n      <td>2.331887</td>\n      <td>1</td>\n    </tr>\n    <tr>\n      <th>51</th>\n      <td>(ROUND SNACK BOXES SET OF4 WOODLAND )</td>\n      <td>(POSTAGE)</td>\n      <td>0.138829</td>\n      <td>0.674620</td>\n      <td>0.125813</td>\n      <td>0.906250</td>\n      <td>1.343348</td>\n      <td>0.032157</td>\n      <td>3.470716</td>\n      <td>1</td>\n    </tr>\n    <tr>\n      <th>52</th>\n      <td>(SET OF 2 TEA TOWELS APPLE AND PEARS)</td>\n      <td>(POSTAGE)</td>\n      <td>0.058568</td>\n      <td>0.674620</td>\n      <td>0.054230</td>\n      <td>0.925926</td>\n      <td>1.372514</td>\n      <td>0.014719</td>\n      <td>4.392625</td>\n      <td>1</td>\n    </tr>\n    <tr>\n      <th>53</th>\n      <td>(SET OF 9 BLACK SKULL BALLOONS)</td>\n      <td>(POSTAGE)</td>\n      <td>0.056399</td>\n      <td>0.674620</td>\n      <td>0.054230</td>\n      <td>0.961538</td>\n      <td>1.425303</td>\n      <td>0.016182</td>\n      <td>8.459870</td>\n      <td>1</td>\n    </tr>\n    <tr>\n      <th>54</th>\n      <td>(SET/10 RED POLKADOT PARTY CANDLES)</td>\n      <td>(POSTAGE)</td>\n      <td>0.065076</td>\n      <td>0.674620</td>\n      <td>0.054230</td>\n      <td>0.833333</td>\n      <td>1.235263</td>\n      <td>0.010328</td>\n      <td>1.952278</td>\n      <td>1</td>\n    </tr>\n    <tr>\n      <th>55</th>\n      <td>(SET/20 RED RETROSPOT PAPER NAPKINS )</td>\n      <td>(POSTAGE)</td>\n      <td>0.112798</td>\n      <td>0.674620</td>\n      <td>0.093275</td>\n      <td>0.826923</td>\n      <td>1.225761</td>\n      <td>0.017179</td>\n      <td>1.879971</td>\n      <td>1</td>\n    </tr>\n    <tr>\n      <th>56</th>\n      <td>(SET/6 RED SPOTTY PAPER CUPS)</td>\n      <td>(POSTAGE)</td>\n      <td>0.117137</td>\n      <td>0.674620</td>\n      <td>0.099783</td>\n      <td>0.851852</td>\n      <td>1.262713</td>\n      <td>0.020760</td>\n      <td>2.196312</td>\n      <td>1</td>\n    </tr>\n    <tr>\n      <th>57</th>\n      <td>(SET/6 RED SPOTTY PAPER PLATES)</td>\n      <td>(POSTAGE)</td>\n      <td>0.108460</td>\n      <td>0.674620</td>\n      <td>0.091106</td>\n      <td>0.840000</td>\n      <td>1.245145</td>\n      <td>0.017937</td>\n      <td>2.033623</td>\n      <td>1</td>\n    </tr>\n    <tr>\n      <th>58</th>\n      <td>(SPACEBOY LUNCH BOX )</td>\n      <td>(POSTAGE)</td>\n      <td>0.106291</td>\n      <td>0.674620</td>\n      <td>0.082430</td>\n      <td>0.775510</td>\n      <td>1.149550</td>\n      <td>0.010724</td>\n      <td>1.449418</td>\n      <td>1</td>\n    </tr>\n    <tr>\n      <th>59</th>\n      <td>(STRAWBERRY LUNCH BOX WITH CUTLERY)</td>\n      <td>(POSTAGE)</td>\n      <td>0.104121</td>\n      <td>0.674620</td>\n      <td>0.097614</td>\n      <td>0.937500</td>\n      <td>1.389670</td>\n      <td>0.027371</td>\n      <td>5.206074</td>\n      <td>1</td>\n    </tr>\n    <tr>\n      <th>60</th>\n      <td>(TEA PARTY BIRTHDAY CARD)</td>\n      <td>(POSTAGE)</td>\n      <td>0.080260</td>\n      <td>0.674620</td>\n      <td>0.075922</td>\n      <td>0.945946</td>\n      <td>1.402190</td>\n      <td>0.021777</td>\n      <td>6.019523</td>\n      <td>1</td>\n    </tr>\n    <tr>\n      <th>61</th>\n      <td>(WOODLAND CHARLOTTE BAG)</td>\n      <td>(POSTAGE)</td>\n      <td>0.062907</td>\n      <td>0.674620</td>\n      <td>0.056399</td>\n      <td>0.896552</td>\n      <td>1.328972</td>\n      <td>0.013961</td>\n      <td>3.145336</td>\n      <td>1</td>\n    </tr>\n    <tr>\n      <th>75</th>\n      <td>(ALARM CLOCK BAKELIKE GREEN, ALARM CLOCK BAKEL...</td>\n      <td>(POSTAGE)</td>\n      <td>0.062907</td>\n      <td>0.674620</td>\n      <td>0.052061</td>\n      <td>0.827586</td>\n      <td>1.226744</td>\n      <td>0.009623</td>\n      <td>1.887202</td>\n      <td>2</td>\n    </tr>\n    <tr>\n      <th>81</th>\n      <td>(ALARM CLOCK BAKELIKE GREEN, ALARM CLOCK BAKEL...</td>\n      <td>(POSTAGE)</td>\n      <td>0.067245</td>\n      <td>0.674620</td>\n      <td>0.060738</td>\n      <td>0.903226</td>\n      <td>1.338865</td>\n      <td>0.015373</td>\n      <td>3.362256</td>\n      <td>2</td>\n    </tr>\n    <tr>\n      <th>83</th>\n      <td>(ALARM CLOCK BAKELIKE GREEN)</td>\n      <td>(POSTAGE, ALARM CLOCK BAKELIKE RED )</td>\n      <td>0.084599</td>\n      <td>0.073753</td>\n      <td>0.060738</td>\n      <td>0.717949</td>\n      <td>9.734540</td>\n      <td>0.054498</td>\n      <td>3.283968</td>\n      <td>1</td>\n    </tr>\n    <tr>\n      <th>84</th>\n      <td>(ALARM CLOCK BAKELIKE RED )</td>\n      <td>(ALARM CLOCK BAKELIKE GREEN, POSTAGE)</td>\n      <td>0.080260</td>\n      <td>0.071584</td>\n      <td>0.060738</td>\n      <td>0.756757</td>\n      <td>10.571663</td>\n      <td>0.054992</td>\n      <td>3.816823</td>\n      <td>1</td>\n    </tr>\n    <tr>\n      <th>86</th>\n      <td>(ALARM CLOCK BAKELIKE PINK, ALARM CLOCK BAKELI...</td>\n      <td>(POSTAGE)</td>\n      <td>0.062907</td>\n      <td>0.674620</td>\n      <td>0.056399</td>\n      <td>0.896552</td>\n      <td>1.328972</td>\n      <td>0.013961</td>\n      <td>3.145336</td>\n      <td>2</td>\n    </tr>\n    <tr>\n      <th>89</th>\n      <td>(ALARM CLOCK BAKELIKE RED )</td>\n      <td>(ALARM CLOCK BAKELIKE PINK, POSTAGE)</td>\n      <td>0.080260</td>\n      <td>0.075922</td>\n      <td>0.056399</td>\n      <td>0.702703</td>\n      <td>9.255598</td>\n      <td>0.050306</td>\n      <td>3.108263</td>\n      <td>1</td>\n    </tr>\n    <tr>\n      <th>90</th>\n      <td>(LUNCH BAG APPLE DESIGN, LUNCH BAG RED RETROSPOT)</td>\n      <td>(POSTAGE)</td>\n      <td>0.056399</td>\n      <td>0.674620</td>\n      <td>0.052061</td>\n      <td>0.923077</td>\n      <td>1.368291</td>\n      <td>0.014013</td>\n      <td>4.229935</td>\n      <td>2</td>\n    </tr>\n    <tr>\n      <th>97</th>\n      <td>(PLASTERS IN TIN SPACEBOY, PLASTERS IN TIN CIR...</td>\n      <td>(POSTAGE)</td>\n      <td>0.078091</td>\n      <td>0.674620</td>\n      <td>0.062907</td>\n      <td>0.805556</td>\n      <td>1.194087</td>\n      <td>0.010225</td>\n      <td>1.673381</td>\n      <td>2</td>\n    </tr>\n    <tr>\n      <th>101</th>\n      <td>(PLASTERS IN TIN WOODLAND ANIMALS, PLASTERS IN...</td>\n      <td>(POSTAGE)</td>\n      <td>0.086768</td>\n      <td>0.674620</td>\n      <td>0.071584</td>\n      <td>0.825000</td>\n      <td>1.222910</td>\n      <td>0.013048</td>\n      <td>1.859312</td>\n      <td>2</td>\n    </tr>\n    <tr>\n      <th>103</th>\n      <td>(PLASTERS IN TIN WOODLAND ANIMALS, PLASTERS IN...</td>\n      <td>(POSTAGE)</td>\n      <td>0.088937</td>\n      <td>0.674620</td>\n      <td>0.071584</td>\n      <td>0.804878</td>\n      <td>1.193083</td>\n      <td>0.011585</td>\n      <td>1.667570</td>\n      <td>2</td>\n    </tr>\n    <tr>\n      <th>108</th>\n      <td>(SET/20 RED RETROSPOT PAPER NAPKINS , SET/6 RE...</td>\n      <td>(POSTAGE)</td>\n      <td>0.086768</td>\n      <td>0.674620</td>\n      <td>0.071584</td>\n      <td>0.825000</td>\n      <td>1.222910</td>\n      <td>0.013048</td>\n      <td>1.859312</td>\n      <td>2</td>\n    </tr>\n    <tr>\n      <th>113</th>\n      <td>(SET/20 RED RETROSPOT PAPER NAPKINS , SET/6 RE...</td>\n      <td>(POSTAGE)</td>\n      <td>0.086768</td>\n      <td>0.674620</td>\n      <td>0.071584</td>\n      <td>0.825000</td>\n      <td>1.222910</td>\n      <td>0.013048</td>\n      <td>1.859312</td>\n      <td>2</td>\n    </tr>\n    <tr>\n      <th>118</th>\n      <td>(SET/6 RED SPOTTY PAPER PLATES, SET/6 RED SPOT...</td>\n      <td>(POSTAGE)</td>\n      <td>0.104121</td>\n      <td>0.674620</td>\n      <td>0.086768</td>\n      <td>0.833333</td>\n      <td>1.235263</td>\n      <td>0.016525</td>\n      <td>1.952278</td>\n      <td>2</td>\n    </tr>\n    <tr>\n      <th>120</th>\n      <td>(SET/6 RED SPOTTY PAPER PLATES)</td>\n      <td>(POSTAGE, SET/6 RED SPOTTY PAPER CUPS)</td>\n      <td>0.108460</td>\n      <td>0.099783</td>\n      <td>0.086768</td>\n      <td>0.800000</td>\n      <td>8.017391</td>\n      <td>0.075945</td>\n      <td>4.501085</td>\n      <td>1</td>\n    </tr>\n    <tr>\n      <th>121</th>\n      <td>(SET/6 RED SPOTTY PAPER CUPS)</td>\n      <td>(SET/6 RED SPOTTY PAPER PLATES, POSTAGE)</td>\n      <td>0.117137</td>\n      <td>0.091106</td>\n      <td>0.086768</td>\n      <td>0.740741</td>\n      <td>8.130511</td>\n      <td>0.076096</td>\n      <td>3.505733</td>\n      <td>1</td>\n    </tr>\n    <tr>\n      <th>130</th>\n      <td>(SET/20 RED RETROSPOT PAPER NAPKINS , SET/6 RE...</td>\n      <td>(POSTAGE)</td>\n      <td>0.084599</td>\n      <td>0.674620</td>\n      <td>0.069414</td>\n      <td>0.820513</td>\n      <td>1.216259</td>\n      <td>0.012342</td>\n      <td>1.812829</td>\n      <td>3</td>\n    </tr>\n    <tr>\n      <th>133</th>\n      <td>(SET/20 RED RETROSPOT PAPER NAPKINS , SET/6 RE...</td>\n      <td>(SET/6 RED SPOTTY PAPER PLATES, POSTAGE)</td>\n      <td>0.086768</td>\n      <td>0.091106</td>\n      <td>0.069414</td>\n      <td>0.800000</td>\n      <td>8.780952</td>\n      <td>0.061509</td>\n      <td>4.544469</td>\n      <td>2</td>\n    </tr>\n    <tr>\n      <th>134</th>\n      <td>(SET/20 RED RETROSPOT PAPER NAPKINS , SET/6 RE...</td>\n      <td>(POSTAGE, SET/6 RED SPOTTY PAPER CUPS)</td>\n      <td>0.086768</td>\n      <td>0.099783</td>\n      <td>0.069414</td>\n      <td>0.800000</td>\n      <td>8.017391</td>\n      <td>0.060756</td>\n      <td>4.501085</td>\n      <td>2</td>\n    </tr>\n  </tbody>\n</table>\n</div>"
     },
     "execution_count": 23,
     "metadata": {},
     "output_type": "execute_result"
    }
   ],
   "source": [
    "rules[(rules['confidence'] > 0.7) &\n",
    "      (rules['support'] > 0.05) &\n",
    "      (rules['consequents'].astype(str).str.contains('POSTAGE'))]"
   ]
  },
  {
   "cell_type": "code",
   "execution_count": null,
   "metadata": {},
   "outputs": [],
   "source": []
  },
  {
   "cell_type": "code",
   "execution_count": null,
   "metadata": {},
   "outputs": [],
   "source": []
  }
 ],
 "metadata": {
  "kernelspec": {
   "display_name": "Python 3 (ipykernel)",
   "language": "python",
   "name": "python3"
  },
  "language_info": {
   "codemirror_mode": {
    "name": "ipython",
    "version": 3
   },
   "file_extension": ".py",
   "mimetype": "text/x-python",
   "name": "python",
   "nbconvert_exporter": "python",
   "pygments_lexer": "ipython3",
   "version": "3.9.7"
  }
 },
 "nbformat": 4,
 "nbformat_minor": 4
}